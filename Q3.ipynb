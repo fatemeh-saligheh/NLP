{
 "cells": [
  {
   "cell_type": "code",
   "execution_count": 1,
   "metadata": {},
   "outputs": [],
   "source": [
    "import numpy as np\n",
    "import array\n",
    "import pandas as pd\n",
    "import seaborn as sns\n",
    "import matplotlib.pyplot as plt"
   ]
  },
  {
   "cell_type": "code",
   "execution_count": 27,
   "metadata": {},
   "outputs": [],
   "source": [
    "def genSet1():\n",
    "    X1data = []\n",
    "    X2data = []\n",
    "    training_inputs = []\n",
    "    labels = []\n",
    "    for i in range(100):\n",
    "        x = 1+ 0.5*np.random.normal(0, 1)\n",
    "        y = 1+ 0.5*np.random.normal(0, 1)\n",
    "        X1data.append(x)\n",
    "        X2data.append(y)\n",
    "        labels.append(1)\n",
    "        training_inputs.append(np.array([x,y]))\n",
    "    for i in range(100):\n",
    "        x = -1+ 0.5*np.random.normal(0, 1)\n",
    "        y = -1+ 0.5*np.random.normal(0, 1)\n",
    "        X1data.append(x)\n",
    "        X2data.append(y)\n",
    "        labels.append(0)\n",
    "        training_inputs.append(np.array([x, y]))\n",
    "#     return X1data,X2data\n",
    "    return training_inputs,labels"
   ]
  },
  {
   "cell_type": "code",
   "execution_count": 4,
   "metadata": {},
   "outputs": [],
   "source": [
    "# X1,X2 = genSet1()\n",
    "# # create a figure and axis\n",
    "# fig, ax = plt.subplots()\n",
    "\n",
    "# # scatter the sepal_length against the sepal_width\n",
    "# ax.scatter(X1, X2)\n",
    "# # set a title and labels\n",
    "# ax.set_title('Iris Dataset')\n",
    "# ax.set_xlabel('sepal_length')\n",
    "# ax.set_ylabel('sepal_width')"
   ]
  },
  {
   "cell_type": "code",
   "execution_count": 11,
   "metadata": {},
   "outputs": [],
   "source": [
    "class Perceptron():\n",
    "\n",
    "    def __init__(self, inputLength, epoch=10, lr=0.01):\n",
    "        self.epoch = epoch\n",
    "        self.lr = lr\n",
    "        self.weights = [0 for i in range(inputLength+1)]\n",
    "           \n",
    "    def predict(self, inputs):\n",
    "        net = np.dot(inputs, self.weights[1:]) + 1*self.weights[0]\n",
    "        if net > 0:\n",
    "            y = 1\n",
    "        else:\n",
    "            y = -1           \n",
    "        return y\n",
    "\n",
    "    def train(self, data, labels):\n",
    "        for i in range(self.epoch):\n",
    "            for row, t in zip(data, labels):\n",
    "                y = self.predict(row)\n",
    "                self.weights[1:] += self.lr * (t) * row\n",
    "                self.weights[0] += self.lr * (t)"
   ]
  },
  {
   "cell_type": "code",
   "execution_count": null,
   "metadata": {},
   "outputs": [],
   "source": [
    "training_inputs,labels = genSet1()"
   ]
  },
  {
   "cell_type": "code",
   "execution_count": 26,
   "metadata": {},
   "outputs": [
    {
     "name": "stdout",
     "output_type": "stream",
     "text": [
      "-1\n",
      "1\n"
     ]
    }
   ],
   "source": [
    "perceptron = Perceptron(2)\n",
    "perceptron.train(training_inputs, labels)\n",
    "\n",
    "inputs = np.array([-1, -1])\n",
    "print(perceptron.predict(inputs) )\n",
    "#=> 1\n",
    "\n",
    "inputs = np.array([0, 1])\n",
    "print(perceptron.predict(inputs) )"
   ]
  },
  {
   "cell_type": "code",
   "execution_count": 23,
   "metadata": {},
   "outputs": [],
   "source": [
    "class Adaline():\n",
    "    def __init__(self,inputLength,lr=0.2,epoch=10):\n",
    "        self.lr = lr\n",
    "        self.epoch = epoch\n",
    "        self.weights = [0 for i in range(inputLength+1)]\n",
    "    \n",
    "    def predict(self, inputs):\n",
    "        net = np.dot(inputs, self.weights[1:]) + 1*self.weights[0]\n",
    "        if net > 0:\n",
    "            y = 1\n",
    "        else:\n",
    "            y = -1            \n",
    "        return y\n",
    "\n",
    "    def train(self, data, labels):\n",
    "        for i in range(self.epoch):\n",
    "            for row, t in zip(data, labels):\n",
    "                net = np.dot(inputs, self.weights[1:]) + 1*self.weights[0]\n",
    "                self.weights[1:] += self.lr * (t - net) * row\n",
    "                self.weights[0] += self.lr * (t - net)"
   ]
  },
  {
   "cell_type": "code",
   "execution_count": 24,
   "metadata": {},
   "outputs": [],
   "source": [
    "Adaline = Adaline(2)\n"
   ]
  },
  {
   "cell_type": "code",
   "execution_count": 25,
   "metadata": {},
   "outputs": [
    {
     "name": "stdout",
     "output_type": "stream",
     "text": [
      "-1\n",
      "1\n"
     ]
    }
   ],
   "source": [
    "Adaline.train(training_inputs, labels)\n",
    "\n",
    "inputs = np.array([-1, -1])\n",
    "print(Adaline.predict(inputs))\n",
    "#=> 1\n",
    "\n",
    "inputs = np.array([0, 1])\n",
    "print(Adaline.predict(inputs))"
   ]
  },
  {
   "cell_type": "code",
   "execution_count": null,
   "metadata": {},
   "outputs": [],
   "source": [
    "plt.scatter(x_train, y_train, color = \"red\")\n",
    "plt.plot(x_train, lr.predict(x_train), color = \"green\")\n",
    "plt.title(\"Salary vs Experience (Training set)\")\n",
    "plt.xlabel(\"Years of Experience\")\n",
    "plt.ylabel(\"Salary\")\n",
    "plt.show()"
   ]
  }
 ],
 "metadata": {
  "kernelspec": {
   "display_name": "Python 3",
   "language": "python",
   "name": "python3"
  },
  "language_info": {
   "codemirror_mode": {
    "name": "ipython",
    "version": 3
   },
   "file_extension": ".py",
   "mimetype": "text/x-python",
   "name": "python",
   "nbconvert_exporter": "python",
   "pygments_lexer": "ipython3",
   "version": "3.7.1"
  }
 },
 "nbformat": 4,
 "nbformat_minor": 2
}
