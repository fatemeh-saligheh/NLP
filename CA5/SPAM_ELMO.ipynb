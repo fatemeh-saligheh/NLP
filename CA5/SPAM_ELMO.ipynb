{
  "nbformat": 4,
  "nbformat_minor": 0,
  "metadata": {
    "colab": {
      "name": "SPAM_ELMO.ipynb",
      "provenance": [],
      "collapsed_sections": [],
      "machine_shape": "hm"
    },
    "kernelspec": {
      "name": "python3",
      "display_name": "Python 3"
    },
    "accelerator": "GPU"
  },
  "cells": [
    {
      "cell_type": "code",
      "metadata": {
        "id": "N6RZm_xDVwgF",
        "colab_type": "code",
        "outputId": "e8bbf0f0-4669-4555-cec2-17e1b2265432",
        "colab": {
          "base_uri": "https://localhost:8080/",
          "height": 1000
        }
      },
      "source": [
        "!pip install tensorflow==1.15\n",
        "!pip install \"tensorflow_hub>=0.6.0\"\n",
        "!pip3 install tensorflow_text==1.15\n",
        "\n",
        "import tensorflow as tf\n",
        "import tensorflow_hub as hub\n",
        "import pandas as pd\n",
        "from sklearn import preprocessing\n",
        "import keras\n",
        "import numpy as np\n",
        "\n",
        "from keras.layers import Input, Lambda, Dense\n",
        "from keras.models import Model\n",
        "import keras.backend as K\n",
        "!pip install keras_metrics\n",
        "import keras_metrics"
      ],
      "execution_count": 0,
      "outputs": [
        {
          "output_type": "stream",
          "text": [
            "Collecting tensorflow==1.15\n",
            "\u001b[?25l  Downloading https://files.pythonhosted.org/packages/3f/98/5a99af92fb911d7a88a0005ad55005f35b4c1ba8d75fba02df726cd936e6/tensorflow-1.15.0-cp36-cp36m-manylinux2010_x86_64.whl (412.3MB)\n",
            "\u001b[K     |████████████████████████████████| 412.3MB 37kB/s \n",
            "\u001b[?25hRequirement already satisfied: grpcio>=1.8.6 in /usr/local/lib/python3.6/dist-packages (from tensorflow==1.15) (1.28.1)\n",
            "Requirement already satisfied: termcolor>=1.1.0 in /usr/local/lib/python3.6/dist-packages (from tensorflow==1.15) (1.1.0)\n",
            "Collecting gast==0.2.2\n",
            "  Downloading https://files.pythonhosted.org/packages/4e/35/11749bf99b2d4e3cceb4d55ca22590b0d7c2c62b9de38ac4a4a7f4687421/gast-0.2.2.tar.gz\n",
            "Requirement already satisfied: numpy<2.0,>=1.16.0 in /usr/local/lib/python3.6/dist-packages (from tensorflow==1.15) (1.18.3)\n",
            "Requirement already satisfied: keras-applications>=1.0.8 in /usr/local/lib/python3.6/dist-packages (from tensorflow==1.15) (1.0.8)\n",
            "Requirement already satisfied: six>=1.10.0 in /usr/local/lib/python3.6/dist-packages (from tensorflow==1.15) (1.12.0)\n",
            "Requirement already satisfied: protobuf>=3.6.1 in /usr/local/lib/python3.6/dist-packages (from tensorflow==1.15) (3.10.0)\n",
            "Requirement already satisfied: wrapt>=1.11.1 in /usr/local/lib/python3.6/dist-packages (from tensorflow==1.15) (1.12.1)\n",
            "Requirement already satisfied: wheel>=0.26 in /usr/local/lib/python3.6/dist-packages (from tensorflow==1.15) (0.34.2)\n",
            "Requirement already satisfied: astor>=0.6.0 in /usr/local/lib/python3.6/dist-packages (from tensorflow==1.15) (0.8.1)\n",
            "Collecting tensorboard<1.16.0,>=1.15.0\n",
            "\u001b[?25l  Downloading https://files.pythonhosted.org/packages/1e/e9/d3d747a97f7188f48aa5eda486907f3b345cd409f0a0850468ba867db246/tensorboard-1.15.0-py3-none-any.whl (3.8MB)\n",
            "\u001b[K     |████████████████████████████████| 3.8MB 47.3MB/s \n",
            "\u001b[?25hRequirement already satisfied: google-pasta>=0.1.6 in /usr/local/lib/python3.6/dist-packages (from tensorflow==1.15) (0.2.0)\n",
            "Collecting tensorflow-estimator==1.15.1\n",
            "\u001b[?25l  Downloading https://files.pythonhosted.org/packages/de/62/2ee9cd74c9fa2fa450877847ba560b260f5d0fb70ee0595203082dafcc9d/tensorflow_estimator-1.15.1-py2.py3-none-any.whl (503kB)\n",
            "\u001b[K     |████████████████████████████████| 512kB 50.0MB/s \n",
            "\u001b[?25hRequirement already satisfied: absl-py>=0.7.0 in /usr/local/lib/python3.6/dist-packages (from tensorflow==1.15) (0.9.0)\n",
            "Requirement already satisfied: opt-einsum>=2.3.2 in /usr/local/lib/python3.6/dist-packages (from tensorflow==1.15) (3.2.1)\n",
            "Requirement already satisfied: keras-preprocessing>=1.0.5 in /usr/local/lib/python3.6/dist-packages (from tensorflow==1.15) (1.1.0)\n",
            "Requirement already satisfied: h5py in /usr/local/lib/python3.6/dist-packages (from keras-applications>=1.0.8->tensorflow==1.15) (2.10.0)\n",
            "Requirement already satisfied: setuptools in /usr/local/lib/python3.6/dist-packages (from protobuf>=3.6.1->tensorflow==1.15) (46.1.3)\n",
            "Requirement already satisfied: markdown>=2.6.8 in /usr/local/lib/python3.6/dist-packages (from tensorboard<1.16.0,>=1.15.0->tensorflow==1.15) (3.2.1)\n",
            "Requirement already satisfied: werkzeug>=0.11.15 in /usr/local/lib/python3.6/dist-packages (from tensorboard<1.16.0,>=1.15.0->tensorflow==1.15) (1.0.1)\n",
            "Building wheels for collected packages: gast\n",
            "  Building wheel for gast (setup.py) ... \u001b[?25l\u001b[?25hdone\n",
            "  Created wheel for gast: filename=gast-0.2.2-cp36-none-any.whl size=7540 sha256=585e17056452da08f2a27cc937497cce11322e5e088d00119c05fcf0729c1081\n",
            "  Stored in directory: /root/.cache/pip/wheels/5c/2e/7e/a1d4d4fcebe6c381f378ce7743a3ced3699feb89bcfbdadadd\n",
            "Successfully built gast\n",
            "\u001b[31mERROR: tensorflow-probability 0.10.0rc0 has requirement gast>=0.3.2, but you'll have gast 0.2.2 which is incompatible.\u001b[0m\n",
            "Installing collected packages: gast, tensorboard, tensorflow-estimator, tensorflow\n",
            "  Found existing installation: gast 0.3.3\n",
            "    Uninstalling gast-0.3.3:\n",
            "      Successfully uninstalled gast-0.3.3\n",
            "  Found existing installation: tensorboard 2.2.1\n",
            "    Uninstalling tensorboard-2.2.1:\n",
            "      Successfully uninstalled tensorboard-2.2.1\n",
            "  Found existing installation: tensorflow-estimator 2.2.0\n",
            "    Uninstalling tensorflow-estimator-2.2.0:\n",
            "      Successfully uninstalled tensorflow-estimator-2.2.0\n",
            "  Found existing installation: tensorflow 2.2.0rc4\n",
            "    Uninstalling tensorflow-2.2.0rc4:\n",
            "      Successfully uninstalled tensorflow-2.2.0rc4\n",
            "Successfully installed gast-0.2.2 tensorboard-1.15.0 tensorflow-1.15.0 tensorflow-estimator-1.15.1\n",
            "Requirement already satisfied: tensorflow_hub>=0.6.0 in /usr/local/lib/python3.6/dist-packages (0.8.0)\n",
            "Requirement already satisfied: six>=1.12.0 in /usr/local/lib/python3.6/dist-packages (from tensorflow_hub>=0.6.0) (1.12.0)\n",
            "Requirement already satisfied: numpy>=1.12.0 in /usr/local/lib/python3.6/dist-packages (from tensorflow_hub>=0.6.0) (1.18.3)\n",
            "Requirement already satisfied: protobuf>=3.8.0 in /usr/local/lib/python3.6/dist-packages (from tensorflow_hub>=0.6.0) (3.10.0)\n",
            "Requirement already satisfied: setuptools in /usr/local/lib/python3.6/dist-packages (from protobuf>=3.8.0->tensorflow_hub>=0.6.0) (46.1.3)\n",
            "Collecting tensorflow_text==1.15\n",
            "\u001b[?25l  Downloading https://files.pythonhosted.org/packages/44/61/9569353ce3efb8ee818d0d2e2f67afbb19e1e3a56eba3a93986e92949003/tensorflow_text-1.15.0-cp36-cp36m-manylinux1_x86_64.whl (9.1MB)\n",
            "\u001b[K     |████████████████████████████████| 9.1MB 2.8MB/s \n",
            "\u001b[?25hRequirement already satisfied: tensorflow<1.16,>=1.15.0 in /usr/local/lib/python3.6/dist-packages (from tensorflow_text==1.15) (1.15.0)\n",
            "Requirement already satisfied: termcolor>=1.1.0 in /usr/local/lib/python3.6/dist-packages (from tensorflow<1.16,>=1.15.0->tensorflow_text==1.15) (1.1.0)\n",
            "Requirement already satisfied: numpy<2.0,>=1.16.0 in /usr/local/lib/python3.6/dist-packages (from tensorflow<1.16,>=1.15.0->tensorflow_text==1.15) (1.18.3)\n",
            "Requirement already satisfied: wheel>=0.26 in /usr/local/lib/python3.6/dist-packages (from tensorflow<1.16,>=1.15.0->tensorflow_text==1.15) (0.34.2)\n",
            "Requirement already satisfied: six>=1.10.0 in /usr/local/lib/python3.6/dist-packages (from tensorflow<1.16,>=1.15.0->tensorflow_text==1.15) (1.12.0)\n",
            "Requirement already satisfied: tensorflow-estimator==1.15.1 in /usr/local/lib/python3.6/dist-packages (from tensorflow<1.16,>=1.15.0->tensorflow_text==1.15) (1.15.1)\n",
            "Requirement already satisfied: absl-py>=0.7.0 in /usr/local/lib/python3.6/dist-packages (from tensorflow<1.16,>=1.15.0->tensorflow_text==1.15) (0.9.0)\n",
            "Requirement already satisfied: tensorboard<1.16.0,>=1.15.0 in /usr/local/lib/python3.6/dist-packages (from tensorflow<1.16,>=1.15.0->tensorflow_text==1.15) (1.15.0)\n",
            "Requirement already satisfied: keras-applications>=1.0.8 in /usr/local/lib/python3.6/dist-packages (from tensorflow<1.16,>=1.15.0->tensorflow_text==1.15) (1.0.8)\n",
            "Requirement already satisfied: google-pasta>=0.1.6 in /usr/local/lib/python3.6/dist-packages (from tensorflow<1.16,>=1.15.0->tensorflow_text==1.15) (0.2.0)\n",
            "Requirement already satisfied: grpcio>=1.8.6 in /usr/local/lib/python3.6/dist-packages (from tensorflow<1.16,>=1.15.0->tensorflow_text==1.15) (1.28.1)\n",
            "Requirement already satisfied: opt-einsum>=2.3.2 in /usr/local/lib/python3.6/dist-packages (from tensorflow<1.16,>=1.15.0->tensorflow_text==1.15) (3.2.1)\n",
            "Requirement already satisfied: gast==0.2.2 in /usr/local/lib/python3.6/dist-packages (from tensorflow<1.16,>=1.15.0->tensorflow_text==1.15) (0.2.2)\n",
            "Requirement already satisfied: astor>=0.6.0 in /usr/local/lib/python3.6/dist-packages (from tensorflow<1.16,>=1.15.0->tensorflow_text==1.15) (0.8.1)\n",
            "Requirement already satisfied: keras-preprocessing>=1.0.5 in /usr/local/lib/python3.6/dist-packages (from tensorflow<1.16,>=1.15.0->tensorflow_text==1.15) (1.1.0)\n",
            "Requirement already satisfied: protobuf>=3.6.1 in /usr/local/lib/python3.6/dist-packages (from tensorflow<1.16,>=1.15.0->tensorflow_text==1.15) (3.10.0)\n",
            "Requirement already satisfied: wrapt>=1.11.1 in /usr/local/lib/python3.6/dist-packages (from tensorflow<1.16,>=1.15.0->tensorflow_text==1.15) (1.12.1)\n",
            "Requirement already satisfied: werkzeug>=0.11.15 in /usr/local/lib/python3.6/dist-packages (from tensorboard<1.16.0,>=1.15.0->tensorflow<1.16,>=1.15.0->tensorflow_text==1.15) (1.0.1)\n",
            "Requirement already satisfied: markdown>=2.6.8 in /usr/local/lib/python3.6/dist-packages (from tensorboard<1.16.0,>=1.15.0->tensorflow<1.16,>=1.15.0->tensorflow_text==1.15) (3.2.1)\n",
            "Requirement already satisfied: setuptools>=41.0.0 in /usr/local/lib/python3.6/dist-packages (from tensorboard<1.16.0,>=1.15.0->tensorflow<1.16,>=1.15.0->tensorflow_text==1.15) (46.1.3)\n",
            "Requirement already satisfied: h5py in /usr/local/lib/python3.6/dist-packages (from keras-applications>=1.0.8->tensorflow<1.16,>=1.15.0->tensorflow_text==1.15) (2.10.0)\n",
            "Installing collected packages: tensorflow-text\n",
            "Successfully installed tensorflow-text-1.15.0\n"
          ],
          "name": "stdout"
        },
        {
          "output_type": "stream",
          "text": [
            "Using TensorFlow backend.\n"
          ],
          "name": "stderr"
        },
        {
          "output_type": "stream",
          "text": [
            "Collecting keras_metrics\n",
            "  Downloading https://files.pythonhosted.org/packages/32/c9/a87420da8e73de944e63a8e9cdcfb1f03ca31a7c4cdcdbd45d2cdf13275a/keras_metrics-1.1.0-py2.py3-none-any.whl\n",
            "Requirement already satisfied: Keras>=2.1.5 in /usr/local/lib/python3.6/dist-packages (from keras_metrics) (2.3.1)\n",
            "Requirement already satisfied: pyyaml in /usr/local/lib/python3.6/dist-packages (from Keras>=2.1.5->keras_metrics) (3.13)\n",
            "Requirement already satisfied: h5py in /usr/local/lib/python3.6/dist-packages (from Keras>=2.1.5->keras_metrics) (2.10.0)\n",
            "Requirement already satisfied: keras-applications>=1.0.6 in /usr/local/lib/python3.6/dist-packages (from Keras>=2.1.5->keras_metrics) (1.0.8)\n",
            "Requirement already satisfied: keras-preprocessing>=1.0.5 in /usr/local/lib/python3.6/dist-packages (from Keras>=2.1.5->keras_metrics) (1.1.0)\n",
            "Requirement already satisfied: scipy>=0.14 in /usr/local/lib/python3.6/dist-packages (from Keras>=2.1.5->keras_metrics) (1.4.1)\n",
            "Requirement already satisfied: numpy>=1.9.1 in /usr/local/lib/python3.6/dist-packages (from Keras>=2.1.5->keras_metrics) (1.18.3)\n",
            "Requirement already satisfied: six>=1.9.0 in /usr/local/lib/python3.6/dist-packages (from Keras>=2.1.5->keras_metrics) (1.12.0)\n",
            "Installing collected packages: keras-metrics\n",
            "Successfully installed keras-metrics-1.1.0\n"
          ],
          "name": "stdout"
        }
      ]
    },
    {
      "cell_type": "code",
      "metadata": {
        "id": "3mIYQ9lSV45O",
        "colab_type": "code",
        "colab": {}
      },
      "source": [
        "!pip install -U -q PyDrive\n",
        "from pydrive.auth import GoogleAuth\n",
        "from pydrive.drive import GoogleDrive\n",
        "from google.colab import auth\n",
        "from oauth2client.client import GoogleCredentials\n",
        "# Authenticate and create the PyDrive client.\n",
        "auth.authenticate_user()\n",
        "gauth = GoogleAuth()\n",
        "gauth.credentials = GoogleCredentials.get_application_default()\n",
        "drive = GoogleDrive(gauth)"
      ],
      "execution_count": 0,
      "outputs": []
    },
    {
      "cell_type": "code",
      "metadata": {
        "id": "lKKK-QYyYN7m",
        "colab_type": "code",
        "colab": {}
      },
      "source": [
        "def read_data():\n",
        "  link = 'https://drive.google.com/open?id=1d2o9uC_UsEx0wOLy4YuwyucM3Yc-vze7'\n",
        "  fluff, id = link.split('=')\n",
        "  print (id)\n",
        "  downloaded = drive.CreateFile({'id':id}) \n",
        "  downloaded.GetContentFile('spam.csv')  \n",
        "  df = pd.read_csv('spam.csv', encoding='latin-1')\n",
        "  df['v1'] = df.v1.map({'ham': 0, 'spam': 1})\n",
        "  msk = np.random.rand(len(df)) < 0.8\n",
        "  df_train = df[msk]\n",
        "  df_test = df[~msk]\n",
        "  train_sentences = df_train.v2.values\n",
        "  train_labels = df_train.v1.values\n",
        "  test_sentences = df_test.v2.values\n",
        "  test_labels = df_test.v1.values\n",
        "  return df,train_sentences,train_labels,test_sentences,test_labels\n"
      ],
      "execution_count": 0,
      "outputs": []
    },
    {
      "cell_type": "code",
      "metadata": {
        "id": "g5QbqkTVOX4B",
        "colab_type": "code",
        "outputId": "87be959e-a7c4-438b-d0eb-d783cfe22e40",
        "colab": {
          "base_uri": "https://localhost:8080/",
          "height": 510
        }
      },
      "source": [
        "df,train_sentences,train_labels,test_sentences,test_labels = read_data()"
      ],
      "execution_count": 0,
      "outputs": [
        {
          "output_type": "stream",
          "text": [
            "WARNING:googleapiclient.discovery_cache:file_cache is unavailable when using oauth2client >= 4.0.0 or google-auth\n",
            "Traceback (most recent call last):\n",
            "  File \"/usr/local/lib/python3.6/dist-packages/googleapiclient/discovery_cache/__init__.py\", line 36, in autodetect\n",
            "    from google.appengine.api import memcache\n",
            "ModuleNotFoundError: No module named 'google.appengine'\n",
            "\n",
            "During handling of the above exception, another exception occurred:\n",
            "\n",
            "Traceback (most recent call last):\n",
            "  File \"/usr/local/lib/python3.6/dist-packages/googleapiclient/discovery_cache/file_cache.py\", line 33, in <module>\n",
            "    from oauth2client.contrib.locked_file import LockedFile\n",
            "ModuleNotFoundError: No module named 'oauth2client.contrib.locked_file'\n",
            "\n",
            "During handling of the above exception, another exception occurred:\n",
            "\n",
            "Traceback (most recent call last):\n",
            "  File \"/usr/local/lib/python3.6/dist-packages/googleapiclient/discovery_cache/file_cache.py\", line 37, in <module>\n",
            "    from oauth2client.locked_file import LockedFile\n",
            "ModuleNotFoundError: No module named 'oauth2client.locked_file'\n",
            "\n",
            "During handling of the above exception, another exception occurred:\n",
            "\n",
            "Traceback (most recent call last):\n",
            "  File \"/usr/local/lib/python3.6/dist-packages/googleapiclient/discovery_cache/__init__.py\", line 42, in autodetect\n",
            "    from . import file_cache\n",
            "  File \"/usr/local/lib/python3.6/dist-packages/googleapiclient/discovery_cache/file_cache.py\", line 41, in <module>\n",
            "    \"file_cache is unavailable when using oauth2client >= 4.0.0 or google-auth\"\n",
            "ImportError: file_cache is unavailable when using oauth2client >= 4.0.0 or google-auth\n"
          ],
          "name": "stderr"
        },
        {
          "output_type": "stream",
          "text": [
            "1d2o9uC_UsEx0wOLy4YuwyucM3Yc-vze7\n"
          ],
          "name": "stdout"
        }
      ]
    },
    {
      "cell_type": "code",
      "metadata": {
        "id": "SmMks6S7mKRg",
        "colab_type": "code",
        "outputId": "5aefa8d1-5973-4a60-86bb-5de29a6f08fd",
        "colab": {
          "base_uri": "https://localhost:8080/",
          "height": 68
        }
      },
      "source": [
        "import nltk\n",
        "from nltk.tokenize import word_tokenize\n",
        "from nltk.tokenize.treebank import TreebankWordDetokenizer\n",
        "nltk.download('punkt')\n"
      ],
      "execution_count": 0,
      "outputs": [
        {
          "output_type": "stream",
          "text": [
            "[nltk_data] Downloading package punkt to /root/nltk_data...\n",
            "[nltk_data]   Unzipping tokenizers/punkt.zip.\n"
          ],
          "name": "stdout"
        },
        {
          "output_type": "execute_result",
          "data": {
            "text/plain": [
              "True"
            ]
          },
          "metadata": {
            "tags": []
          },
          "execution_count": 5
        }
      ]
    },
    {
      "cell_type": "code",
      "metadata": {
        "id": "_cnYf7vGudbk",
        "colab_type": "code",
        "outputId": "7ab667d2-b18c-4c04-d714-900f964b173c",
        "colab": {
          "base_uri": "https://localhost:8080/",
          "height": 51
        }
      },
      "source": [
        "train_sentences = [word_tokenize(s) for s in train_sentences]\n",
        "nltk.download('stopwords')\n",
        "# pre_sen = []\n",
        "# for tokens in train_sentences:\n",
        "#   tokens = [w.lower() for w in tokens]\n",
        "#   import string\n",
        "#   table = str.maketrans('', '', string.punctuation)\n",
        "#   stripped = [w.translate(table) for w in tokens]\n",
        "#   # remove remaining tokens that are not alphabetic\n",
        "#   words = [word for word in stripped if word.isalpha()]\n",
        "#   # filter out stop words\n",
        "#   from nltk.corpus import stopwords\n",
        "#   stop_words = set(stopwords.words('english'))\n",
        "#   words = [w for w in words if not w in stop_words]\n",
        "#   pre_sen.append(words)\n",
        "# train_sentences = pre_sen\n",
        "\n",
        "t_sen = []\n",
        "for s in train_sentences:\n",
        "  if(len(s)<128):\n",
        "    t_sen.append(TreebankWordDetokenizer().detokenize(s))\n",
        "  else:\n",
        "    t_sen.append(TreebankWordDetokenizer().detokenize(s[0:127]))\n",
        "train_sentences = t_sen"
      ],
      "execution_count": 0,
      "outputs": [
        {
          "output_type": "stream",
          "text": [
            "[nltk_data] Downloading package stopwords to /root/nltk_data...\n",
            "[nltk_data]   Package stopwords is already up-to-date!\n"
          ],
          "name": "stdout"
        }
      ]
    },
    {
      "cell_type": "code",
      "metadata": {
        "id": "DBlvrQjpv02R",
        "colab_type": "code",
        "colab": {}
      },
      "source": [
        "test_sentences = [word_tokenize(s) for s in test_sentences]\n",
        "# pre_sen = []\n",
        "# for tokens in test_sentences:\n",
        "#   tokens = [w.lower() for w in tokens]\n",
        "#   import string\n",
        "#   table = str.maketrans('', '', string.punctuation)\n",
        "#   stripped = [w.translate(table) for w in tokens]\n",
        "#   # remove remaining tokens that are not alphabetic\n",
        "#   words = [word for word in stripped if word.isalpha()]\n",
        "#   # filter out stop words\n",
        "#   from nltk.corpus import stopwords\n",
        "#   stop_words = set(stopwords.words('english'))\n",
        "#   words = [w for w in words if not w in stop_words]\n",
        "#   pre_sen.append(words)\n",
        "# test_sentences = pre_sen\n",
        "\n",
        "t_sen = []\n",
        "for s in test_sentences:\n",
        "  if(len(s)<128):\n",
        "    t_sen.append(TreebankWordDetokenizer().detokenize(s))\n",
        "  else:\n",
        "    t_sen.append(TreebankWordDetokenizer().detokenize(s[0:127]))\n",
        "test_sentences = t_sen"
      ],
      "execution_count": 0,
      "outputs": []
    },
    {
      "cell_type": "code",
      "metadata": {
        "id": "azoirJZkY-mx",
        "colab_type": "code",
        "colab": {}
      },
      "source": [
        "url = \"https://tfhub.dev/google/elmo/2\"\n",
        "embed = hub.Module(url,trainable=True)"
      ],
      "execution_count": 0,
      "outputs": []
    },
    {
      "cell_type": "code",
      "metadata": {
        "id": "sYS9PiIjQjK6",
        "colab_type": "code",
        "colab": {}
      },
      "source": [
        "def prepare_onehot():\n",
        "  x_train = np.asarray(train_sentences)\n",
        "  y_train = np.asarray(keras.utils.to_categorical(train_labels))\n",
        "  x_test = np.asarray(test_sentences)\n",
        "  y_test = np.asarray(keras.utils.to_categorical(test_labels))\n",
        "  return x_train,y_train,x_test,y_test\n",
        "x_train,y_train,x_test,y_test = prepare_onehot()"
      ],
      "execution_count": 0,
      "outputs": []
    },
    {
      "cell_type": "code",
      "metadata": {
        "id": "GFOTD1pfcrwE",
        "colab_type": "code",
        "colab": {}
      },
      "source": [
        "def ELMoEmbedding(x):\n",
        "    return embed(tf.squeeze(tf.cast(x, tf.string)), signature=\"default\", as_dict=True)[\"default\"]\n",
        "def create_model():\n",
        "  input_text = Input(shape=(1,), dtype=tf.string)\n",
        "  embedding = Lambda(ELMoEmbedding, output_shape=(1024, ))(input_text)\n",
        "  dense = Dense(1024, activation='relu')(embedding)\n",
        "  # dense2 = Dense(128, activation='relu')(dense)\n",
        "  pred = Dense(2, activation='softmax')(dense)\n",
        "  model = Model(inputs=[input_text], outputs=pred)\n",
        "  ada = keras.optimizers.Adam(learning_rate=0.0002, beta_1=0.9, beta_2=0.999, amsgrad=False)\n",
        "  model.compile(loss='categorical_crossentropy', optimizer=ada, metrics=['accuracy'])\n",
        "  return model\n"
      ],
      "execution_count": 0,
      "outputs": []
    },
    {
      "cell_type": "markdown",
      "metadata": {
        "id": "RCmpLqxWC6p_",
        "colab_type": "text"
      },
      "source": [
        "## **10 epochs**"
      ]
    },
    {
      "cell_type": "code",
      "metadata": {
        "id": "-wXi4pfSz9i4",
        "colab_type": "code",
        "outputId": "d3386834-4032-4577-a0f8-3af561a4a054",
        "colab": {
          "base_uri": "https://localhost:8080/",
          "height": 34
        }
      },
      "source": [
        "import tensorflow as tf\n",
        "tf.test.gpu_device_name()"
      ],
      "execution_count": 0,
      "outputs": [
        {
          "output_type": "execute_result",
          "data": {
            "text/plain": [
              "'/device:GPU:0'"
            ]
          },
          "metadata": {
            "tags": []
          },
          "execution_count": 25
        }
      ]
    },
    {
      "cell_type": "code",
      "metadata": {
        "id": "FceyApfBzUHr",
        "colab_type": "code",
        "outputId": "8d8b31fd-aac2-4602-dffb-617abdc0f5bc",
        "colab": {
          "base_uri": "https://localhost:8080/",
          "height": 428
        }
      },
      "source": [
        "model = create_model()\n",
        "history = model.fit(x_train, y_train, validation_data = (x_test,y_test) , epochs=10, batch_size=200)"
      ],
      "execution_count": 0,
      "outputs": [
        {
          "output_type": "stream",
          "text": [
            "INFO:tensorflow:Saver not created because there are no variables in the graph to restore\n"
          ],
          "name": "stdout"
        },
        {
          "output_type": "stream",
          "text": [
            "INFO:tensorflow:Saver not created because there are no variables in the graph to restore\n"
          ],
          "name": "stderr"
        },
        {
          "output_type": "stream",
          "text": [
            "Train on 4441 samples, validate on 1131 samples\n",
            "Epoch 1/10\n",
            "4441/4441 [==============================] - 47s 10ms/step - loss: 0.3838 - accuracy: 0.8440 - val_loss: 0.1977 - val_accuracy: 0.9425\n",
            "Epoch 2/10\n",
            "4441/4441 [==============================] - 44s 10ms/step - loss: 0.1878 - accuracy: 0.9406 - val_loss: 0.1219 - val_accuracy: 0.9584\n",
            "Epoch 3/10\n",
            "4441/4441 [==============================] - 43s 10ms/step - loss: 0.1401 - accuracy: 0.9543 - val_loss: 0.1088 - val_accuracy: 0.9699\n",
            "Epoch 4/10\n",
            "4441/4441 [==============================] - 44s 10ms/step - loss: 0.1203 - accuracy: 0.9597 - val_loss: 0.1046 - val_accuracy: 0.9744\n",
            "Epoch 5/10\n",
            "4441/4441 [==============================] - 44s 10ms/step - loss: 0.1021 - accuracy: 0.9678 - val_loss: 0.0913 - val_accuracy: 0.9699\n",
            "Epoch 6/10\n",
            "4441/4441 [==============================] - 45s 10ms/step - loss: 0.0944 - accuracy: 0.9698 - val_loss: 0.0818 - val_accuracy: 0.9744\n",
            "Epoch 7/10\n",
            "4441/4441 [==============================] - 44s 10ms/step - loss: 0.0813 - accuracy: 0.9746 - val_loss: 0.0801 - val_accuracy: 0.9761\n",
            "Epoch 8/10\n",
            "4441/4441 [==============================] - 45s 10ms/step - loss: 0.0773 - accuracy: 0.9741 - val_loss: 0.0748 - val_accuracy: 0.9788\n",
            "Epoch 9/10\n",
            "4441/4441 [==============================] - 43s 10ms/step - loss: 0.0761 - accuracy: 0.9750 - val_loss: 0.0823 - val_accuracy: 0.9752\n",
            "Epoch 10/10\n",
            "4441/4441 [==============================] - 43s 10ms/step - loss: 0.0690 - accuracy: 0.9782 - val_loss: 0.0826 - val_accuracy: 0.9752\n"
          ],
          "name": "stdout"
        }
      ]
    },
    {
      "cell_type": "code",
      "metadata": {
        "id": "VJ-P5U5gSFOE",
        "colab_type": "code",
        "colab": {}
      },
      "source": [
        "model.save_weights('./elmo-model_spam_pre.h5')\n",
        "# model = create_model()\n",
        "# link = 'https://drive.google.com/open?id=1LD8HlgS7Lk8Ty7_F6x6x9wSmPwEVXk_w'\n",
        "# fluff, id = link.split('=')\n",
        "# print (id)\n",
        "# downloaded = drive.CreateFile({'id':id}) \n",
        "# downloaded.GetContentFile('elmo-model.h5')  \n",
        "# model.load_weights('elmo-model.h5')\n",
        "#  predicts = model.predict(x_test, batch_size=32)"
      ],
      "execution_count": 0,
      "outputs": []
    },
    {
      "cell_type": "code",
      "metadata": {
        "id": "IQp8kNhdlVca",
        "colab_type": "code",
        "colab": {}
      },
      "source": [
        "predict = model.predict(x_test)"
      ],
      "execution_count": 0,
      "outputs": []
    },
    {
      "cell_type": "code",
      "metadata": {
        "id": "QV84RBkCn4YS",
        "colab_type": "code",
        "colab": {}
      },
      "source": [
        "pred = [np.where(t == np.max(t))[0][0] for t in predict]"
      ],
      "execution_count": 0,
      "outputs": []
    },
    {
      "cell_type": "code",
      "metadata": {
        "id": "6P9fGOnPpcAR",
        "colab_type": "code",
        "colab": {}
      },
      "source": [
        "yr = [np.where(t == np.max(t))[0][0] for t in y_test]"
      ],
      "execution_count": 0,
      "outputs": []
    },
    {
      "cell_type": "code",
      "metadata": {
        "id": "EHIxAtZl_3Yv",
        "colab_type": "code",
        "outputId": "30e5dd8a-f503-4ac2-8a95-e10180805eca",
        "colab": {
          "base_uri": "https://localhost:8080/",
          "height": 381
        }
      },
      "source": [
        "from sklearn import metrics\n",
        "fpr, tpr, thresholds = metrics.roc_curve(yr, pred, pos_label=1)\n",
        "print(\"AUC : \",metrics.auc(fpr, tpr))\n",
        "\n",
        "from sklearn.metrics import accuracy_score\n",
        "print(\"accuracy : \",accuracy_score(yr,pred))\n",
        "\n",
        "from sklearn.metrics import precision_score\n",
        "print(\"precision : \",precision_score(yr, pred))\n",
        "\n",
        "from sklearn.metrics import recall_score\n",
        "print(\"recall : \" ,recall_score(yr, pred) )\n",
        "\n",
        "from sklearn.metrics import f1_score\n",
        "print(\"F1 : \", f1_score(yr, pred))\n",
        "\n",
        "import matplotlib.pyplot as plt\n",
        "import numpy as np\n",
        "import math\n",
        "hist=history.history\n",
        "loss=hist['loss']\n",
        "val_loss=hist['val_loss']\n",
        "plt.xlabel('Epochs')\n",
        "plt.ylabel('train loss')\n",
        "plt.plot(loss)\n",
        "\n",
        "plt.xlabel('Epochs')\n",
        "plt.ylabel('test perplexity')\n",
        "plt.plot(val_loss)\n",
        "plt.legend(['train loss','test loss'])"
      ],
      "execution_count": 0,
      "outputs": [
        {
          "output_type": "stream",
          "text": [
            "AUC :  0.9593407915313364\n",
            "accuracy :  0.9725906277630415\n",
            "precision :  0.8674698795180723\n",
            "recall :  0.9411764705882353\n",
            "F1 :  0.9028213166144202\n"
          ],
          "name": "stdout"
        },
        {
          "output_type": "execute_result",
          "data": {
            "text/plain": [
              "<matplotlib.legend.Legend at 0x7f3e6fab2eb8>"
            ]
          },
          "metadata": {
            "tags": []
          },
          "execution_count": 38
        },
        {
          "output_type": "display_data",
          "data": {
            "image/png": "[encoded data removed]",
            "text/plain": [
              "<Figure size 432x288 with 1 Axes>"
            ]
          },
          "metadata": {
            "tags": [],
            "needs_background": "light"
          }
        }
      ]
    },
    {
      "cell_type": "markdown",
      "metadata": {
        "id": "JDeW3QqfDD9R",
        "colab_type": "text"
      },
      "source": [
        "## **20 epochs**"
      ]
    },
    {
      "cell_type": "code",
      "metadata": {
        "id": "7Dm-JOf3SOt8",
        "colab_type": "code",
        "outputId": "146f5936-b1b1-40e9-e01e-7f1aa732eba8",
        "colab": {
          "base_uri": "https://localhost:8080/",
          "height": 768
        }
      },
      "source": [
        "model2 = create_model()\n",
        "history2 = model2.fit(x_train, y_train,validation_data = (x_test,y_test) , epochs=20, batch_size=200)"
      ],
      "execution_count": 0,
      "outputs": [
        {
          "output_type": "stream",
          "text": [
            "INFO:tensorflow:Saver not created because there are no variables in the graph to restore\n"
          ],
          "name": "stdout"
        },
        {
          "output_type": "stream",
          "text": [
            "INFO:tensorflow:Saver not created because there are no variables in the graph to restore\n"
          ],
          "name": "stderr"
        },
        {
          "output_type": "stream",
          "text": [
            "Train on 4441 samples, validate on 1131 samples\n",
            "Epoch 1/20\n",
            "4441/4441 [==============================] - 46s 10ms/step - loss: 0.2807 - accuracy: 0.8888 - val_loss: 0.1372 - val_accuracy: 0.9576\n",
            "Epoch 2/20\n",
            "4441/4441 [==============================] - 44s 10ms/step - loss: 0.1466 - accuracy: 0.9502 - val_loss: 0.1082 - val_accuracy: 0.9567\n",
            "Epoch 3/20\n",
            "4441/4441 [==============================] - 44s 10ms/step - loss: 0.1284 - accuracy: 0.9565 - val_loss: 0.1265 - val_accuracy: 0.9540\n",
            "Epoch 4/20\n",
            "4441/4441 [==============================] - 44s 10ms/step - loss: 0.1299 - accuracy: 0.9590 - val_loss: 0.0992 - val_accuracy: 0.9549\n",
            "Epoch 5/20\n",
            "4441/4441 [==============================] - 44s 10ms/step - loss: 0.1020 - accuracy: 0.9640 - val_loss: 0.0814 - val_accuracy: 0.9770\n",
            "Epoch 6/20\n",
            "4441/4441 [==============================] - 45s 10ms/step - loss: 0.0849 - accuracy: 0.9716 - val_loss: 0.0809 - val_accuracy: 0.9770\n",
            "Epoch 7/20\n",
            "4441/4441 [==============================] - 46s 10ms/step - loss: 0.0762 - accuracy: 0.9768 - val_loss: 0.0776 - val_accuracy: 0.9770\n",
            "Epoch 8/20\n",
            "4441/4441 [==============================] - 44s 10ms/step - loss: 0.0763 - accuracy: 0.9761 - val_loss: 0.0735 - val_accuracy: 0.9770\n",
            "Epoch 9/20\n",
            "4441/4441 [==============================] - 44s 10ms/step - loss: 0.0667 - accuracy: 0.9770 - val_loss: 0.0674 - val_accuracy: 0.9841\n",
            "Epoch 10/20\n",
            "4441/4441 [==============================] - 44s 10ms/step - loss: 0.0585 - accuracy: 0.9802 - val_loss: 0.0703 - val_accuracy: 0.9770\n",
            "Epoch 11/20\n",
            "4441/4441 [==============================] - 42s 10ms/step - loss: 0.0538 - accuracy: 0.9813 - val_loss: 0.0659 - val_accuracy: 0.9823\n",
            "Epoch 12/20\n",
            "4441/4441 [==============================] - 43s 10ms/step - loss: 0.0614 - accuracy: 0.9813 - val_loss: 0.0753 - val_accuracy: 0.9744\n",
            "Epoch 13/20\n",
            "4441/4441 [==============================] - 44s 10ms/step - loss: 0.0492 - accuracy: 0.9851 - val_loss: 0.0655 - val_accuracy: 0.9814\n",
            "Epoch 14/20\n",
            "4441/4441 [==============================] - 44s 10ms/step - loss: 0.0453 - accuracy: 0.9863 - val_loss: 0.0626 - val_accuracy: 0.9850\n",
            "Epoch 15/20\n",
            "4441/4441 [==============================] - 45s 10ms/step - loss: 0.0409 - accuracy: 0.9878 - val_loss: 0.0764 - val_accuracy: 0.9717\n",
            "Epoch 16/20\n",
            "4441/4441 [==============================] - 44s 10ms/step - loss: 0.0447 - accuracy: 0.9854 - val_loss: 0.0655 - val_accuracy: 0.9841\n",
            "Epoch 17/20\n",
            "4441/4441 [==============================] - 44s 10ms/step - loss: 0.0446 - accuracy: 0.9860 - val_loss: 0.0608 - val_accuracy: 0.9805\n",
            "Epoch 18/20\n",
            "4441/4441 [==============================] - 42s 10ms/step - loss: 0.0321 - accuracy: 0.9910 - val_loss: 0.0655 - val_accuracy: 0.9779\n",
            "Epoch 19/20\n",
            "4441/4441 [==============================] - 44s 10ms/step - loss: 0.0365 - accuracy: 0.9901 - val_loss: 0.0604 - val_accuracy: 0.9823\n",
            "Epoch 20/20\n",
            "4441/4441 [==============================] - 46s 10ms/step - loss: 0.0284 - accuracy: 0.9926 - val_loss: 0.0643 - val_accuracy: 0.9779\n"
          ],
          "name": "stdout"
        }
      ]
    },
    {
      "cell_type": "code",
      "metadata": {
        "id": "A4fKxLdVSOiM",
        "colab_type": "code",
        "colab": {}
      },
      "source": [
        "model2.save_weights('./elmo-model_spam2.h5')\n",
        "# model2.load_weights('./elmo-model_spam2.h5')\n",
        "# predicts2 = model2.predict(x_test, batch_size=32)"
      ],
      "execution_count": 0,
      "outputs": []
    },
    {
      "cell_type": "code",
      "metadata": {
        "id": "X1DAnddw1UZC",
        "colab_type": "code",
        "colab": {}
      },
      "source": [
        "predicts2 = model2.predict(x_test)"
      ],
      "execution_count": 0,
      "outputs": []
    },
    {
      "cell_type": "code",
      "metadata": {
        "id": "XgO5vIdK1Tz7",
        "colab_type": "code",
        "outputId": "99da95d3-b900-4e00-e373-fcb401fb3699",
        "colab": {
          "base_uri": "https://localhost:8080/",
          "height": 381
        }
      },
      "source": [
        "pred = [np.where(t == np.max(t))[0][0] for t in predicts2]\n",
        "yr = [np.where(t == np.max(t))[0][0] for t in y_test]\n",
        "\n",
        "from sklearn import metrics\n",
        "fpr, tpr, thresholds = metrics.roc_curve(yr, pred, pos_label=1)\n",
        "print(\"AUC : \",metrics.auc(fpr, tpr))\n",
        "\n",
        "from sklearn.metrics import accuracy_score\n",
        "print(\"accuracy : \",accuracy_score(yr,pred))\n",
        "\n",
        "from sklearn.metrics import precision_score\n",
        "print(\"precision : \",precision_score(yr, pred))\n",
        "\n",
        "from sklearn.metrics import recall_score\n",
        "print(\"recall : \" ,recall_score(yr, pred) )\n",
        "\n",
        "from sklearn.metrics import f1_score\n",
        "print(\"F1 : \", f1_score(yr, pred))\n",
        "\n",
        "import matplotlib.pyplot as plt\n",
        "import numpy as np\n",
        "import math\n",
        "hist2=history2.history\n",
        "loss=hist2['loss']\n",
        "val_loss=hist2['val_loss']\n",
        "plt.xlabel('Epochs')\n",
        "plt.ylabel('train loss')\n",
        "plt.plot(loss)\n",
        "\n",
        "plt.xlabel('Epochs')\n",
        "plt.ylabel('test perplexity')\n",
        "plt.plot(val_loss)\n",
        "plt.legend(['train loss','test loss'])"
      ],
      "execution_count": 0,
      "outputs": [
        {
          "output_type": "stream",
          "text": [
            "AUC :  0.9576065600064156\n",
            "accuracy :  0.9743589743589743\n",
            "precision :  0.8827160493827161\n",
            "recall :  0.934640522875817\n",
            "F1 :  0.9079365079365078\n"
          ],
          "name": "stdout"
        },
        {
          "output_type": "execute_result",
          "data": {
            "text/plain": [
              "<matplotlib.legend.Legend at 0x7f3e6e646c18>"
            ]
          },
          "metadata": {
            "tags": []
          },
          "execution_count": 41
        },
        {
          "output_type": "display_data",
          "data": {
            "image/png": "[encoded data removed]",
            "text/plain": [
              "<Figure size 432x288 with 1 Axes>"
            ]
          },
          "metadata": {
            "tags": [],
            "needs_background": "light"
          }
        }
      ]
    },
    {
      "cell_type": "markdown",
      "metadata": {
        "id": "CyJfgqtk5duD",
        "colab_type": "text"
      },
      "source": [
        "## **50 epochs**"
      ]
    },
    {
      "cell_type": "code",
      "metadata": {
        "id": "1hwFF2uOGHj5",
        "colab_type": "code",
        "outputId": "6cb3323d-e218-4c02-8e03-55661e39fc1a",
        "colab": {
          "base_uri": "https://localhost:8080/",
          "height": 1000
        }
      },
      "source": [
        "model50 = create_model()\n",
        "history50 = model50.fit(x_train, y_train, epochs=50,validation_data = (x_test,y_test), batch_size=200)"
      ],
      "execution_count": 0,
      "outputs": [
        {
          "output_type": "stream",
          "text": [
            "INFO:tensorflow:Saver not created because there are no variables in the graph to restore\n"
          ],
          "name": "stdout"
        },
        {
          "output_type": "stream",
          "text": [
            "INFO:tensorflow:Saver not created because there are no variables in the graph to restore\n"
          ],
          "name": "stderr"
        },
        {
          "output_type": "stream",
          "text": [
            "Train on 4441 samples, validate on 1131 samples\n",
            "Epoch 1/50\n",
            "4441/4441 [==============================] - 46s 10ms/step - loss: 0.2820 - accuracy: 0.9099 - val_loss: 0.1345 - val_accuracy: 0.9531\n",
            "Epoch 2/50\n",
            "4441/4441 [==============================] - 44s 10ms/step - loss: 0.1441 - accuracy: 0.9500 - val_loss: 0.1086 - val_accuracy: 0.9699\n",
            "Epoch 3/50\n",
            "4441/4441 [==============================] - 44s 10ms/step - loss: 0.1191 - accuracy: 0.9601 - val_loss: 0.0968 - val_accuracy: 0.9726\n",
            "Epoch 4/50\n",
            "4441/4441 [==============================] - 42s 9ms/step - loss: 0.1074 - accuracy: 0.9637 - val_loss: 0.0874 - val_accuracy: 0.9717\n",
            "Epoch 5/50\n",
            "4441/4441 [==============================] - 45s 10ms/step - loss: 0.0920 - accuracy: 0.9707 - val_loss: 0.0825 - val_accuracy: 0.9717\n",
            "Epoch 6/50\n",
            "4441/4441 [==============================] - 44s 10ms/step - loss: 0.0811 - accuracy: 0.9716 - val_loss: 0.0776 - val_accuracy: 0.9752\n",
            "Epoch 7/50\n",
            "4441/4441 [==============================] - 46s 10ms/step - loss: 0.0706 - accuracy: 0.9761 - val_loss: 0.0716 - val_accuracy: 0.9814\n",
            "Epoch 8/50\n",
            "4441/4441 [==============================] - 42s 10ms/step - loss: 0.0654 - accuracy: 0.9793 - val_loss: 0.1484 - val_accuracy: 0.9505\n",
            "Epoch 9/50\n",
            "4441/4441 [==============================] - 45s 10ms/step - loss: 0.0822 - accuracy: 0.9750 - val_loss: 0.0903 - val_accuracy: 0.9699\n",
            "Epoch 10/50\n",
            "4441/4441 [==============================] - 44s 10ms/step - loss: 0.0709 - accuracy: 0.9782 - val_loss: 0.0664 - val_accuracy: 0.9814\n",
            "Epoch 11/50\n",
            "4441/4441 [==============================] - 44s 10ms/step - loss: 0.0543 - accuracy: 0.9842 - val_loss: 0.0677 - val_accuracy: 0.9805\n",
            "Epoch 12/50\n",
            "4441/4441 [==============================] - 45s 10ms/step - loss: 0.0482 - accuracy: 0.9872 - val_loss: 0.0630 - val_accuracy: 0.9832\n",
            "Epoch 13/50\n",
            "4441/4441 [==============================] - 43s 10ms/step - loss: 0.0477 - accuracy: 0.9849 - val_loss: 0.0649 - val_accuracy: 0.9797\n",
            "Epoch 14/50\n",
            "4441/4441 [==============================] - 43s 10ms/step - loss: 0.0416 - accuracy: 0.9876 - val_loss: 0.0678 - val_accuracy: 0.9761\n",
            "Epoch 15/50\n",
            "4441/4441 [==============================] - 45s 10ms/step - loss: 0.0505 - accuracy: 0.9867 - val_loss: 0.0703 - val_accuracy: 0.9814\n",
            "Epoch 16/50\n",
            "4441/4441 [==============================] - 44s 10ms/step - loss: 0.0503 - accuracy: 0.9860 - val_loss: 0.0604 - val_accuracy: 0.9814\n",
            "Epoch 17/50\n",
            "4441/4441 [==============================] - 43s 10ms/step - loss: 0.0345 - accuracy: 0.9903 - val_loss: 0.0587 - val_accuracy: 0.9823\n",
            "Epoch 18/50\n",
            "4441/4441 [==============================] - 46s 10ms/step - loss: 0.0344 - accuracy: 0.9910 - val_loss: 0.0600 - val_accuracy: 0.9797\n",
            "Epoch 19/50\n",
            "4441/4441 [==============================] - 44s 10ms/step - loss: 0.0319 - accuracy: 0.9926 - val_loss: 0.0597 - val_accuracy: 0.9805\n",
            "Epoch 20/50\n",
            "4441/4441 [==============================] - 45s 10ms/step - loss: 0.0301 - accuracy: 0.9926 - val_loss: 0.0641 - val_accuracy: 0.9779\n",
            "Epoch 21/50\n",
            "4441/4441 [==============================] - 43s 10ms/step - loss: 0.0295 - accuracy: 0.9939 - val_loss: 0.0592 - val_accuracy: 0.9805\n",
            "Epoch 22/50\n",
            "4441/4441 [==============================] - 43s 10ms/step - loss: 0.0361 - accuracy: 0.9921 - val_loss: 0.0701 - val_accuracy: 0.9805\n",
            "Epoch 23/50\n",
            "4441/4441 [==============================] - 44s 10ms/step - loss: 0.0272 - accuracy: 0.9939 - val_loss: 0.0567 - val_accuracy: 0.9841\n",
            "Epoch 24/50\n",
            "4441/4441 [==============================] - 44s 10ms/step - loss: 0.0225 - accuracy: 0.9953 - val_loss: 0.0588 - val_accuracy: 0.9823\n",
            "Epoch 25/50\n",
            "4441/4441 [==============================] - 45s 10ms/step - loss: 0.0218 - accuracy: 0.9941 - val_loss: 0.0565 - val_accuracy: 0.9832\n",
            "Epoch 26/50\n",
            "4441/4441 [==============================] - 45s 10ms/step - loss: 0.0183 - accuracy: 0.9971 - val_loss: 0.0619 - val_accuracy: 0.9823\n",
            "Epoch 27/50\n",
            "4441/4441 [==============================] - 44s 10ms/step - loss: 0.0194 - accuracy: 0.9953 - val_loss: 0.0644 - val_accuracy: 0.9797\n",
            "Epoch 28/50\n",
            "4441/4441 [==============================] - 44s 10ms/step - loss: 0.0298 - accuracy: 0.9926 - val_loss: 0.0581 - val_accuracy: 0.9814\n",
            "Epoch 29/50\n",
            "4441/4441 [==============================] - 45s 10ms/step - loss: 0.0189 - accuracy: 0.9948 - val_loss: 0.0592 - val_accuracy: 0.9797\n",
            "Epoch 30/50\n",
            "4441/4441 [==============================] - 44s 10ms/step - loss: 0.0160 - accuracy: 0.9968 - val_loss: 0.0647 - val_accuracy: 0.9797\n",
            "Epoch 31/50\n",
            "4441/4441 [==============================] - 43s 10ms/step - loss: 0.0145 - accuracy: 0.9966 - val_loss: 0.0585 - val_accuracy: 0.9850\n",
            "Epoch 32/50\n",
            "4441/4441 [==============================] - 46s 10ms/step - loss: 0.0121 - accuracy: 0.9980 - val_loss: 0.0652 - val_accuracy: 0.9814\n",
            "Epoch 33/50\n",
            "4441/4441 [==============================] - 44s 10ms/step - loss: 0.0175 - accuracy: 0.9973 - val_loss: 0.0609 - val_accuracy: 0.9832\n",
            "Epoch 34/50\n",
            "4441/4441 [==============================] - 44s 10ms/step - loss: 0.0124 - accuracy: 0.9977 - val_loss: 0.0593 - val_accuracy: 0.9841\n",
            "Epoch 35/50\n",
            "4441/4441 [==============================] - 43s 10ms/step - loss: 0.0110 - accuracy: 0.9986 - val_loss: 0.0592 - val_accuracy: 0.9841\n",
            "Epoch 36/50\n",
            "4441/4441 [==============================] - 46s 10ms/step - loss: 0.0100 - accuracy: 0.9984 - val_loss: 0.0613 - val_accuracy: 0.9832\n",
            "Epoch 37/50\n",
            "4441/4441 [==============================] - 45s 10ms/step - loss: 0.0108 - accuracy: 0.9984 - val_loss: 0.0601 - val_accuracy: 0.9814\n",
            "Epoch 38/50\n",
            "4441/4441 [==============================] - 44s 10ms/step - loss: 0.0084 - accuracy: 0.9991 - val_loss: 0.0604 - val_accuracy: 0.9832\n",
            "Epoch 39/50\n",
            "4441/4441 [==============================] - 44s 10ms/step - loss: 0.0086 - accuracy: 0.9989 - val_loss: 0.0686 - val_accuracy: 0.9814\n",
            "Epoch 40/50\n",
            "4441/4441 [==============================] - 45s 10ms/step - loss: 0.0113 - accuracy: 0.9977 - val_loss: 0.0610 - val_accuracy: 0.9841\n",
            "Epoch 41/50\n",
            "4441/4441 [==============================] - 43s 10ms/step - loss: 0.0082 - accuracy: 0.9995 - val_loss: 0.0633 - val_accuracy: 0.9823\n",
            "Epoch 42/50\n",
            "4441/4441 [==============================] - 43s 10ms/step - loss: 0.0092 - accuracy: 0.9984 - val_loss: 0.0687 - val_accuracy: 0.9805\n",
            "Epoch 43/50\n",
            "4441/4441 [==============================] - 43s 10ms/step - loss: 0.0103 - accuracy: 0.9980 - val_loss: 0.0638 - val_accuracy: 0.9805\n",
            "Epoch 44/50\n",
            "4441/4441 [==============================] - 44s 10ms/step - loss: 0.0063 - accuracy: 0.9995 - val_loss: 0.0736 - val_accuracy: 0.9779\n",
            "Epoch 45/50\n",
            "4441/4441 [==============================] - 44s 10ms/step - loss: 0.0298 - accuracy: 0.9953 - val_loss: 0.0685 - val_accuracy: 0.9805\n",
            "Epoch 46/50\n",
            "4441/4441 [==============================] - 45s 10ms/step - loss: 0.0339 - accuracy: 0.9941 - val_loss: 0.0635 - val_accuracy: 0.9823\n",
            "Epoch 47/50\n",
            "4441/4441 [==============================] - 45s 10ms/step - loss: 0.0291 - accuracy: 0.9935 - val_loss: 0.0611 - val_accuracy: 0.9805\n",
            "Epoch 48/50\n",
            "4441/4441 [==============================] - 44s 10ms/step - loss: 0.0163 - accuracy: 0.9962 - val_loss: 0.0735 - val_accuracy: 0.9797\n",
            "Epoch 49/50\n",
            "4441/4441 [==============================] - 44s 10ms/step - loss: 0.0085 - accuracy: 0.9984 - val_loss: 0.0849 - val_accuracy: 0.9823\n",
            "Epoch 50/50\n",
            "4441/4441 [==============================] - 44s 10ms/step - loss: 0.0253 - accuracy: 0.9968 - val_loss: 0.0663 - val_accuracy: 0.9850\n"
          ],
          "name": "stdout"
        }
      ]
    },
    {
      "cell_type": "code",
      "metadata": {
        "id": "JcwI_sU5CoVb",
        "colab_type": "code",
        "colab": {}
      },
      "source": [
        "predicts50 = model50.predict(x_test)"
      ],
      "execution_count": 0,
      "outputs": []
    },
    {
      "cell_type": "code",
      "metadata": {
        "id": "pRV4Xn-oJivJ",
        "colab_type": "code",
        "outputId": "92000c91-4de4-4a4f-a334-325c210e951c",
        "colab": {
          "base_uri": "https://localhost:8080/",
          "height": 381
        }
      },
      "source": [
        "pred = [np.where(t == np.max(t))[0][0] for t in predicts50]\n",
        "yr = [np.where(t == np.max(t))[0][0] for t in y_test]\n",
        "\n",
        "from sklearn import metrics\n",
        "fpr, tpr, thresholds = metrics.roc_curve(yr, pred, pos_label=1)\n",
        "print(\"AUC : \",metrics.auc(fpr, tpr))\n",
        "\n",
        "from sklearn.metrics import accuracy_score\n",
        "print(\"accuracy : \",accuracy_score(yr,pred))\n",
        "\n",
        "from sklearn.metrics import precision_score\n",
        "print(\"precision : \",precision_score(yr, pred))\n",
        "\n",
        "from sklearn.metrics import recall_score\n",
        "print(\"recall : \" ,recall_score(yr, pred) )\n",
        "\n",
        "from sklearn.metrics import f1_score\n",
        "print(\"F1 : \", f1_score(yr, pred))\n",
        "\n",
        "import matplotlib.pyplot as plt\n",
        "import numpy as np\n",
        "import math\n",
        "hist2=history50.history\n",
        "loss=hist2['loss']\n",
        "val_loss=hist2['val_loss']\n",
        "plt.xlabel('Epochs')\n",
        "plt.ylabel('train loss')\n",
        "plt.plot(loss)\n",
        "\n",
        "plt.xlabel('Epochs')\n",
        "plt.ylabel('test perplexity')\n",
        "plt.plot(val_loss)\n",
        "plt.legend(['train loss','test loss'])"
      ],
      "execution_count": 0,
      "outputs": [
        {
          "output_type": "stream",
          "text": [
            "AUC :  0.9489354023818115\n",
            "accuracy :  0.9832007073386384\n",
            "precision :  0.971830985915493\n",
            "recall :  0.9019607843137255\n",
            "F1 :  0.9355932203389831\n"
          ],
          "name": "stdout"
        },
        {
          "output_type": "execute_result",
          "data": {
            "text/plain": [
              "<matplotlib.legend.Legend at 0x7f3e6e1c7b70>"
            ]
          },
          "metadata": {
            "tags": []
          },
          "execution_count": 44
        },
        {
          "output_type": "display_data",
          "data": {
            "image/png": "[encoded data removed]",
            "text/plain": [
              "<Figure size 432x288 with 1 Axes>"
            ]
          },
          "metadata": {
            "tags": [],
            "needs_background": "light"
          }
        }
      ]
    },
    {
      "cell_type": "markdown",
      "metadata": {
        "id": "BYkeuDzWKQeV",
        "colab_type": "text"
      },
      "source": [
        "## **without pretraining**"
      ]
    },
    {
      "cell_type": "code",
      "metadata": {
        "id": "dGSzCWv3KPfo",
        "colab_type": "code",
        "outputId": "d21aa919-cb6a-4555-d113-5e63d2171757",
        "colab": {
          "base_uri": "https://localhost:8080/",
          "height": 428
        }
      },
      "source": [
        "model_pre = create_model()\n",
        "history_pre = model_pre.fit(x_train, y_train,validation_data = (x_test,y_test) , epochs=10, batch_size=200)"
      ],
      "execution_count": 0,
      "outputs": [
        {
          "output_type": "stream",
          "text": [
            "INFO:tensorflow:Saver not created because there are no variables in the graph to restore\n"
          ],
          "name": "stdout"
        },
        {
          "output_type": "stream",
          "text": [
            "INFO:tensorflow:Saver not created because there are no variables in the graph to restore\n"
          ],
          "name": "stderr"
        },
        {
          "output_type": "stream",
          "text": [
            "Train on 4392 samples, validate on 1180 samples\n",
            "Epoch 1/10\n",
            "4392/4392 [==============================] - 112s 25ms/step - loss: 0.2249 - accuracy: 0.8996 - val_loss: 0.1086 - val_accuracy: 0.9737\n",
            "Epoch 2/10\n",
            "4392/4392 [==============================] - 93s 21ms/step - loss: 0.0799 - accuracy: 0.9740 - val_loss: 0.0700 - val_accuracy: 0.9737\n",
            "Epoch 3/10\n",
            "4392/4392 [==============================] - 93s 21ms/step - loss: 0.0686 - accuracy: 0.9793 - val_loss: 0.0583 - val_accuracy: 0.9797\n",
            "Epoch 4/10\n",
            "4392/4392 [==============================] - 88s 20ms/step - loss: 0.0574 - accuracy: 0.9804 - val_loss: 0.0514 - val_accuracy: 0.9847\n",
            "Epoch 5/10\n",
            "4392/4392 [==============================] - 84s 19ms/step - loss: 0.0531 - accuracy: 0.9832 - val_loss: 0.0394 - val_accuracy: 0.9898\n",
            "Epoch 6/10\n",
            "4392/4392 [==============================] - 85s 19ms/step - loss: 0.0467 - accuracy: 0.9854 - val_loss: 0.0339 - val_accuracy: 0.9915\n",
            "Epoch 7/10\n",
            "4392/4392 [==============================] - 83s 19ms/step - loss: 0.0418 - accuracy: 0.9875 - val_loss: 0.0324 - val_accuracy: 0.9915\n",
            "Epoch 8/10\n",
            "4392/4392 [==============================] - 86s 20ms/step - loss: 0.0362 - accuracy: 0.9886 - val_loss: 0.0304 - val_accuracy: 0.9915\n",
            "Epoch 9/10\n",
            "4392/4392 [==============================] - 86s 20ms/step - loss: 0.0329 - accuracy: 0.9898 - val_loss: 0.0283 - val_accuracy: 0.9932\n",
            "Epoch 10/10\n",
            "4392/4392 [==============================] - 87s 20ms/step - loss: 0.0305 - accuracy: 0.9900 - val_loss: 0.0282 - val_accuracy: 0.9915\n"
          ],
          "name": "stdout"
        }
      ]
    },
    {
      "cell_type": "code",
      "metadata": {
        "id": "jpylHFCxOnG4",
        "colab_type": "code",
        "colab": {}
      },
      "source": [
        "predict_pre = model_pre.predict(x_test)"
      ],
      "execution_count": 0,
      "outputs": []
    },
    {
      "cell_type": "code",
      "metadata": {
        "id": "tOlfMaf1Oq-B",
        "colab_type": "code",
        "outputId": "41fd20c1-4414-49ce-9e4d-34ae2afa1531",
        "colab": {
          "base_uri": "https://localhost:8080/",
          "height": 381
        }
      },
      "source": [
        "pred = [np.where(t == np.max(t))[0][0] for t in predict_pre]\n",
        "yr = [np.where(t == np.max(t))[0][0] for t in y_test]\n",
        "\n",
        "from sklearn import metrics\n",
        "fpr, tpr, thresholds = metrics.roc_curve(yr, pred, pos_label=1)\n",
        "print(\"AUC : \",metrics.auc(fpr, tpr))\n",
        "\n",
        "from sklearn.metrics import accuracy_score\n",
        "print(\"accuracy : \",accuracy_score(yr,pred))\n",
        "\n",
        "from sklearn.metrics import precision_score\n",
        "print(\"precision : \",precision_score(yr, pred))\n",
        "\n",
        "from sklearn.metrics import recall_score\n",
        "print(\"recall : \" ,recall_score(yr, pred) )\n",
        "\n",
        "from sklearn.metrics import f1_score\n",
        "print(\"F1 : \", f1_score(yr, pred))\n",
        "\n",
        "import matplotlib.pyplot as plt\n",
        "import numpy as np\n",
        "import math\n",
        "hist2=history_pre.history\n",
        "loss=hist2['loss']\n",
        "val_loss=hist2['val_loss']\n",
        "plt.xlabel('Epochs')\n",
        "plt.ylabel('train loss')\n",
        "plt.plot(loss)\n",
        "\n",
        "plt.xlabel('Epochs')\n",
        "plt.ylabel('test perplexity')\n",
        "plt.plot(val_loss)\n",
        "plt.legend(['train loss','test loss'])"
      ],
      "execution_count": 0,
      "outputs": [
        {
          "output_type": "stream",
          "text": [
            "AUC :  0.977034259823534\n",
            "accuracy :  0.9906779661016949\n",
            "precision :  0.9655172413793104\n",
            "recall :  0.958904109589041\n",
            "F1 :  0.9621993127147767\n"
          ],
          "name": "stdout"
        },
        {
          "output_type": "execute_result",
          "data": {
            "text/plain": [
              "<matplotlib.legend.Legend at 0x7f3e6de72fd0>"
            ]
          },
          "metadata": {
            "tags": []
          },
          "execution_count": 53
        },
        {
          "output_type": "display_data",
          "data": {
            "image/png": "[encoded data removed]",
            "text/plain": [
              "<Figure size 432x288 with 1 Axes>"
            ]
          },
          "metadata": {
            "tags": [],
            "needs_background": "light"
          }
        }
      ]
    },
    {
      "cell_type": "markdown",
      "metadata": {
        "id": "WtHnF6CdCqS5",
        "colab_type": "text"
      },
      "source": [
        "## **بخش امتیازی**"
      ]
    },
    {
      "cell_type": "code",
      "metadata": {
        "id": "HZxvrjprCoSC",
        "colab_type": "code",
        "colab": {}
      },
      "source": [
        "def create_model2():\n",
        "  input_text = Input(shape=(1,), dtype=tf.string)\n",
        "  embedding = Lambda(ELMoEmbedding, output_shape=(1024, ))(input_text)\n",
        "  dense = Dense(512, activation='relu')(embedding)\n",
        "  dense2 = Dense(1024, activation='relu')(dense)\n",
        "  pred = Dense(2, activation='softmax')(dense2)\n",
        "  model = Model(inputs=[input_text], outputs=pred)\n",
        "  ada = keras.optimizers.Adam(learning_rate=0.0002, beta_1=0.9, beta_2=0.999, amsgrad=False)\n",
        "  model.compile(loss='categorical_crossentropy', optimizer=ada, metrics=['accuracy'])\n",
        "  return model"
      ],
      "execution_count": 0,
      "outputs": []
    },
    {
      "cell_type": "code",
      "metadata": {
        "id": "OwYwQrmKCoOa",
        "colab_type": "code",
        "outputId": "88f81888-ca7e-4073-cb6c-2524f34aed92",
        "colab": {
          "base_uri": "https://localhost:8080/",
          "height": 428
        }
      },
      "source": [
        "model3 = create_model2()\n",
        "history3 = model3.fit(x_train, y_train,validation_data = (x_test,y_test), epochs=10, batch_size=200)"
      ],
      "execution_count": 0,
      "outputs": [
        {
          "output_type": "stream",
          "text": [
            "INFO:tensorflow:Saver not created because there are no variables in the graph to restore\n"
          ],
          "name": "stdout"
        },
        {
          "output_type": "stream",
          "text": [
            "INFO:tensorflow:Saver not created because there are no variables in the graph to restore\n"
          ],
          "name": "stderr"
        },
        {
          "output_type": "stream",
          "text": [
            "Train on 4392 samples, validate on 1180 samples\n",
            "Epoch 1/10\n",
            "4392/4392 [==============================] - 87s 20ms/step - loss: 0.2025 - accuracy: 0.9258 - val_loss: 0.0669 - val_accuracy: 0.9754\n",
            "Epoch 2/10\n",
            "4392/4392 [==============================] - 86s 20ms/step - loss: 0.0830 - accuracy: 0.9713 - val_loss: 0.0477 - val_accuracy: 0.9847\n",
            "Epoch 3/10\n",
            "4392/4392 [==============================] - 85s 19ms/step - loss: 0.0543 - accuracy: 0.9818 - val_loss: 0.0401 - val_accuracy: 0.9890\n",
            "Epoch 4/10\n",
            "4392/4392 [==============================] - 84s 19ms/step - loss: 0.0432 - accuracy: 0.9859 - val_loss: 0.0330 - val_accuracy: 0.9907\n",
            "Epoch 5/10\n",
            "4392/4392 [==============================] - 84s 19ms/step - loss: 0.0344 - accuracy: 0.9902 - val_loss: 0.0282 - val_accuracy: 0.9924\n",
            "Epoch 6/10\n",
            "4392/4392 [==============================] - 87s 20ms/step - loss: 0.0276 - accuracy: 0.9925 - val_loss: 0.0259 - val_accuracy: 0.9924\n",
            "Epoch 7/10\n",
            "4392/4392 [==============================] - 86s 19ms/step - loss: 0.0243 - accuracy: 0.9911 - val_loss: 0.0244 - val_accuracy: 0.9932\n",
            "Epoch 8/10\n",
            "4392/4392 [==============================] - 83s 19ms/step - loss: 0.0193 - accuracy: 0.9941 - val_loss: 0.0283 - val_accuracy: 0.9915\n",
            "Epoch 9/10\n",
            "4392/4392 [==============================] - 86s 20ms/step - loss: 0.0146 - accuracy: 0.9961 - val_loss: 0.0362 - val_accuracy: 0.9915\n",
            "Epoch 10/10\n",
            "4392/4392 [==============================] - 82s 19ms/step - loss: 0.0140 - accuracy: 0.9961 - val_loss: 0.0440 - val_accuracy: 0.9907\n"
          ],
          "name": "stdout"
        }
      ]
    },
    {
      "cell_type": "code",
      "metadata": {
        "id": "8rDpqWrHCoNP",
        "colab_type": "code",
        "outputId": "cf301a7d-214b-4598-c508-3c770037aaac",
        "colab": {
          "base_uri": "https://localhost:8080/",
          "height": 381
        }
      },
      "source": [
        "predicts3 = model3.predict(x_test)\n",
        "pred = [np.where(t == np.max(t))[0][0] for t in predicts3]\n",
        "yr = [np.where(t == np.max(t))[0][0] for t in y_test]\n",
        "\n",
        "from sklearn import metrics\n",
        "fpr, tpr, thresholds = metrics.roc_curve(yr, pred, pos_label=1)\n",
        "print(\"AUC : \",metrics.auc(fpr, tpr))\n",
        "\n",
        "from sklearn.metrics import accuracy_score\n",
        "print(\"accuracy : \",accuracy_score(yr,pred))\n",
        "\n",
        "from sklearn.metrics import precision_score\n",
        "print(\"precision : \",precision_score(yr, pred))\n",
        "\n",
        "from sklearn.metrics import recall_score\n",
        "print(\"recall : \" ,recall_score(yr, pred) )\n",
        "\n",
        "from sklearn.metrics import f1_score\n",
        "print(\"F1 : \", f1_score(yr, pred))\n",
        "\n",
        "import matplotlib.pyplot as plt\n",
        "import numpy as np\n",
        "import math\n",
        "hist2=history3.history\n",
        "loss=hist2['loss']\n",
        "val_loss=hist2['val_loss']\n",
        "plt.xlabel('Epochs')\n",
        "plt.ylabel('train loss')\n",
        "plt.plot(loss)\n",
        "\n",
        "plt.xlabel('Epochs')\n",
        "plt.ylabel('test perplexity')\n",
        "plt.plot(val_loss)\n",
        "plt.legend(['train loss','test loss'])"
      ],
      "execution_count": 0,
      "outputs": [
        {
          "output_type": "stream",
          "text": [
            "AUC :  0.977034259823534\n",
            "accuracy :  0.9906779661016949\n",
            "precision :  0.9655172413793104\n",
            "recall :  0.958904109589041\n",
            "F1 :  0.9621993127147767\n"
          ],
          "name": "stdout"
        },
        {
          "output_type": "execute_result",
          "data": {
            "text/plain": [
              "<matplotlib.legend.Legend at 0x7f3e6ce7da90>"
            ]
          },
          "metadata": {
            "tags": []
          },
          "execution_count": 60
        },
        {
          "output_type": "display_data",
          "data": {
            "image/png": "[encoded data removed]",
            "text/plain": [
              "<Figure size 432x288 with 1 Axes>"
            ]
          },
          "metadata": {
            "tags": [],
            "needs_background": "light"
          }
        }
      ]
    },
    {
      "cell_type": "code",
      "metadata": {
        "id": "6DIB2C58CoJf",
        "colab_type": "code",
        "colab": {}
      },
      "source": [
        "def create_model3():\n",
        "  input_text = Input(shape=(1,), dtype=tf.string)\n",
        "  embedding = Lambda(ELMoEmbedding, output_shape=(1024, ))(input_text)\n",
        "  dense = Dense(64, activation='relu')(embedding)\n",
        "  dense2 = Dense(128, activation='relu')(dense)\n",
        "  dense3 = Dense(256, activation='relu')(dense2)\n",
        "  dense4 = Dense(512, activation='relu')(dense3)\n",
        "  dense5 = Dense(1024, activation='relu')(dense4)\n",
        "  pred = Dense(2, activation='softmax')(dense5)\n",
        "  model = Model(inputs=[input_text], outputs=pred)\n",
        "  ada = keras.optimizers.Adam(learning_rate=0.0002, beta_1=0.9, beta_2=0.999, amsgrad=False)\n",
        "  model.compile(loss='categorical_crossentropy', optimizer=ada, metrics=['accuracy'])\n",
        "  return model"
      ],
      "execution_count": 0,
      "outputs": []
    },
    {
      "cell_type": "code",
      "metadata": {
        "id": "ytEC9YzQCn-1",
        "colab_type": "code",
        "outputId": "4672ca69-369b-4def-ae86-05e85d20b101",
        "colab": {
          "base_uri": "https://localhost:8080/",
          "height": 428
        }
      },
      "source": [
        "model4 = create_model3()\n",
        "history4 = model4.fit(x_train, y_train,validation_data = (x_test,y_test), epochs=10, batch_size=200)"
      ],
      "execution_count": 0,
      "outputs": [
        {
          "output_type": "stream",
          "text": [
            "INFO:tensorflow:Saver not created because there are no variables in the graph to restore\n"
          ],
          "name": "stdout"
        },
        {
          "output_type": "stream",
          "text": [
            "INFO:tensorflow:Saver not created because there are no variables in the graph to restore\n"
          ],
          "name": "stderr"
        },
        {
          "output_type": "stream",
          "text": [
            "Train on 4392 samples, validate on 1180 samples\n",
            "Epoch 1/10\n",
            "4392/4392 [==============================] - 87s 20ms/step - loss: 0.3276 - accuracy: 0.8632 - val_loss: 0.2096 - val_accuracy: 0.8763\n",
            "Epoch 2/10\n",
            "4392/4392 [==============================] - 83s 19ms/step - loss: 0.1341 - accuracy: 0.9476 - val_loss: 0.0696 - val_accuracy: 0.9780\n",
            "Epoch 3/10\n",
            "4392/4392 [==============================] - 86s 19ms/step - loss: 0.0766 - accuracy: 0.9756 - val_loss: 0.0644 - val_accuracy: 0.9805\n",
            "Epoch 4/10\n",
            "4392/4392 [==============================] - 85s 19ms/step - loss: 0.0624 - accuracy: 0.9809 - val_loss: 0.0545 - val_accuracy: 0.9839\n",
            "Epoch 5/10\n",
            "4392/4392 [==============================] - 85s 19ms/step - loss: 0.0491 - accuracy: 0.9845 - val_loss: 0.0448 - val_accuracy: 0.9864\n",
            "Epoch 6/10\n",
            "4392/4392 [==============================] - 82s 19ms/step - loss: 0.0433 - accuracy: 0.9859 - val_loss: 0.0364 - val_accuracy: 0.9890\n",
            "Epoch 7/10\n",
            "4392/4392 [==============================] - 86s 20ms/step - loss: 0.0373 - accuracy: 0.9870 - val_loss: 0.0415 - val_accuracy: 0.9873\n",
            "Epoch 8/10\n",
            "4392/4392 [==============================] - 87s 20ms/step - loss: 0.0375 - accuracy: 0.9895 - val_loss: 0.0387 - val_accuracy: 0.9898\n",
            "Epoch 9/10\n",
            "4392/4392 [==============================] - 84s 19ms/step - loss: 0.0316 - accuracy: 0.9900 - val_loss: 0.0411 - val_accuracy: 0.9881\n",
            "Epoch 10/10\n",
            "4392/4392 [==============================] - 83s 19ms/step - loss: 0.0749 - accuracy: 0.9813 - val_loss: 0.0419 - val_accuracy: 0.9864\n"
          ],
          "name": "stdout"
        }
      ]
    },
    {
      "cell_type": "code",
      "metadata": {
        "id": "d7vGZcHDuI8t",
        "colab_type": "code",
        "outputId": "e6e0c8d5-a276-4689-eb28-b92556be0cff",
        "colab": {
          "base_uri": "https://localhost:8080/",
          "height": 381
        }
      },
      "source": [
        "predicts4 = model4.predict(x_test)\n",
        "pred = [np.where(t == np.max(t))[0][0] for t in predicts4]\n",
        "yr = [np.where(t == np.max(t))[0][0] for t in y_test]\n",
        "\n",
        "from sklearn import metrics\n",
        "fpr, tpr, thresholds = metrics.roc_curve(yr, pred, pos_label=1)\n",
        "print(\"AUC : \",metrics.auc(fpr, tpr))\n",
        "\n",
        "from sklearn.metrics import accuracy_score\n",
        "print(\"accuracy : \",accuracy_score(yr,pred))\n",
        "\n",
        "from sklearn.metrics import precision_score\n",
        "print(\"precision : \",precision_score(yr, pred))\n",
        "\n",
        "from sklearn.metrics import recall_score\n",
        "print(\"recall : \" ,recall_score(yr, pred) )\n",
        "\n",
        "from sklearn.metrics import f1_score\n",
        "print(\"F1 : \", f1_score(yr, pred))\n",
        "\n",
        "import matplotlib.pyplot as plt\n",
        "import numpy as np\n",
        "import math\n",
        "hist2=history4.history\n",
        "loss=hist2['loss']\n",
        "val_loss=hist2['val_loss']\n",
        "plt.xlabel('Epochs')\n",
        "plt.ylabel('train loss')\n",
        "plt.plot(loss)\n",
        "\n",
        "plt.xlabel('Epochs')\n",
        "plt.ylabel('test perplexity')\n",
        "plt.plot(val_loss)\n",
        "plt.legend(['train loss','test loss'])"
      ],
      "execution_count": 0,
      "outputs": [
        {
          "output_type": "stream",
          "text": [
            "AUC :  0.9770740043983996\n",
            "accuracy :  0.985593220338983\n",
            "precision :  0.9215686274509803\n",
            "recall :  0.9657534246575342\n",
            "F1 :  0.94314381270903\n"
          ],
          "name": "stdout"
        },
        {
          "output_type": "execute_result",
          "data": {
            "text/plain": [
              "<matplotlib.legend.Legend at 0x7f3e6cdcf978>"
            ]
          },
          "metadata": {
            "tags": []
          },
          "execution_count": 61
        },
        {
          "output_type": "display_data",
          "data": {
            "image/png": "[encoded data removed]",
            "text/plain": [
              "<Figure size 432x288 with 1 Axes>"
            ]
          },
          "metadata": {
            "tags": [],
            "needs_background": "light"
          }
        }
      ]
    },
    {
      "cell_type": "code",
      "metadata": {
        "id": "AKSBie-iaLyc",
        "colab_type": "code",
        "colab": {}
      },
      "source": [
        "def create_model4():\n",
        "  input_text = Input(shape=(1,), dtype=tf.string)\n",
        "  embedding = Lambda(ELMoEmbedding, output_shape=(1024, ))(input_text)\n",
        "  dense = Dense(16, activation='relu')(embedding)\n",
        "  dense1 = Dense(32, activation='relu')(dense)\n",
        "  dense2 = Dense(64, activation='relu')(dense1)\n",
        "  dense3 = Dense(128, activation='relu')(dense2)\n",
        "  dense4 = Dense(256, activation='relu')(dense3)\n",
        "  dense5 = Dense(512, activation='relu')(dense4)\n",
        "  dense6 = Dense(1024, activation='relu')(dense5)\n",
        "  pred = Dense(2, activation='softmax')(dense6)\n",
        "  model = Model(inputs=[input_text], outputs=pred)\n",
        "  ada = keras.optimizers.Adam(learning_rate=0.0002, beta_1=0.9, beta_2=0.999, amsgrad=False)\n",
        "  model.compile(loss='categorical_crossentropy', optimizer=ada, metrics=['accuracy'])\n",
        "  return model"
      ],
      "execution_count": 0,
      "outputs": []
    },
    {
      "cell_type": "code",
      "metadata": {
        "id": "QS_6GU7SbBoa",
        "colab_type": "code",
        "outputId": "f93af6a6-9427-4082-e494-432204f1548e",
        "colab": {
          "base_uri": "https://localhost:8080/",
          "height": 428
        }
      },
      "source": [
        "model5 = create_model4()\n",
        "history5 = model5.fit(x_train, y_train,validation_data = (x_test,y_test), epochs=10, batch_size=200)"
      ],
      "execution_count": 0,
      "outputs": [
        {
          "output_type": "stream",
          "text": [
            "INFO:tensorflow:Saver not created because there are no variables in the graph to restore\n"
          ],
          "name": "stdout"
        },
        {
          "output_type": "stream",
          "text": [
            "INFO:tensorflow:Saver not created because there are no variables in the graph to restore\n"
          ],
          "name": "stderr"
        },
        {
          "output_type": "stream",
          "text": [
            "Train on 4392 samples, validate on 1180 samples\n",
            "Epoch 1/10\n",
            "4392/4392 [==============================] - 88s 20ms/step - loss: 0.4458 - accuracy: 0.8270 - val_loss: 0.2643 - val_accuracy: 0.8763\n",
            "Epoch 2/10\n",
            "4392/4392 [==============================] - 84s 19ms/step - loss: 0.2484 - accuracy: 0.8632 - val_loss: 0.1730 - val_accuracy: 0.8763\n",
            "Epoch 3/10\n",
            "4392/4392 [==============================] - 83s 19ms/step - loss: 0.1460 - accuracy: 0.9392 - val_loss: 0.1161 - val_accuracy: 0.9636\n",
            "Epoch 4/10\n",
            "4392/4392 [==============================] - 84s 19ms/step - loss: 0.1003 - accuracy: 0.9684 - val_loss: 0.0787 - val_accuracy: 0.9771\n",
            "Epoch 5/10\n",
            "4392/4392 [==============================] - 84s 19ms/step - loss: 0.0735 - accuracy: 0.9752 - val_loss: 0.0622 - val_accuracy: 0.9797\n",
            "Epoch 6/10\n",
            "4392/4392 [==============================] - 84s 19ms/step - loss: 0.0704 - accuracy: 0.9784 - val_loss: 0.0679 - val_accuracy: 0.9805\n",
            "Epoch 7/10\n",
            "4392/4392 [==============================] - 85s 19ms/step - loss: 0.0564 - accuracy: 0.9806 - val_loss: 0.0524 - val_accuracy: 0.9822\n",
            "Epoch 8/10\n",
            "4392/4392 [==============================] - 86s 20ms/step - loss: 0.0520 - accuracy: 0.9820 - val_loss: 0.0432 - val_accuracy: 0.9890\n",
            "Epoch 9/10\n",
            "4392/4392 [==============================] - 82s 19ms/step - loss: 0.0462 - accuracy: 0.9861 - val_loss: 0.0410 - val_accuracy: 0.9881\n",
            "Epoch 10/10\n",
            "4392/4392 [==============================] - 83s 19ms/step - loss: 0.0460 - accuracy: 0.9857 - val_loss: 0.0657 - val_accuracy: 0.9805\n"
          ],
          "name": "stdout"
        }
      ]
    },
    {
      "cell_type": "code",
      "metadata": {
        "id": "nLtrEGJwbHYd",
        "colab_type": "code",
        "outputId": "57a110f6-17e5-4edb-e921-2db716db2bf9",
        "colab": {
          "base_uri": "https://localhost:8080/",
          "height": 381
        }
      },
      "source": [
        "predicts5 = model5.predict(x_test)\n",
        "pred = [np.where(t == np.max(t))[0][0] for t in predicts5]\n",
        "yr = [np.where(t == np.max(t))[0][0] for t in y_test]\n",
        "\n",
        "from sklearn import metrics\n",
        "fpr, tpr, thresholds = metrics.roc_curve(yr, pred, pos_label=1)\n",
        "print(\"AUC : \",metrics.auc(fpr, tpr))\n",
        "\n",
        "from sklearn.metrics import accuracy_score\n",
        "print(\"accuracy : \",accuracy_score(yr,pred))\n",
        "\n",
        "from sklearn.metrics import precision_score\n",
        "print(\"precision : \",precision_score(yr, pred))\n",
        "\n",
        "from sklearn.metrics import recall_score\n",
        "print(\"recall : \" ,recall_score(yr, pred) )\n",
        "\n",
        "from sklearn.metrics import f1_score\n",
        "print(\"F1 : \", f1_score(yr, pred))\n",
        "\n",
        "import matplotlib.pyplot as plt\n",
        "import numpy as np\n",
        "import math\n",
        "hist2=history5.history\n",
        "loss=hist2['loss']\n",
        "val_loss=hist2['val_loss']\n",
        "plt.xlabel('Epochs')\n",
        "plt.ylabel('train loss')\n",
        "plt.plot(loss)\n",
        "\n",
        "plt.xlabel('Epochs')\n",
        "plt.ylabel('test perplexity')\n",
        "plt.plot(val_loss)\n",
        "plt.legend(['train loss','test loss'])"
      ],
      "execution_count": 0,
      "outputs": [
        {
          "output_type": "stream",
          "text": [
            "AUC :  0.9727219734506241\n",
            "accuracy :  0.9779661016949153\n",
            "precision :  0.8703703703703703\n",
            "recall :  0.9657534246575342\n",
            "F1 :  0.9155844155844156\n"
          ],
          "name": "stdout"
        },
        {
          "output_type": "execute_result",
          "data": {
            "text/plain": [
              "<matplotlib.legend.Legend at 0x7f3e6c0c4ef0>"
            ]
          },
          "metadata": {
            "tags": []
          },
          "execution_count": 66
        },
        {
          "output_type": "display_data",
          "data": {
            "image/png": "[encoded data removed]",
            "text/plain": [
              "<Figure size 432x288 with 1 Axes>"
            ]
          },
          "metadata": {
            "tags": [],
            "needs_background": "light"
          }
        }
      ]
    },
    {
      "cell_type": "code",
      "metadata": {
        "id": "_TzpreUmew7c",
        "colab_type": "code",
        "colab": {}
      },
      "source": [
        ""
      ],
      "execution_count": 0,
      "outputs": []
    }
  ]
}