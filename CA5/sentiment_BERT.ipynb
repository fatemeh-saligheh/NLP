{
  "nbformat": 4,
  "nbformat_minor": 0,
  "metadata": {
    "colab": {
      "name": "sentiment_BERT_(1).ipynb",
      "provenance": [],
      "collapsed_sections": [],
      "machine_shape": "hm"
    },
    "kernelspec": {
      "name": "python3",
      "display_name": "Python 3"
    },
    "accelerator": "GPU",
    "widgets": {
      "application/vnd.jupyter.widget-state+json": {
        "6df374399ca24277a155f8567797e7ec": {
          "model_module": "@jupyter-widgets/controls",
          "model_name": "HBoxModel",
          "state": {
            "_view_name": "HBoxView",
            "_dom_classes": [],
            "_model_name": "HBoxModel",
            "_view_module": "@jupyter-widgets/controls",
            "_model_module_version": "1.5.0",
            "_view_count": null,
            "_view_module_version": "1.5.0",
            "box_style": "",
            "layout": "IPY_MODEL_6d4162ac4fc24b26a29af0bf0caa464c",
            "_model_module": "@jupyter-widgets/controls",
            "children": [
              "IPY_MODEL_26bafc6291a34ba696e93c30116c79c7",
              "IPY_MODEL_92a862b7e74540b3983eb0316de0c693"
            ]
          }
        },
        "6d4162ac4fc24b26a29af0bf0caa464c": {
          "model_module": "@jupyter-widgets/base",
          "model_name": "LayoutModel",
          "state": {
            "_view_name": "LayoutView",
            "grid_template_rows": null,
            "right": null,
            "justify_content": null,
            "_view_module": "@jupyter-widgets/base",
            "overflow": null,
            "_model_module_version": "1.2.0",
            "_view_count": null,
            "flex_flow": null,
            "width": null,
            "min_width": null,
            "border": null,
            "align_items": null,
            "bottom": null,
            "_model_module": "@jupyter-widgets/base",
            "top": null,
            "grid_column": null,
            "overflow_y": null,
            "overflow_x": null,
            "grid_auto_flow": null,
            "grid_area": null,
            "grid_template_columns": null,
            "flex": null,
            "_model_name": "LayoutModel",
            "justify_items": null,
            "grid_row": null,
            "max_height": null,
            "align_content": null,
            "visibility": null,
            "align_self": null,
            "height": null,
            "min_height": null,
            "padding": null,
            "grid_auto_rows": null,
            "grid_gap": null,
            "max_width": null,
            "order": null,
            "_view_module_version": "1.2.0",
            "grid_template_areas": null,
            "object_position": null,
            "object_fit": null,
            "grid_auto_columns": null,
            "margin": null,
            "display": null,
            "left": null
          }
        },
        "26bafc6291a34ba696e93c30116c79c7": {
          "model_module": "@jupyter-widgets/controls",
          "model_name": "IntProgressModel",
          "state": {
            "_view_name": "ProgressView",
            "style": "IPY_MODEL_8b7700db782a43a5a46b9eaf91244de4",
            "_dom_classes": [],
            "description": "Downloading: 100%",
            "_model_name": "IntProgressModel",
            "bar_style": "success",
            "max": 213450,
            "_view_module": "@jupyter-widgets/controls",
            "_model_module_version": "1.5.0",
            "value": 213450,
            "_view_count": null,
            "_view_module_version": "1.5.0",
            "orientation": "horizontal",
            "min": 0,
            "description_tooltip": null,
            "_model_module": "@jupyter-widgets/controls",
            "layout": "IPY_MODEL_cbbca02012f24bec83045f0f7b56eb17"
          }
        },
        "92a862b7e74540b3983eb0316de0c693": {
          "model_module": "@jupyter-widgets/controls",
          "model_name": "HTMLModel",
          "state": {
            "_view_name": "HTMLView",
            "style": "IPY_MODEL_787756eba7274eeca0b1883e056c537a",
            "_dom_classes": [],
            "description": "",
            "_model_name": "HTMLModel",
            "placeholder": "​",
            "_view_module": "@jupyter-widgets/controls",
            "_model_module_version": "1.5.0",
            "value": " 213k/213k [00:17&lt;00:00, 12.0kB/s]",
            "_view_count": null,
            "_view_module_version": "1.5.0",
            "description_tooltip": null,
            "_model_module": "@jupyter-widgets/controls",
            "layout": "IPY_MODEL_f5ee9df050a343209ca2176c1017fa56"
          }
        },
        "8b7700db782a43a5a46b9eaf91244de4": {
          "model_module": "@jupyter-widgets/controls",
          "model_name": "ProgressStyleModel",
          "state": {
            "_view_name": "StyleView",
            "_model_name": "ProgressStyleModel",
            "description_width": "initial",
            "_view_module": "@jupyter-widgets/base",
            "_model_module_version": "1.5.0",
            "_view_count": null,
            "_view_module_version": "1.2.0",
            "bar_color": null,
            "_model_module": "@jupyter-widgets/controls"
          }
        },
        "cbbca02012f24bec83045f0f7b56eb17": {
          "model_module": "@jupyter-widgets/base",
          "model_name": "LayoutModel",
          "state": {
            "_view_name": "LayoutView",
            "grid_template_rows": null,
            "right": null,
            "justify_content": null,
            "_view_module": "@jupyter-widgets/base",
            "overflow": null,
            "_model_module_version": "1.2.0",
            "_view_count": null,
            "flex_flow": null,
            "width": null,
            "min_width": null,
            "border": null,
            "align_items": null,
            "bottom": null,
            "_model_module": "@jupyter-widgets/base",
            "top": null,
            "grid_column": null,
            "overflow_y": null,
            "overflow_x": null,
            "grid_auto_flow": null,
            "grid_area": null,
            "grid_template_columns": null,
            "flex": null,
            "_model_name": "LayoutModel",
            "justify_items": null,
            "grid_row": null,
            "max_height": null,
            "align_content": null,
            "visibility": null,
            "align_self": null,
            "height": null,
            "min_height": null,
            "padding": null,
            "grid_auto_rows": null,
            "grid_gap": null,
            "max_width": null,
            "order": null,
            "_view_module_version": "1.2.0",
            "grid_template_areas": null,
            "object_position": null,
            "object_fit": null,
            "grid_auto_columns": null,
            "margin": null,
            "display": null,
            "left": null
          }
        },
        "787756eba7274eeca0b1883e056c537a": {
          "model_module": "@jupyter-widgets/controls",
          "model_name": "DescriptionStyleModel",
          "state": {
            "_view_name": "StyleView",
            "_model_name": "DescriptionStyleModel",
            "description_width": "",
            "_view_module": "@jupyter-widgets/base",
            "_model_module_version": "1.5.0",
            "_view_count": null,
            "_view_module_version": "1.2.0",
            "_model_module": "@jupyter-widgets/controls"
          }
        },
        "f5ee9df050a343209ca2176c1017fa56": {
          "model_module": "@jupyter-widgets/base",
          "model_name": "LayoutModel",
          "state": {
            "_view_name": "LayoutView",
            "grid_template_rows": null,
            "right": null,
            "justify_content": null,
            "_view_module": "@jupyter-widgets/base",
            "overflow": null,
            "_model_module_version": "1.2.0",
            "_view_count": null,
            "flex_flow": null,
            "width": null,
            "min_width": null,
            "border": null,
            "align_items": null,
            "bottom": null,
            "_model_module": "@jupyter-widgets/base",
            "top": null,
            "grid_column": null,
            "overflow_y": null,
            "overflow_x": null,
            "grid_auto_flow": null,
            "grid_area": null,
            "grid_template_columns": null,
            "flex": null,
            "_model_name": "LayoutModel",
            "justify_items": null,
            "grid_row": null,
            "max_height": null,
            "align_content": null,
            "visibility": null,
            "align_self": null,
            "height": null,
            "min_height": null,
            "padding": null,
            "grid_auto_rows": null,
            "grid_gap": null,
            "max_width": null,
            "order": null,
            "_view_module_version": "1.2.0",
            "grid_template_areas": null,
            "object_position": null,
            "object_fit": null,
            "grid_auto_columns": null,
            "margin": null,
            "display": null,
            "left": null
          }
        }
      }
    }
  },
  "cells": [
    {
      "cell_type": "code",
      "metadata": {
        "id": "fon-5QMV3Zao",
        "colab_type": "code",
        "outputId": "e09710c6-f8fc-462b-ac23-a8967ce3ea92",
        "colab": {
          "base_uri": "https://localhost:8080/",
          "height": 1000
        }
      },
      "source": [
        "import glob\n",
        "import os\n",
        "import re\n",
        "from nltk.tokenize import word_tokenize\n",
        "import nltk\n",
        "import tarfile\n",
        "nltk.download('punkt')\n",
        "!pip install tensorflow==1.15\n",
        "!pip install \"tensorflow_hub>=0.6.0\"\n",
        "!pip3 install tensorflow_text==1.15\n",
        "\n",
        "import tensorflow as tf\n",
        "import tensorflow_hub as hub\n",
        "import pandas as pd\n",
        "from sklearn import preprocessing\n",
        "import keras\n",
        "import numpy as np\n",
        "\n",
        "from keras.layers import Input, Lambda, Dense\n",
        "from keras.models import Model\n",
        "import keras.backend as K\n",
        "!pip install keras_metrics\n",
        "import keras_metrics\n",
        "!pip install transformers\n",
        "from transformers import BertTokenizer"
      ],
      "execution_count": 1,
      "outputs": [
        {
          "output_type": "stream",
          "text": [
            "[nltk_data] Downloading package punkt to /root/nltk_data...\n",
            "[nltk_data]   Unzipping tokenizers/punkt.zip.\n",
            "Collecting tensorflow==1.15\n",
            "\u001b[?25l  Downloading https://files.pythonhosted.org/packages/3f/98/5a99af92fb911d7a88a0005ad55005f35b4c1ba8d75fba02df726cd936e6/tensorflow-1.15.0-cp36-cp36m-manylinux2010_x86_64.whl (412.3MB)\n",
            "\u001b[K     |████████████████████████████████| 412.3MB 39kB/s \n",
            "\u001b[?25hRequirement already satisfied: wrapt>=1.11.1 in /usr/local/lib/python3.6/dist-packages (from tensorflow==1.15) (1.12.1)\n",
            "Requirement already satisfied: google-pasta>=0.1.6 in /usr/local/lib/python3.6/dist-packages (from tensorflow==1.15) (0.2.0)\n",
            "Requirement already satisfied: astor>=0.6.0 in /usr/local/lib/python3.6/dist-packages (from tensorflow==1.15) (0.8.1)\n",
            "Requirement already satisfied: termcolor>=1.1.0 in /usr/local/lib/python3.6/dist-packages (from tensorflow==1.15) (1.1.0)\n",
            "Requirement already satisfied: wheel>=0.26 in /usr/local/lib/python3.6/dist-packages (from tensorflow==1.15) (0.34.2)\n",
            "Requirement already satisfied: protobuf>=3.6.1 in /usr/local/lib/python3.6/dist-packages (from tensorflow==1.15) (3.10.0)\n",
            "Requirement already satisfied: numpy<2.0,>=1.16.0 in /usr/local/lib/python3.6/dist-packages (from tensorflow==1.15) (1.18.3)\n",
            "Collecting tensorboard<1.16.0,>=1.15.0\n",
            "\u001b[?25l  Downloading https://files.pythonhosted.org/packages/1e/e9/d3d747a97f7188f48aa5eda486907f3b345cd409f0a0850468ba867db246/tensorboard-1.15.0-py3-none-any.whl (3.8MB)\n",
            "\u001b[K     |████████████████████████████████| 3.8MB 40.0MB/s \n",
            "\u001b[?25hRequirement already satisfied: six>=1.10.0 in /usr/local/lib/python3.6/dist-packages (from tensorflow==1.15) (1.12.0)\n",
            "Requirement already satisfied: keras-preprocessing>=1.0.5 in /usr/local/lib/python3.6/dist-packages (from tensorflow==1.15) (1.1.0)\n",
            "Requirement already satisfied: opt-einsum>=2.3.2 in /usr/local/lib/python3.6/dist-packages (from tensorflow==1.15) (3.2.1)\n",
            "Requirement already satisfied: absl-py>=0.7.0 in /usr/local/lib/python3.6/dist-packages (from tensorflow==1.15) (0.9.0)\n",
            "Requirement already satisfied: grpcio>=1.8.6 in /usr/local/lib/python3.6/dist-packages (from tensorflow==1.15) (1.28.1)\n",
            "Collecting gast==0.2.2\n",
            "  Downloading https://files.pythonhosted.org/packages/4e/35/11749bf99b2d4e3cceb4d55ca22590b0d7c2c62b9de38ac4a4a7f4687421/gast-0.2.2.tar.gz\n",
            "Requirement already satisfied: keras-applications>=1.0.8 in /usr/local/lib/python3.6/dist-packages (from tensorflow==1.15) (1.0.8)\n",
            "Collecting tensorflow-estimator==1.15.1\n",
            "\u001b[?25l  Downloading https://files.pythonhosted.org/packages/de/62/2ee9cd74c9fa2fa450877847ba560b260f5d0fb70ee0595203082dafcc9d/tensorflow_estimator-1.15.1-py2.py3-none-any.whl (503kB)\n",
            "\u001b[K     |████████████████████████████████| 512kB 43.3MB/s \n",
            "\u001b[?25hRequirement already satisfied: setuptools in /usr/local/lib/python3.6/dist-packages (from protobuf>=3.6.1->tensorflow==1.15) (46.1.3)\n",
            "Requirement already satisfied: werkzeug>=0.11.15 in /usr/local/lib/python3.6/dist-packages (from tensorboard<1.16.0,>=1.15.0->tensorflow==1.15) (1.0.1)\n",
            "Requirement already satisfied: markdown>=2.6.8 in /usr/local/lib/python3.6/dist-packages (from tensorboard<1.16.0,>=1.15.0->tensorflow==1.15) (3.2.1)\n",
            "Requirement already satisfied: h5py in /usr/local/lib/python3.6/dist-packages (from keras-applications>=1.0.8->tensorflow==1.15) (2.10.0)\n",
            "Building wheels for collected packages: gast\n",
            "  Building wheel for gast (setup.py) ... \u001b[?25l\u001b[?25hdone\n",
            "  Created wheel for gast: filename=gast-0.2.2-cp36-none-any.whl size=7540 sha256=ec7cc90f5c8f6fb70fe15a510655dcea61c397d7339e3b7f22ac645c00727bbf\n",
            "  Stored in directory: /root/.cache/pip/wheels/5c/2e/7e/a1d4d4fcebe6c381f378ce7743a3ced3699feb89bcfbdadadd\n",
            "Successfully built gast\n",
            "\u001b[31mERROR: tensorflow-probability 0.10.0rc0 has requirement gast>=0.3.2, but you'll have gast 0.2.2 which is incompatible.\u001b[0m\n",
            "Installing collected packages: tensorboard, gast, tensorflow-estimator, tensorflow\n",
            "  Found existing installation: tensorboard 2.2.1\n",
            "    Uninstalling tensorboard-2.2.1:\n",
            "      Successfully uninstalled tensorboard-2.2.1\n",
            "  Found existing installation: gast 0.3.3\n",
            "    Uninstalling gast-0.3.3:\n",
            "      Successfully uninstalled gast-0.3.3\n",
            "  Found existing installation: tensorflow-estimator 2.2.0\n",
            "    Uninstalling tensorflow-estimator-2.2.0:\n",
            "      Successfully uninstalled tensorflow-estimator-2.2.0\n",
            "  Found existing installation: tensorflow 2.2.0rc4\n",
            "    Uninstalling tensorflow-2.2.0rc4:\n",
            "      Successfully uninstalled tensorflow-2.2.0rc4\n",
            "Successfully installed gast-0.2.2 tensorboard-1.15.0 tensorflow-1.15.0 tensorflow-estimator-1.15.1\n",
            "Requirement already satisfied: tensorflow_hub>=0.6.0 in /usr/local/lib/python3.6/dist-packages (0.8.0)\n",
            "Requirement already satisfied: six>=1.12.0 in /usr/local/lib/python3.6/dist-packages (from tensorflow_hub>=0.6.0) (1.12.0)\n",
            "Requirement already satisfied: protobuf>=3.8.0 in /usr/local/lib/python3.6/dist-packages (from tensorflow_hub>=0.6.0) (3.10.0)\n",
            "Requirement already satisfied: numpy>=1.12.0 in /usr/local/lib/python3.6/dist-packages (from tensorflow_hub>=0.6.0) (1.18.3)\n",
            "Requirement already satisfied: setuptools in /usr/local/lib/python3.6/dist-packages (from protobuf>=3.8.0->tensorflow_hub>=0.6.0) (46.1.3)\n",
            "Collecting tensorflow_text==1.15\n",
            "\u001b[?25l  Downloading https://files.pythonhosted.org/packages/44/61/9569353ce3efb8ee818d0d2e2f67afbb19e1e3a56eba3a93986e92949003/tensorflow_text-1.15.0-cp36-cp36m-manylinux1_x86_64.whl (9.1MB)\n",
            "\u001b[K     |████████████████████████████████| 9.1MB 3.3MB/s \n",
            "\u001b[?25hRequirement already satisfied: tensorflow<1.16,>=1.15.0 in /usr/local/lib/python3.6/dist-packages (from tensorflow_text==1.15) (1.15.0)\n",
            "Requirement already satisfied: numpy<2.0,>=1.16.0 in /usr/local/lib/python3.6/dist-packages (from tensorflow<1.16,>=1.15.0->tensorflow_text==1.15) (1.18.3)\n",
            "Requirement already satisfied: protobuf>=3.6.1 in /usr/local/lib/python3.6/dist-packages (from tensorflow<1.16,>=1.15.0->tensorflow_text==1.15) (3.10.0)\n",
            "Requirement already satisfied: gast==0.2.2 in /usr/local/lib/python3.6/dist-packages (from tensorflow<1.16,>=1.15.0->tensorflow_text==1.15) (0.2.2)\n",
            "Requirement already satisfied: grpcio>=1.8.6 in /usr/local/lib/python3.6/dist-packages (from tensorflow<1.16,>=1.15.0->tensorflow_text==1.15) (1.28.1)\n",
            "Requirement already satisfied: keras-preprocessing>=1.0.5 in /usr/local/lib/python3.6/dist-packages (from tensorflow<1.16,>=1.15.0->tensorflow_text==1.15) (1.1.0)\n",
            "Requirement already satisfied: tensorboard<1.16.0,>=1.15.0 in /usr/local/lib/python3.6/dist-packages (from tensorflow<1.16,>=1.15.0->tensorflow_text==1.15) (1.15.0)\n",
            "Requirement already satisfied: astor>=0.6.0 in /usr/local/lib/python3.6/dist-packages (from tensorflow<1.16,>=1.15.0->tensorflow_text==1.15) (0.8.1)\n",
            "Requirement already satisfied: opt-einsum>=2.3.2 in /usr/local/lib/python3.6/dist-packages (from tensorflow<1.16,>=1.15.0->tensorflow_text==1.15) (3.2.1)\n",
            "Requirement already satisfied: tensorflow-estimator==1.15.1 in /usr/local/lib/python3.6/dist-packages (from tensorflow<1.16,>=1.15.0->tensorflow_text==1.15) (1.15.1)\n",
            "Requirement already satisfied: google-pasta>=0.1.6 in /usr/local/lib/python3.6/dist-packages (from tensorflow<1.16,>=1.15.0->tensorflow_text==1.15) (0.2.0)\n",
            "Requirement already satisfied: termcolor>=1.1.0 in /usr/local/lib/python3.6/dist-packages (from tensorflow<1.16,>=1.15.0->tensorflow_text==1.15) (1.1.0)\n",
            "Requirement already satisfied: wheel>=0.26 in /usr/local/lib/python3.6/dist-packages (from tensorflow<1.16,>=1.15.0->tensorflow_text==1.15) (0.34.2)\n",
            "Requirement already satisfied: six>=1.10.0 in /usr/local/lib/python3.6/dist-packages (from tensorflow<1.16,>=1.15.0->tensorflow_text==1.15) (1.12.0)\n",
            "Requirement already satisfied: wrapt>=1.11.1 in /usr/local/lib/python3.6/dist-packages (from tensorflow<1.16,>=1.15.0->tensorflow_text==1.15) (1.12.1)\n",
            "Requirement already satisfied: keras-applications>=1.0.8 in /usr/local/lib/python3.6/dist-packages (from tensorflow<1.16,>=1.15.0->tensorflow_text==1.15) (1.0.8)\n",
            "Requirement already satisfied: absl-py>=0.7.0 in /usr/local/lib/python3.6/dist-packages (from tensorflow<1.16,>=1.15.0->tensorflow_text==1.15) (0.9.0)\n",
            "Requirement already satisfied: setuptools in /usr/local/lib/python3.6/dist-packages (from protobuf>=3.6.1->tensorflow<1.16,>=1.15.0->tensorflow_text==1.15) (46.1.3)\n",
            "Requirement already satisfied: markdown>=2.6.8 in /usr/local/lib/python3.6/dist-packages (from tensorboard<1.16.0,>=1.15.0->tensorflow<1.16,>=1.15.0->tensorflow_text==1.15) (3.2.1)\n",
            "Requirement already satisfied: werkzeug>=0.11.15 in /usr/local/lib/python3.6/dist-packages (from tensorboard<1.16.0,>=1.15.0->tensorflow<1.16,>=1.15.0->tensorflow_text==1.15) (1.0.1)\n",
            "Requirement already satisfied: h5py in /usr/local/lib/python3.6/dist-packages (from keras-applications>=1.0.8->tensorflow<1.16,>=1.15.0->tensorflow_text==1.15) (2.10.0)\n",
            "Installing collected packages: tensorflow-text\n",
            "Successfully installed tensorflow-text-1.15.0\n"
          ],
          "name": "stdout"
        },
        {
          "output_type": "stream",
          "text": [
            "Using TensorFlow backend.\n"
          ],
          "name": "stderr"
        },
        {
          "output_type": "stream",
          "text": [
            "Collecting keras_metrics\n",
            "  Downloading https://files.pythonhosted.org/packages/32/c9/a87420da8e73de944e63a8e9cdcfb1f03ca31a7c4cdcdbd45d2cdf13275a/keras_metrics-1.1.0-py2.py3-none-any.whl\n",
            "Requirement already satisfied: Keras>=2.1.5 in /usr/local/lib/python3.6/dist-packages (from keras_metrics) (2.3.1)\n",
            "Requirement already satisfied: keras-preprocessing>=1.0.5 in /usr/local/lib/python3.6/dist-packages (from Keras>=2.1.5->keras_metrics) (1.1.0)\n",
            "Requirement already satisfied: pyyaml in /usr/local/lib/python3.6/dist-packages (from Keras>=2.1.5->keras_metrics) (3.13)\n",
            "Requirement already satisfied: six>=1.9.0 in /usr/local/lib/python3.6/dist-packages (from Keras>=2.1.5->keras_metrics) (1.12.0)\n",
            "Requirement already satisfied: numpy>=1.9.1 in /usr/local/lib/python3.6/dist-packages (from Keras>=2.1.5->keras_metrics) (1.18.3)\n",
            "Requirement already satisfied: h5py in /usr/local/lib/python3.6/dist-packages (from Keras>=2.1.5->keras_metrics) (2.10.0)\n",
            "Requirement already satisfied: keras-applications>=1.0.6 in /usr/local/lib/python3.6/dist-packages (from Keras>=2.1.5->keras_metrics) (1.0.8)\n",
            "Requirement already satisfied: scipy>=0.14 in /usr/local/lib/python3.6/dist-packages (from Keras>=2.1.5->keras_metrics) (1.4.1)\n",
            "Installing collected packages: keras-metrics\n",
            "Successfully installed keras-metrics-1.1.0\n",
            "Collecting transformers\n",
            "\u001b[?25l  Downloading https://files.pythonhosted.org/packages/cd/38/c9527aa055241c66c4d785381eaf6f80a28c224cae97daa1f8b183b5fabb/transformers-2.9.0-py3-none-any.whl (635kB)\n",
            "\u001b[K     |████████████████████████████████| 645kB 3.3MB/s \n",
            "\u001b[?25hRequirement already satisfied: filelock in /usr/local/lib/python3.6/dist-packages (from transformers) (3.0.12)\n",
            "Requirement already satisfied: tqdm>=4.27 in /usr/local/lib/python3.6/dist-packages (from transformers) (4.38.0)\n",
            "Requirement already satisfied: requests in /usr/local/lib/python3.6/dist-packages (from transformers) (2.23.0)\n",
            "Requirement already satisfied: numpy in /usr/local/lib/python3.6/dist-packages (from transformers) (1.18.3)\n",
            "Collecting sentencepiece\n",
            "\u001b[?25l  Downloading https://files.pythonhosted.org/packages/98/2c/8df20f3ac6c22ac224fff307ebc102818206c53fc454ecd37d8ac2060df5/sentencepiece-0.1.86-cp36-cp36m-manylinux1_x86_64.whl (1.0MB)\n",
            "\u001b[K     |████████████████████████████████| 1.0MB 8.6MB/s \n",
            "\u001b[?25hCollecting sacremoses\n",
            "\u001b[?25l  Downloading https://files.pythonhosted.org/packages/7d/34/09d19aff26edcc8eb2a01bed8e98f13a1537005d31e95233fd48216eed10/sacremoses-0.0.43.tar.gz (883kB)\n",
            "\u001b[K     |████████████████████████████████| 890kB 19.8MB/s \n",
            "\u001b[?25hRequirement already satisfied: regex!=2019.12.17 in /usr/local/lib/python3.6/dist-packages (from transformers) (2019.12.20)\n",
            "Collecting tokenizers==0.7.0\n",
            "\u001b[?25l  Downloading https://files.pythonhosted.org/packages/14/e5/a26eb4716523808bb0a799fcfdceb6ebf77a18169d9591b2f46a9adb87d9/tokenizers-0.7.0-cp36-cp36m-manylinux1_x86_64.whl (3.8MB)\n",
            "\u001b[K     |████████████████████████████████| 3.8MB 21.4MB/s \n",
            "\u001b[?25hRequirement already satisfied: dataclasses; python_version < \"3.7\" in /usr/local/lib/python3.6/dist-packages (from transformers) (0.7)\n",
            "Requirement already satisfied: chardet<4,>=3.0.2 in /usr/local/lib/python3.6/dist-packages (from requests->transformers) (3.0.4)\n",
            "Requirement already satisfied: idna<3,>=2.5 in /usr/local/lib/python3.6/dist-packages (from requests->transformers) (2.9)\n",
            "Requirement already satisfied: certifi>=2017.4.17 in /usr/local/lib/python3.6/dist-packages (from requests->transformers) (2020.4.5.1)\n",
            "Requirement already satisfied: urllib3!=1.25.0,!=1.25.1,<1.26,>=1.21.1 in /usr/local/lib/python3.6/dist-packages (from requests->transformers) (1.24.3)\n",
            "Requirement already satisfied: six in /usr/local/lib/python3.6/dist-packages (from sacremoses->transformers) (1.12.0)\n",
            "Requirement already satisfied: click in /usr/local/lib/python3.6/dist-packages (from sacremoses->transformers) (7.1.2)\n",
            "Requirement already satisfied: joblib in /usr/local/lib/python3.6/dist-packages (from sacremoses->transformers) (0.14.1)\n",
            "Building wheels for collected packages: sacremoses\n",
            "  Building wheel for sacremoses (setup.py) ... \u001b[?25l\u001b[?25hdone\n",
            "  Created wheel for sacremoses: filename=sacremoses-0.0.43-cp36-none-any.whl size=893260 sha256=0bd2e6e211638dcfc751726fb3c1691790dbff428cacc03fdfe00cd38a2b365a\n",
            "  Stored in directory: /root/.cache/pip/wheels/29/3c/fd/7ce5c3f0666dab31a50123635e6fb5e19ceb42ce38d4e58f45\n",
            "Successfully built sacremoses\n",
            "Installing collected packages: sentencepiece, sacremoses, tokenizers, transformers\n",
            "Successfully installed sacremoses-0.0.43 sentencepiece-0.1.86 tokenizers-0.7.0 transformers-2.9.0\n"
          ],
          "name": "stdout"
        }
      ]
    },
    {
      "cell_type": "code",
      "metadata": {
        "id": "b-dsssgoAJ_t",
        "colab_type": "code",
        "outputId": "c0dbd1e2-27f4-44d0-fc43-68258750b9ae",
        "colab": {
          "base_uri": "https://localhost:8080/",
          "height": 173
        }
      },
      "source": [
        "!pip install bert-tensorflow\n",
        "from sklearn.model_selection import train_test_split\n",
        "import pandas as pd\n",
        "import tensorflow as tf\n",
        "import tensorflow_hub as hub\n",
        "from datetime import datetime\n",
        "import bert\n",
        "from bert import run_classifier\n",
        "from bert import optimization\n",
        "from bert import tokenization\n",
        "from tensorflow import keras\n",
        "import os\n",
        "import re"
      ],
      "execution_count": 2,
      "outputs": [
        {
          "output_type": "stream",
          "text": [
            "Collecting bert-tensorflow\n",
            "\u001b[?25l  Downloading https://files.pythonhosted.org/packages/a6/66/7eb4e8b6ea35b7cc54c322c816f976167a43019750279a8473d355800a93/bert_tensorflow-1.0.1-py2.py3-none-any.whl (67kB)\n",
            "\r\u001b[K     |████▉                           | 10kB 19.5MB/s eta 0:00:01\r\u001b[K     |█████████▊                      | 20kB 2.2MB/s eta 0:00:01\r\u001b[K     |██████████████▋                 | 30kB 2.7MB/s eta 0:00:01\r\u001b[K     |███████████████████▍            | 40kB 2.1MB/s eta 0:00:01\r\u001b[K     |████████████████████████▎       | 51kB 2.3MB/s eta 0:00:01\r\u001b[K     |█████████████████████████████▏  | 61kB 2.7MB/s eta 0:00:01\r\u001b[K     |████████████████████████████████| 71kB 2.4MB/s \n",
            "\u001b[?25hRequirement already satisfied: six in /usr/local/lib/python3.6/dist-packages (from bert-tensorflow) (1.12.0)\n",
            "Installing collected packages: bert-tensorflow\n",
            "Successfully installed bert-tensorflow-1.0.1\n",
            "WARNING:tensorflow:From /usr/local/lib/python3.6/dist-packages/bert/optimization.py:87: The name tf.train.Optimizer is deprecated. Please use tf.compat.v1.train.Optimizer instead.\n",
            "\n"
          ],
          "name": "stdout"
        }
      ]
    },
    {
      "cell_type": "code",
      "metadata": {
        "id": "n-KQNz7ymQ2P",
        "colab_type": "code",
        "outputId": "c64ec96c-b4c1-4cfc-ddfd-2006367bc025",
        "colab": {
          "base_uri": "https://localhost:8080/",
          "height": 153
        }
      },
      "source": [
        "!pip install keras --upgrade"
      ],
      "execution_count": 0,
      "outputs": [
        {
          "output_type": "stream",
          "text": [
            "Requirement already up-to-date: keras in /usr/local/lib/python3.6/dist-packages (2.3.1)\n",
            "Requirement already satisfied, skipping upgrade: scipy>=0.14 in /usr/local/lib/python3.6/dist-packages (from keras) (1.4.1)\n",
            "Requirement already satisfied, skipping upgrade: pyyaml in /usr/local/lib/python3.6/dist-packages (from keras) (3.13)\n",
            "Requirement already satisfied, skipping upgrade: six>=1.9.0 in /usr/local/lib/python3.6/dist-packages (from keras) (1.12.0)\n",
            "Requirement already satisfied, skipping upgrade: h5py in /usr/local/lib/python3.6/dist-packages (from keras) (2.10.0)\n",
            "Requirement already satisfied, skipping upgrade: keras-preprocessing>=1.0.5 in /usr/local/lib/python3.6/dist-packages (from keras) (1.1.0)\n",
            "Requirement already satisfied, skipping upgrade: numpy>=1.9.1 in /usr/local/lib/python3.6/dist-packages (from keras) (1.18.3)\n",
            "Requirement already satisfied, skipping upgrade: keras-applications>=1.0.6 in /usr/local/lib/python3.6/dist-packages (from keras) (1.0.8)\n"
          ],
          "name": "stdout"
        }
      ]
    },
    {
      "cell_type": "markdown",
      "metadata": {
        "id": "mSisdmGcDIz5",
        "colab_type": "text"
      },
      "source": [
        "# **loading data and preprocess**"
      ]
    },
    {
      "cell_type": "code",
      "metadata": {
        "id": "YIAmu0uc0rTN",
        "colab_type": "code",
        "colab": {}
      },
      "source": [
        "!pip install -U -q PyDrive\n",
        "from pydrive.auth import GoogleAuth\n",
        "from pydrive.drive import GoogleDrive\n",
        "from google.colab import auth\n",
        "from oauth2client.client import GoogleCredentials\n",
        "# Authenticate and create the PyDrive client.\n",
        "auth.authenticate_user()\n",
        "gauth = GoogleAuth()\n",
        "gauth.credentials = GoogleCredentials.get_application_default()\n",
        "drive = GoogleDrive(gauth)"
      ],
      "execution_count": 0,
      "outputs": []
    },
    {
      "cell_type": "code",
      "metadata": {
        "id": "YB9QE0TJ04Dk",
        "colab_type": "code",
        "outputId": "7590ed7f-b43e-4293-866d-4ca77f5b68f1",
        "colab": {
          "base_uri": "https://localhost:8080/",
          "height": 85
        }
      },
      "source": [
        "link = 'https://drive.google.com/open?id=1g6zN3aoYZKhc9IcqsBg8SWfJwHwayr3j'\n",
        "fluff, id = link.split('=')\n",
        "print (id)\n",
        "downloaded = drive.CreateFile({'id':id}) \n",
        "downloaded.GetContentFile('aclImdb_v1.tar.gz')  \n",
        "if os.path.isdir('aclImdb'):\n",
        "    print(\"Dataset directory exists, taking no action\")\n",
        "else:    \n",
        "    if not os.path.isfile('aclImdb_v1.tar.gz'):\n",
        "        print(\"Downloading dataset\")\n",
        "        # !wget http://ai.stanford.edu/~amaas/data/sentiment/aclImdb_v1.tar.gz\n",
        "        # # wget.download('http://ai.stanford.edu/~amaas/data/sentiment/aclImdb_v1.tar.gz')\n",
        "    else:\n",
        "        print(\"Dataset already downloaded\")\n",
        "    \n",
        "    print(\"Unpacking dataset\")\n",
        "    # !tar -xf aclImdb_v1.tar.gz \n",
        "    tar = tarfile.open(\"aclImdb_v1.tar.gz\")\n",
        "    tar.extractall()\n",
        "    tar.close()\n",
        "    print(\"Dataset unpacked in aclImdb\")\n"
      ],
      "execution_count": 4,
      "outputs": [
        {
          "output_type": "stream",
          "text": [
            "1g6zN3aoYZKhc9IcqsBg8SWfJwHwayr3j\n",
            "Dataset already downloaded\n",
            "Unpacking dataset\n",
            "Dataset unpacked in aclImdb\n"
          ],
          "name": "stdout"
        }
      ]
    },
    {
      "cell_type": "code",
      "metadata": {
        "id": "samALCU33Ly4",
        "colab_type": "code",
        "outputId": "428b8836-aefd-4d95-e358-7f8dbad15f8f",
        "colab": {
          "base_uri": "https://localhost:8080/",
          "height": 51
        }
      },
      "source": [
        "nltk.download('stopwords')\n",
        "positive_sample_file_list = glob.glob(os.path.join('aclImdb/train/pos', \"*.txt\"))\n",
        "# positive_sample_file_list = positive_file_list[:SAMPLE_SIZE]\n",
        "\n",
        "negative_sample_file_list = glob.glob(os.path.join('aclImdb/train/neg', \"*.txt\"))\n",
        "# negative_sample_file_list = negative_file_list[:SAMPLE_SIZE]\n",
        "\n",
        "# load doc into memory\n",
        "# regex to clean markup elements \n",
        "def load_doc(filename):\n",
        "    # open the file as read only\n",
        "    file = open(filename, 'r', encoding='utf8')\n",
        "    # read all text\n",
        "    text = re.sub('<[^>]*>', ' ', file.read())\n",
        "    #text = file.read()\n",
        "    # close the file\n",
        "    file.close()\n",
        "    return text\n",
        "\n",
        "\n",
        "positive_strings = [load_doc(x) for x in positive_sample_file_list]\n",
        "negative_strings = [load_doc(x) for x in negative_sample_file_list]\n",
        "\n",
        "positive_labels = [1 for x in positive_sample_file_list]\n",
        "negative_labels = [0 for x in negative_sample_file_list]\n",
        "\n",
        "# positive_tokenized = [word_tokenize(s) for s in positive_strings]\n",
        "# negative_tokenized = [word_tokenize(s) for s in negative_strings]\n",
        "\n",
        "sentences = positive_strings + negative_strings\n",
        "labels = positive_labels + negative_labels\n",
        "\n",
        "import pandas as pd\n",
        "df_train = pd.DataFrame(\n",
        "    {'sentences': sentences,\n",
        "     'sentiment': labels\n",
        "    })\n",
        "# df_train = df_train.sample(5000)\n",
        "df_train = df_train.sample(frac=1).reset_index(drop=True)\n",
        "\n",
        "train_sentences = df_train.sentences.values\n",
        "train_labels = df_train.sentiment.values\n",
        "\n",
        "from nltk.tokenize.treebank import TreebankWordDetokenizer\n",
        "train_sentences = [word_tokenize(s) for s in train_sentences]\n",
        "\n",
        "pre_sen = []\n",
        "for tokens in train_sentences:\n",
        "  tokens = [w.lower() for w in tokens]\n",
        "  import string\n",
        "  table = str.maketrans('', '', string.punctuation)\n",
        "  stripped = [w.translate(table) for w in tokens]\n",
        "  # remove remaining tokens that are not alphabetic\n",
        "  words = [word for word in stripped if word.isalpha()]\n",
        "  # filter out stop words\n",
        "  from nltk.corpus import stopwords\n",
        "  stop_words = set(stopwords.words('english'))\n",
        "  words = [w for w in words if not w in stop_words]\n",
        "  pre_sen.append(words)\n",
        "train_sentences = pre_sen\n",
        "\n",
        "t_sen = []\n",
        "for s in train_sentences:\n",
        "  if(len(s)<128):\n",
        "    t_sen.append(TreebankWordDetokenizer().detokenize(s))\n",
        "  else:\n",
        "    t_sen.append(TreebankWordDetokenizer().detokenize(s[0:127]))\n",
        "\n",
        "train_sentences = t_sen\n",
        "\n",
        "df_train = pd.DataFrame(\n",
        "    {'sentences': train_sentences,\n",
        "     'sentiment': train_labels\n",
        "    })"
      ],
      "execution_count": 5,
      "outputs": [
        {
          "output_type": "stream",
          "text": [
            "[nltk_data] Downloading package stopwords to /root/nltk_data...\n",
            "[nltk_data]   Unzipping corpora/stopwords.zip.\n"
          ],
          "name": "stdout"
        }
      ]
    },
    {
      "cell_type": "code",
      "metadata": {
        "id": "ZkMnsSdZOaa7",
        "colab_type": "code",
        "colab": {
          "base_uri": "https://localhost:8080/",
          "height": 66,
          "referenced_widgets": [
            "6df374399ca24277a155f8567797e7ec",
            "6d4162ac4fc24b26a29af0bf0caa464c",
            "26bafc6291a34ba696e93c30116c79c7",
            "92a862b7e74540b3983eb0316de0c693",
            "8b7700db782a43a5a46b9eaf91244de4",
            "cbbca02012f24bec83045f0f7b56eb17",
            "787756eba7274eeca0b1883e056c537a",
            "f5ee9df050a343209ca2176c1017fa56"
          ]
        },
        "outputId": "f16f7342-6911-49da-f80d-ca26cdbbba6d"
      },
      "source": [
        "from transformers import BertTokenizer\n",
        "tokenizer = BertTokenizer.from_pretrained('bert-large-cased', do_lower_case=True)\n",
        "train_input_ids = []\n",
        "train_input_masks = []\n",
        "train_segment_ids = []\n",
        "for sent in train_sentences:\n",
        "      encoded_dict = tokenizer.encode_plus(sent,add_special_tokens = True,max_length = 128,pad_to_max_length = True,return_attention_mask = True)\n",
        "      train_input_ids.append(encoded_dict['input_ids'])\n",
        "      train_input_masks.append(encoded_dict['attention_mask'])\n",
        "      train_segment_ids.append(encoded_dict['token_type_ids'])"
      ],
      "execution_count": 6,
      "outputs": [
        {
          "output_type": "display_data",
          "data": {
            "application/vnd.jupyter.widget-view+json": {
              "model_id": "6df374399ca24277a155f8567797e7ec",
              "version_minor": 0,
              "version_major": 2
            },
            "text/plain": [
              "HBox(children=(IntProgress(value=0, description='Downloading', max=213450, style=ProgressStyle(description_wid…"
            ]
          },
          "metadata": {
            "tags": []
          }
        },
        {
          "output_type": "stream",
          "text": [
            "\n"
          ],
          "name": "stdout"
        }
      ]
    },
    {
      "cell_type": "code",
      "metadata": {
        "id": "VK8HMXWlKCdW",
        "colab_type": "code",
        "outputId": "ab933e65-280a-4c3a-e150-cd512bd3f821",
        "colab": {
          "base_uri": "https://localhost:8080/",
          "height": 34
        }
      },
      "source": [
        "len(train_input_ids)"
      ],
      "execution_count": 0,
      "outputs": [
        {
          "output_type": "execute_result",
          "data": {
            "text/plain": [
              "25000"
            ]
          },
          "metadata": {
            "tags": []
          },
          "execution_count": 7
        }
      ]
    },
    {
      "cell_type": "code",
      "metadata": {
        "id": "BQZtb-jK4XEG",
        "colab_type": "code",
        "colab": {}
      },
      "source": [
        "positive_sample_file_list = glob.glob(os.path.join('aclImdb/test/pos', \"*.txt\"))\n",
        "# positive_sample_file_list = positive_file_list[:SAMPLE_SIZE]\n",
        "\n",
        "negative_sample_file_list = glob.glob(os.path.join('aclImdb/test/neg', \"*.txt\"))\n",
        "# negative_sample_file_list = negative_file_list[:SAMPLE_SIZE]\n",
        "\n",
        "positive_strings = [load_doc(x) for x in positive_sample_file_list]\n",
        "negative_strings = [load_doc(x) for x in negative_sample_file_list]\n",
        "\n",
        "positive_labels = [1 for x in positive_sample_file_list]\n",
        "negative_labels = [0 for x in negative_sample_file_list]\n",
        "\n",
        "# positive_tokenized = [word_tokenize(s) for s in positive_strings]\n",
        "# negative_tokenized = [word_tokenize(s) for s in negative_strings]\n",
        "\n",
        "sentences = positive_strings + negative_strings\n",
        "labels = positive_labels + negative_labels\n",
        "\n",
        "import pandas as pd\n",
        "df_test = pd.DataFrame(\n",
        "    {'sentences': sentences,\n",
        "     'sentiment': labels\n",
        "    })\n",
        "df_test = df_test.sample(5000)\n",
        "df_test = df_test.sample(frac=1).reset_index(drop=True)\n",
        "\n",
        "test_sentences = df_test.sentences.values\n",
        "test_labels = df_test.sentiment.values\n",
        "\n",
        "from nltk.tokenize.treebank import TreebankWordDetokenizer\n",
        "test_sentences = [word_tokenize(s) for s in test_sentences]\n",
        "\n",
        "pre_sen = []\n",
        "for tokens in test_sentences:\n",
        "  tokens = [w.lower() for w in tokens]\n",
        "  import string\n",
        "  table = str.maketrans('', '', string.punctuation)\n",
        "  stripped = [w.translate(table) for w in tokens]\n",
        "  # remove remaining tokens that are not alphabetic\n",
        "  words = [word for word in stripped if word.isalpha()]\n",
        "  # filter out stop words\n",
        "  from nltk.corpus import stopwords\n",
        "  stop_words = set(stopwords.words('english'))\n",
        "  words = [w for w in words if not w in stop_words]\n",
        "  pre_sen.append(words)\n",
        "test_sentences = pre_sen\n",
        "\n",
        "# t_sen = []\n",
        "# for s in test_sentences:\n",
        "#   if(len(s)<128):\n",
        "#     t_sen.append(TreebankWordDetokenizer().detokenize(s))\n",
        "#   else:\n",
        "#     t_sen.append(TreebankWordDetokenizer().detokenize(s[0:127]))\n",
        "\n",
        "# test_sentences = t_sen\n",
        "\n",
        "# df_test = pd.DataFrame(\n",
        "#     {'sentences': test_sentences,\n",
        "#      'sentiment': test_labels\n",
        "#     })"
      ],
      "execution_count": 0,
      "outputs": []
    },
    {
      "cell_type": "code",
      "metadata": {
        "id": "x-0L_p7MgLNn",
        "colab_type": "code",
        "colab": {}
      },
      "source": [
        "from transformers import BertTokenizer\n",
        "tokenizer = BertTokenizer.from_pretrained('bert-large-cased', do_lower_case=True)\n",
        "test_input_ids = []\n",
        "test_input_masks = []\n",
        "test_segment_ids = []\n",
        "for sent in test_sentences:\n",
        "      encoded_dict = tokenizer.encode_plus(sent,add_special_tokens = True,max_length = 128,pad_to_max_length = True,return_attention_mask = True)\n",
        "      test_input_ids.append(encoded_dict['input_ids'])\n",
        "      test_input_masks.append(encoded_dict['attention_mask'])\n",
        "      test_segment_ids.append(encoded_dict['token_type_ids'])"
      ],
      "execution_count": 0,
      "outputs": []
    },
    {
      "cell_type": "code",
      "metadata": {
        "id": "4kcPqv-W_b8E",
        "colab_type": "code",
        "outputId": "2fc388be-4725-425d-ec12-4469802d086a",
        "colab": {
          "base_uri": "https://localhost:8080/",
          "height": 204
        }
      },
      "source": [
        "df_train.head()"
      ],
      "execution_count": 0,
      "outputs": [
        {
          "output_type": "execute_result",
          "data": {
            "text/html": [
              "<div>\n",
              "<style scoped>\n",
              "    .dataframe tbody tr th:only-of-type {\n",
              "        vertical-align: middle;\n",
              "    }\n",
              "\n",
              "    .dataframe tbody tr th {\n",
              "        vertical-align: top;\n",
              "    }\n",
              "\n",
              "    .dataframe thead th {\n",
              "        text-align: right;\n",
              "    }\n",
              "</style>\n",
              "<table border=\"1\" class=\"dataframe\">\n",
              "  <thead>\n",
              "    <tr style=\"text-align: right;\">\n",
              "      <th></th>\n",
              "      <th>sentences</th>\n",
              "      <th>sentiment</th>\n",
              "    </tr>\n",
              "  </thead>\n",
              "  <tbody>\n",
              "    <tr>\n",
              "      <th>0</th>\n",
              "      <td>wonderful yet another movie america someone vi...</td>\n",
              "      <td>0</td>\n",
              "    </tr>\n",
              "    <tr>\n",
              "      <th>1</th>\n",
              "      <td>disgrace checking hoping would undiscovered ja...</td>\n",
              "      <td>0</td>\n",
              "    </tr>\n",
              "    <tr>\n",
              "      <th>2</th>\n",
              "      <td>wow ever said edward wood jr never influenced ...</td>\n",
              "      <td>0</td>\n",
              "    </tr>\n",
              "    <tr>\n",
              "      <th>3</th>\n",
              "      <td>budgetstarved italian actionscifi hybrid featu...</td>\n",
              "      <td>0</td>\n",
              "    </tr>\n",
              "    <tr>\n",
              "      <th>4</th>\n",
              "      <td>one thing sure everyone seen film agree creepy...</td>\n",
              "      <td>1</td>\n",
              "    </tr>\n",
              "  </tbody>\n",
              "</table>\n",
              "</div>"
            ],
            "text/plain": [
              "                                           sentences  sentiment\n",
              "0  wonderful yet another movie america someone vi...          0\n",
              "1  disgrace checking hoping would undiscovered ja...          0\n",
              "2  wow ever said edward wood jr never influenced ...          0\n",
              "3  budgetstarved italian actionscifi hybrid featu...          0\n",
              "4  one thing sure everyone seen film agree creepy...          1"
            ]
          },
          "metadata": {
            "tags": []
          },
          "execution_count": 9
        }
      ]
    },
    {
      "cell_type": "code",
      "metadata": {
        "id": "CSPFCBdwQ9mr",
        "colab_type": "code",
        "colab": {}
      },
      "source": [
        "class BertLayer(tf.keras.layers.Layer):\n",
        "    def __init__(self, n_fine_tune_layers=10, **kwargs):\n",
        "        self.n_fine_tune_layers = n_fine_tune_layers\n",
        "        self.trainable = True\n",
        "        self.output_size = 768\n",
        "        super(BertLayer, self).__init__(**kwargs)\n",
        "\n",
        "    def build(self, input_shape):\n",
        "        self.bert = hub.Module(\n",
        "            'https://tfhub.dev/google/bert_cased_L-12_H-768_A-12/1',\n",
        "            trainable=self.trainable,\n",
        "            name=\"{}_module\".format(self.name)\n",
        "        )\n",
        "        trainable_vars = self.bert.variables\n",
        "        # Remove unused layers\n",
        "        trainable_vars = [var for var in trainable_vars if not \"/cls/\" in var.name]\n",
        "        # Select how many layers to fine tune\n",
        "        trainable_vars = trainable_vars[-self.n_fine_tune_layers :]\n",
        "        # Add to trainable weights\n",
        "        for var in trainable_vars:\n",
        "            self._trainable_weights.append(var)\n",
        "        # Add non-trainable weights\n",
        "        for var in self.bert.variables:\n",
        "            if var not in self._trainable_weights:\n",
        "                self._non_trainable_weights.append(var)\n",
        "        \n",
        "        super(BertLayer, self).build(input_shape)\n",
        "\n",
        "    def call(self, inputs):\n",
        "        inputs = [K.cast(x, dtype=\"int32\") for x in inputs]\n",
        "        input_ids, input_mask, segment_ids = inputs\n",
        "        bert_inputs = dict(input_ids=input_ids, input_mask=input_mask, segment_ids=segment_ids)\n",
        "        result = self.bert(inputs=bert_inputs, signature=\"tokens\", as_dict=True)[\"pooled_output\"]\n",
        "        return result\n",
        "\n",
        "    def compute_output_shape(self, input_shape):\n",
        "        return (input_shape[0], self.output_size)"
      ],
      "execution_count": 0,
      "outputs": []
    },
    {
      "cell_type": "code",
      "metadata": {
        "id": "Sn5UAz38Nj9Q",
        "colab_type": "code",
        "colab": {}
      },
      "source": [
        "def build_model(): \n",
        "    in_id = tf.keras.layers.Input(shape=(128,), name=\"input_ids\")\n",
        "    in_mask = tf.keras.layers.Input(shape=(128,), name=\"input_masks\")\n",
        "    in_segment = tf.keras.layers.Input(shape=(128,), name=\"segment_ids\")\n",
        "    bert_inputs = [in_id, in_mask, in_segment]\n",
        "    \n",
        "    bert_output = BertLayer(n_fine_tune_layers=5)(bert_inputs)\n",
        "    dense = tf.keras.layers.Dense(768, activation='relu')(bert_output)\n",
        "    # tf.keras.layers.Dropout(0.3)\n",
        "    pred = tf.keras.layers.Dense(1, activation='sigmoid')(dense)\n",
        "    \n",
        "    model = tf.keras.models.Model(inputs=bert_inputs, outputs=pred)\n",
        "    ada = keras.optimizers.Adam(learning_rate=0.0002, beta_1=0.9, beta_2=0.999, amsgrad=False)\n",
        "    model.compile(loss='binary_crossentropy', optimizer=ada, metrics=['accuracy'])\n",
        "    model.summary()\n",
        "    \n",
        "    return model\n",
        "\n",
        "def initialize_vars(sess):\n",
        "    sess.run(tf.local_variables_initializer())\n",
        "    sess.run(tf.global_variables_initializer())\n",
        "    sess.run(tf.tables_initializer())\n",
        "    K.set_session(sess)"
      ],
      "execution_count": 0,
      "outputs": []
    },
    {
      "cell_type": "markdown",
      "metadata": {
        "id": "uZYCRY0SA-YL",
        "colab_type": "text"
      },
      "source": [
        "## **10 epochs**"
      ]
    },
    {
      "cell_type": "code",
      "metadata": {
        "id": "xiuMPmCbLAEn",
        "colab_type": "code",
        "outputId": "d787cc23-5765-49f3-d930-e59a8e96e498",
        "colab": {
          "base_uri": "https://localhost:8080/",
          "height": 34
        }
      },
      "source": [
        "len(test_input_ids)"
      ],
      "execution_count": 0,
      "outputs": [
        {
          "output_type": "execute_result",
          "data": {
            "text/plain": [
              "5000"
            ]
          },
          "metadata": {
            "tags": []
          },
          "execution_count": 13
        }
      ]
    },
    {
      "cell_type": "code",
      "metadata": {
        "id": "pJYBsIAsSyxb",
        "colab_type": "code",
        "outputId": "053e6b37-d386-4c8c-af26-f1907440a3a9",
        "colab": {
          "base_uri": "https://localhost:8080/",
          "height": 1000
        }
      },
      "source": [
        "model = build_model()\n",
        "sess = tf.Session()\n",
        "# Instantiate variables\n",
        "initialize_vars(sess)\n",
        "\n",
        "history = model.fit(\n",
        "    [train_input_ids, train_input_masks, train_segment_ids], \n",
        "    train_labels,\n",
        "    validation_data=([test_input_ids, test_input_masks, test_segment_ids], test_labels),\n",
        "    epochs=10,\n",
        "    batch_size=100\n",
        ")"
      ],
      "execution_count": 0,
      "outputs": [
        {
          "output_type": "stream",
          "text": [
            "INFO:absl:Using /tmp/tfhub_modules to cache modules.\n",
            "INFO:absl:Downloading TF-Hub Module 'https://tfhub.dev/google/bert_cased_L-12_H-768_A-12/1'.\n",
            "INFO:absl:Downloaded https://tfhub.dev/google/bert_cased_L-12_H-768_A-12/1, Total size: 417.36MB\n",
            "INFO:absl:Downloaded TF-Hub Module 'https://tfhub.dev/google/bert_cased_L-12_H-768_A-12/1'.\n"
          ],
          "name": "stderr"
        },
        {
          "output_type": "stream",
          "text": [
            "INFO:tensorflow:Saver not created because there are no variables in the graph to restore\n"
          ],
          "name": "stdout"
        },
        {
          "output_type": "stream",
          "text": [
            "INFO:tensorflow:Saver not created because there are no variables in the graph to restore\n"
          ],
          "name": "stderr"
        },
        {
          "output_type": "stream",
          "text": [
            "WARNING:tensorflow:From /usr/local/lib/python3.6/dist-packages/tensorflow_core/python/ops/resource_variable_ops.py:1630: calling BaseResourceVariable.__init__ (from tensorflow.python.ops.resource_variable_ops) with constraint is deprecated and will be removed in a future version.\n",
            "Instructions for updating:\n",
            "If using Keras pass *_constraint arguments to layers.\n"
          ],
          "name": "stdout"
        },
        {
          "output_type": "stream",
          "text": [
            "WARNING:tensorflow:From /usr/local/lib/python3.6/dist-packages/tensorflow_core/python/ops/resource_variable_ops.py:1630: calling BaseResourceVariable.__init__ (from tensorflow.python.ops.resource_variable_ops) with constraint is deprecated and will be removed in a future version.\n",
            "Instructions for updating:\n",
            "If using Keras pass *_constraint arguments to layers.\n"
          ],
          "name": "stderr"
        },
        {
          "output_type": "stream",
          "text": [
            "WARNING:tensorflow:From /usr/local/lib/python3.6/dist-packages/tensorflow_core/python/ops/nn_impl.py:183: where (from tensorflow.python.ops.array_ops) is deprecated and will be removed in a future version.\n",
            "Instructions for updating:\n",
            "Use tf.where in 2.0, which has the same broadcast rule as np.where\n"
          ],
          "name": "stdout"
        },
        {
          "output_type": "stream",
          "text": [
            "WARNING:tensorflow:From /usr/local/lib/python3.6/dist-packages/tensorflow_core/python/ops/nn_impl.py:183: where (from tensorflow.python.ops.array_ops) is deprecated and will be removed in a future version.\n",
            "Instructions for updating:\n",
            "Use tf.where in 2.0, which has the same broadcast rule as np.where\n"
          ],
          "name": "stderr"
        },
        {
          "output_type": "stream",
          "text": [
            "Model: \"model\"\n",
            "__________________________________________________________________________________________________\n",
            "Layer (type)                    Output Shape         Param #     Connected to                     \n",
            "==================================================================================================\n",
            "input_ids (InputLayer)          [(None, 128)]        0                                            \n",
            "__________________________________________________________________________________________________\n",
            "input_masks (InputLayer)        [(None, 128)]        0                                            \n",
            "__________________________________________________________________________________________________\n",
            "segment_ids (InputLayer)        [(None, 128)]        0                                            \n",
            "__________________________________________________________________________________________________\n",
            "bert_layer (BertLayer)          (None, 768)          108931396   input_ids[0][0]                  \n",
            "                                                                 input_masks[0][0]                \n",
            "                                                                 segment_ids[0][0]                \n",
            "__________________________________________________________________________________________________\n",
            "dense (Dense)                   (None, 768)          590592      bert_layer[0][0]                 \n",
            "__________________________________________________________________________________________________\n",
            "dense_1 (Dense)                 (None, 1)            769         dense[0][0]                      \n",
            "==================================================================================================\n",
            "Total params: 109,522,757\n",
            "Trainable params: 3,542,785\n",
            "Non-trainable params: 105,979,972\n",
            "__________________________________________________________________________________________________\n",
            "Train on 25000 samples, validate on 5000 samples\n",
            "Epoch 1/10\n",
            "25000/25000 [==============================] - 158s 6ms/sample - loss: 0.4657 - acc: 0.7711 - val_loss: 0.4716 - val_acc: 0.7620\n",
            "Epoch 2/10\n",
            "25000/25000 [==============================] - 155s 6ms/sample - loss: 0.3798 - acc: 0.8288 - val_loss: 0.3692 - val_acc: 0.8418\n",
            "Epoch 3/10\n",
            "25000/25000 [==============================] - 155s 6ms/sample - loss: 0.3578 - acc: 0.8431 - val_loss: 0.3744 - val_acc: 0.8278\n",
            "Epoch 4/10\n",
            "25000/25000 [==============================] - 155s 6ms/sample - loss: 0.3384 - acc: 0.8522 - val_loss: 0.4491 - val_acc: 0.7854\n",
            "Epoch 5/10\n",
            "25000/25000 [==============================] - 155s 6ms/sample - loss: 0.3149 - acc: 0.8660 - val_loss: 0.3604 - val_acc: 0.8392\n",
            "Epoch 6/10\n",
            "25000/25000 [==============================] - 155s 6ms/sample - loss: 0.2845 - acc: 0.8821 - val_loss: 0.3601 - val_acc: 0.8398\n",
            "Epoch 7/10\n",
            "25000/25000 [==============================] - 155s 6ms/sample - loss: 0.2504 - acc: 0.8968 - val_loss: 0.3812 - val_acc: 0.8312\n",
            "Epoch 8/10\n",
            "25000/25000 [==============================] - 155s 6ms/sample - loss: 0.2042 - acc: 0.9187 - val_loss: 0.4138 - val_acc: 0.8208\n",
            "Epoch 9/10\n",
            "25000/25000 [==============================] - 155s 6ms/sample - loss: 0.1580 - acc: 0.9390 - val_loss: 0.5853 - val_acc: 0.7944\n",
            "Epoch 10/10\n",
            "25000/25000 [==============================] - 155s 6ms/sample - loss: 0.1182 - acc: 0.9559 - val_loss: 0.6035 - val_acc: 0.8198\n"
          ],
          "name": "stdout"
        }
      ]
    },
    {
      "cell_type": "code",
      "metadata": {
        "id": "7P8OZOnU5cE5",
        "colab_type": "code",
        "colab": {}
      },
      "source": [
        "model.save_weights('./bert-model_sent_pre.h5')\n",
        "# model.load_weights('./bert-model_sent1.h5')"
      ],
      "execution_count": 0,
      "outputs": []
    },
    {
      "cell_type": "code",
      "metadata": {
        "id": "e_mpfv1N2aEN",
        "colab_type": "code",
        "colab": {}
      },
      "source": [
        "predict = model.predict([test_input_ids, test_input_masks, test_segment_ids])"
      ],
      "execution_count": 0,
      "outputs": []
    },
    {
      "cell_type": "code",
      "metadata": {
        "id": "CC4WaH962Z7J",
        "colab_type": "code",
        "colab": {}
      },
      "source": [
        "pred = []\n",
        "for t in predict:\n",
        "  if(t<0.5):\n",
        "    pred.append(0)\n",
        "  else :\n",
        "    pred.append(1)\n",
        "\n",
        "yr = test_labels"
      ],
      "execution_count": 0,
      "outputs": []
    },
    {
      "cell_type": "code",
      "metadata": {
        "id": "H89vB_aW2Zvv",
        "colab_type": "code",
        "outputId": "b56ea76b-aad0-478c-beb5-47e3e9cb5a9b",
        "colab": {
          "base_uri": "https://localhost:8080/",
          "height": 381
        }
      },
      "source": [
        "from sklearn import metrics\n",
        "fpr, tpr, thresholds = metrics.roc_curve(yr, pred, pos_label=1)\n",
        "print(\"AUC : \",metrics.auc(fpr, tpr))\n",
        "\n",
        "from sklearn.metrics import accuracy_score\n",
        "print(\"accuracy : \",accuracy_score(yr,pred))\n",
        "\n",
        "from sklearn.metrics import precision_score\n",
        "print(\"precision : \",precision_score(yr, pred))\n",
        "\n",
        "from sklearn.metrics import recall_score\n",
        "print(\"recall : \" ,recall_score(yr, pred) )\n",
        "\n",
        "from sklearn.metrics import f1_score\n",
        "print(\"F1 : \", f1_score(yr, pred))\n",
        "\n",
        "import matplotlib.pyplot as plt\n",
        "import numpy as np\n",
        "import math\n",
        "hist2=history.history\n",
        "loss=hist2['loss']\n",
        "val_loss=hist2['val_loss']\n",
        "plt.xlabel('Epochs')\n",
        "plt.ylabel('train loss')\n",
        "plt.plot(loss)\n",
        "\n",
        "plt.xlabel('Epochs')\n",
        "plt.ylabel('test perplexity')\n",
        "plt.plot(val_loss)\n",
        "plt.legend(['train loss','test loss'])"
      ],
      "execution_count": 0,
      "outputs": [
        {
          "output_type": "stream",
          "text": [
            "AUC :  0.8200460829493088\n",
            "accuracy :  0.8198\n",
            "precision :  0.8431538787621874\n",
            "recall :  0.7892857142857143\n",
            "F1 :  0.8153310104529617\n"
          ],
          "name": "stdout"
        },
        {
          "output_type": "execute_result",
          "data": {
            "text/plain": [
              "<matplotlib.legend.Legend at 0x7f2591195320>"
            ]
          },
          "metadata": {
            "tags": []
          },
          "execution_count": 17
        },
        {
          "output_type": "display_data",
          "data": {
            "image/png": "[encoded data removed]",
            "text/plain": [
              "<Figure size 432x288 with 1 Axes>"
            ]
          },
          "metadata": {
            "tags": [],
            "needs_background": "light"
          }
        }
      ]
    },
    {
      "cell_type": "markdown",
      "metadata": {
        "id": "LBG2y44CBDPL",
        "colab_type": "text"
      },
      "source": [
        "## **20 epochs**"
      ]
    },
    {
      "cell_type": "code",
      "metadata": {
        "id": "FTp5vlzpsz9i",
        "colab_type": "code",
        "outputId": "e8d956aa-cc87-4cea-fd82-95a0f22396a7",
        "colab": {
          "base_uri": "https://localhost:8080/",
          "height": 1000
        }
      },
      "source": [
        "model2 = build_model()\n",
        "sess = tf.Session()\n",
        "# Instantiate variables\n",
        "initialize_vars(sess)\n",
        "\n",
        "history2 = model2.fit(\n",
        "    [train_input_ids, train_input_masks, train_segment_ids], \n",
        "    train_labels,\n",
        "    validation_data=([test_input_ids, test_input_masks, test_segment_ids], test_labels),\n",
        "    epochs=20,\n",
        "    batch_size=100\n",
        ")"
      ],
      "execution_count": 0,
      "outputs": [
        {
          "output_type": "stream",
          "text": [
            "INFO:tensorflow:Saver not created because there are no variables in the graph to restore\n"
          ],
          "name": "stdout"
        },
        {
          "output_type": "stream",
          "text": [
            "INFO:tensorflow:Saver not created because there are no variables in the graph to restore\n"
          ],
          "name": "stderr"
        },
        {
          "output_type": "stream",
          "text": [
            "Model: \"model_1\"\n",
            "__________________________________________________________________________________________________\n",
            "Layer (type)                    Output Shape         Param #     Connected to                     \n",
            "==================================================================================================\n",
            "input_ids (InputLayer)          [(None, 128)]        0                                            \n",
            "__________________________________________________________________________________________________\n",
            "input_masks (InputLayer)        [(None, 128)]        0                                            \n",
            "__________________________________________________________________________________________________\n",
            "segment_ids (InputLayer)        [(None, 128)]        0                                            \n",
            "__________________________________________________________________________________________________\n",
            "bert_layer_1 (BertLayer)        (None, 768)          108931396   input_ids[0][0]                  \n",
            "                                                                 input_masks[0][0]                \n",
            "                                                                 segment_ids[0][0]                \n",
            "__________________________________________________________________________________________________\n",
            "dense_2 (Dense)                 (None, 768)          590592      bert_layer_1[0][0]               \n",
            "__________________________________________________________________________________________________\n",
            "dense_3 (Dense)                 (None, 1)            769         dense_2[0][0]                    \n",
            "==================================================================================================\n",
            "Total params: 109,522,757\n",
            "Trainable params: 3,542,785\n",
            "Non-trainable params: 105,979,972\n",
            "__________________________________________________________________________________________________\n",
            "Train on 25000 samples, validate on 5000 samples\n",
            "Epoch 1/20\n",
            "25000/25000 [==============================] - 157s 6ms/sample - loss: 0.4886 - acc: 0.7460 - val_loss: 0.3863 - val_acc: 0.8288\n",
            "Epoch 2/20\n",
            "25000/25000 [==============================] - 155s 6ms/sample - loss: 0.3711 - acc: 0.8354 - val_loss: 0.3920 - val_acc: 0.8176\n",
            "Epoch 3/20\n",
            "25000/25000 [==============================] - 155s 6ms/sample - loss: 0.3544 - acc: 0.8456 - val_loss: 0.3624 - val_acc: 0.8338\n",
            "Epoch 4/20\n",
            "25000/25000 [==============================] - 155s 6ms/sample - loss: 0.3323 - acc: 0.8569 - val_loss: 0.4114 - val_acc: 0.8030\n",
            "Epoch 5/20\n",
            "25000/25000 [==============================] - 155s 6ms/sample - loss: 0.3094 - acc: 0.8674 - val_loss: 0.3816 - val_acc: 0.8260\n",
            "Epoch 6/20\n",
            "25000/25000 [==============================] - 155s 6ms/sample - loss: 0.2840 - acc: 0.8823 - val_loss: 0.4049 - val_acc: 0.8224\n",
            "Epoch 7/20\n",
            "25000/25000 [==============================] - 155s 6ms/sample - loss: 0.2521 - acc: 0.8950 - val_loss: 0.3731 - val_acc: 0.8434\n",
            "Epoch 8/20\n",
            "25000/25000 [==============================] - 155s 6ms/sample - loss: 0.2154 - acc: 0.9126 - val_loss: 0.3863 - val_acc: 0.8294\n",
            "Epoch 9/20\n",
            "25000/25000 [==============================] - 155s 6ms/sample - loss: 0.1665 - acc: 0.9371 - val_loss: 0.4426 - val_acc: 0.8382\n",
            "Epoch 10/20\n",
            "25000/25000 [==============================] - 155s 6ms/sample - loss: 0.1228 - acc: 0.9538 - val_loss: 0.4852 - val_acc: 0.8276\n",
            "Epoch 11/20\n",
            "25000/25000 [==============================] - 155s 6ms/sample - loss: 0.0811 - acc: 0.9718 - val_loss: 0.6163 - val_acc: 0.8198\n",
            "Epoch 12/20\n",
            "25000/25000 [==============================] - 155s 6ms/sample - loss: 0.0605 - acc: 0.9781 - val_loss: 0.7228 - val_acc: 0.8072\n",
            "Epoch 13/20\n",
            "25000/25000 [==============================] - 155s 6ms/sample - loss: 0.0480 - acc: 0.9832 - val_loss: 0.7833 - val_acc: 0.8188\n",
            "Epoch 14/20\n",
            "25000/25000 [==============================] - 155s 6ms/sample - loss: 0.0377 - acc: 0.9864 - val_loss: 0.9012 - val_acc: 0.8090\n",
            "Epoch 15/20\n",
            "25000/25000 [==============================] - 155s 6ms/sample - loss: 0.0307 - acc: 0.9895 - val_loss: 0.8363 - val_acc: 0.8132\n",
            "Epoch 16/20\n",
            "25000/25000 [==============================] - 155s 6ms/sample - loss: 0.0304 - acc: 0.9886 - val_loss: 0.9369 - val_acc: 0.8162\n",
            "Epoch 17/20\n",
            "25000/25000 [==============================] - 155s 6ms/sample - loss: 0.0192 - acc: 0.9931 - val_loss: 1.0783 - val_acc: 0.8144\n",
            "Epoch 18/20\n",
            "25000/25000 [==============================] - 155s 6ms/sample - loss: 0.0190 - acc: 0.9932 - val_loss: 0.9488 - val_acc: 0.8242\n",
            "Epoch 19/20\n",
            "25000/25000 [==============================] - 155s 6ms/sample - loss: 0.0113 - acc: 0.9958 - val_loss: 1.2713 - val_acc: 0.8230\n",
            "Epoch 20/20\n",
            "25000/25000 [==============================] - 155s 6ms/sample - loss: 0.0121 - acc: 0.9961 - val_loss: 1.1497 - val_acc: 0.8234\n"
          ],
          "name": "stdout"
        }
      ]
    },
    {
      "cell_type": "code",
      "metadata": {
        "id": "kmFDeXxXxYL8",
        "colab_type": "code",
        "colab": {}
      },
      "source": [
        "model2.save_weights('./bert-model_sent2.h5')\n",
        "# model2.load_weights('./bert-model_sent2.h5')"
      ],
      "execution_count": 0,
      "outputs": []
    },
    {
      "cell_type": "code",
      "metadata": {
        "id": "AVh2r7J4xXD7",
        "colab_type": "code",
        "colab": {}
      },
      "source": [
        "predict2 = model2.predict([test_input_ids, test_input_masks, test_segment_ids])"
      ],
      "execution_count": 0,
      "outputs": []
    },
    {
      "cell_type": "code",
      "metadata": {
        "id": "MdYzcRi2xXAx",
        "colab_type": "code",
        "colab": {}
      },
      "source": [
        "pred = []\n",
        "for t in predict2:\n",
        "  if(t<0.5):\n",
        "    pred.append(0)\n",
        "  else :\n",
        "    pred.append(1)"
      ],
      "execution_count": 0,
      "outputs": []
    },
    {
      "cell_type": "code",
      "metadata": {
        "id": "e0QBBrO0xW5I",
        "colab_type": "code",
        "colab": {}
      },
      "source": [
        "# yr = [np.where(t == np.max(t))[0][0] for t in test_labels]\n",
        "yr = test_labels"
      ],
      "execution_count": 0,
      "outputs": []
    },
    {
      "cell_type": "code",
      "metadata": {
        "id": "HKVLoNo82nQy",
        "colab_type": "code",
        "outputId": "73d21704-9261-4183-cd4d-3804fade8164",
        "colab": {
          "base_uri": "https://localhost:8080/",
          "height": 34
        }
      },
      "source": [
        "test_labels"
      ],
      "execution_count": 0,
      "outputs": [
        {
          "output_type": "execute_result",
          "data": {
            "text/plain": [
              "array([1, 1, 1, ..., 1, 1, 0])"
            ]
          },
          "metadata": {
            "tags": []
          },
          "execution_count": 25
        }
      ]
    },
    {
      "cell_type": "code",
      "metadata": {
        "id": "nfxA2z96464d",
        "colab_type": "code",
        "outputId": "0ea74fea-9829-4e26-8b00-1b01d165ed31",
        "colab": {
          "base_uri": "https://localhost:8080/",
          "height": 381
        }
      },
      "source": [
        "from sklearn import metrics\n",
        "fpr, tpr, thresholds = metrics.roc_curve(yr, pred, pos_label=1)\n",
        "print(\"AUC : \",metrics.auc(fpr, tpr))\n",
        "\n",
        "from sklearn.metrics import accuracy_score\n",
        "print(\"accuracy : \",accuracy_score(yr,pred))\n",
        "\n",
        "from sklearn.metrics import precision_score\n",
        "print(\"precision : \",precision_score(yr, pred))\n",
        "\n",
        "from sklearn.metrics import recall_score\n",
        "print(\"recall : \" ,recall_score(yr, pred) )\n",
        "\n",
        "from sklearn.metrics import f1_score\n",
        "print(\"F1 : \", f1_score(yr, pred))\n",
        "\n",
        "import matplotlib.pyplot as plt\n",
        "import numpy as np\n",
        "import math\n",
        "hist2=history2.history\n",
        "loss=hist2['loss']\n",
        "val_loss=hist2['val_loss']\n",
        "plt.xlabel('Epochs')\n",
        "plt.ylabel('train loss')\n",
        "plt.plot(loss)\n",
        "\n",
        "plt.xlabel('Epochs')\n",
        "plt.ylabel('test perplexity')\n",
        "plt.plot(val_loss)\n",
        "plt.legend(['train loss','test loss'])"
      ],
      "execution_count": 0,
      "outputs": [
        {
          "output_type": "stream",
          "text": [
            "AUC :  0.8230926779313876\n",
            "accuracy :  0.8234\n",
            "precision :  0.8025878003696858\n",
            "recall :  0.8615079365079366\n",
            "F1 :  0.8310047846889952\n"
          ],
          "name": "stdout"
        },
        {
          "output_type": "execute_result",
          "data": {
            "text/plain": [
              "<matplotlib.legend.Legend at 0x7f25923d2400>"
            ]
          },
          "metadata": {
            "tags": []
          },
          "execution_count": 23
        },
        {
          "output_type": "display_data",
          "data": {
            "image/png": "[encoded data removed]",
            "text/plain": [
              "<Figure size 432x288 with 1 Axes>"
            ]
          },
          "metadata": {
            "tags": [],
            "needs_background": "light"
          }
        }
      ]
    },
    {
      "cell_type": "markdown",
      "metadata": {
        "id": "7KdAbz2TzbR9",
        "colab_type": "text"
      },
      "source": [
        "## **50 epochs**"
      ]
    },
    {
      "cell_type": "code",
      "metadata": {
        "id": "ch7AJIgYzagb",
        "colab_type": "code",
        "outputId": "dfa8e71d-8012-4d9b-ccb1-98f0dad74dc5",
        "colab": {
          "base_uri": "https://localhost:8080/",
          "height": 1000
        }
      },
      "source": [
        "model50 = build_model()\n",
        "sess = tf.Session()\n",
        "# Instantiate variables\n",
        "initialize_vars(sess)\n",
        "\n",
        "history50 = model50.fit(\n",
        "    [train_input_ids, train_input_masks, train_segment_ids], \n",
        "    train_labels,\n",
        "    validation_data=([test_input_ids, test_input_masks, test_segment_ids], test_labels),\n",
        "    epochs=50,\n",
        "    batch_size=100\n",
        ")"
      ],
      "execution_count": 0,
      "outputs": [
        {
          "output_type": "stream",
          "text": [
            "INFO:tensorflow:Saver not created because there are no variables in the graph to restore\n"
          ],
          "name": "stdout"
        },
        {
          "output_type": "stream",
          "text": [
            "INFO:tensorflow:Saver not created because there are no variables in the graph to restore\n"
          ],
          "name": "stderr"
        },
        {
          "output_type": "stream",
          "text": [
            "Model: \"model_2\"\n",
            "__________________________________________________________________________________________________\n",
            "Layer (type)                    Output Shape         Param #     Connected to                     \n",
            "==================================================================================================\n",
            "input_ids (InputLayer)          [(None, 128)]        0                                            \n",
            "__________________________________________________________________________________________________\n",
            "input_masks (InputLayer)        [(None, 128)]        0                                            \n",
            "__________________________________________________________________________________________________\n",
            "segment_ids (InputLayer)        [(None, 128)]        0                                            \n",
            "__________________________________________________________________________________________________\n",
            "bert_layer_2 (BertLayer)        (None, 768)          108931396   input_ids[0][0]                  \n",
            "                                                                 input_masks[0][0]                \n",
            "                                                                 segment_ids[0][0]                \n",
            "__________________________________________________________________________________________________\n",
            "dense_4 (Dense)                 (None, 768)          590592      bert_layer_2[0][0]               \n",
            "__________________________________________________________________________________________________\n",
            "dense_5 (Dense)                 (None, 1)            769         dense_4[0][0]                    \n",
            "==================================================================================================\n",
            "Total params: 109,522,757\n",
            "Trainable params: 3,542,785\n",
            "Non-trainable params: 105,979,972\n",
            "__________________________________________________________________________________________________\n",
            "Train on 25000 samples, validate on 5000 samples\n",
            "Epoch 1/50\n",
            "25000/25000 [==============================] - 158s 6ms/sample - loss: 0.4757 - acc: 0.7636 - val_loss: 0.4816 - val_acc: 0.7640\n",
            "Epoch 2/50\n",
            "25000/25000 [==============================] - 155s 6ms/sample - loss: 0.3791 - acc: 0.8311 - val_loss: 0.4175 - val_acc: 0.8012\n",
            "Epoch 3/50\n",
            "25000/25000 [==============================] - 155s 6ms/sample - loss: 0.3541 - acc: 0.8448 - val_loss: 0.3628 - val_acc: 0.8446\n",
            "Epoch 4/50\n",
            "25000/25000 [==============================] - 155s 6ms/sample - loss: 0.3314 - acc: 0.8568 - val_loss: 0.3966 - val_acc: 0.8128\n",
            "Epoch 5/50\n",
            "25000/25000 [==============================] - 155s 6ms/sample - loss: 0.3168 - acc: 0.8620 - val_loss: 0.3749 - val_acc: 0.8338\n",
            "Epoch 6/50\n",
            "25000/25000 [==============================] - 155s 6ms/sample - loss: 0.2913 - acc: 0.8778 - val_loss: 0.3670 - val_acc: 0.8382\n",
            "Epoch 7/50\n",
            "25000/25000 [==============================] - 155s 6ms/sample - loss: 0.2541 - acc: 0.8961 - val_loss: 0.4140 - val_acc: 0.8284\n",
            "Epoch 8/50\n",
            "25000/25000 [==============================] - 155s 6ms/sample - loss: 0.2118 - acc: 0.9161 - val_loss: 0.4003 - val_acc: 0.8302\n",
            "Epoch 9/50\n",
            "25000/25000 [==============================] - 155s 6ms/sample - loss: 0.1656 - acc: 0.9372 - val_loss: 0.4294 - val_acc: 0.8274\n",
            "Epoch 10/50\n",
            "25000/25000 [==============================] - 155s 6ms/sample - loss: 0.1234 - acc: 0.9547 - val_loss: 0.5025 - val_acc: 0.8250\n",
            "Epoch 11/50\n",
            "25000/25000 [==============================] - 155s 6ms/sample - loss: 0.0777 - acc: 0.9738 - val_loss: 0.6203 - val_acc: 0.8148\n",
            "Epoch 12/50\n",
            "25000/25000 [==============================] - 155s 6ms/sample - loss: 0.0550 - acc: 0.9823 - val_loss: 0.7841 - val_acc: 0.8078\n",
            "Epoch 13/50\n",
            "25000/25000 [==============================] - 155s 6ms/sample - loss: 0.0329 - acc: 0.9896 - val_loss: 0.8708 - val_acc: 0.8188\n",
            "Epoch 14/50\n",
            "25000/25000 [==============================] - 155s 6ms/sample - loss: 0.0419 - acc: 0.9853 - val_loss: 0.8278 - val_acc: 0.8164\n",
            "Epoch 15/50\n",
            "25000/25000 [==============================] - 155s 6ms/sample - loss: 0.0201 - acc: 0.9934 - val_loss: 0.8258 - val_acc: 0.8072\n",
            "Epoch 16/50\n",
            "25000/25000 [==============================] - 155s 6ms/sample - loss: 0.0226 - acc: 0.9926 - val_loss: 0.9526 - val_acc: 0.8186\n",
            "Epoch 17/50\n",
            "25000/25000 [==============================] - 155s 6ms/sample - loss: 0.0204 - acc: 0.9930 - val_loss: 1.0222 - val_acc: 0.8046\n",
            "Epoch 18/50\n",
            "25000/25000 [==============================] - 155s 6ms/sample - loss: 0.0128 - acc: 0.9961 - val_loss: 1.1371 - val_acc: 0.8068\n",
            "Epoch 19/50\n",
            "25000/25000 [==============================] - 155s 6ms/sample - loss: 0.0217 - acc: 0.9922 - val_loss: 0.8981 - val_acc: 0.8114\n",
            "Epoch 20/50\n",
            "25000/25000 [==============================] - 155s 6ms/sample - loss: 0.0230 - acc: 0.9920 - val_loss: 1.0975 - val_acc: 0.8134\n",
            "Epoch 21/50\n",
            "25000/25000 [==============================] - 155s 6ms/sample - loss: 0.0045 - acc: 0.9982 - val_loss: 1.1447 - val_acc: 0.8208\n",
            "Epoch 22/50\n",
            "25000/25000 [==============================] - 155s 6ms/sample - loss: 0.0155 - acc: 0.9943 - val_loss: 1.2980 - val_acc: 0.8058\n",
            "Epoch 23/50\n",
            "25000/25000 [==============================] - 155s 6ms/sample - loss: 0.0138 - acc: 0.9951 - val_loss: 1.5506 - val_acc: 0.7910\n",
            "Epoch 24/50\n",
            "25000/25000 [==============================] - 155s 6ms/sample - loss: 0.0133 - acc: 0.9953 - val_loss: 1.3222 - val_acc: 0.7808\n",
            "Epoch 25/50\n",
            "25000/25000 [==============================] - 155s 6ms/sample - loss: 0.0101 - acc: 0.9963 - val_loss: 1.1899 - val_acc: 0.8178\n",
            "Epoch 26/50\n",
            "25000/25000 [==============================] - 155s 6ms/sample - loss: 0.0171 - acc: 0.9944 - val_loss: 1.0353 - val_acc: 0.8162\n",
            "Epoch 27/50\n",
            "25000/25000 [==============================] - 155s 6ms/sample - loss: 0.0071 - acc: 0.9977 - val_loss: 1.2010 - val_acc: 0.7902\n",
            "Epoch 28/50\n",
            "25000/25000 [==============================] - 155s 6ms/sample - loss: 0.0196 - acc: 0.9931 - val_loss: 1.5200 - val_acc: 0.7636\n",
            "Epoch 29/50\n",
            "25000/25000 [==============================] - 155s 6ms/sample - loss: 0.0081 - acc: 0.9971 - val_loss: 1.1968 - val_acc: 0.8186\n",
            "Epoch 30/50\n",
            "25000/25000 [==============================] - 155s 6ms/sample - loss: 0.0047 - acc: 0.9986 - val_loss: 1.3320 - val_acc: 0.8240\n",
            "Epoch 31/50\n",
            "25000/25000 [==============================] - 155s 6ms/sample - loss: 0.0085 - acc: 0.9972 - val_loss: 1.3113 - val_acc: 0.8070\n",
            "Epoch 32/50\n",
            "25000/25000 [==============================] - 155s 6ms/sample - loss: 0.0170 - acc: 0.9940 - val_loss: 1.0039 - val_acc: 0.8232\n",
            "Epoch 33/50\n",
            "25000/25000 [==============================] - 155s 6ms/sample - loss: 0.0083 - acc: 0.9973 - val_loss: 1.1458 - val_acc: 0.8178\n",
            "Epoch 34/50\n",
            "25000/25000 [==============================] - 155s 6ms/sample - loss: 0.0059 - acc: 0.9977 - val_loss: 1.3442 - val_acc: 0.8146\n",
            "Epoch 35/50\n",
            "25000/25000 [==============================] - 155s 6ms/sample - loss: 0.0081 - acc: 0.9970 - val_loss: 1.1681 - val_acc: 0.8136\n",
            "Epoch 36/50\n",
            "25000/25000 [==============================] - 155s 6ms/sample - loss: 0.0105 - acc: 0.9961 - val_loss: 1.6972 - val_acc: 0.7788\n",
            "Epoch 37/50\n",
            "25000/25000 [==============================] - 155s 6ms/sample - loss: 0.0081 - acc: 0.9974 - val_loss: 1.2025 - val_acc: 0.8134\n",
            "Epoch 38/50\n",
            "25000/25000 [==============================] - 155s 6ms/sample - loss: 0.0123 - acc: 0.9952 - val_loss: 0.9691 - val_acc: 0.8140\n",
            "Epoch 39/50\n",
            "25000/25000 [==============================] - 155s 6ms/sample - loss: 0.0122 - acc: 0.9956 - val_loss: 1.1949 - val_acc: 0.8196\n",
            "Epoch 40/50\n",
            "25000/25000 [==============================] - 155s 6ms/sample - loss: 0.0058 - acc: 0.9978 - val_loss: 1.1457 - val_acc: 0.8168\n",
            "Epoch 41/50\n",
            "25000/25000 [==============================] - 155s 6ms/sample - loss: 0.0166 - acc: 0.9946 - val_loss: 0.9917 - val_acc: 0.8152\n",
            "Epoch 42/50\n",
            "25000/25000 [==============================] - 155s 6ms/sample - loss: 0.0024 - acc: 0.9992 - val_loss: 1.3854 - val_acc: 0.8116\n",
            "Epoch 43/50\n",
            "25000/25000 [==============================] - 155s 6ms/sample - loss: 0.0064 - acc: 0.9978 - val_loss: 1.2588 - val_acc: 0.8164\n",
            "Epoch 44/50\n",
            "25000/25000 [==============================] - 155s 6ms/sample - loss: 0.0089 - acc: 0.9969 - val_loss: 0.9159 - val_acc: 0.8104\n",
            "Epoch 45/50\n",
            "25000/25000 [==============================] - 155s 6ms/sample - loss: 0.0059 - acc: 0.9981 - val_loss: 1.2542 - val_acc: 0.8078\n",
            "Epoch 46/50\n",
            "25000/25000 [==============================] - 155s 6ms/sample - loss: 0.0078 - acc: 0.9975 - val_loss: 1.2850 - val_acc: 0.8140\n",
            "Epoch 47/50\n",
            "25000/25000 [==============================] - 155s 6ms/sample - loss: 0.0058 - acc: 0.9982 - val_loss: 1.1744 - val_acc: 0.8022\n",
            "Epoch 48/50\n",
            "25000/25000 [==============================] - 155s 6ms/sample - loss: 0.0070 - acc: 0.9975 - val_loss: 1.2052 - val_acc: 0.8066\n",
            "Epoch 49/50\n",
            "25000/25000 [==============================] - 155s 6ms/sample - loss: 0.0065 - acc: 0.9979 - val_loss: 1.3588 - val_acc: 0.7996\n",
            "Epoch 50/50\n",
            "25000/25000 [==============================] - 155s 6ms/sample - loss: 0.0039 - acc: 0.9989 - val_loss: 1.5129 - val_acc: 0.8120\n"
          ],
          "name": "stdout"
        }
      ]
    },
    {
      "cell_type": "code",
      "metadata": {
        "id": "BMB1S5b1Rw69",
        "colab_type": "code",
        "colab": {}
      },
      "source": [
        "predict50 = model50.predict([test_input_ids, test_input_masks, test_segment_ids])"
      ],
      "execution_count": 0,
      "outputs": []
    },
    {
      "cell_type": "code",
      "metadata": {
        "id": "0maHdEcgR0qS",
        "colab_type": "code",
        "outputId": "d0315f8d-de59-46de-bc7c-c2eb38373cea",
        "colab": {
          "base_uri": "https://localhost:8080/",
          "height": 382
        }
      },
      "source": [
        "pred = []\n",
        "for t in predict50:\n",
        "  if(t<0.5):\n",
        "    pred.append(0)\n",
        "  else :\n",
        "    pred.append(1)\n",
        "\n",
        "yr = test_labels\n",
        "\n",
        "from sklearn import metrics\n",
        "fpr, tpr, thresholds = metrics.roc_curve(yr, pred, pos_label=1)\n",
        "print(\"AUC : \",metrics.auc(fpr, tpr))\n",
        "\n",
        "from sklearn.metrics import accuracy_score\n",
        "print(\"accuracy : \",accuracy_score(yr,pred))\n",
        "\n",
        "from sklearn.metrics import precision_score\n",
        "print(\"precision : \",precision_score(yr, pred))\n",
        "\n",
        "from sklearn.metrics import recall_score\n",
        "print(\"recall : \" ,recall_score(yr, pred) )\n",
        "\n",
        "from sklearn.metrics import f1_score\n",
        "print(\"F1 : \", f1_score(yr, pred))\n",
        "\n",
        "import matplotlib.pyplot as plt\n",
        "import numpy as np\n",
        "import math\n",
        "hist2=history50.history\n",
        "loss=hist2['loss']\n",
        "val_loss=hist2['val_loss']\n",
        "plt.xlabel('Epochs')\n",
        "plt.ylabel('train loss')\n",
        "plt.plot(loss)\n",
        "\n",
        "plt.xlabel('Epochs')\n",
        "plt.ylabel('test perplexity')\n",
        "plt.plot(val_loss)\n",
        "plt.legend(['train loss','test loss'])"
      ],
      "execution_count": 0,
      "outputs": [
        {
          "output_type": "stream",
          "text": [
            "AUC :  0.8114375320020483\n",
            "accuracy :  0.812\n",
            "precision :  0.7758379888268156\n",
            "recall :  0.8817460317460317\n",
            "F1 :  0.825408618127786\n"
          ],
          "name": "stdout"
        },
        {
          "output_type": "execute_result",
          "data": {
            "text/plain": [
              "<matplotlib.legend.Legend at 0x7f259442b390>"
            ]
          },
          "metadata": {
            "tags": []
          },
          "execution_count": 26
        },
        {
          "output_type": "display_data",
          "data": {
            "image/png": "[encoded data removed]",
            "text/plain": [
              "<Figure size 432x288 with 1 Axes>"
            ]
          },
          "metadata": {
            "tags": [],
            "needs_background": "light"
          }
        }
      ]
    },
    {
      "cell_type": "markdown",
      "metadata": {
        "id": "V8KK36J8SRs8",
        "colab_type": "text"
      },
      "source": [
        "## **without preprocessing**"
      ]
    },
    {
      "cell_type": "code",
      "metadata": {
        "id": "CnPnlIDmR0Z6",
        "colab_type": "code",
        "outputId": "0725f2d8-75d4-4c57-9bc6-272e0cb7765a",
        "colab": {
          "base_uri": "https://localhost:8080/",
          "height": 802
        }
      },
      "source": [
        "model_pre = build_model()\n",
        "sess = tf.Session()\n",
        "# Instantiate variables\n",
        "initialize_vars(sess)\n",
        "\n",
        "history_pre = model_pre.fit(\n",
        "    [train_input_ids, train_input_masks, train_segment_ids], \n",
        "    train_labels,\n",
        "    validation_data=([test_input_ids, test_input_masks, test_segment_ids], test_labels),\n",
        "    epochs=10,\n",
        "    batch_size=100\n",
        ")"
      ],
      "execution_count": 0,
      "outputs": [
        {
          "output_type": "stream",
          "text": [
            "INFO:tensorflow:Saver not created because there are no variables in the graph to restore\n"
          ],
          "name": "stdout"
        },
        {
          "output_type": "stream",
          "text": [
            "INFO:tensorflow:Saver not created because there are no variables in the graph to restore\n"
          ],
          "name": "stderr"
        },
        {
          "output_type": "stream",
          "text": [
            "Model: \"model_3\"\n",
            "__________________________________________________________________________________________________\n",
            "Layer (type)                    Output Shape         Param #     Connected to                     \n",
            "==================================================================================================\n",
            "input_ids (InputLayer)          [(None, 128)]        0                                            \n",
            "__________________________________________________________________________________________________\n",
            "input_masks (InputLayer)        [(None, 128)]        0                                            \n",
            "__________________________________________________________________________________________________\n",
            "segment_ids (InputLayer)        [(None, 128)]        0                                            \n",
            "__________________________________________________________________________________________________\n",
            "bert_layer_3 (BertLayer)        (None, 768)          108931396   input_ids[0][0]                  \n",
            "                                                                 input_masks[0][0]                \n",
            "                                                                 segment_ids[0][0]                \n",
            "__________________________________________________________________________________________________\n",
            "dense_6 (Dense)                 (None, 768)          590592      bert_layer_3[0][0]               \n",
            "__________________________________________________________________________________________________\n",
            "dense_7 (Dense)                 (None, 1)            769         dense_6[0][0]                    \n",
            "==================================================================================================\n",
            "Total params: 109,522,757\n",
            "Trainable params: 3,542,785\n",
            "Non-trainable params: 105,979,972\n",
            "__________________________________________________________________________________________________\n",
            "Train on 25000 samples, validate on 5000 samples\n",
            "Epoch 1/10\n",
            "25000/25000 [==============================] - 159s 6ms/sample - loss: 0.4071 - acc: 0.8070 - val_loss: 0.3459 - val_acc: 0.8414\n",
            "Epoch 2/10\n",
            "25000/25000 [==============================] - 155s 6ms/sample - loss: 0.3226 - acc: 0.8576 - val_loss: 0.3703 - val_acc: 0.8288\n",
            "Epoch 3/10\n",
            "25000/25000 [==============================] - 155s 6ms/sample - loss: 0.2890 - acc: 0.8765 - val_loss: 0.3278 - val_acc: 0.8548\n",
            "Epoch 4/10\n",
            "25000/25000 [==============================] - 155s 6ms/sample - loss: 0.2539 - acc: 0.8910 - val_loss: 0.3237 - val_acc: 0.8530\n",
            "Epoch 5/10\n",
            "25000/25000 [==============================] - 155s 6ms/sample - loss: 0.2160 - acc: 0.9097 - val_loss: 0.3675 - val_acc: 0.8490\n",
            "Epoch 6/10\n",
            "25000/25000 [==============================] - 155s 6ms/sample - loss: 0.1660 - acc: 0.9330 - val_loss: 0.4287 - val_acc: 0.8364\n",
            "Epoch 7/10\n",
            "25000/25000 [==============================] - 155s 6ms/sample - loss: 0.1073 - acc: 0.9580 - val_loss: 0.4778 - val_acc: 0.8530\n",
            "Epoch 8/10\n",
            "25000/25000 [==============================] - 155s 6ms/sample - loss: 0.0595 - acc: 0.9794 - val_loss: 0.6024 - val_acc: 0.8416\n",
            "Epoch 9/10\n",
            "25000/25000 [==============================] - 155s 6ms/sample - loss: 0.0470 - acc: 0.9826 - val_loss: 0.6464 - val_acc: 0.8392\n",
            "Epoch 10/10\n",
            "25000/25000 [==============================] - 155s 6ms/sample - loss: 0.0255 - acc: 0.9911 - val_loss: 0.7281 - val_acc: 0.8470\n"
          ],
          "name": "stdout"
        }
      ]
    },
    {
      "cell_type": "code",
      "metadata": {
        "id": "bu2NZ6-ie1ra",
        "colab_type": "code",
        "colab": {}
      },
      "source": [
        "predict_pre = model_pre.predict([test_input_ids, test_input_masks, test_segment_ids])"
      ],
      "execution_count": 0,
      "outputs": []
    },
    {
      "cell_type": "code",
      "metadata": {
        "id": "AcrtHRW0e5t_",
        "colab_type": "code",
        "outputId": "4bce44b9-8a85-48ca-be3a-1f0d17d6839f",
        "colab": {
          "base_uri": "https://localhost:8080/",
          "height": 381
        }
      },
      "source": [
        "pred = []\n",
        "for t in predict_pre:\n",
        "  if(t<0.5):\n",
        "    pred.append(0)\n",
        "  else :\n",
        "    pred.append(1)\n",
        "\n",
        "yr = test_labels\n",
        "\n",
        "from sklearn import metrics\n",
        "fpr, tpr, thresholds = metrics.roc_curve(yr, pred, pos_label=1)\n",
        "print(\"AUC : \",metrics.auc(fpr, tpr))\n",
        "\n",
        "from sklearn.metrics import accuracy_score\n",
        "print(\"accuracy : \",accuracy_score(yr,pred))\n",
        "\n",
        "from sklearn.metrics import precision_score\n",
        "print(\"precision : \",precision_score(yr, pred))\n",
        "\n",
        "from sklearn.metrics import recall_score\n",
        "print(\"recall : \" ,recall_score(yr, pred) )\n",
        "\n",
        "from sklearn.metrics import f1_score\n",
        "print(\"F1 : \", f1_score(yr, pred))\n",
        "\n",
        "import matplotlib.pyplot as plt\n",
        "import numpy as np\n",
        "import math\n",
        "hist2=history_pre.history\n",
        "loss=hist2['loss']\n",
        "val_loss=hist2['val_loss']\n",
        "plt.xlabel('Epochs')\n",
        "plt.ylabel('train loss')\n",
        "plt.plot(loss)\n",
        "\n",
        "plt.xlabel('Epochs')\n",
        "plt.ylabel('test perplexity')\n",
        "plt.plot(val_loss)\n",
        "plt.legend(['train loss','test loss'])"
      ],
      "execution_count": 0,
      "outputs": [
        {
          "output_type": "stream",
          "text": [
            "AUC :  0.8469784785960367\n",
            "accuracy :  0.847\n",
            "precision :  0.8415064731267163\n",
            "recall :  0.8559457302474063\n",
            "F1 :  0.8486646884272997\n"
          ],
          "name": "stdout"
        },
        {
          "output_type": "execute_result",
          "data": {
            "text/plain": [
              "<matplotlib.legend.Legend at 0x7f2585f1fa58>"
            ]
          },
          "metadata": {
            "tags": []
          },
          "execution_count": 33
        },
        {
          "output_type": "display_data",
          "data": {
            "image/png": "[encoded data removed]",
            "text/plain": [
              "<Figure size 432x288 with 1 Axes>"
            ]
          },
          "metadata": {
            "tags": [],
            "needs_background": "light"
          }
        }
      ]
    },
    {
      "cell_type": "markdown",
      "metadata": {
        "id": "9Rw1_dd-BOWi",
        "colab_type": "text"
      },
      "source": [
        "## **بخش امتیازی**"
      ]
    },
    {
      "cell_type": "code",
      "metadata": {
        "id": "p09UVJ2mfVIn",
        "colab_type": "code",
        "colab": {}
      },
      "source": [
        "def build_model2(): \n",
        "    in_id = tf.keras.layers.Input(shape=(128,), name=\"input_ids\")\n",
        "    in_mask = tf.keras.layers.Input(shape=(128,), name=\"input_masks\")\n",
        "    in_segment = tf.keras.layers.Input(shape=(128,), name=\"segment_ids\")\n",
        "    bert_inputs = [in_id, in_mask, in_segment]\n",
        "    \n",
        "    bert_output = BertLayer(n_fine_tune_layers=5)(bert_inputs)\n",
        "    dense = tf.keras.layers.Dense(256, activation='relu')(bert_output)\n",
        "    tf.keras.layers.Dropout(0.3)\n",
        "    dense2 = tf.keras.layers.Dense(768, activation='relu')(dense)\n",
        "    tf.keras.layers.Dropout(0.3)\n",
        "    pred = tf.keras.layers.Dense(1, activation='sigmoid')(dense2)\n",
        "    \n",
        "    model = tf.keras.models.Model(inputs=bert_inputs, outputs=pred)\n",
        "    ada = keras.optimizers.Adam(learning_rate=0.0002, beta_1=0.9, beta_2=0.999, amsgrad=False)\n",
        "    model.compile(loss='binary_crossentropy', optimizer=ada, metrics=['accuracy'])\n",
        "    model.summary()\n",
        "    \n",
        "    return model"
      ],
      "execution_count": 0,
      "outputs": []
    },
    {
      "cell_type": "code",
      "metadata": {
        "id": "ZMy43VIdghZJ",
        "colab_type": "code",
        "outputId": "85cfc248-8d5c-4c4a-cc05-73f8a8cd6e03",
        "colab": {
          "base_uri": "https://localhost:8080/",
          "height": 836
        }
      },
      "source": [
        "model3 = build_model2()\n",
        "sess = tf.Session()\n",
        "# Instantiate variables\n",
        "initialize_vars(sess)\n",
        "\n",
        "history3 = model3.fit(\n",
        "    [train_input_ids, train_input_masks, train_segment_ids], \n",
        "    train_labels,\n",
        "    validation_data=([test_input_ids, test_input_masks, test_segment_ids], test_labels),\n",
        "    epochs=10,\n",
        "    batch_size=100\n",
        ")"
      ],
      "execution_count": 0,
      "outputs": [
        {
          "output_type": "stream",
          "text": [
            "INFO:tensorflow:Saver not created because there are no variables in the graph to restore\n"
          ],
          "name": "stdout"
        },
        {
          "output_type": "stream",
          "text": [
            "INFO:tensorflow:Saver not created because there are no variables in the graph to restore\n"
          ],
          "name": "stderr"
        },
        {
          "output_type": "stream",
          "text": [
            "Model: \"model_4\"\n",
            "__________________________________________________________________________________________________\n",
            "Layer (type)                    Output Shape         Param #     Connected to                     \n",
            "==================================================================================================\n",
            "input_ids (InputLayer)          [(None, 128)]        0                                            \n",
            "__________________________________________________________________________________________________\n",
            "input_masks (InputLayer)        [(None, 128)]        0                                            \n",
            "__________________________________________________________________________________________________\n",
            "segment_ids (InputLayer)        [(None, 128)]        0                                            \n",
            "__________________________________________________________________________________________________\n",
            "bert_layer_6 (BertLayer)        (None, 768)          108931396   input_ids[0][0]                  \n",
            "                                                                 input_masks[0][0]                \n",
            "                                                                 segment_ids[0][0]                \n",
            "__________________________________________________________________________________________________\n",
            "dense_14 (Dense)                (None, 256)          196864      bert_layer_6[0][0]               \n",
            "__________________________________________________________________________________________________\n",
            "dense_15 (Dense)                (None, 768)          197376      dense_14[0][0]                   \n",
            "__________________________________________________________________________________________________\n",
            "dense_16 (Dense)                (None, 1)            769         dense_15[0][0]                   \n",
            "==================================================================================================\n",
            "Total params: 109,326,405\n",
            "Trainable params: 3,346,433\n",
            "Non-trainable params: 105,979,972\n",
            "__________________________________________________________________________________________________\n",
            "Train on 25000 samples, validate on 5000 samples\n",
            "Epoch 1/10\n",
            "25000/25000 [==============================] - 161s 6ms/sample - loss: 0.4569 - acc: 0.7790 - val_loss: 0.4674 - val_acc: 0.7800\n",
            "Epoch 2/10\n",
            "25000/25000 [==============================] - 155s 6ms/sample - loss: 0.3787 - acc: 0.8290 - val_loss: 0.3970 - val_acc: 0.8126\n",
            "Epoch 3/10\n",
            "25000/25000 [==============================] - 155s 6ms/sample - loss: 0.3536 - acc: 0.8437 - val_loss: 0.3822 - val_acc: 0.8262\n",
            "Epoch 4/10\n",
            "25000/25000 [==============================] - 155s 6ms/sample - loss: 0.3319 - acc: 0.8560 - val_loss: 0.3951 - val_acc: 0.8158\n",
            "Epoch 5/10\n",
            "25000/25000 [==============================] - 155s 6ms/sample - loss: 0.3093 - acc: 0.8676 - val_loss: 0.4488 - val_acc: 0.8014\n",
            "Epoch 6/10\n",
            "25000/25000 [==============================] - 155s 6ms/sample - loss: 0.2875 - acc: 0.8798 - val_loss: 0.4668 - val_acc: 0.7826\n",
            "Epoch 7/10\n",
            "25000/25000 [==============================] - 155s 6ms/sample - loss: 0.2589 - acc: 0.8932 - val_loss: 0.4244 - val_acc: 0.8174\n",
            "Epoch 8/10\n",
            "25000/25000 [==============================] - 155s 6ms/sample - loss: 0.2093 - acc: 0.9181 - val_loss: 0.5164 - val_acc: 0.7960\n",
            "Epoch 9/10\n",
            "25000/25000 [==============================] - 155s 6ms/sample - loss: 0.1646 - acc: 0.9369 - val_loss: 0.6573 - val_acc: 0.8016\n",
            "Epoch 10/10\n",
            "25000/25000 [==============================] - 155s 6ms/sample - loss: 0.1151 - acc: 0.9592 - val_loss: 0.7559 - val_acc: 0.7716\n"
          ],
          "name": "stdout"
        }
      ]
    },
    {
      "cell_type": "code",
      "metadata": {
        "id": "drqDGpsUptaq",
        "colab_type": "code",
        "colab": {}
      },
      "source": [
        "predict3 = model3.predict([test_input_ids, test_input_masks, test_segment_ids])"
      ],
      "execution_count": 0,
      "outputs": []
    },
    {
      "cell_type": "code",
      "metadata": {
        "id": "wbNXwmGPp50C",
        "colab_type": "code",
        "outputId": "e7820fe8-c090-4fbb-8a48-4bbd10f8878f",
        "colab": {
          "base_uri": "https://localhost:8080/",
          "height": 381
        }
      },
      "source": [
        "pred = []\n",
        "for t in predict3:\n",
        "  if(t<0.5):\n",
        "    pred.append(0)\n",
        "  else :\n",
        "    pred.append(1)\n",
        "\n",
        "yr = test_labels\n",
        "\n",
        "from sklearn import metrics\n",
        "fpr, tpr, thresholds = metrics.roc_curve(yr, pred, pos_label=1)\n",
        "print(\"AUC : \",metrics.auc(fpr, tpr))\n",
        "\n",
        "from sklearn.metrics import accuracy_score\n",
        "print(\"accuracy : \",accuracy_score(yr,pred))\n",
        "\n",
        "from sklearn.metrics import precision_score\n",
        "print(\"precision : \",precision_score(yr, pred))\n",
        "\n",
        "from sklearn.metrics import recall_score\n",
        "print(\"recall : \" ,recall_score(yr, pred) )\n",
        "\n",
        "from sklearn.metrics import f1_score\n",
        "print(\"F1 : \", f1_score(yr, pred))\n",
        "\n",
        "import matplotlib.pyplot as plt\n",
        "import numpy as np\n",
        "import math\n",
        "hist2=history3.history\n",
        "loss=hist2['loss']\n",
        "val_loss=hist2['val_loss']\n",
        "plt.xlabel('Epochs')\n",
        "plt.ylabel('train loss')\n",
        "plt.plot(loss)\n",
        "\n",
        "plt.xlabel('Epochs')\n",
        "plt.ylabel('test perplexity')\n",
        "plt.plot(val_loss)\n",
        "plt.legend(['train loss','test loss'])"
      ],
      "execution_count": 0,
      "outputs": [
        {
          "output_type": "stream",
          "text": [
            "AUC :  0.7666064741177644\n",
            "accuracy :  0.7716\n",
            "precision :  0.7091015510681885\n",
            "recall :  0.9424348502528199\n",
            "F1 :  0.8092852371409485\n"
          ],
          "name": "stdout"
        },
        {
          "output_type": "execute_result",
          "data": {
            "text/plain": [
              "<matplotlib.legend.Legend at 0x7f258be42cc0>"
            ]
          },
          "metadata": {
            "tags": []
          },
          "execution_count": 44
        },
        {
          "output_type": "display_data",
          "data": {
            "image/png": "[encoded data removed]",
            "text/plain": [
              "<Figure size 432x288 with 1 Axes>"
            ]
          },
          "metadata": {
            "tags": [],
            "needs_background": "light"
          }
        }
      ]
    },
    {
      "cell_type": "code",
      "metadata": {
        "id": "MNg7HLEyUO_x",
        "colab_type": "code",
        "colab": {}
      },
      "source": [
        "def build_model5(): \n",
        "    in_id = tf.keras.layers.Input(shape=(128,), name=\"input_ids\")\n",
        "    in_mask = tf.keras.layers.Input(shape=(128,), name=\"input_masks\")\n",
        "    in_segment = tf.keras.layers.Input(shape=(128,), name=\"segment_ids\")\n",
        "    bert_inputs = [in_id, in_mask, in_segment]\n",
        "    \n",
        "    bert_output = BertLayer(n_fine_tune_layers=5)(bert_inputs)\n",
        "    dense = tf.keras.layers.Dense(32, activation='relu')(bert_output)\n",
        "    dense2 = tf.keras.layers.Dense(64, activation='relu')(dense)\n",
        "    dense3 = tf.keras.layers.Dense(128, activation='relu')(dense2)\n",
        "    dense4 = tf.keras.layers.Dense(256, activation='relu')(dense3)\n",
        "    dense5 = tf.keras.layers.Dense(768, activation='relu')(dense4)\n",
        "    pred = tf.keras.layers.Dense(1, activation='sigmoid')(dense5)\n",
        "    \n",
        "    model = tf.keras.models.Model(inputs=bert_inputs, outputs=pred)\n",
        "    ada = keras.optimizers.Adam(learning_rate=0.0002, beta_1=0.9, beta_2=0.999, amsgrad=False)\n",
        "    model.compile(loss='binary_crossentropy', optimizer=ada, metrics=['accuracy'])\n",
        "    model.summary()\n",
        "    \n",
        "    return model"
      ],
      "execution_count": 0,
      "outputs": []
    },
    {
      "cell_type": "code",
      "metadata": {
        "id": "-OvHkadbB0Yx",
        "colab_type": "code",
        "outputId": "657a9513-c371-4d42-d136-20a0b5c0c61a",
        "colab": {
          "base_uri": "https://localhost:8080/",
          "height": 918
        }
      },
      "source": [
        "model5 = build_model5()\n",
        "sess = tf.Session()\n",
        "# Instantiate variables\n",
        "initialize_vars(sess)\n",
        "\n",
        "history5 = model5.fit(\n",
        "    [train_input_ids, train_input_masks, train_segment_ids], \n",
        "    train_labels,\n",
        "    validation_data=([test_input_ids, test_input_masks, test_segment_ids], test_labels),\n",
        "    epochs=10,\n",
        "    batch_size=350\n",
        ")"
      ],
      "execution_count": 13,
      "outputs": [
        {
          "output_type": "stream",
          "text": [
            "INFO:tensorflow:Saver not created because there are no variables in the graph to restore\n"
          ],
          "name": "stdout"
        },
        {
          "output_type": "stream",
          "text": [
            "INFO:tensorflow:Saver not created because there are no variables in the graph to restore\n"
          ],
          "name": "stderr"
        },
        {
          "output_type": "stream",
          "text": [
            "Model: \"model_1\"\n",
            "__________________________________________________________________________________________________\n",
            "Layer (type)                    Output Shape         Param #     Connected to                     \n",
            "==================================================================================================\n",
            "input_ids (InputLayer)          [(None, 128)]        0                                            \n",
            "__________________________________________________________________________________________________\n",
            "input_masks (InputLayer)        [(None, 128)]        0                                            \n",
            "__________________________________________________________________________________________________\n",
            "segment_ids (InputLayer)        [(None, 128)]        0                                            \n",
            "__________________________________________________________________________________________________\n",
            "bert_layer_1 (BertLayer)        (None, 768)          108931396   input_ids[0][0]                  \n",
            "                                                                 input_masks[0][0]                \n",
            "                                                                 segment_ids[0][0]                \n",
            "__________________________________________________________________________________________________\n",
            "dense_6 (Dense)                 (None, 32)           24608       bert_layer_1[0][0]               \n",
            "__________________________________________________________________________________________________\n",
            "dense_7 (Dense)                 (None, 64)           2112        dense_6[0][0]                    \n",
            "__________________________________________________________________________________________________\n",
            "dense_8 (Dense)                 (None, 128)          8320        dense_7[0][0]                    \n",
            "__________________________________________________________________________________________________\n",
            "dense_9 (Dense)                 (None, 256)          33024       dense_8[0][0]                    \n",
            "__________________________________________________________________________________________________\n",
            "dense_10 (Dense)                (None, 768)          197376      dense_9[0][0]                    \n",
            "__________________________________________________________________________________________________\n",
            "dense_11 (Dense)                (None, 1)            769         dense_10[0][0]                   \n",
            "==================================================================================================\n",
            "Total params: 109,197,605\n",
            "Trainable params: 3,217,633\n",
            "Non-trainable params: 105,979,972\n",
            "__________________________________________________________________________________________________\n",
            "Train on 25000 samples, validate on 5000 samples\n",
            "Epoch 1/10\n",
            "25000/25000 [==============================] - 534s 21ms/sample - loss: 0.5366 - acc: 0.7207 - val_loss: 0.4385 - val_acc: 0.7978\n",
            "Epoch 2/10\n",
            "25000/25000 [==============================] - 532s 21ms/sample - loss: 0.4063 - acc: 0.8160 - val_loss: 0.4013 - val_acc: 0.8174\n",
            "Epoch 3/10\n",
            "25000/25000 [==============================] - 534s 21ms/sample - loss: 0.3756 - acc: 0.8305 - val_loss: 0.3770 - val_acc: 0.8296\n",
            "Epoch 4/10\n",
            "25000/25000 [==============================] - 533s 21ms/sample - loss: 0.3605 - acc: 0.8419 - val_loss: 0.4135 - val_acc: 0.8074\n",
            "Epoch 5/10\n",
            "25000/25000 [==============================] - 534s 21ms/sample - loss: 0.3543 - acc: 0.8446 - val_loss: 0.3719 - val_acc: 0.8356\n",
            "Epoch 6/10\n",
            "25000/25000 [==============================] - 532s 21ms/sample - loss: 0.3346 - acc: 0.8550 - val_loss: 0.3854 - val_acc: 0.8218\n",
            "Epoch 7/10\n",
            "25000/25000 [==============================] - 533s 21ms/sample - loss: 0.3246 - acc: 0.8600 - val_loss: 0.3908 - val_acc: 0.8148\n",
            "Epoch 8/10\n",
            "25000/25000 [==============================] - 533s 21ms/sample - loss: 0.3117 - acc: 0.8668 - val_loss: 0.3747 - val_acc: 0.8278\n",
            "Epoch 9/10\n",
            "25000/25000 [==============================] - 534s 21ms/sample - loss: 0.2963 - acc: 0.8730 - val_loss: 0.4021 - val_acc: 0.8162\n",
            "Epoch 10/10\n",
            "25000/25000 [==============================] - 532s 21ms/sample - loss: 0.2928 - acc: 0.8755 - val_loss: 0.3789 - val_acc: 0.8284\n"
          ],
          "name": "stdout"
        }
      ]
    },
    {
      "cell_type": "code",
      "metadata": {
        "id": "2DsLJ61nB-xb",
        "colab_type": "code",
        "colab": {}
      },
      "source": [
        "predict5 = model5.predict([test_input_ids, test_input_masks, test_segment_ids])"
      ],
      "execution_count": 0,
      "outputs": []
    },
    {
      "cell_type": "code",
      "metadata": {
        "id": "xRUmynGTmUDc",
        "colab_type": "code",
        "colab": {
          "base_uri": "https://localhost:8080/",
          "height": 381
        },
        "outputId": "fcc20536-e434-4a98-d053-c01ae21887c9"
      },
      "source": [
        "pred = []\n",
        "for t in predict5:\n",
        "  if(t<0.5):\n",
        "    pred.append(0)\n",
        "  else :\n",
        "    pred.append(1)\n",
        "\n",
        "yr = test_labels\n",
        "\n",
        "from sklearn import metrics\n",
        "fpr, tpr, thresholds = metrics.roc_curve(yr, pred, pos_label=1)\n",
        "print(\"AUC : \",metrics.auc(fpr, tpr))\n",
        "\n",
        "from sklearn.metrics import accuracy_score\n",
        "print(\"accuracy : \",accuracy_score(yr,pred))\n",
        "\n",
        "from sklearn.metrics import precision_score\n",
        "print(\"precision : \",precision_score(yr, pred))\n",
        "\n",
        "from sklearn.metrics import recall_score\n",
        "print(\"recall : \" ,recall_score(yr, pred) )\n",
        "\n",
        "from sklearn.metrics import f1_score\n",
        "print(\"F1 : \", f1_score(yr, pred))\n",
        "\n",
        "import matplotlib.pyplot as plt\n",
        "import numpy as np\n",
        "import math\n",
        "hist2=history5.history\n",
        "loss=hist2['loss']\n",
        "val_loss=hist2['val_loss']\n",
        "plt.xlabel('Epochs')\n",
        "plt.ylabel('train loss')\n",
        "plt.plot(loss)\n",
        "\n",
        "plt.xlabel('Epochs')\n",
        "plt.ylabel('test perplexity')\n",
        "plt.plot(val_loss)\n",
        "plt.legend(['train loss','test loss'])"
      ],
      "execution_count": 15,
      "outputs": [
        {
          "output_type": "stream",
          "text": [
            "AUC :  0.828522441017449\n",
            "accuracy :  0.8284\n",
            "precision :  0.784375\n",
            "recall :  0.9050480769230769\n",
            "F1 :  0.8404017857142858\n"
          ],
          "name": "stdout"
        },
        {
          "output_type": "execute_result",
          "data": {
            "text/plain": [
              "<matplotlib.legend.Legend at 0x7f40ac642160>"
            ]
          },
          "metadata": {
            "tags": []
          },
          "execution_count": 15
        },
        {
          "output_type": "display_data",
          "data": {
            "image/png": "[encoded data removed]",
            "text/plain": [
              "<Figure size 432x288 with 1 Axes>"
            ]
          },
          "metadata": {
            "tags": [],
            "needs_background": "light"
          }
        }
      ]
    },
    {
      "cell_type": "code",
      "metadata": {
        "id": "987o1cjNminR",
        "colab_type": "code",
        "colab": {}
      },
      "source": [
        "def build_model7(): \n",
        "    in_id = tf.keras.layers.Input(shape=(128,), name=\"input_ids\")\n",
        "    in_mask = tf.keras.layers.Input(shape=(128,), name=\"input_masks\")\n",
        "    in_segment = tf.keras.layers.Input(shape=(128,), name=\"segment_ids\")\n",
        "    bert_inputs = [in_id, in_mask, in_segment]\n",
        "    \n",
        "    bert_output = BertLayer(n_fine_tune_layers=5)(bert_inputs)\n",
        "    dense = tf.keras.layers.Dense(16, activation='relu')(bert_output)\n",
        "    dense2 = tf.keras.layers.Dense(32, activation='relu')(dense)\n",
        "    dense3 = tf.keras.layers.Dense(64, activation='relu')(dense2)\n",
        "    dense4 = tf.keras.layers.Dense(128, activation='relu')(dense3)\n",
        "    dense5 = tf.keras.layers.Dense(256, activation='relu')(dense4)\n",
        "    dense6 = tf.keras.layers.Dense(512, activation='relu')(dense5)\n",
        "    dense7 = tf.keras.layers.Dense(768, activation='relu')(dense6)\n",
        "    pred = tf.keras.layers.Dense(1, activation='sigmoid')(dense7)\n",
        "    \n",
        "    model = tf.keras.models.Model(inputs=bert_inputs, outputs=pred)\n",
        "    ada = keras.optimizers.Adam(learning_rate=0.0002, beta_1=0.9, beta_2=0.999, amsgrad=False)\n",
        "    model.compile(loss='binary_crossentropy', optimizer=ada, metrics=['accuracy'])\n",
        "    model.summary()\n",
        "    \n",
        "    return model"
      ],
      "execution_count": 0,
      "outputs": []
    },
    {
      "cell_type": "code",
      "metadata": {
        "id": "4Nter8uLnjMZ",
        "colab_type": "code",
        "colab": {
          "base_uri": "https://localhost:8080/",
          "height": 986
        },
        "outputId": "38ebc806-91c9-4624-9d88-00e05c4a39c2"
      },
      "source": [
        "model7 = build_model7()\n",
        "sess = tf.Session()\n",
        "# Instantiate variables\n",
        "initialize_vars(sess)\n",
        "\n",
        "history7 = model7.fit(\n",
        "    [train_input_ids, train_input_masks, train_segment_ids], \n",
        "    train_labels,\n",
        "    validation_data=([test_input_ids, test_input_masks, test_segment_ids], test_labels),\n",
        "    epochs=10,\n",
        "    batch_size=250\n",
        ")"
      ],
      "execution_count": 18,
      "outputs": [
        {
          "output_type": "stream",
          "text": [
            "INFO:tensorflow:Saver not created because there are no variables in the graph to restore\n"
          ],
          "name": "stdout"
        },
        {
          "output_type": "stream",
          "text": [
            "INFO:tensorflow:Saver not created because there are no variables in the graph to restore\n"
          ],
          "name": "stderr"
        },
        {
          "output_type": "stream",
          "text": [
            "Model: \"model_3\"\n",
            "__________________________________________________________________________________________________\n",
            "Layer (type)                    Output Shape         Param #     Connected to                     \n",
            "==================================================================================================\n",
            "input_ids (InputLayer)          [(None, 128)]        0                                            \n",
            "__________________________________________________________________________________________________\n",
            "input_masks (InputLayer)        [(None, 128)]        0                                            \n",
            "__________________________________________________________________________________________________\n",
            "segment_ids (InputLayer)        [(None, 128)]        0                                            \n",
            "__________________________________________________________________________________________________\n",
            "bert_layer_3 (BertLayer)        (None, 768)          108931396   input_ids[0][0]                  \n",
            "                                                                 input_masks[0][0]                \n",
            "                                                                 segment_ids[0][0]                \n",
            "__________________________________________________________________________________________________\n",
            "dense_20 (Dense)                (None, 16)           12304       bert_layer_3[0][0]               \n",
            "__________________________________________________________________________________________________\n",
            "dense_21 (Dense)                (None, 32)           544         dense_20[0][0]                   \n",
            "__________________________________________________________________________________________________\n",
            "dense_22 (Dense)                (None, 64)           2112        dense_21[0][0]                   \n",
            "__________________________________________________________________________________________________\n",
            "dense_23 (Dense)                (None, 128)          8320        dense_22[0][0]                   \n",
            "__________________________________________________________________________________________________\n",
            "dense_24 (Dense)                (None, 256)          33024       dense_23[0][0]                   \n",
            "__________________________________________________________________________________________________\n",
            "dense_25 (Dense)                (None, 512)          131584      dense_24[0][0]                   \n",
            "__________________________________________________________________________________________________\n",
            "dense_26 (Dense)                (None, 768)          393984      dense_25[0][0]                   \n",
            "__________________________________________________________________________________________________\n",
            "dense_27 (Dense)                (None, 1)            769         dense_26[0][0]                   \n",
            "==================================================================================================\n",
            "Total params: 109,514,037\n",
            "Trainable params: 3,534,065\n",
            "Non-trainable params: 105,979,972\n",
            "__________________________________________________________________________________________________\n",
            "Train on 25000 samples, validate on 5000 samples\n",
            "Epoch 1/10\n",
            "25000/25000 [==============================] - 536s 21ms/sample - loss: 0.5146 - acc: 0.7354 - val_loss: 0.5327 - val_acc: 0.7256\n",
            "Epoch 2/10\n",
            "25000/25000 [==============================] - 533s 21ms/sample - loss: 0.3932 - acc: 0.8234 - val_loss: 0.4372 - val_acc: 0.7940\n",
            "Epoch 3/10\n",
            "25000/25000 [==============================] - 534s 21ms/sample - loss: 0.3719 - acc: 0.8346 - val_loss: 0.4229 - val_acc: 0.7926\n",
            "Epoch 4/10\n",
            "25000/25000 [==============================] - 534s 21ms/sample - loss: 0.3471 - acc: 0.8482 - val_loss: 0.3716 - val_acc: 0.8302\n",
            "Epoch 5/10\n",
            "25000/25000 [==============================] - 534s 21ms/sample - loss: 0.3396 - acc: 0.8544 - val_loss: 0.4171 - val_acc: 0.8056\n",
            "Epoch 6/10\n",
            "25000/25000 [==============================] - 534s 21ms/sample - loss: 0.3268 - acc: 0.8580 - val_loss: 0.3685 - val_acc: 0.8370\n",
            "Epoch 7/10\n",
            "25000/25000 [==============================] - 533s 21ms/sample - loss: 0.3105 - acc: 0.8677 - val_loss: 0.3810 - val_acc: 0.8236\n",
            "Epoch 8/10\n",
            "25000/25000 [==============================] - 533s 21ms/sample - loss: 0.2948 - acc: 0.8734 - val_loss: 0.4674 - val_acc: 0.7754\n",
            "Epoch 9/10\n",
            "25000/25000 [==============================] - 533s 21ms/sample - loss: 0.2800 - acc: 0.8844 - val_loss: 0.3967 - val_acc: 0.8230\n",
            "Epoch 10/10\n",
            "25000/25000 [==============================] - 533s 21ms/sample - loss: 0.2598 - acc: 0.8947 - val_loss: 0.4772 - val_acc: 0.7946\n"
          ],
          "name": "stdout"
        }
      ]
    },
    {
      "cell_type": "code",
      "metadata": {
        "id": "QzMKmOebnvpu",
        "colab_type": "code",
        "colab": {}
      },
      "source": [
        "predict7 = model7.predict([test_input_ids, test_input_masks, test_segment_ids])"
      ],
      "execution_count": 0,
      "outputs": []
    },
    {
      "cell_type": "code",
      "metadata": {
        "id": "HilNNVtZ97Ij",
        "colab_type": "code",
        "colab": {
          "base_uri": "https://localhost:8080/",
          "height": 381
        },
        "outputId": "596a64f1-a89c-43be-803c-e262895471c6"
      },
      "source": [
        "pred = []\n",
        "for t in predict7:\n",
        "  if(t<0.5):\n",
        "    pred.append(0)\n",
        "  else :\n",
        "    pred.append(1)\n",
        "\n",
        "yr = test_labels\n",
        "\n",
        "from sklearn import metrics\n",
        "fpr, tpr, thresholds = metrics.roc_curve(yr, pred, pos_label=1)\n",
        "print(\"AUC : \",metrics.auc(fpr, tpr))\n",
        "\n",
        "from sklearn.metrics import accuracy_score\n",
        "print(\"accuracy : \",accuracy_score(yr,pred))\n",
        "\n",
        "from sklearn.metrics import precision_score\n",
        "print(\"precision : \",precision_score(yr, pred))\n",
        "\n",
        "from sklearn.metrics import recall_score\n",
        "print(\"recall : \" ,recall_score(yr, pred) )\n",
        "\n",
        "from sklearn.metrics import f1_score\n",
        "print(\"F1 : \", f1_score(yr, pred))\n",
        "\n",
        "import matplotlib.pyplot as plt\n",
        "import numpy as np\n",
        "import math\n",
        "hist2=history7.history\n",
        "loss=hist2['loss']\n",
        "val_loss=hist2['val_loss']\n",
        "plt.xlabel('Epochs')\n",
        "plt.ylabel('train loss')\n",
        "plt.plot(loss)\n",
        "\n",
        "plt.xlabel('Epochs')\n",
        "plt.ylabel('test perplexity')\n",
        "plt.plot(val_loss)\n",
        "plt.legend(['train loss','test loss'])"
      ],
      "execution_count": 21,
      "outputs": [
        {
          "output_type": "stream",
          "text": [
            "AUC :  0.7948557948308349\n",
            "accuracy :  0.7946\n",
            "precision :  0.7227782832878374\n",
            "recall :  0.9547275641025641\n",
            "F1 :  0.8227170723286725\n"
          ],
          "name": "stdout"
        },
        {
          "output_type": "execute_result",
          "data": {
            "text/plain": [
              "<matplotlib.legend.Legend at 0x7f40ac680278>"
            ]
          },
          "metadata": {
            "tags": []
          },
          "execution_count": 21
        },
        {
          "output_type": "display_data",
          "data": {
            "image/png": "[encoded data removed]",
            "text/plain": [
              "<Figure size 432x288 with 1 Axes>"
            ]
          },
          "metadata": {
            "tags": [],
            "needs_background": "light"
          }
        }
      ]
    },
    {
      "cell_type": "code",
      "metadata": {
        "id": "pwLXFJe_-CuH",
        "colab_type": "code",
        "colab": {}
      },
      "source": [
        ""
      ],
      "execution_count": 0,
      "outputs": []
    }
  ]
}