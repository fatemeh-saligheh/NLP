{
  "nbformat": 4,
  "nbformat_minor": 0,
  "metadata": {
    "colab": {
      "name": "sentiment_ELMO_50_epochs.ipynb",
      "provenance": [],
      "collapsed_sections": [],
      "machine_shape": "hm"
    },
    "kernelspec": {
      "name": "python3",
      "display_name": "Python 3"
    },
    "accelerator": "GPU"
  },
  "cells": [
    {
      "cell_type": "code",
      "metadata": {
        "id": "ZfwowywOZDS3",
        "colab_type": "code",
        "outputId": "dbf19774-d22d-4102-c1de-59ea0c4b4d33",
        "colab": {
          "base_uri": "https://localhost:8080/",
          "height": 1000
        }
      },
      "source": [
        "import glob\n",
        "import os\n",
        "import re\n",
        "from nltk.tokenize import word_tokenize\n",
        "import nltk\n",
        "import tarfile\n",
        "nltk.download('punkt')\n",
        "!pip install tensorflow==1.15\n",
        "!pip install \"tensorflow_hub>=0.6.0\"\n",
        "!pip3 install tensorflow_text==1.15\n",
        "\n",
        "import tensorflow as tf\n",
        "import tensorflow_hub as hub\n",
        "import pandas as pd\n",
        "from sklearn import preprocessing\n",
        "import keras\n",
        "import numpy as np\n",
        "\n",
        "from keras.layers import Input, Lambda, Dense\n",
        "from keras.models import Model\n",
        "import keras.backend as K\n",
        "!pip install keras_metrics\n",
        "import keras_metrics\n",
        "!pip install transformers\n",
        "from transformers import BertTokenizer"
      ],
      "execution_count": 1,
      "outputs": [
        {
          "output_type": "stream",
          "text": [
            "[nltk_data] Downloading package punkt to /root/nltk_data...\n",
            "[nltk_data]   Unzipping tokenizers/punkt.zip.\n",
            "Collecting tensorflow==1.15\n",
            "\u001b[?25l  Downloading https://files.pythonhosted.org/packages/3f/98/5a99af92fb911d7a88a0005ad55005f35b4c1ba8d75fba02df726cd936e6/tensorflow-1.15.0-cp36-cp36m-manylinux2010_x86_64.whl (412.3MB)\n",
            "\u001b[K     |████████████████████████████████| 412.3MB 37kB/s \n",
            "\u001b[?25hRequirement already satisfied: numpy<2.0,>=1.16.0 in /usr/local/lib/python3.6/dist-packages (from tensorflow==1.15) (1.18.3)\n",
            "Requirement already satisfied: protobuf>=3.6.1 in /usr/local/lib/python3.6/dist-packages (from tensorflow==1.15) (3.10.0)\n",
            "Requirement already satisfied: google-pasta>=0.1.6 in /usr/local/lib/python3.6/dist-packages (from tensorflow==1.15) (0.2.0)\n",
            "Requirement already satisfied: wrapt>=1.11.1 in /usr/local/lib/python3.6/dist-packages (from tensorflow==1.15) (1.12.1)\n",
            "Requirement already satisfied: astor>=0.6.0 in /usr/local/lib/python3.6/dist-packages (from tensorflow==1.15) (0.8.1)\n",
            "Requirement already satisfied: keras-applications>=1.0.8 in /usr/local/lib/python3.6/dist-packages (from tensorflow==1.15) (1.0.8)\n",
            "Requirement already satisfied: termcolor>=1.1.0 in /usr/local/lib/python3.6/dist-packages (from tensorflow==1.15) (1.1.0)\n",
            "Requirement already satisfied: grpcio>=1.8.6 in /usr/local/lib/python3.6/dist-packages (from tensorflow==1.15) (1.28.1)\n",
            "Requirement already satisfied: keras-preprocessing>=1.0.5 in /usr/local/lib/python3.6/dist-packages (from tensorflow==1.15) (1.1.0)\n",
            "Requirement already satisfied: opt-einsum>=2.3.2 in /usr/local/lib/python3.6/dist-packages (from tensorflow==1.15) (3.2.1)\n",
            "Collecting gast==0.2.2\n",
            "  Downloading https://files.pythonhosted.org/packages/4e/35/11749bf99b2d4e3cceb4d55ca22590b0d7c2c62b9de38ac4a4a7f4687421/gast-0.2.2.tar.gz\n",
            "Requirement already satisfied: six>=1.10.0 in /usr/local/lib/python3.6/dist-packages (from tensorflow==1.15) (1.12.0)\n",
            "Requirement already satisfied: absl-py>=0.7.0 in /usr/local/lib/python3.6/dist-packages (from tensorflow==1.15) (0.9.0)\n",
            "Collecting tensorboard<1.16.0,>=1.15.0\n",
            "\u001b[?25l  Downloading https://files.pythonhosted.org/packages/1e/e9/d3d747a97f7188f48aa5eda486907f3b345cd409f0a0850468ba867db246/tensorboard-1.15.0-py3-none-any.whl (3.8MB)\n",
            "\u001b[K     |████████████████████████████████| 3.8MB 59.9MB/s \n",
            "\u001b[?25hRequirement already satisfied: wheel>=0.26 in /usr/local/lib/python3.6/dist-packages (from tensorflow==1.15) (0.34.2)\n",
            "Collecting tensorflow-estimator==1.15.1\n",
            "\u001b[?25l  Downloading https://files.pythonhosted.org/packages/de/62/2ee9cd74c9fa2fa450877847ba560b260f5d0fb70ee0595203082dafcc9d/tensorflow_estimator-1.15.1-py2.py3-none-any.whl (503kB)\n",
            "\u001b[K     |████████████████████████████████| 512kB 65.3MB/s \n",
            "\u001b[?25hRequirement already satisfied: setuptools in /usr/local/lib/python3.6/dist-packages (from protobuf>=3.6.1->tensorflow==1.15) (46.1.3)\n",
            "Requirement already satisfied: h5py in /usr/local/lib/python3.6/dist-packages (from keras-applications>=1.0.8->tensorflow==1.15) (2.10.0)\n",
            "Requirement already satisfied: werkzeug>=0.11.15 in /usr/local/lib/python3.6/dist-packages (from tensorboard<1.16.0,>=1.15.0->tensorflow==1.15) (1.0.1)\n",
            "Requirement already satisfied: markdown>=2.6.8 in /usr/local/lib/python3.6/dist-packages (from tensorboard<1.16.0,>=1.15.0->tensorflow==1.15) (3.2.1)\n",
            "Building wheels for collected packages: gast\n",
            "  Building wheel for gast (setup.py) ... \u001b[?25l\u001b[?25hdone\n",
            "  Created wheel for gast: filename=gast-0.2.2-cp36-none-any.whl size=7540 sha256=6763cbd241f0dbf8ee5e1086c92fc324fa9f8aa3537849593f020b1d4ea3f30b\n",
            "  Stored in directory: /root/.cache/pip/wheels/5c/2e/7e/a1d4d4fcebe6c381f378ce7743a3ced3699feb89bcfbdadadd\n",
            "Successfully built gast\n",
            "\u001b[31mERROR: tensorflow-probability 0.10.0rc0 has requirement gast>=0.3.2, but you'll have gast 0.2.2 which is incompatible.\u001b[0m\n",
            "Installing collected packages: gast, tensorboard, tensorflow-estimator, tensorflow\n",
            "  Found existing installation: gast 0.3.3\n",
            "    Uninstalling gast-0.3.3:\n",
            "      Successfully uninstalled gast-0.3.3\n",
            "  Found existing installation: tensorboard 2.2.1\n",
            "    Uninstalling tensorboard-2.2.1:\n",
            "      Successfully uninstalled tensorboard-2.2.1\n",
            "  Found existing installation: tensorflow-estimator 2.2.0\n",
            "    Uninstalling tensorflow-estimator-2.2.0:\n",
            "      Successfully uninstalled tensorflow-estimator-2.2.0\n",
            "  Found existing installation: tensorflow 2.2.0rc4\n",
            "    Uninstalling tensorflow-2.2.0rc4:\n",
            "      Successfully uninstalled tensorflow-2.2.0rc4\n",
            "Successfully installed gast-0.2.2 tensorboard-1.15.0 tensorflow-1.15.0 tensorflow-estimator-1.15.1\n",
            "Requirement already satisfied: tensorflow_hub>=0.6.0 in /usr/local/lib/python3.6/dist-packages (0.8.0)\n",
            "Requirement already satisfied: six>=1.12.0 in /usr/local/lib/python3.6/dist-packages (from tensorflow_hub>=0.6.0) (1.12.0)\n",
            "Requirement already satisfied: protobuf>=3.8.0 in /usr/local/lib/python3.6/dist-packages (from tensorflow_hub>=0.6.0) (3.10.0)\n",
            "Requirement already satisfied: numpy>=1.12.0 in /usr/local/lib/python3.6/dist-packages (from tensorflow_hub>=0.6.0) (1.18.3)\n",
            "Requirement already satisfied: setuptools in /usr/local/lib/python3.6/dist-packages (from protobuf>=3.8.0->tensorflow_hub>=0.6.0) (46.1.3)\n",
            "Collecting tensorflow_text==1.15\n",
            "\u001b[?25l  Downloading https://files.pythonhosted.org/packages/44/61/9569353ce3efb8ee818d0d2e2f67afbb19e1e3a56eba3a93986e92949003/tensorflow_text-1.15.0-cp36-cp36m-manylinux1_x86_64.whl (9.1MB)\n",
            "\u001b[K     |████████████████████████████████| 9.1MB 2.1MB/s \n",
            "\u001b[?25hRequirement already satisfied: tensorflow<1.16,>=1.15.0 in /usr/local/lib/python3.6/dist-packages (from tensorflow_text==1.15) (1.15.0)\n",
            "Requirement already satisfied: termcolor>=1.1.0 in /usr/local/lib/python3.6/dist-packages (from tensorflow<1.16,>=1.15.0->tensorflow_text==1.15) (1.1.0)\n",
            "Requirement already satisfied: keras-preprocessing>=1.0.5 in /usr/local/lib/python3.6/dist-packages (from tensorflow<1.16,>=1.15.0->tensorflow_text==1.15) (1.1.0)\n",
            "Requirement already satisfied: six>=1.10.0 in /usr/local/lib/python3.6/dist-packages (from tensorflow<1.16,>=1.15.0->tensorflow_text==1.15) (1.12.0)\n",
            "Requirement already satisfied: protobuf>=3.6.1 in /usr/local/lib/python3.6/dist-packages (from tensorflow<1.16,>=1.15.0->tensorflow_text==1.15) (3.10.0)\n",
            "Requirement already satisfied: grpcio>=1.8.6 in /usr/local/lib/python3.6/dist-packages (from tensorflow<1.16,>=1.15.0->tensorflow_text==1.15) (1.28.1)\n",
            "Requirement already satisfied: wheel>=0.26 in /usr/local/lib/python3.6/dist-packages (from tensorflow<1.16,>=1.15.0->tensorflow_text==1.15) (0.34.2)\n",
            "Requirement already satisfied: tensorboard<1.16.0,>=1.15.0 in /usr/local/lib/python3.6/dist-packages (from tensorflow<1.16,>=1.15.0->tensorflow_text==1.15) (1.15.0)\n",
            "Requirement already satisfied: absl-py>=0.7.0 in /usr/local/lib/python3.6/dist-packages (from tensorflow<1.16,>=1.15.0->tensorflow_text==1.15) (0.9.0)\n",
            "Requirement already satisfied: gast==0.2.2 in /usr/local/lib/python3.6/dist-packages (from tensorflow<1.16,>=1.15.0->tensorflow_text==1.15) (0.2.2)\n",
            "Requirement already satisfied: numpy<2.0,>=1.16.0 in /usr/local/lib/python3.6/dist-packages (from tensorflow<1.16,>=1.15.0->tensorflow_text==1.15) (1.18.3)\n",
            "Requirement already satisfied: astor>=0.6.0 in /usr/local/lib/python3.6/dist-packages (from tensorflow<1.16,>=1.15.0->tensorflow_text==1.15) (0.8.1)\n",
            "Requirement already satisfied: tensorflow-estimator==1.15.1 in /usr/local/lib/python3.6/dist-packages (from tensorflow<1.16,>=1.15.0->tensorflow_text==1.15) (1.15.1)\n",
            "Requirement already satisfied: wrapt>=1.11.1 in /usr/local/lib/python3.6/dist-packages (from tensorflow<1.16,>=1.15.0->tensorflow_text==1.15) (1.12.1)\n",
            "Requirement already satisfied: google-pasta>=0.1.6 in /usr/local/lib/python3.6/dist-packages (from tensorflow<1.16,>=1.15.0->tensorflow_text==1.15) (0.2.0)\n",
            "Requirement already satisfied: keras-applications>=1.0.8 in /usr/local/lib/python3.6/dist-packages (from tensorflow<1.16,>=1.15.0->tensorflow_text==1.15) (1.0.8)\n",
            "Requirement already satisfied: opt-einsum>=2.3.2 in /usr/local/lib/python3.6/dist-packages (from tensorflow<1.16,>=1.15.0->tensorflow_text==1.15) (3.2.1)\n",
            "Requirement already satisfied: setuptools in /usr/local/lib/python3.6/dist-packages (from protobuf>=3.6.1->tensorflow<1.16,>=1.15.0->tensorflow_text==1.15) (46.1.3)\n",
            "Requirement already satisfied: markdown>=2.6.8 in /usr/local/lib/python3.6/dist-packages (from tensorboard<1.16.0,>=1.15.0->tensorflow<1.16,>=1.15.0->tensorflow_text==1.15) (3.2.1)\n",
            "Requirement already satisfied: werkzeug>=0.11.15 in /usr/local/lib/python3.6/dist-packages (from tensorboard<1.16.0,>=1.15.0->tensorflow<1.16,>=1.15.0->tensorflow_text==1.15) (1.0.1)\n",
            "Requirement already satisfied: h5py in /usr/local/lib/python3.6/dist-packages (from keras-applications>=1.0.8->tensorflow<1.16,>=1.15.0->tensorflow_text==1.15) (2.10.0)\n",
            "Installing collected packages: tensorflow-text\n",
            "Successfully installed tensorflow-text-1.15.0\n"
          ],
          "name": "stdout"
        },
        {
          "output_type": "stream",
          "text": [
            "Using TensorFlow backend.\n"
          ],
          "name": "stderr"
        },
        {
          "output_type": "stream",
          "text": [
            "Collecting keras_metrics\n",
            "  Downloading https://files.pythonhosted.org/packages/32/c9/a87420da8e73de944e63a8e9cdcfb1f03ca31a7c4cdcdbd45d2cdf13275a/keras_metrics-1.1.0-py2.py3-none-any.whl\n",
            "Requirement already satisfied: Keras>=2.1.5 in /usr/local/lib/python3.6/dist-packages (from keras_metrics) (2.3.1)\n",
            "Requirement already satisfied: numpy>=1.9.1 in /usr/local/lib/python3.6/dist-packages (from Keras>=2.1.5->keras_metrics) (1.18.3)\n",
            "Requirement already satisfied: six>=1.9.0 in /usr/local/lib/python3.6/dist-packages (from Keras>=2.1.5->keras_metrics) (1.12.0)\n",
            "Requirement already satisfied: scipy>=0.14 in /usr/local/lib/python3.6/dist-packages (from Keras>=2.1.5->keras_metrics) (1.4.1)\n",
            "Requirement already satisfied: keras-applications>=1.0.6 in /usr/local/lib/python3.6/dist-packages (from Keras>=2.1.5->keras_metrics) (1.0.8)\n",
            "Requirement already satisfied: keras-preprocessing>=1.0.5 in /usr/local/lib/python3.6/dist-packages (from Keras>=2.1.5->keras_metrics) (1.1.0)\n",
            "Requirement already satisfied: h5py in /usr/local/lib/python3.6/dist-packages (from Keras>=2.1.5->keras_metrics) (2.10.0)\n",
            "Requirement already satisfied: pyyaml in /usr/local/lib/python3.6/dist-packages (from Keras>=2.1.5->keras_metrics) (3.13)\n",
            "Installing collected packages: keras-metrics\n",
            "Successfully installed keras-metrics-1.1.0\n",
            "Collecting transformers\n",
            "\u001b[?25l  Downloading https://files.pythonhosted.org/packages/cd/38/c9527aa055241c66c4d785381eaf6f80a28c224cae97daa1f8b183b5fabb/transformers-2.9.0-py3-none-any.whl (635kB)\n",
            "\u001b[K     |████████████████████████████████| 645kB 2.8MB/s \n",
            "\u001b[?25hRequirement already satisfied: requests in /usr/local/lib/python3.6/dist-packages (from transformers) (2.23.0)\n",
            "Requirement already satisfied: dataclasses; python_version < \"3.7\" in /usr/local/lib/python3.6/dist-packages (from transformers) (0.7)\n",
            "Requirement already satisfied: tqdm>=4.27 in /usr/local/lib/python3.6/dist-packages (from transformers) (4.38.0)\n",
            "Requirement already satisfied: filelock in /usr/local/lib/python3.6/dist-packages (from transformers) (3.0.12)\n",
            "Requirement already satisfied: regex!=2019.12.17 in /usr/local/lib/python3.6/dist-packages (from transformers) (2019.12.20)\n",
            "Requirement already satisfied: numpy in /usr/local/lib/python3.6/dist-packages (from transformers) (1.18.3)\n",
            "Collecting sentencepiece\n",
            "\u001b[?25l  Downloading https://files.pythonhosted.org/packages/98/2c/8df20f3ac6c22ac224fff307ebc102818206c53fc454ecd37d8ac2060df5/sentencepiece-0.1.86-cp36-cp36m-manylinux1_x86_64.whl (1.0MB)\n",
            "\u001b[K     |████████████████████████████████| 1.0MB 13.8MB/s \n",
            "\u001b[?25hCollecting sacremoses\n",
            "\u001b[?25l  Downloading https://files.pythonhosted.org/packages/7d/34/09d19aff26edcc8eb2a01bed8e98f13a1537005d31e95233fd48216eed10/sacremoses-0.0.43.tar.gz (883kB)\n",
            "\u001b[K     |████████████████████████████████| 890kB 18.8MB/s \n",
            "\u001b[?25hCollecting tokenizers==0.7.0\n",
            "\u001b[?25l  Downloading https://files.pythonhosted.org/packages/14/e5/a26eb4716523808bb0a799fcfdceb6ebf77a18169d9591b2f46a9adb87d9/tokenizers-0.7.0-cp36-cp36m-manylinux1_x86_64.whl (3.8MB)\n",
            "\u001b[K     |████████████████████████████████| 3.8MB 24.8MB/s \n",
            "\u001b[?25hRequirement already satisfied: certifi>=2017.4.17 in /usr/local/lib/python3.6/dist-packages (from requests->transformers) (2020.4.5.1)\n",
            "Requirement already satisfied: chardet<4,>=3.0.2 in /usr/local/lib/python3.6/dist-packages (from requests->transformers) (3.0.4)\n",
            "Requirement already satisfied: idna<3,>=2.5 in /usr/local/lib/python3.6/dist-packages (from requests->transformers) (2.9)\n",
            "Requirement already satisfied: urllib3!=1.25.0,!=1.25.1,<1.26,>=1.21.1 in /usr/local/lib/python3.6/dist-packages (from requests->transformers) (1.24.3)\n",
            "Requirement already satisfied: six in /usr/local/lib/python3.6/dist-packages (from sacremoses->transformers) (1.12.0)\n",
            "Requirement already satisfied: click in /usr/local/lib/python3.6/dist-packages (from sacremoses->transformers) (7.1.2)\n",
            "Requirement already satisfied: joblib in /usr/local/lib/python3.6/dist-packages (from sacremoses->transformers) (0.14.1)\n",
            "Building wheels for collected packages: sacremoses\n",
            "  Building wheel for sacremoses (setup.py) ... \u001b[?25l\u001b[?25hdone\n",
            "  Created wheel for sacremoses: filename=sacremoses-0.0.43-cp36-none-any.whl size=893260 sha256=14f02723adaab6d4ae34fb9591e18e8b055c555123c379b272a21ad676e880be\n",
            "  Stored in directory: /root/.cache/pip/wheels/29/3c/fd/7ce5c3f0666dab31a50123635e6fb5e19ceb42ce38d4e58f45\n",
            "Successfully built sacremoses\n",
            "Installing collected packages: sentencepiece, sacremoses, tokenizers, transformers\n",
            "Successfully installed sacremoses-0.0.43 sentencepiece-0.1.86 tokenizers-0.7.0 transformers-2.9.0\n"
          ],
          "name": "stdout"
        }
      ]
    },
    {
      "cell_type": "code",
      "metadata": {
        "id": "q_O0Vr4l7VKt",
        "colab_type": "code",
        "colab": {}
      },
      "source": [
        "!pip install -U -q PyDrive\n",
        "from pydrive.auth import GoogleAuth\n",
        "from pydrive.drive import GoogleDrive\n",
        "from google.colab import auth\n",
        "from oauth2client.client import GoogleCredentials\n",
        "# Authenticate and create the PyDrive client.\n",
        "auth.authenticate_user()\n",
        "gauth = GoogleAuth()\n",
        "gauth.credentials = GoogleCredentials.get_application_default()\n",
        "drive = GoogleDrive(gauth)"
      ],
      "execution_count": 0,
      "outputs": []
    },
    {
      "cell_type": "code",
      "metadata": {
        "id": "CNUjYibU7kyv",
        "colab_type": "code",
        "outputId": "5d931a0c-e8c2-4186-ec62-23ce1e52c521",
        "colab": {
          "base_uri": "https://localhost:8080/",
          "height": 85
        }
      },
      "source": [
        "link = 'https://drive.google.com/open?id=1g6zN3aoYZKhc9IcqsBg8SWfJwHwayr3j'\n",
        "fluff, id = link.split('=')\n",
        "print (id)\n",
        "downloaded = drive.CreateFile({'id':id}) \n",
        "downloaded.GetContentFile('aclImdb_v1.tar.gz')  \n",
        "if os.path.isdir('aclImdb'):\n",
        "    print(\"Dataset directory exists, taking no action\")\n",
        "else:    \n",
        "    if not os.path.isfile('aclImdb_v1.tar.gz'):\n",
        "        print(\"Downloading dataset\")\n",
        "        # !wget http://ai.stanford.edu/~amaas/data/sentiment/aclImdb_v1.tar.gz\n",
        "        # # wget.download('http://ai.stanford.edu/~amaas/data/sentiment/aclImdb_v1.tar.gz')\n",
        "    else:\n",
        "        print(\"Dataset already downloaded\")\n",
        "    \n",
        "    print(\"Unpacking dataset\")\n",
        "    # !tar -xf aclImdb_v1.tar.gz \n",
        "    tar = tarfile.open(\"aclImdb_v1.tar.gz\")\n",
        "    tar.extractall()\n",
        "    tar.close()\n",
        "    print(\"Dataset unpacked in aclImdb\")\n"
      ],
      "execution_count": 3,
      "outputs": [
        {
          "output_type": "stream",
          "text": [
            "1g6zN3aoYZKhc9IcqsBg8SWfJwHwayr3j\n",
            "Dataset already downloaded\n",
            "Unpacking dataset\n",
            "Dataset unpacked in aclImdb\n"
          ],
          "name": "stdout"
        }
      ]
    },
    {
      "cell_type": "code",
      "metadata": {
        "id": "3KMwvqjUflYK",
        "colab_type": "code",
        "colab": {}
      },
      "source": [
        "positive_sample_file_list = glob.glob(os.path.join('aclImdb/train/pos', \"*.txt\"))\n",
        "# positive_sample_file_list = positive_file_list[:SAMPLE_SIZE]\n",
        "\n",
        "negative_sample_file_list = glob.glob(os.path.join('aclImdb/train/neg', \"*.txt\"))\n",
        "# negative_sample_file_list = negative_file_list[:SAMPLE_SIZE]\n",
        "\n",
        "# load doc into memory\n",
        "# regex to clean markup elements \n",
        "def load_doc(filename):\n",
        "    # open the file as read only\n",
        "    file = open(filename, 'r', encoding='utf8')\n",
        "    # read all text\n",
        "    text = re.sub('<[^>]*>', ' ', file.read())\n",
        "    #text = file.read()\n",
        "    # close the file\n",
        "    file.close()\n",
        "    return text\n",
        "\n",
        "\n",
        "positive_strings = [load_doc(x) for x in positive_sample_file_list]\n",
        "negative_strings = [load_doc(x) for x in negative_sample_file_list]\n",
        "\n",
        "positive_labels = [1 for x in positive_sample_file_list]\n",
        "negative_labels = [0 for x in negative_sample_file_list]\n",
        "\n",
        "# positive_tokenized = [word_tokenize(s) for s in positive_strings]\n",
        "# negative_tokenized = [word_tokenize(s) for s in negative_strings]"
      ],
      "execution_count": 0,
      "outputs": []
    },
    {
      "cell_type": "code",
      "metadata": {
        "id": "a9TLOdx8jQl4",
        "colab_type": "code",
        "colab": {}
      },
      "source": [
        "sentences = positive_strings + negative_strings\n",
        "labels = positive_labels + negative_labels"
      ],
      "execution_count": 0,
      "outputs": []
    },
    {
      "cell_type": "code",
      "metadata": {
        "id": "NBQRX9JwkvvW",
        "colab_type": "code",
        "colab": {}
      },
      "source": [
        "import pandas as pd\n",
        "df = pd.DataFrame(\n",
        "    {'sentences': sentences,\n",
        "     'sentiment': labels\n",
        "    })\n",
        "# df = df.sample(5000)"
      ],
      "execution_count": 0,
      "outputs": []
    },
    {
      "cell_type": "code",
      "metadata": {
        "id": "zpiSQAH8liFk",
        "colab_type": "code",
        "outputId": "5ed4a24c-87cf-4eb9-9c7c-2d6c60919668",
        "colab": {
          "base_uri": "https://localhost:8080/",
          "height": 204
        }
      },
      "source": [
        "df.head()"
      ],
      "execution_count": 0,
      "outputs": [
        {
          "output_type": "execute_result",
          "data": {
            "text/html": [
              "<div>\n",
              "<style scoped>\n",
              "    .dataframe tbody tr th:only-of-type {\n",
              "        vertical-align: middle;\n",
              "    }\n",
              "\n",
              "    .dataframe tbody tr th {\n",
              "        vertical-align: top;\n",
              "    }\n",
              "\n",
              "    .dataframe thead th {\n",
              "        text-align: right;\n",
              "    }\n",
              "</style>\n",
              "<table border=\"1\" class=\"dataframe\">\n",
              "  <thead>\n",
              "    <tr style=\"text-align: right;\">\n",
              "      <th></th>\n",
              "      <th>sentences</th>\n",
              "      <th>sentiment</th>\n",
              "    </tr>\n",
              "  </thead>\n",
              "  <tbody>\n",
              "    <tr>\n",
              "      <th>0</th>\n",
              "      <td>Page 3 is one of those films Madhur Bhandarkar...</td>\n",
              "      <td>1</td>\n",
              "    </tr>\n",
              "    <tr>\n",
              "      <th>1</th>\n",
              "      <td>Terrfic film with a slightyly slow start - giv...</td>\n",
              "      <td>1</td>\n",
              "    </tr>\n",
              "    <tr>\n",
              "      <th>2</th>\n",
              "      <td>I went to see Fever Pitch with my Mom, and I c...</td>\n",
              "      <td>1</td>\n",
              "    </tr>\n",
              "    <tr>\n",
              "      <th>3</th>\n",
              "      <td>Years ago I did follow a soap on TV. So I was ...</td>\n",
              "      <td>1</td>\n",
              "    </tr>\n",
              "    <tr>\n",
              "      <th>4</th>\n",
              "      <td>I loved this movie. I knew it would be chocked...</td>\n",
              "      <td>1</td>\n",
              "    </tr>\n",
              "  </tbody>\n",
              "</table>\n",
              "</div>"
            ],
            "text/plain": [
              "                                           sentences  sentiment\n",
              "0  Page 3 is one of those films Madhur Bhandarkar...          1\n",
              "1  Terrfic film with a slightyly slow start - giv...          1\n",
              "2  I went to see Fever Pitch with my Mom, and I c...          1\n",
              "3  Years ago I did follow a soap on TV. So I was ...          1\n",
              "4  I loved this movie. I knew it would be chocked...          1"
            ]
          },
          "metadata": {
            "tags": []
          },
          "execution_count": 12
        }
      ]
    },
    {
      "cell_type": "code",
      "metadata": {
        "id": "0UOOnuI-mcbQ",
        "colab_type": "code",
        "colab": {}
      },
      "source": [
        "df = df.sample(frac=1).reset_index(drop=True)"
      ],
      "execution_count": 0,
      "outputs": []
    },
    {
      "cell_type": "code",
      "metadata": {
        "id": "Teyr0VTtnBPp",
        "colab_type": "code",
        "outputId": "a108ec00-685c-4dce-8e6d-e77e6529a27b",
        "colab": {
          "base_uri": "https://localhost:8080/",
          "height": 204
        }
      },
      "source": [
        "df.head()"
      ],
      "execution_count": 0,
      "outputs": [
        {
          "output_type": "execute_result",
          "data": {
            "text/html": [
              "<div>\n",
              "<style scoped>\n",
              "    .dataframe tbody tr th:only-of-type {\n",
              "        vertical-align: middle;\n",
              "    }\n",
              "\n",
              "    .dataframe tbody tr th {\n",
              "        vertical-align: top;\n",
              "    }\n",
              "\n",
              "    .dataframe thead th {\n",
              "        text-align: right;\n",
              "    }\n",
              "</style>\n",
              "<table border=\"1\" class=\"dataframe\">\n",
              "  <thead>\n",
              "    <tr style=\"text-align: right;\">\n",
              "      <th></th>\n",
              "      <th>sentences</th>\n",
              "      <th>sentiment</th>\n",
              "    </tr>\n",
              "  </thead>\n",
              "  <tbody>\n",
              "    <tr>\n",
              "      <th>0</th>\n",
              "      <td>It's 1982, Two years after the Iranian Embassy...</td>\n",
              "      <td>0</td>\n",
              "    </tr>\n",
              "    <tr>\n",
              "      <th>1</th>\n",
              "      <td>As a convert into the Church of Jesus Christ o...</td>\n",
              "      <td>1</td>\n",
              "    </tr>\n",
              "    <tr>\n",
              "      <th>2</th>\n",
              "      <td>After a long period in the space, looking for ...</td>\n",
              "      <td>0</td>\n",
              "    </tr>\n",
              "    <tr>\n",
              "      <th>3</th>\n",
              "      <td>Don't get me wrong, Dan Jansen was a great spe...</td>\n",
              "      <td>0</td>\n",
              "    </tr>\n",
              "    <tr>\n",
              "      <th>4</th>\n",
              "      <td>This, and Immoral Tales, both left a bad taste...</td>\n",
              "      <td>0</td>\n",
              "    </tr>\n",
              "  </tbody>\n",
              "</table>\n",
              "</div>"
            ],
            "text/plain": [
              "                                           sentences  sentiment\n",
              "0  It's 1982, Two years after the Iranian Embassy...          0\n",
              "1  As a convert into the Church of Jesus Christ o...          1\n",
              "2  After a long period in the space, looking for ...          0\n",
              "3  Don't get me wrong, Dan Jansen was a great spe...          0\n",
              "4  This, and Immoral Tales, both left a bad taste...          0"
            ]
          },
          "metadata": {
            "tags": []
          },
          "execution_count": 14
        }
      ]
    },
    {
      "cell_type": "code",
      "metadata": {
        "id": "2wSUe897nCQ6",
        "colab_type": "code",
        "outputId": "0960d9cc-41b1-453b-e09c-a5434de72649",
        "colab": {
          "base_uri": "https://localhost:8080/",
          "height": 51
        }
      },
      "source": [
        "nltk.download('stopwords')\n",
        "positive_sample_file_list = glob.glob(os.path.join('aclImdb/test/pos', \"*.txt\"))\n",
        "# positive_sample_file_list = positive_file_list[:SAMPLE_SIZE]\n",
        "\n",
        "negative_sample_file_list = glob.glob(os.path.join('aclImdb/test/neg', \"*.txt\"))\n",
        "# negative_sample_file_list = negative_file_list[:SAMPLE_SIZE]\n",
        "\n",
        "positive_strings = [load_doc(x) for x in positive_sample_file_list]\n",
        "negative_strings = [load_doc(x) for x in negative_sample_file_list]\n",
        "\n",
        "positive_labels = [1 for x in positive_sample_file_list]\n",
        "negative_labels = [0 for x in negative_sample_file_list]\n",
        "\n",
        "# positive_tokenized = [word_tokenize(s) for s in positive_strings]\n",
        "# negative_tokenized = [word_tokenize(s) for s in negative_strings]\n",
        "\n",
        "sentences = positive_strings + negative_strings\n",
        "labels = positive_labels + negative_labels\n",
        "\n",
        "import pandas as pd\n",
        "df_test = pd.DataFrame(\n",
        "    {'sentences': sentences,\n",
        "     'sentiment': labels\n",
        "    })\n",
        "df_test = df_test.sample(5000)\n",
        "df_test = df_test.sample(frac=1).reset_index(drop=True)\n",
        "\n",
        "test_sentences = df_test.sentences.values\n",
        "test_labels = df_test.sentiment.values\n",
        "\n",
        "from nltk.tokenize.treebank import TreebankWordDetokenizer\n",
        "test_sentences = [word_tokenize(s) for s in test_sentences]\n",
        "\n",
        "pre_sen = []\n",
        "for tokens in test_sentences:\n",
        "  tokens = [w.lower() for w in tokens]\n",
        "  import string\n",
        "  table = str.maketrans('', '', string.punctuation)\n",
        "  stripped = [w.translate(table) for w in tokens]\n",
        "  # remove remaining tokens that are not alphabetic\n",
        "  words = [word for word in stripped if word.isalpha()]\n",
        "  # filter out stop words\n",
        "  from nltk.corpus import stopwords\n",
        "  stop_words = set(stopwords.words('english'))\n",
        "  words = [w for w in words if not w in stop_words]\n",
        "  pre_sen.append(words)\n",
        "test_sentences = pre_sen\n",
        "\n",
        "t_sen = []\n",
        "for s in test_sentences:\n",
        "  if(len(s)<128):\n",
        "    t_sen.append(TreebankWordDetokenizer().detokenize(s))\n",
        "  else:\n",
        "    t_sen.append(TreebankWordDetokenizer().detokenize(s[0:127]))\n",
        "\n",
        "test_sentences = t_sen\n",
        "\n",
        "# df_test = pd.DataFrame(\n",
        "#     {'sentences': test_sentences,\n",
        "#      'sentiment': test_labels\n",
        "#     })"
      ],
      "execution_count": 8,
      "outputs": [
        {
          "output_type": "stream",
          "text": [
            "[nltk_data] Downloading package stopwords to /root/nltk_data...\n",
            "[nltk_data]   Unzipping corpora/stopwords.zip.\n"
          ],
          "name": "stdout"
        }
      ]
    },
    {
      "cell_type": "code",
      "metadata": {
        "id": "PA2XYPCWnDiy",
        "colab_type": "code",
        "colab": {}
      },
      "source": [
        "import numpy as np\n",
        "# msk = np.random.rand(len(df)) < 0.8\n",
        "# df_train = df[msk]\n",
        "# df_test = df[~msk]\n",
        "train_sentences = df.sentences.values\n",
        "train_labels = df.sentiment.values\n",
        "# test_sentences = df_test.sentences.values\n",
        "# test_labels = df_test.sentiment.values"
      ],
      "execution_count": 0,
      "outputs": []
    },
    {
      "cell_type": "code",
      "metadata": {
        "id": "yTASoX2LKGqd",
        "colab_type": "code",
        "colab": {}
      },
      "source": [
        "from nltk.tokenize.treebank import TreebankWordDetokenizer\n",
        "train_sentences = [word_tokenize(s) for s in train_sentences]\n",
        "\n",
        "pre_sen = []\n",
        "for tokens in train_sentences:\n",
        "  tokens = [w.lower() for w in tokens]\n",
        "  import string\n",
        "  table = str.maketrans('', '', string.punctuation)\n",
        "  stripped = [w.translate(table) for w in tokens]\n",
        "  # remove remaining tokens that are not alphabetic\n",
        "  words = [word for word in stripped if word.isalpha()]\n",
        "  # filter out stop words\n",
        "  from nltk.corpus import stopwords\n",
        "  stop_words = set(stopwords.words('english'))\n",
        "  words = [w for w in words if not w in stop_words]\n",
        "  pre_sen.append(words)\n",
        "train_sentences = pre_sen\n",
        "\n",
        "t_sen = []\n",
        "for s in train_sentences:\n",
        "  if(len(s)<128):\n",
        "    t_sen.append(TreebankWordDetokenizer().detokenize(s))\n",
        "  else:\n",
        "    t_sen.append(TreebankWordDetokenizer().detokenize(s[0:127]))"
      ],
      "execution_count": 0,
      "outputs": []
    },
    {
      "cell_type": "code",
      "metadata": {
        "id": "MW7u3YXDc71F",
        "colab_type": "code",
        "colab": {}
      },
      "source": [
        "train_sentences = t_sen"
      ],
      "execution_count": 0,
      "outputs": []
    },
    {
      "cell_type": "code",
      "metadata": {
        "id": "jfXr0P_2dlFr",
        "colab_type": "code",
        "outputId": "a615aa8f-d1cf-4d4b-dcd3-dc9d7c461e09",
        "colab": {
          "base_uri": "https://localhost:8080/",
          "height": 54
        }
      },
      "source": [
        "train_sentences[0]"
      ],
      "execution_count": 0,
      "outputs": [
        {
          "output_type": "execute_result",
          "data": {
            "text/plain": [
              "'rosenstrasse touching story courage adversity reichdeutch women find jewish husbands locked pending deportation one aristocrat disowned family lena fischer finds among mob general gudarian sister rank privilege merit special consideration service reich female detainee whose husband ostfront learn one horrifying scenes movie guards take wedding band given soldier husband lest think typical german brutishness america today lady bush imperiously ordering arrest gold star mothers mothers us servicemembers killed action presence offencive little regrettably changed years der fuher der fumbler fortunately eight year old daughter ruth escapes capture waiting cold rosenstrasse lena fischer first reluctant take ruth responding way take typically german even lena fisher brother colonel arthur von eschenbach aware opposed holocost cautions lena lena chooses embrace idea american rebelliousness even renaming ruth aryan sounding name helga'"
            ]
          },
          "metadata": {
            "tags": []
          },
          "execution_count": 12
        }
      ]
    },
    {
      "cell_type": "code",
      "metadata": {
        "id": "q6fEiPZmFkG_",
        "colab_type": "code",
        "colab": {}
      },
      "source": [
        "# train_sentences = tf.keras.preprocessing.sequence.pad_sequences(train_sentences, maxlen=128,dtype= object,padding='post', truncating='post', value=\"\")"
      ],
      "execution_count": 0,
      "outputs": []
    },
    {
      "cell_type": "code",
      "metadata": {
        "id": "UBu2fRRrnp7X",
        "colab_type": "code",
        "outputId": "9c496150-cbcc-47c5-bc70-ca10c0eff91d",
        "colab": {
          "base_uri": "https://localhost:8080/",
          "height": 85
        }
      },
      "source": [
        "url = \"https://tfhub.dev/google/elmo/2\"\n",
        "embed = hub.Module(url,trainable = True)"
      ],
      "execution_count": 12,
      "outputs": [
        {
          "output_type": "stream",
          "text": [
            "INFO:absl:Using /tmp/tfhub_modules to cache modules.\n",
            "INFO:absl:Downloading TF-Hub Module 'https://tfhub.dev/google/elmo/2'.\n",
            "INFO:absl:Downloaded https://tfhub.dev/google/elmo/2, Total size: 357.40MB\n",
            "INFO:absl:Downloaded TF-Hub Module 'https://tfhub.dev/google/elmo/2'.\n"
          ],
          "name": "stderr"
        }
      ]
    },
    {
      "cell_type": "code",
      "metadata": {
        "id": "MjJRTJ4Hqc89",
        "colab_type": "code",
        "colab": {}
      },
      "source": [
        "def prepare_onehot():\n",
        "  x_train = np.asarray(train_sentences)\n",
        "  y_train = np.asarray(keras.utils.to_categorical(train_labels))\n",
        "  x_test = np.asarray(test_sentences)\n",
        "  y_test = np.asarray(keras.utils.to_categorical(test_labels))\n",
        "  return x_train,y_train,x_test,y_test\n",
        "x_train,y_train,x_test,y_test = prepare_onehot()"
      ],
      "execution_count": 0,
      "outputs": []
    },
    {
      "cell_type": "code",
      "metadata": {
        "id": "Aimv-eBctAOG",
        "colab_type": "code",
        "outputId": "c371103e-f952-42bd-ca53-3dd2e126e8dd",
        "colab": {
          "base_uri": "https://localhost:8080/",
          "height": 34
        }
      },
      "source": [
        "x_train.shape"
      ],
      "execution_count": 0,
      "outputs": [
        {
          "output_type": "execute_result",
          "data": {
            "text/plain": [
              "(25000,)"
            ]
          },
          "metadata": {
            "tags": []
          },
          "execution_count": 18
        }
      ]
    },
    {
      "cell_type": "code",
      "metadata": {
        "id": "p3UZRlWwu2j3",
        "colab_type": "code",
        "outputId": "c271ba70-be34-46c0-d729-f4461f2d60a9",
        "colab": {
          "base_uri": "https://localhost:8080/",
          "height": 34
        }
      },
      "source": [
        "import tensorflow as tf\n",
        "tf.test.gpu_device_name()"
      ],
      "execution_count": 14,
      "outputs": [
        {
          "output_type": "execute_result",
          "data": {
            "text/plain": [
              "'/device:GPU:0'"
            ]
          },
          "metadata": {
            "tags": []
          },
          "execution_count": 14
        }
      ]
    },
    {
      "cell_type": "code",
      "metadata": {
        "id": "Qr-knEyDrzXT",
        "colab_type": "code",
        "colab": {}
      },
      "source": [
        "def ELMoEmbedding(x):\n",
        "    return embed(tf.squeeze(tf.cast(x, tf.string)),\n",
        "                signature=\"default\",\n",
        "                as_dict=True)[\"default\"]\n",
        "def create_model():\n",
        "  input_text = Input(shape=(1,), dtype=tf.string)\n",
        "  embedding = Lambda(ELMoEmbedding, output_shape=(1024, ))(input_text)\n",
        "  dense = Dense(1024, activation='relu')(embedding)\n",
        "  pred = Dense(2, activation='softmax')(dense)\n",
        "  model = Model(inputs=[input_text], outputs=pred)\n",
        "  ada = keras.optimizers.Adam(learning_rate=0.0002, beta_1=0.9, beta_2=0.999, amsgrad=False)\n",
        "  model.compile(loss='categorical_crossentropy', optimizer=ada, metrics=['accuracy'])\n",
        "  return model"
      ],
      "execution_count": 0,
      "outputs": []
    },
    {
      "cell_type": "code",
      "metadata": {
        "id": "wvNWfSTKtmMi",
        "colab_type": "code",
        "outputId": "ca8cd24b-d318-4a17-faa2-57996c0e4f36",
        "colab": {
          "base_uri": "https://localhost:8080/",
          "height": 34
        }
      },
      "source": [
        "import tensorflow as tf\n",
        "tf.test.gpu_device_name()"
      ],
      "execution_count": 0,
      "outputs": [
        {
          "output_type": "execute_result",
          "data": {
            "text/plain": [
              "'/device:GPU:0'"
            ]
          },
          "metadata": {
            "tags": []
          },
          "execution_count": 20
        }
      ]
    },
    {
      "cell_type": "code",
      "metadata": {
        "id": "FEUViQpFr2hY",
        "colab_type": "code",
        "outputId": "e9704d6b-e6fc-4cb2-8e01-f00d2d2a5be8",
        "colab": {
          "base_uri": "https://localhost:8080/",
          "height": 1000
        }
      },
      "source": [
        "model = create_model()\n",
        "history = model.fit(x_train, y_train, epochs=50, batch_size=250,validation_data = (x_test,y_test) )"
      ],
      "execution_count": 17,
      "outputs": [
        {
          "output_type": "stream",
          "text": [
            "INFO:tensorflow:Saver not created because there are no variables in the graph to restore\n"
          ],
          "name": "stdout"
        },
        {
          "output_type": "stream",
          "text": [
            "INFO:tensorflow:Saver not created because there are no variables in the graph to restore\n"
          ],
          "name": "stderr"
        },
        {
          "output_type": "stream",
          "text": [
            "Train on 25000 samples, validate on 5000 samples\n",
            "Epoch 1/50\n",
            "25000/25000 [==============================] - 227s 9ms/step - loss: 0.5005 - accuracy: 0.7560 - val_loss: 0.4464 - val_accuracy: 0.7890\n",
            "Epoch 2/50\n",
            "25000/25000 [==============================] - 226s 9ms/step - loss: 0.4209 - accuracy: 0.8099 - val_loss: 0.4198 - val_accuracy: 0.8052\n",
            "Epoch 3/50\n",
            "25000/25000 [==============================] - 226s 9ms/step - loss: 0.3996 - accuracy: 0.8192 - val_loss: 0.4089 - val_accuracy: 0.8120\n",
            "Epoch 4/50\n",
            "25000/25000 [==============================] - 226s 9ms/step - loss: 0.3869 - accuracy: 0.8271 - val_loss: 0.4001 - val_accuracy: 0.8144\n",
            "Epoch 5/50\n",
            "25000/25000 [==============================] - 227s 9ms/step - loss: 0.3807 - accuracy: 0.8298 - val_loss: 0.4077 - val_accuracy: 0.8128\n",
            "Epoch 6/50\n",
            "25000/25000 [==============================] - 226s 9ms/step - loss: 0.3724 - accuracy: 0.8340 - val_loss: 0.3935 - val_accuracy: 0.8202\n",
            "Epoch 7/50\n",
            "25000/25000 [==============================] - 226s 9ms/step - loss: 0.3638 - accuracy: 0.8389 - val_loss: 0.3964 - val_accuracy: 0.8164\n",
            "Epoch 8/50\n",
            "25000/25000 [==============================] - 226s 9ms/step - loss: 0.3680 - accuracy: 0.8343 - val_loss: 0.4074 - val_accuracy: 0.8160\n",
            "Epoch 9/50\n",
            "25000/25000 [==============================] - 226s 9ms/step - loss: 0.3562 - accuracy: 0.8439 - val_loss: 0.3983 - val_accuracy: 0.8204\n",
            "Epoch 10/50\n",
            "25000/25000 [==============================] - 226s 9ms/step - loss: 0.3467 - accuracy: 0.8480 - val_loss: 0.3858 - val_accuracy: 0.8276\n",
            "Epoch 11/50\n",
            "25000/25000 [==============================] - 226s 9ms/step - loss: 0.3482 - accuracy: 0.8460 - val_loss: 0.3968 - val_accuracy: 0.8214\n",
            "Epoch 12/50\n",
            "25000/25000 [==============================] - 227s 9ms/step - loss: 0.3437 - accuracy: 0.8506 - val_loss: 0.3840 - val_accuracy: 0.8278\n",
            "Epoch 13/50\n",
            "25000/25000 [==============================] - 226s 9ms/step - loss: 0.3374 - accuracy: 0.8524 - val_loss: 0.4101 - val_accuracy: 0.8096\n",
            "Epoch 14/50\n",
            "25000/25000 [==============================] - 226s 9ms/step - loss: 0.3304 - accuracy: 0.8571 - val_loss: 0.3842 - val_accuracy: 0.8288\n",
            "Epoch 15/50\n",
            "25000/25000 [==============================] - 226s 9ms/step - loss: 0.3267 - accuracy: 0.8581 - val_loss: 0.3842 - val_accuracy: 0.8334\n",
            "Epoch 16/50\n",
            "25000/25000 [==============================] - 226s 9ms/step - loss: 0.3229 - accuracy: 0.8613 - val_loss: 0.3848 - val_accuracy: 0.8292\n",
            "Epoch 17/50\n",
            "25000/25000 [==============================] - 226s 9ms/step - loss: 0.3203 - accuracy: 0.8620 - val_loss: 0.3832 - val_accuracy: 0.8308\n",
            "Epoch 18/50\n",
            "25000/25000 [==============================] - 226s 9ms/step - loss: 0.3151 - accuracy: 0.8662 - val_loss: 0.3866 - val_accuracy: 0.8278\n",
            "Epoch 19/50\n",
            "25000/25000 [==============================] - 226s 9ms/step - loss: 0.3126 - accuracy: 0.8660 - val_loss: 0.3872 - val_accuracy: 0.8296\n",
            "Epoch 20/50\n",
            "25000/25000 [==============================] - 226s 9ms/step - loss: 0.3065 - accuracy: 0.8694 - val_loss: 0.3846 - val_accuracy: 0.8306\n",
            "Epoch 21/50\n",
            "25000/25000 [==============================] - 226s 9ms/step - loss: 0.3001 - accuracy: 0.8732 - val_loss: 0.3873 - val_accuracy: 0.8334\n",
            "Epoch 22/50\n",
            "25000/25000 [==============================] - 226s 9ms/step - loss: 0.2986 - accuracy: 0.8735 - val_loss: 0.3920 - val_accuracy: 0.8276\n",
            "Epoch 23/50\n",
            "25000/25000 [==============================] - 226s 9ms/step - loss: 0.2944 - accuracy: 0.8753 - val_loss: 0.3885 - val_accuracy: 0.8318\n",
            "Epoch 24/50\n",
            "25000/25000 [==============================] - 226s 9ms/step - loss: 0.2900 - accuracy: 0.8787 - val_loss: 0.3872 - val_accuracy: 0.8342\n",
            "Epoch 25/50\n",
            "25000/25000 [==============================] - 226s 9ms/step - loss: 0.2855 - accuracy: 0.8816 - val_loss: 0.4058 - val_accuracy: 0.8212\n",
            "Epoch 26/50\n",
            "25000/25000 [==============================] - 226s 9ms/step - loss: 0.2824 - accuracy: 0.8800 - val_loss: 0.3870 - val_accuracy: 0.8300\n",
            "Epoch 27/50\n",
            "25000/25000 [==============================] - 226s 9ms/step - loss: 0.2776 - accuracy: 0.8858 - val_loss: 0.4056 - val_accuracy: 0.8208\n",
            "Epoch 28/50\n",
            "25000/25000 [==============================] - 226s 9ms/step - loss: 0.2752 - accuracy: 0.8856 - val_loss: 0.3940 - val_accuracy: 0.8284\n",
            "Epoch 29/50\n",
            "25000/25000 [==============================] - 226s 9ms/step - loss: 0.2698 - accuracy: 0.8874 - val_loss: 0.3897 - val_accuracy: 0.8312\n",
            "Epoch 30/50\n",
            "25000/25000 [==============================] - 226s 9ms/step - loss: 0.2613 - accuracy: 0.8942 - val_loss: 0.3878 - val_accuracy: 0.8314\n",
            "Epoch 31/50\n",
            "25000/25000 [==============================] - 226s 9ms/step - loss: 0.2591 - accuracy: 0.8934 - val_loss: 0.3931 - val_accuracy: 0.8252\n",
            "Epoch 32/50\n",
            "25000/25000 [==============================] - 226s 9ms/step - loss: 0.2558 - accuracy: 0.8962 - val_loss: 0.3897 - val_accuracy: 0.8290\n",
            "Epoch 33/50\n",
            "25000/25000 [==============================] - 225s 9ms/step - loss: 0.2521 - accuracy: 0.8972 - val_loss: 0.3965 - val_accuracy: 0.8266\n",
            "Epoch 34/50\n",
            "25000/25000 [==============================] - 226s 9ms/step - loss: 0.2505 - accuracy: 0.8990 - val_loss: 0.4070 - val_accuracy: 0.8228\n",
            "Epoch 35/50\n",
            "25000/25000 [==============================] - 226s 9ms/step - loss: 0.2451 - accuracy: 0.9031 - val_loss: 0.4057 - val_accuracy: 0.8226\n",
            "Epoch 36/50\n",
            "25000/25000 [==============================] - 226s 9ms/step - loss: 0.2399 - accuracy: 0.9056 - val_loss: 0.4064 - val_accuracy: 0.8234\n",
            "Epoch 37/50\n",
            "25000/25000 [==============================] - 226s 9ms/step - loss: 0.2363 - accuracy: 0.9076 - val_loss: 0.3988 - val_accuracy: 0.8308\n",
            "Epoch 38/50\n",
            "25000/25000 [==============================] - 226s 9ms/step - loss: 0.2337 - accuracy: 0.9089 - val_loss: 0.3993 - val_accuracy: 0.8246\n",
            "Epoch 39/50\n",
            "25000/25000 [==============================] - 226s 9ms/step - loss: 0.2349 - accuracy: 0.9068 - val_loss: 0.4052 - val_accuracy: 0.8274\n",
            "Epoch 40/50\n",
            "25000/25000 [==============================] - 226s 9ms/step - loss: 0.2230 - accuracy: 0.9145 - val_loss: 0.4098 - val_accuracy: 0.8196\n",
            "Epoch 41/50\n",
            "25000/25000 [==============================] - 226s 9ms/step - loss: 0.2196 - accuracy: 0.9146 - val_loss: 0.4076 - val_accuracy: 0.8252\n",
            "Epoch 42/50\n",
            "25000/25000 [==============================] - 225s 9ms/step - loss: 0.2154 - accuracy: 0.9188 - val_loss: 0.4046 - val_accuracy: 0.8258\n",
            "Epoch 43/50\n",
            "25000/25000 [==============================] - 226s 9ms/step - loss: 0.2141 - accuracy: 0.9179 - val_loss: 0.4088 - val_accuracy: 0.8236\n",
            "Epoch 44/50\n",
            "25000/25000 [==============================] - 226s 9ms/step - loss: 0.2127 - accuracy: 0.9179 - val_loss: 0.4077 - val_accuracy: 0.8228\n",
            "Epoch 45/50\n",
            "25000/25000 [==============================] - 226s 9ms/step - loss: 0.2062 - accuracy: 0.9219 - val_loss: 0.4133 - val_accuracy: 0.8240\n",
            "Epoch 46/50\n",
            "25000/25000 [==============================] - 226s 9ms/step - loss: 0.1991 - accuracy: 0.9251 - val_loss: 0.4303 - val_accuracy: 0.8154\n",
            "Epoch 47/50\n",
            "25000/25000 [==============================] - 226s 9ms/step - loss: 0.2043 - accuracy: 0.9216 - val_loss: 0.4134 - val_accuracy: 0.8248\n",
            "Epoch 48/50\n",
            "25000/25000 [==============================] - 226s 9ms/step - loss: 0.1933 - accuracy: 0.9295 - val_loss: 0.4312 - val_accuracy: 0.8172\n",
            "Epoch 49/50\n",
            "25000/25000 [==============================] - 227s 9ms/step - loss: 0.1925 - accuracy: 0.9292 - val_loss: 0.4179 - val_accuracy: 0.8244\n",
            "Epoch 50/50\n",
            "25000/25000 [==============================] - 227s 9ms/step - loss: 0.1884 - accuracy: 0.9319 - val_loss: 0.4286 - val_accuracy: 0.8210\n"
          ],
          "name": "stdout"
        }
      ]
    },
    {
      "cell_type": "code",
      "metadata": {
        "id": "6wMQ4HwuuCHz",
        "colab_type": "code",
        "colab": {}
      },
      "source": [
        "model.save_weights('./elmo-model_sent1.h5')\n",
        "# model.load_weights('./elmo-model_sent1.h5')"
      ],
      "execution_count": 0,
      "outputs": []
    },
    {
      "cell_type": "code",
      "metadata": {
        "id": "XALiyBBKuB-p",
        "colab_type": "code",
        "colab": {}
      },
      "source": [
        "predict = model.predict(x_test)"
      ],
      "execution_count": 0,
      "outputs": []
    },
    {
      "cell_type": "code",
      "metadata": {
        "id": "8akaI1-euB7P",
        "colab_type": "code",
        "colab": {}
      },
      "source": [
        "pred = [np.where(t == np.max(t))[0][0] for t in predict]"
      ],
      "execution_count": 0,
      "outputs": []
    },
    {
      "cell_type": "code",
      "metadata": {
        "id": "UG9pfo8UuB5a",
        "colab_type": "code",
        "colab": {}
      },
      "source": [
        "yr = [np.where(t == np.max(t))[0][0] for t in y_test]"
      ],
      "execution_count": 0,
      "outputs": []
    },
    {
      "cell_type": "code",
      "metadata": {
        "id": "PjOdBIc-r6Lo",
        "colab_type": "code",
        "outputId": "fa7833d5-5940-4352-9fe1-914ea78b28bf",
        "colab": {
          "base_uri": "https://localhost:8080/",
          "height": 381
        }
      },
      "source": [
        "from sklearn import metrics\n",
        "fpr, tpr, thresholds = metrics.roc_curve(yr, pred, pos_label=1)\n",
        "print(\"AUC : \",metrics.auc(fpr, tpr))\n",
        "\n",
        "from sklearn.metrics import accuracy_score\n",
        "print(\"accuracy : \",accuracy_score(yr,pred))\n",
        "\n",
        "from sklearn.metrics import precision_score\n",
        "print(\"precision : \",precision_score(yr, pred))\n",
        "\n",
        "from sklearn.metrics import recall_score\n",
        "print(\"recall : \" ,recall_score(yr, pred) )\n",
        "\n",
        "from sklearn.metrics import f1_score\n",
        "print(\"F1 : \", f1_score(yr, pred))\n",
        "\n",
        "import matplotlib.pyplot as plt\n",
        "import numpy as np\n",
        "import math\n",
        "hist2=history.history\n",
        "loss=hist2['loss']\n",
        "val_loss=hist2['val_loss']\n",
        "plt.xlabel('Epochs')\n",
        "plt.ylabel('train loss')\n",
        "plt.plot(loss)\n",
        "\n",
        "plt.xlabel('Epochs')\n",
        "plt.ylabel('test perplexity')\n",
        "plt.plot(val_loss)\n",
        "plt.legend(['train loss','test loss'])"
      ],
      "execution_count": 21,
      "outputs": [
        {
          "output_type": "stream",
          "text": [
            "AUC :  0.8214115002322757\n",
            "accuracy :  0.821\n",
            "precision :  0.8474936278674596\n",
            "recall :  0.7882259976293955\n",
            "F1 :  0.8167860798362333\n"
          ],
          "name": "stdout"
        },
        {
          "output_type": "execute_result",
          "data": {
            "text/plain": [
              "<matplotlib.legend.Legend at 0x7f7faaa2d128>"
            ]
          },
          "metadata": {
            "tags": []
          },
          "execution_count": 21
        },
        {
          "output_type": "display_data",
          "data": {
            "image/png": "[encoded data removed]",
            "text/plain": [
              "<Figure size 432x288 with 1 Axes>"
            ]
          },
          "metadata": {
            "tags": [],
            "needs_background": "light"
          }
        }
      ]
    },
    {
      "cell_type": "code",
      "metadata": {
        "id": "CCHH_xpxvM4M",
        "colab_type": "code",
        "colab": {}
      },
      "source": [
        ""
      ],
      "execution_count": 0,
      "outputs": []
    }
  ]
}