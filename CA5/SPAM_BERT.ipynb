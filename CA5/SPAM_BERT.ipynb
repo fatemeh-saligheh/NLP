{
  "nbformat": 4,
  "nbformat_minor": 0,
  "metadata": {
    "colab": {
      "name": "SPAM_BERT.ipynb",
      "provenance": [],
      "collapsed_sections": [],
      "machine_shape": "hm"
    },
    "kernelspec": {
      "name": "python3",
      "display_name": "Python 3"
    },
    "accelerator": "GPU"
  },
  "cells": [
    {
      "cell_type": "code",
      "metadata": {
        "id": "VATOOSPqlPXf",
        "colab_type": "code",
        "outputId": "a21e9079-3223-414d-e49c-38f9d079e607",
        "colab": {
          "base_uri": "https://localhost:8080/",
          "height": 1000
        }
      },
      "source": [
        "!pip install tensorflow==1.15\n",
        "!pip install \"tensorflow_hub>=0.6.0\"\n",
        "!pip3 install tensorflow_text==1.15\n",
        "\n",
        "import tensorflow as tf\n",
        "import tensorflow_hub as hub\n",
        "import pandas as pd\n",
        "from sklearn import preprocessing\n",
        "import keras\n",
        "import numpy as np\n",
        "from nltk.tokenize import word_tokenize\n",
        "import nltk\n",
        "import tarfile\n",
        "nltk.download('punkt')\n",
        "import tensorflow as tf\n",
        "import tensorflow_hub as hub\n",
        "import pandas as pd\n",
        "from sklearn import preprocessing\n",
        "import keras\n",
        "import numpy as np\n",
        "!pip install bert-tensorflow\n",
        "from keras.layers import Input, Lambda, Dense\n",
        "from keras.models import Model\n",
        "import keras.backend as K\n",
        "!pip install keras_metrics\n",
        "import keras_metrics\n",
        "!pip install transformers\n",
        "from transformers import BertTokenizer\n",
        "from sklearn.model_selection import train_test_split\n",
        "import pandas as pd\n",
        "import tensorflow as tf\n",
        "import tensorflow_hub as hub\n",
        "from datetime import datetime\n",
        "import bert\n",
        "from bert import run_classifier\n",
        "from bert import optimization\n",
        "from bert import tokenization\n",
        "from tensorflow import keras\n",
        "import os\n",
        "import re"
      ],
      "execution_count": 0,
      "outputs": [
        {
          "output_type": "stream",
          "text": [
            "Requirement already satisfied: tensorflow==1.15 in /usr/local/lib/python3.6/dist-packages (1.15.0)\n",
            "Requirement already satisfied: grpcio>=1.8.6 in /usr/local/lib/python3.6/dist-packages (from tensorflow==1.15) (1.28.1)\n",
            "Requirement already satisfied: astor>=0.6.0 in /usr/local/lib/python3.6/dist-packages (from tensorflow==1.15) (0.8.1)\n",
            "Requirement already satisfied: keras-applications>=1.0.8 in /usr/local/lib/python3.6/dist-packages (from tensorflow==1.15) (1.0.8)\n",
            "Requirement already satisfied: keras-preprocessing>=1.0.5 in /usr/local/lib/python3.6/dist-packages (from tensorflow==1.15) (1.1.0)\n",
            "Requirement already satisfied: opt-einsum>=2.3.2 in /usr/local/lib/python3.6/dist-packages (from tensorflow==1.15) (3.2.1)\n",
            "Requirement already satisfied: tensorflow-estimator==1.15.1 in /usr/local/lib/python3.6/dist-packages (from tensorflow==1.15) (1.15.1)\n",
            "Requirement already satisfied: gast==0.2.2 in /usr/local/lib/python3.6/dist-packages (from tensorflow==1.15) (0.2.2)\n",
            "Requirement already satisfied: numpy<2.0,>=1.16.0 in /usr/local/lib/python3.6/dist-packages (from tensorflow==1.15) (1.18.3)\n",
            "Requirement already satisfied: google-pasta>=0.1.6 in /usr/local/lib/python3.6/dist-packages (from tensorflow==1.15) (0.2.0)\n",
            "Requirement already satisfied: tensorboard<1.16.0,>=1.15.0 in /usr/local/lib/python3.6/dist-packages (from tensorflow==1.15) (1.15.0)\n",
            "Requirement already satisfied: termcolor>=1.1.0 in /usr/local/lib/python3.6/dist-packages (from tensorflow==1.15) (1.1.0)\n",
            "Requirement already satisfied: protobuf>=3.6.1 in /usr/local/lib/python3.6/dist-packages (from tensorflow==1.15) (3.10.0)\n",
            "Requirement already satisfied: wrapt>=1.11.1 in /usr/local/lib/python3.6/dist-packages (from tensorflow==1.15) (1.12.1)\n",
            "Requirement already satisfied: absl-py>=0.7.0 in /usr/local/lib/python3.6/dist-packages (from tensorflow==1.15) (0.9.0)\n",
            "Requirement already satisfied: wheel>=0.26 in /usr/local/lib/python3.6/dist-packages (from tensorflow==1.15) (0.34.2)\n",
            "Requirement already satisfied: six>=1.10.0 in /usr/local/lib/python3.6/dist-packages (from tensorflow==1.15) (1.12.0)\n",
            "Requirement already satisfied: h5py in /usr/local/lib/python3.6/dist-packages (from keras-applications>=1.0.8->tensorflow==1.15) (2.10.0)\n",
            "Requirement already satisfied: setuptools>=41.0.0 in /usr/local/lib/python3.6/dist-packages (from tensorboard<1.16.0,>=1.15.0->tensorflow==1.15) (46.1.3)\n",
            "Requirement already satisfied: markdown>=2.6.8 in /usr/local/lib/python3.6/dist-packages (from tensorboard<1.16.0,>=1.15.0->tensorflow==1.15) (3.2.1)\n",
            "Requirement already satisfied: werkzeug>=0.11.15 in /usr/local/lib/python3.6/dist-packages (from tensorboard<1.16.0,>=1.15.0->tensorflow==1.15) (1.0.1)\n",
            "Requirement already satisfied: tensorflow_hub>=0.6.0 in /usr/local/lib/python3.6/dist-packages (0.8.0)\n",
            "Requirement already satisfied: protobuf>=3.8.0 in /usr/local/lib/python3.6/dist-packages (from tensorflow_hub>=0.6.0) (3.10.0)\n",
            "Requirement already satisfied: numpy>=1.12.0 in /usr/local/lib/python3.6/dist-packages (from tensorflow_hub>=0.6.0) (1.18.3)\n",
            "Requirement already satisfied: six>=1.12.0 in /usr/local/lib/python3.6/dist-packages (from tensorflow_hub>=0.6.0) (1.12.0)\n",
            "Requirement already satisfied: setuptools in /usr/local/lib/python3.6/dist-packages (from protobuf>=3.8.0->tensorflow_hub>=0.6.0) (46.1.3)\n",
            "Requirement already satisfied: tensorflow_text==1.15 in /usr/local/lib/python3.6/dist-packages (1.15.0)\n",
            "Requirement already satisfied: tensorflow<1.16,>=1.15.0 in /usr/local/lib/python3.6/dist-packages (from tensorflow_text==1.15) (1.15.0)\n",
            "Requirement already satisfied: numpy<2.0,>=1.16.0 in /usr/local/lib/python3.6/dist-packages (from tensorflow<1.16,>=1.15.0->tensorflow_text==1.15) (1.18.3)\n",
            "Requirement already satisfied: keras-applications>=1.0.8 in /usr/local/lib/python3.6/dist-packages (from tensorflow<1.16,>=1.15.0->tensorflow_text==1.15) (1.0.8)\n",
            "Requirement already satisfied: tensorflow-estimator==1.15.1 in /usr/local/lib/python3.6/dist-packages (from tensorflow<1.16,>=1.15.0->tensorflow_text==1.15) (1.15.1)\n",
            "Requirement already satisfied: wheel>=0.26 in /usr/local/lib/python3.6/dist-packages (from tensorflow<1.16,>=1.15.0->tensorflow_text==1.15) (0.34.2)\n",
            "Requirement already satisfied: google-pasta>=0.1.6 in /usr/local/lib/python3.6/dist-packages (from tensorflow<1.16,>=1.15.0->tensorflow_text==1.15) (0.2.0)\n",
            "Requirement already satisfied: keras-preprocessing>=1.0.5 in /usr/local/lib/python3.6/dist-packages (from tensorflow<1.16,>=1.15.0->tensorflow_text==1.15) (1.1.0)\n",
            "Requirement already satisfied: tensorboard<1.16.0,>=1.15.0 in /usr/local/lib/python3.6/dist-packages (from tensorflow<1.16,>=1.15.0->tensorflow_text==1.15) (1.15.0)\n",
            "Requirement already satisfied: termcolor>=1.1.0 in /usr/local/lib/python3.6/dist-packages (from tensorflow<1.16,>=1.15.0->tensorflow_text==1.15) (1.1.0)\n",
            "Requirement already satisfied: gast==0.2.2 in /usr/local/lib/python3.6/dist-packages (from tensorflow<1.16,>=1.15.0->tensorflow_text==1.15) (0.2.2)\n",
            "Requirement already satisfied: six>=1.10.0 in /usr/local/lib/python3.6/dist-packages (from tensorflow<1.16,>=1.15.0->tensorflow_text==1.15) (1.12.0)\n",
            "Requirement already satisfied: protobuf>=3.6.1 in /usr/local/lib/python3.6/dist-packages (from tensorflow<1.16,>=1.15.0->tensorflow_text==1.15) (3.10.0)\n",
            "Requirement already satisfied: astor>=0.6.0 in /usr/local/lib/python3.6/dist-packages (from tensorflow<1.16,>=1.15.0->tensorflow_text==1.15) (0.8.1)\n",
            "Requirement already satisfied: opt-einsum>=2.3.2 in /usr/local/lib/python3.6/dist-packages (from tensorflow<1.16,>=1.15.0->tensorflow_text==1.15) (3.2.1)\n",
            "Requirement already satisfied: wrapt>=1.11.1 in /usr/local/lib/python3.6/dist-packages (from tensorflow<1.16,>=1.15.0->tensorflow_text==1.15) (1.12.1)\n",
            "Requirement already satisfied: absl-py>=0.7.0 in /usr/local/lib/python3.6/dist-packages (from tensorflow<1.16,>=1.15.0->tensorflow_text==1.15) (0.9.0)\n",
            "Requirement already satisfied: grpcio>=1.8.6 in /usr/local/lib/python3.6/dist-packages (from tensorflow<1.16,>=1.15.0->tensorflow_text==1.15) (1.28.1)\n",
            "Requirement already satisfied: h5py in /usr/local/lib/python3.6/dist-packages (from keras-applications>=1.0.8->tensorflow<1.16,>=1.15.0->tensorflow_text==1.15) (2.10.0)\n",
            "Requirement already satisfied: werkzeug>=0.11.15 in /usr/local/lib/python3.6/dist-packages (from tensorboard<1.16.0,>=1.15.0->tensorflow<1.16,>=1.15.0->tensorflow_text==1.15) (1.0.1)\n",
            "Requirement already satisfied: setuptools>=41.0.0 in /usr/local/lib/python3.6/dist-packages (from tensorboard<1.16.0,>=1.15.0->tensorflow<1.16,>=1.15.0->tensorflow_text==1.15) (46.1.3)\n",
            "Requirement already satisfied: markdown>=2.6.8 in /usr/local/lib/python3.6/dist-packages (from tensorboard<1.16.0,>=1.15.0->tensorflow<1.16,>=1.15.0->tensorflow_text==1.15) (3.2.1)\n",
            "[nltk_data] Downloading package punkt to /root/nltk_data...\n",
            "[nltk_data]   Package punkt is already up-to-date!\n",
            "Requirement already satisfied: bert-tensorflow in /usr/local/lib/python3.6/dist-packages (1.0.1)\n",
            "Requirement already satisfied: six in /usr/local/lib/python3.6/dist-packages (from bert-tensorflow) (1.12.0)\n",
            "Requirement already satisfied: keras_metrics in /usr/local/lib/python3.6/dist-packages (1.1.0)\n",
            "Requirement already satisfied: Keras>=2.1.5 in /usr/local/lib/python3.6/dist-packages (from keras_metrics) (2.3.1)\n",
            "Requirement already satisfied: scipy>=0.14 in /usr/local/lib/python3.6/dist-packages (from Keras>=2.1.5->keras_metrics) (1.4.1)\n",
            "Requirement already satisfied: numpy>=1.9.1 in /usr/local/lib/python3.6/dist-packages (from Keras>=2.1.5->keras_metrics) (1.18.3)\n",
            "Requirement already satisfied: six>=1.9.0 in /usr/local/lib/python3.6/dist-packages (from Keras>=2.1.5->keras_metrics) (1.12.0)\n",
            "Requirement already satisfied: keras-preprocessing>=1.0.5 in /usr/local/lib/python3.6/dist-packages (from Keras>=2.1.5->keras_metrics) (1.1.0)\n",
            "Requirement already satisfied: keras-applications>=1.0.6 in /usr/local/lib/python3.6/dist-packages (from Keras>=2.1.5->keras_metrics) (1.0.8)\n",
            "Requirement already satisfied: pyyaml in /usr/local/lib/python3.6/dist-packages (from Keras>=2.1.5->keras_metrics) (3.13)\n",
            "Requirement already satisfied: h5py in /usr/local/lib/python3.6/dist-packages (from Keras>=2.1.5->keras_metrics) (2.10.0)\n",
            "Requirement already satisfied: transformers in /usr/local/lib/python3.6/dist-packages (2.8.0)\n",
            "Requirement already satisfied: filelock in /usr/local/lib/python3.6/dist-packages (from transformers) (3.0.12)\n",
            "Requirement already satisfied: numpy in /usr/local/lib/python3.6/dist-packages (from transformers) (1.18.3)\n",
            "Requirement already satisfied: sentencepiece in /usr/local/lib/python3.6/dist-packages (from transformers) (0.1.86)\n",
            "Requirement already satisfied: tqdm>=4.27 in /usr/local/lib/python3.6/dist-packages (from transformers) (4.38.0)\n",
            "Requirement already satisfied: tokenizers==0.5.2 in /usr/local/lib/python3.6/dist-packages (from transformers) (0.5.2)\n",
            "Requirement already satisfied: regex!=2019.12.17 in /usr/local/lib/python3.6/dist-packages (from transformers) (2019.12.20)\n",
            "Requirement already satisfied: sacremoses in /usr/local/lib/python3.6/dist-packages (from transformers) (0.0.43)\n",
            "Requirement already satisfied: dataclasses; python_version < \"3.7\" in /usr/local/lib/python3.6/dist-packages (from transformers) (0.7)\n",
            "Requirement already satisfied: boto3 in /usr/local/lib/python3.6/dist-packages (from transformers) (1.13.1)\n",
            "Requirement already satisfied: requests in /usr/local/lib/python3.6/dist-packages (from transformers) (2.23.0)\n",
            "Requirement already satisfied: click in /usr/local/lib/python3.6/dist-packages (from sacremoses->transformers) (7.1.2)\n",
            "Requirement already satisfied: joblib in /usr/local/lib/python3.6/dist-packages (from sacremoses->transformers) (0.14.1)\n",
            "Requirement already satisfied: six in /usr/local/lib/python3.6/dist-packages (from sacremoses->transformers) (1.12.0)\n",
            "Requirement already satisfied: botocore<1.17.0,>=1.16.1 in /usr/local/lib/python3.6/dist-packages (from boto3->transformers) (1.16.1)\n",
            "Requirement already satisfied: jmespath<1.0.0,>=0.7.1 in /usr/local/lib/python3.6/dist-packages (from boto3->transformers) (0.9.5)\n",
            "Requirement already satisfied: s3transfer<0.4.0,>=0.3.0 in /usr/local/lib/python3.6/dist-packages (from boto3->transformers) (0.3.3)\n",
            "Requirement already satisfied: chardet<4,>=3.0.2 in /usr/local/lib/python3.6/dist-packages (from requests->transformers) (3.0.4)\n",
            "Requirement already satisfied: urllib3!=1.25.0,!=1.25.1,<1.26,>=1.21.1 in /usr/local/lib/python3.6/dist-packages (from requests->transformers) (1.24.3)\n",
            "Requirement already satisfied: certifi>=2017.4.17 in /usr/local/lib/python3.6/dist-packages (from requests->transformers) (2020.4.5.1)\n",
            "Requirement already satisfied: idna<3,>=2.5 in /usr/local/lib/python3.6/dist-packages (from requests->transformers) (2.9)\n",
            "Requirement already satisfied: docutils<0.16,>=0.10 in /usr/local/lib/python3.6/dist-packages (from botocore<1.17.0,>=1.16.1->boto3->transformers) (0.15.2)\n",
            "Requirement already satisfied: python-dateutil<3.0.0,>=2.1 in /usr/local/lib/python3.6/dist-packages (from botocore<1.17.0,>=1.16.1->boto3->transformers) (2.8.1)\n"
          ],
          "name": "stdout"
        }
      ]
    },
    {
      "cell_type": "markdown",
      "metadata": {
        "id": "8sLTRx7Ef--N",
        "colab_type": "text"
      },
      "source": [
        "## **loading data and preprocess**"
      ]
    },
    {
      "cell_type": "code",
      "metadata": {
        "id": "RJ3UPDfsmTi2",
        "colab_type": "code",
        "outputId": "cc193824-9f2d-4072-9a24-c59554c1b2c1",
        "colab": {
          "base_uri": "https://localhost:8080/",
          "height": 122
        }
      },
      "source": [
        "!pip install -U -q PyDrive\n",
        "from pydrive.auth import GoogleAuth\n",
        "from pydrive.drive import GoogleDrive\n",
        "from google.colab import auth\n",
        "from oauth2client.client import GoogleCredentials\n",
        "# Authenticate and create the PyDrive client.\n",
        "auth.authenticate_user()\n",
        "gauth = GoogleAuth()\n",
        "gauth.credentials = GoogleCredentials.get_application_default()\n",
        "drive = GoogleDrive(gauth)"
      ],
      "execution_count": 0,
      "outputs": [
        {
          "output_type": "stream",
          "text": [
            "Go to the following link in your browser:\n",
            "\n",
            "    https://accounts.google.com/o/oauth2/auth?response_type=code&client_id=32555940559.apps.googleusercontent.com&redirect_uri=urn%3Aietf%3Awg%3Aoauth%3A2.0%3Aoob&scope=openid+https%3A%2F%2Fwww.googleapis.com%2Fauth%2Fuserinfo.email+https%3A%2F%2Fwww.googleapis.com%2Fauth%2Fcloud-platform+https%3A%2F%2Fwww.googleapis.com%2Fauth%2Fappengine.admin+https%3A%2F%2Fwww.googleapis.com%2Fauth%2Fcompute+https%3A%2F%2Fwww.googleapis.com%2Fauth%2Faccounts.reauth+https%3A%2F%2Fwww.googleapis.com%2Fauth%2Fdrive&state=NRsXXsYY9f8LDLg92MVWhWJa2LNl8e&code_challenge=QehlETekuoWz4-gCT23fWMdvXsVR9v0pBxPsbUrVMPU&prompt=consent&code_challenge_method=S256&access_type=offline\n",
            "\n",
            "Enter verification code: ··········\n"
          ],
          "name": "stdout"
        }
      ]
    },
    {
      "cell_type": "code",
      "metadata": {
        "id": "oQ-DhkhhmcDH",
        "colab_type": "code",
        "colab": {}
      },
      "source": [
        "link = 'https://drive.google.com/open?id=1d2o9uC_UsEx0wOLy4YuwyucM3Yc-vze7'\n",
        "fluff, id = link.split('=')\n",
        "print (id)\n",
        "downloaded = drive.CreateFile({'id':id}) \n",
        "downloaded.GetContentFile('spam.csv')  \n",
        "df = pd.read_csv('spam.csv', encoding='latin-1')\n",
        "df['v1'] = df.v1.map({'ham': 0, 'spam': 1})\n",
        "msk = np.random.rand(len(df)) < 0.8\n",
        "df_train = df[msk]\n",
        "df_test = df[~msk]\n",
        "train_sentences = df_train.v2.values\n",
        "train_labels = df_train.v1.values\n",
        "test_sentences = df_test.v2.values\n",
        "test_labels = df_test.v1.values\n",
        "\n",
        "train_sentences = [word_tokenize(s) for s in train_sentences]\n",
        "nltk.download('stopwords')\n",
        "pre_sen = []\n",
        "for tokens in train_sentences:\n",
        "  tokens = [w.lower() for w in tokens]\n",
        "  import string\n",
        "  table = str.maketrans('', '', string.punctuation)\n",
        "  stripped = [w.translate(table) for w in tokens]\n",
        "  # remove remaining tokens that are not alphabetic\n",
        "  words = [word for word in stripped if word.isalpha()]\n",
        "  # filter out stop words\n",
        "  from nltk.corpus import stopwords\n",
        "  stop_words = set(stopwords.words('english'))\n",
        "  words = [w for w in words if not w in stop_words]\n",
        "  pre_sen.append(words)\n",
        "train_sentences = pre_sen\n",
        "\n",
        "t_sen = []\n",
        "from nltk.tokenize.treebank import TreebankWordDetokenizer\n",
        "for s in train_sentences:\n",
        "  if(len(s)<128):\n",
        "    t_sen.append(TreebankWordDetokenizer().detokenize(s))\n",
        "  else:\n",
        "    t_sen.append(TreebankWordDetokenizer().detokenize(s[0:127]))\n",
        "train_sentences = t_sen\n",
        "\n",
        "test_sentences = [word_tokenize(s) for s in test_sentences]\n",
        "pre_sen = []\n",
        "for tokens in test_sentences:\n",
        "  tokens = [w.lower() for w in tokens]\n",
        "  import string\n",
        "  table = str.maketrans('', '', string.punctuation)\n",
        "  stripped = [w.translate(table) for w in tokens]\n",
        "  # remove remaining tokens that are not alphabetic\n",
        "  words = [word for word in stripped if word.isalpha()]\n",
        "  # filter out stop words\n",
        "  from nltk.corpus import stopwords\n",
        "  stop_words = set(stopwords.words('english'))\n",
        "  words = [w for w in words if not w in stop_words]\n",
        "  pre_sen.append(words)\n",
        "test_sentences = pre_sen\n",
        "t_sen = []\n",
        "for s in test_sentences:\n",
        "  if(len(s)<128):\n",
        "    t_sen.append(TreebankWordDetokenizer().detokenize(s))\n",
        "  else:\n",
        "    t_sen.append(TreebankWordDetokenizer().detokenize(s[0:127]))\n",
        "test_sentences = t_sen"
      ],
      "execution_count": 0,
      "outputs": []
    },
    {
      "cell_type": "code",
      "metadata": {
        "id": "T_O5XYuYv7eV",
        "colab_type": "code",
        "colab": {}
      },
      "source": [
        "# !pip install transformers\n",
        "from transformers import BertTokenizer\n",
        "tokenizer = BertTokenizer.from_pretrained('bert-large-cased', do_lower_case=True)\n",
        "train_input_ids = []\n",
        "train_input_masks = []\n",
        "train_segment_ids = []\n",
        "for sent in train_sentences:\n",
        "      encoded_dict = tokenizer.encode_plus(sent,add_special_tokens = True,max_length = 128,pad_to_max_length = True,return_attention_mask = True)\n",
        "      train_input_ids.append(encoded_dict['input_ids'])\n",
        "      train_input_masks.append(encoded_dict['attention_mask'])\n",
        "      train_segment_ids.append(encoded_dict['token_type_ids'])"
      ],
      "execution_count": 0,
      "outputs": []
    },
    {
      "cell_type": "code",
      "metadata": {
        "id": "4HuOiT3Znwvf",
        "colab_type": "code",
        "colab": {}
      },
      "source": [
        "from transformers import BertTokenizer\n",
        "tokenizer = BertTokenizer.from_pretrained('bert-large-cased', do_lower_case=True)\n",
        "test_input_ids = []\n",
        "test_input_masks = []\n",
        "test_segment_ids = []\n",
        "for sent in test_sentences:\n",
        "      encoded_dict = tokenizer.encode_plus(sent,add_special_tokens = True,max_length = 128,pad_to_max_length = True,return_attention_mask = True)\n",
        "      test_input_ids.append(encoded_dict['input_ids'])\n",
        "      test_input_masks.append(encoded_dict['attention_mask'])\n",
        "      test_segment_ids.append(encoded_dict['token_type_ids'])"
      ],
      "execution_count": 0,
      "outputs": []
    },
    {
      "cell_type": "markdown",
      "metadata": {
        "id": "c0w_0SalgO6j",
        "colab_type": "text"
      },
      "source": [
        "## **building model**"
      ]
    },
    {
      "cell_type": "code",
      "metadata": {
        "id": "dTl_XANKwDs3",
        "colab_type": "code",
        "colab": {}
      },
      "source": [
        "class BertLayer(tf.keras.layers.Layer):\n",
        "    def __init__(self, n_fine_tune_layers=10, **kwargs):\n",
        "        self.n_fine_tune_layers = n_fine_tune_layers\n",
        "        self.trainable = True\n",
        "        self.output_size = 768\n",
        "        super(BertLayer, self).__init__(**kwargs)\n",
        "\n",
        "    def build(self, input_shape):\n",
        "        self.bert = hub.Module(\n",
        "            'https://tfhub.dev/google/bert_cased_L-12_H-768_A-12/1',\n",
        "            trainable=self.trainable,\n",
        "            name=\"{}_module\".format(self.name)\n",
        "        )\n",
        "        trainable_vars = self.bert.variables\n",
        "        \n",
        "        # Remove unused layers\n",
        "        trainable_vars = [var for var in trainable_vars if not \"/cls/\" in var.name]\n",
        "        \n",
        "        # Select how many layers to fine tune\n",
        "        trainable_vars = trainable_vars[-self.n_fine_tune_layers :]\n",
        "        \n",
        "        # Add to trainable weights\n",
        "        for var in trainable_vars:\n",
        "            self._trainable_weights.append(var)\n",
        "        \n",
        "        # Add non-trainable weights\n",
        "        for var in self.bert.variables:\n",
        "            if var not in self._trainable_weights:\n",
        "                self._non_trainable_weights.append(var)\n",
        "        \n",
        "        super(BertLayer, self).build(input_shape)\n",
        "\n",
        "    def call(self, inputs):\n",
        "        inputs = [K.cast(x, dtype=\"int32\") for x in inputs]\n",
        "        input_ids, input_mask, segment_ids = inputs\n",
        "        bert_inputs = dict(input_ids=input_ids, input_mask=input_mask, segment_ids=segment_ids)\n",
        "        result = self.bert(inputs=bert_inputs, signature=\"tokens\", as_dict=True)[\"pooled_output\"]\n",
        "        return result\n",
        "\n",
        "    def compute_output_shape(self, input_shape):\n",
        "        return (input_shape[0], self.output_size)"
      ],
      "execution_count": 0,
      "outputs": []
    },
    {
      "cell_type": "code",
      "metadata": {
        "id": "cgNC3wvLwDfE",
        "colab_type": "code",
        "colab": {}
      },
      "source": [
        "def build_model(): \n",
        "    in_id = tf.keras.layers.Input(shape=(128,), name=\"input_ids\")\n",
        "    in_mask = tf.keras.layers.Input(shape=(128,), name=\"input_masks\")\n",
        "    in_segment = tf.keras.layers.Input(shape=(128,), name=\"segment_ids\")\n",
        "    bert_inputs = [in_id, in_mask, in_segment]\n",
        "    \n",
        "    bert_output = BertLayer(n_fine_tune_layers=5)(bert_inputs)\n",
        "    dense = tf.keras.layers.Dense(768, activation='relu')(bert_output)\n",
        "    pred = tf.keras.layers.Dense(1, activation='sigmoid')(dense)\n",
        "    \n",
        "    model = tf.keras.models.Model(inputs=bert_inputs, outputs=pred)\n",
        "    ada = keras.optimizers.Adam(learning_rate=0.0002, beta_1=0.9, beta_2=0.999, amsgrad=False)\n",
        "    model.compile(loss='binary_crossentropy', optimizer=ada, metrics=['accuracy'])\n",
        "    model.summary()\n",
        "    \n",
        "    return model\n",
        "\n",
        "def initialize_vars(sess):\n",
        "    sess.run(tf.local_variables_initializer())\n",
        "    sess.run(tf.global_variables_initializer())\n",
        "    sess.run(tf.tables_initializer())\n",
        "    K.set_session(sess)"
      ],
      "execution_count": 0,
      "outputs": []
    },
    {
      "cell_type": "markdown",
      "metadata": {
        "id": "YEnOvAV9R8OI",
        "colab_type": "text"
      },
      "source": [
        "## **10 epochs**"
      ]
    },
    {
      "cell_type": "code",
      "metadata": {
        "id": "ueOEktoPR7yR",
        "colab_type": "code",
        "outputId": "6a0a912f-e112-4318-c51e-a4429a10a6a8",
        "colab": {
          "base_uri": "https://localhost:8080/",
          "height": 782
        }
      },
      "source": [
        "model = build_model()\n",
        "sess = tf.Session()\n",
        "# Instantiate variables\n",
        "initialize_vars(sess)\n",
        "history = model.fit(\n",
        "    [train_input_ids, train_input_masks, train_segment_ids], \n",
        "    train_labels,\n",
        "    validation_data=([test_input_ids, test_input_masks, test_segment_ids], test_labels),\n",
        "    epochs=10,\n",
        "    batch_size=200\n",
        ")"
      ],
      "execution_count": 0,
      "outputs": [
        {
          "output_type": "stream",
          "text": [
            "INFO:tensorflow:Saver not created because there are no variables in the graph to restore\n"
          ],
          "name": "stdout"
        },
        {
          "output_type": "stream",
          "text": [
            "INFO:tensorflow:Saver not created because there are no variables in the graph to restore\n"
          ],
          "name": "stderr"
        },
        {
          "output_type": "stream",
          "text": [
            "Model: \"model_2\"\n",
            "__________________________________________________________________________________________________\n",
            "Layer (type)                    Output Shape         Param #     Connected to                     \n",
            "==================================================================================================\n",
            "input_ids (InputLayer)          [(None, 128)]        0                                            \n",
            "__________________________________________________________________________________________________\n",
            "input_masks (InputLayer)        [(None, 128)]        0                                            \n",
            "__________________________________________________________________________________________________\n",
            "segment_ids (InputLayer)        [(None, 128)]        0                                            \n",
            "__________________________________________________________________________________________________\n",
            "bert_layer_2 (BertLayer)        (None, 768)          108931396   input_ids[0][0]                  \n",
            "                                                                 input_masks[0][0]                \n",
            "                                                                 segment_ids[0][0]                \n",
            "__________________________________________________________________________________________________\n",
            "dense_4 (Dense)                 (None, 768)          590592      bert_layer_2[0][0]               \n",
            "__________________________________________________________________________________________________\n",
            "dense_5 (Dense)                 (None, 1)            769         dense_4[0][0]                    \n",
            "==================================================================================================\n",
            "Total params: 109,522,757\n",
            "Trainable params: 3,542,785\n",
            "Non-trainable params: 105,979,972\n",
            "__________________________________________________________________________________________________\n",
            "Train on 4422 samples, validate on 1150 samples\n",
            "Epoch 1/10\n",
            "4422/4422 [==============================] - 100s 23ms/sample - loss: 0.2960 - acc: 0.8976 - val_loss: 0.1498 - val_acc: 0.9435\n",
            "Epoch 2/10\n",
            "4422/4422 [==============================] - 97s 22ms/sample - loss: 0.1222 - acc: 0.9579 - val_loss: 0.0837 - val_acc: 0.9704\n",
            "Epoch 3/10\n",
            "4422/4422 [==============================] - 97s 22ms/sample - loss: 0.0908 - acc: 0.9708 - val_loss: 0.0749 - val_acc: 0.9704\n",
            "Epoch 4/10\n",
            "4422/4422 [==============================] - 97s 22ms/sample - loss: 0.0655 - acc: 0.9810 - val_loss: 0.1238 - val_acc: 0.9591\n",
            "Epoch 5/10\n",
            "4422/4422 [==============================] - 97s 22ms/sample - loss: 0.0699 - acc: 0.9772 - val_loss: 0.0679 - val_acc: 0.9774\n",
            "Epoch 6/10\n",
            "4422/4422 [==============================] - 97s 22ms/sample - loss: 0.0345 - acc: 0.9905 - val_loss: 0.0820 - val_acc: 0.9791\n",
            "Epoch 7/10\n",
            "4422/4422 [==============================] - 97s 22ms/sample - loss: 0.0297 - acc: 0.9896 - val_loss: 0.0770 - val_acc: 0.9800\n",
            "Epoch 8/10\n",
            "4422/4422 [==============================] - 97s 22ms/sample - loss: 0.0160 - acc: 0.9962 - val_loss: 0.0688 - val_acc: 0.9817\n",
            "Epoch 9/10\n",
            "4422/4422 [==============================] - 97s 22ms/sample - loss: 0.0091 - acc: 0.9984 - val_loss: 0.0829 - val_acc: 0.9791\n",
            "Epoch 10/10\n",
            "4422/4422 [==============================] - 97s 22ms/sample - loss: 0.0027 - acc: 0.9995 - val_loss: 0.0861 - val_acc: 0.9791\n"
          ],
          "name": "stdout"
        }
      ]
    },
    {
      "cell_type": "code",
      "metadata": {
        "id": "oVNNV72dSWYf",
        "colab_type": "code",
        "colab": {}
      },
      "source": [
        "model.save_weights('./bert-model_spam1.h5')"
      ],
      "execution_count": 0,
      "outputs": []
    },
    {
      "cell_type": "code",
      "metadata": {
        "id": "lc347iREgDMM",
        "colab_type": "code",
        "colab": {}
      },
      "source": [
        "predict = model.predict([test_input_ids, test_input_masks, test_segment_ids])"
      ],
      "execution_count": 0,
      "outputs": []
    },
    {
      "cell_type": "code",
      "metadata": {
        "id": "4B6lhJJ2gMCO",
        "colab_type": "code",
        "colab": {}
      },
      "source": [
        "pred = []\n",
        "for t in predict:\n",
        "  if(t<0.5):\n",
        "    pred.append(0)\n",
        "  else :\n",
        "    pred.append(1)\n",
        "\n",
        "yr = test_labels"
      ],
      "execution_count": 0,
      "outputs": []
    },
    {
      "cell_type": "code",
      "metadata": {
        "id": "ejgMqNp-gL_P",
        "colab_type": "code",
        "outputId": "49a34212-dd5a-4431-a793-078d3f1225fc",
        "colab": {
          "base_uri": "https://localhost:8080/",
          "height": 381
        }
      },
      "source": [
        "from sklearn import metrics\n",
        "fpr, tpr, thresholds = metrics.roc_curve(yr, pred, pos_label=1)\n",
        "print(\"AUC : \",metrics.auc(fpr, tpr))\n",
        "\n",
        "from sklearn.metrics import accuracy_score\n",
        "print(\"accuracy : \",accuracy_score(yr,pred))\n",
        "\n",
        "from sklearn.metrics import precision_score\n",
        "print(\"precision : \",precision_score(yr, pred))\n",
        "\n",
        "from sklearn.metrics import recall_score\n",
        "print(\"recall : \" ,recall_score(yr, pred) )\n",
        "\n",
        "from sklearn.metrics import f1_score\n",
        "print(\"F1 : \", f1_score(yr, pred))\n",
        "\n",
        "import matplotlib.pyplot as plt\n",
        "import numpy as np\n",
        "import math\n",
        "hist2=history.history\n",
        "loss=hist2['loss']\n",
        "val_loss=hist2['val_loss']\n",
        "plt.xlabel('Epochs')\n",
        "plt.ylabel('train loss')\n",
        "plt.plot(loss)\n",
        "\n",
        "plt.xlabel('Epochs')\n",
        "plt.ylabel('test perplexity')\n",
        "plt.plot(val_loss)\n",
        "plt.legend(['train loss','test loss'])"
      ],
      "execution_count": 0,
      "outputs": [
        {
          "output_type": "stream",
          "text": [
            "AUC :  0.9425278515687401\n",
            "accuracy :  0.9791304347826087\n",
            "precision :  0.9685534591194969\n",
            "recall :  0.8901734104046243\n",
            "F1 :  0.927710843373494\n"
          ],
          "name": "stdout"
        },
        {
          "output_type": "execute_result",
          "data": {
            "text/plain": [
              "<matplotlib.legend.Legend at 0x7f29aae91fd0>"
            ]
          },
          "metadata": {
            "tags": []
          },
          "execution_count": 19
        },
        {
          "output_type": "display_data",
          "data": {
            "image/png": "[encoded data removed]",
            "text/plain": [
              "<Figure size 432x288 with 1 Axes>"
            ]
          },
          "metadata": {
            "tags": [],
            "needs_background": "light"
          }
        }
      ]
    },
    {
      "cell_type": "code",
      "metadata": {
        "id": "rIZXu_cygC3M",
        "colab_type": "code",
        "colab": {}
      },
      "source": [
        ""
      ],
      "execution_count": 0,
      "outputs": []
    },
    {
      "cell_type": "markdown",
      "metadata": {
        "id": "Hv0oV_jjSVt2",
        "colab_type": "text"
      },
      "source": [
        "## **20 epochs**"
      ]
    },
    {
      "cell_type": "code",
      "metadata": {
        "id": "3jqu6DxZwDRf",
        "colab_type": "code",
        "outputId": "c80a17ec-228f-471c-db2b-05e8180aee31",
        "colab": {
          "base_uri": "https://localhost:8080/",
          "height": 1000
        }
      },
      "source": [
        "model2 = build_model()\n",
        "sess = tf.Session()\n",
        "# Instantiate variables\n",
        "initialize_vars(sess)\n",
        "\n",
        "history2 = model2.fit(\n",
        "    [train_input_ids, train_input_masks, train_segment_ids], \n",
        "    train_labels,\n",
        "    validation_data=([test_input_ids, test_input_masks, test_segment_ids], test_labels),\n",
        "    epochs=20,\n",
        "    batch_size=200\n",
        ")"
      ],
      "execution_count": 0,
      "outputs": [
        {
          "output_type": "stream",
          "text": [
            "INFO:tensorflow:Saver not created because there are no variables in the graph to restore\n"
          ],
          "name": "stdout"
        },
        {
          "output_type": "stream",
          "text": [
            "INFO:tensorflow:Saver not created because there are no variables in the graph to restore\n"
          ],
          "name": "stderr"
        },
        {
          "output_type": "stream",
          "text": [
            "Model: \"model_3\"\n",
            "__________________________________________________________________________________________________\n",
            "Layer (type)                    Output Shape         Param #     Connected to                     \n",
            "==================================================================================================\n",
            "input_ids (InputLayer)          [(None, 128)]        0                                            \n",
            "__________________________________________________________________________________________________\n",
            "input_masks (InputLayer)        [(None, 128)]        0                                            \n",
            "__________________________________________________________________________________________________\n",
            "segment_ids (InputLayer)        [(None, 128)]        0                                            \n",
            "__________________________________________________________________________________________________\n",
            "bert_layer_3 (BertLayer)        (None, 768)          108931396   input_ids[0][0]                  \n",
            "                                                                 input_masks[0][0]                \n",
            "                                                                 segment_ids[0][0]                \n",
            "__________________________________________________________________________________________________\n",
            "dense_6 (Dense)                 (None, 768)          590592      bert_layer_3[0][0]               \n",
            "__________________________________________________________________________________________________\n",
            "dense_7 (Dense)                 (None, 1)            769         dense_6[0][0]                    \n",
            "==================================================================================================\n",
            "Total params: 109,522,757\n",
            "Trainable params: 3,542,785\n",
            "Non-trainable params: 105,979,972\n",
            "__________________________________________________________________________________________________\n",
            "Train on 4422 samples, validate on 1150 samples\n",
            "Epoch 1/20\n",
            "4422/4422 [==============================] - 100s 23ms/sample - loss: 0.3549 - acc: 0.8532 - val_loss: 0.1640 - val_acc: 0.9330\n",
            "Epoch 2/20\n",
            "4422/4422 [==============================] - 97s 22ms/sample - loss: 0.1281 - acc: 0.9518 - val_loss: 0.0986 - val_acc: 0.9626\n",
            "Epoch 3/20\n",
            "4422/4422 [==============================] - 97s 22ms/sample - loss: 0.1051 - acc: 0.9620 - val_loss: 0.0782 - val_acc: 0.9748\n",
            "Epoch 4/20\n",
            "4422/4422 [==============================] - 97s 22ms/sample - loss: 0.0676 - acc: 0.9787 - val_loss: 0.0776 - val_acc: 0.9713\n",
            "Epoch 5/20\n",
            "4422/4422 [==============================] - 97s 22ms/sample - loss: 0.0532 - acc: 0.9839 - val_loss: 0.1079 - val_acc: 0.9565\n",
            "Epoch 6/20\n",
            "4422/4422 [==============================] - 97s 22ms/sample - loss: 0.0593 - acc: 0.9796 - val_loss: 0.0598 - val_acc: 0.9783\n",
            "Epoch 7/20\n",
            "4422/4422 [==============================] - 97s 22ms/sample - loss: 0.0341 - acc: 0.9907 - val_loss: 0.0647 - val_acc: 0.9843\n",
            "Epoch 8/20\n",
            "4422/4422 [==============================] - 97s 22ms/sample - loss: 0.0209 - acc: 0.9955 - val_loss: 0.0777 - val_acc: 0.9800\n",
            "Epoch 9/20\n",
            "4422/4422 [==============================] - 97s 22ms/sample - loss: 0.0179 - acc: 0.9943 - val_loss: 0.1015 - val_acc: 0.9774\n",
            "Epoch 10/20\n",
            "4422/4422 [==============================] - 97s 22ms/sample - loss: 0.0258 - acc: 0.9914 - val_loss: 0.0864 - val_acc: 0.9800\n",
            "Epoch 11/20\n",
            "4422/4422 [==============================] - 97s 22ms/sample - loss: 0.0098 - acc: 0.9982 - val_loss: 0.0771 - val_acc: 0.9826\n",
            "Epoch 12/20\n",
            "4422/4422 [==============================] - 97s 22ms/sample - loss: 0.0050 - acc: 0.9995 - val_loss: 0.0839 - val_acc: 0.9817\n",
            "Epoch 13/20\n",
            "4422/4422 [==============================] - 97s 22ms/sample - loss: 0.0035 - acc: 0.9995 - val_loss: 0.0814 - val_acc: 0.9765\n",
            "Epoch 14/20\n",
            "4422/4422 [==============================] - 97s 22ms/sample - loss: 0.0016 - acc: 0.9998 - val_loss: 0.0887 - val_acc: 0.9809\n",
            "Epoch 15/20\n",
            "4422/4422 [==============================] - 98s 22ms/sample - loss: 8.3813e-04 - acc: 1.0000 - val_loss: 0.1228 - val_acc: 0.9783\n",
            "Epoch 16/20\n",
            "4422/4422 [==============================] - 98s 22ms/sample - loss: 2.5540e-04 - acc: 1.0000 - val_loss: 0.1145 - val_acc: 0.9791\n",
            "Epoch 17/20\n",
            "4422/4422 [==============================] - 98s 22ms/sample - loss: 1.0087e-04 - acc: 1.0000 - val_loss: 0.1251 - val_acc: 0.9791\n",
            "Epoch 18/20\n",
            "4422/4422 [==============================] - 98s 22ms/sample - loss: 6.4462e-05 - acc: 1.0000 - val_loss: 0.1259 - val_acc: 0.9791\n",
            "Epoch 19/20\n",
            "4422/4422 [==============================] - 98s 22ms/sample - loss: 4.6396e-05 - acc: 1.0000 - val_loss: 0.1301 - val_acc: 0.9791\n",
            "Epoch 20/20\n",
            "4422/4422 [==============================] - 98s 22ms/sample - loss: 3.4723e-05 - acc: 1.0000 - val_loss: 0.1344 - val_acc: 0.9800\n"
          ],
          "name": "stdout"
        }
      ]
    },
    {
      "cell_type": "code",
      "metadata": {
        "id": "WrxE9w9YupG5",
        "colab_type": "code",
        "colab": {}
      },
      "source": [
        "model2.save_weights('./bert-model_spam2.h5')\n",
        "# model2.load_weights('./bert-model_spam2.h5')"
      ],
      "execution_count": 0,
      "outputs": []
    },
    {
      "cell_type": "code",
      "metadata": {
        "id": "BiFeC_jsBjAM",
        "colab_type": "code",
        "colab": {}
      },
      "source": [
        "predict2 = model2.predict([test_input_ids, test_input_masks, test_segment_ids])"
      ],
      "execution_count": 0,
      "outputs": []
    },
    {
      "cell_type": "code",
      "metadata": {
        "id": "lxuY8zc9Pfm3",
        "colab_type": "code",
        "colab": {}
      },
      "source": [
        "pred = []\n",
        "for t in predict2:\n",
        "  if(t<0.5):\n",
        "    pred.append(0)\n",
        "  else :\n",
        "    pred.append(1)"
      ],
      "execution_count": 0,
      "outputs": []
    },
    {
      "cell_type": "code",
      "metadata": {
        "id": "J-cvU69lPxMZ",
        "colab_type": "code",
        "colab": {}
      },
      "source": [
        "yr = test_labels"
      ],
      "execution_count": 0,
      "outputs": []
    },
    {
      "cell_type": "code",
      "metadata": {
        "id": "N094Tm3VBjn8",
        "colab_type": "code",
        "outputId": "2494be76-88a7-4363-bcb3-b3443d60cec3",
        "colab": {
          "base_uri": "https://localhost:8080/",
          "height": 381
        }
      },
      "source": [
        "from sklearn import metrics\n",
        "fpr, tpr, thresholds = metrics.roc_curve(yr, pred, pos_label=1)\n",
        "print(\"AUC : \",metrics.auc(fpr, tpr))\n",
        "\n",
        "from sklearn.metrics import accuracy_score\n",
        "print(\"accuracy : \",accuracy_score(yr,pred))\n",
        "\n",
        "from sklearn.metrics import precision_score\n",
        "print(\"precision : \",precision_score(yr, pred))\n",
        "\n",
        "from sklearn.metrics import recall_score\n",
        "print(\"recall : \" ,recall_score(yr, pred) )\n",
        "\n",
        "from sklearn.metrics import f1_score\n",
        "print(\"F1 : \", f1_score(yr, pred))\n",
        "\n",
        "import matplotlib.pyplot as plt\n",
        "import numpy as np\n",
        "import math\n",
        "hist2=history2.history\n",
        "loss=hist2['loss']\n",
        "val_loss=hist2['val_loss']\n",
        "plt.xlabel('Epochs')\n",
        "plt.ylabel('train loss')\n",
        "plt.plot(loss)\n",
        "\n",
        "plt.xlabel('Epochs')\n",
        "plt.ylabel('test perplexity')\n",
        "plt.plot(val_loss)\n",
        "plt.legend(['train loss','test loss'])"
      ],
      "execution_count": 0,
      "outputs": [
        {
          "output_type": "stream",
          "text": [
            "AUC :  0.9454180249791445\n",
            "accuracy :  0.98\n",
            "precision :  0.96875\n",
            "recall :  0.8959537572254336\n",
            "F1 :  0.9309309309309309\n"
          ],
          "name": "stdout"
        },
        {
          "output_type": "execute_result",
          "data": {
            "text/plain": [
              "<matplotlib.legend.Legend at 0x7f29a3e5e2e8>"
            ]
          },
          "metadata": {
            "tags": []
          },
          "execution_count": 25
        },
        {
          "output_type": "display_data",
          "data": {
            "image/png": "[encoded data removed]",
            "text/plain": [
              "<Figure size 432x288 with 1 Axes>"
            ]
          },
          "metadata": {
            "tags": [],
            "needs_background": "light"
          }
        }
      ]
    },
    {
      "cell_type": "markdown",
      "metadata": {
        "id": "-JD4EpOV55xi",
        "colab_type": "text"
      },
      "source": [
        "## **50 epochs**"
      ]
    },
    {
      "cell_type": "code",
      "metadata": {
        "id": "6w4rXBBrLLaC",
        "colab_type": "code",
        "outputId": "e22b46f3-0a83-40f3-a58e-984d9b9ae842",
        "colab": {
          "base_uri": "https://localhost:8080/",
          "height": 34
        }
      },
      "source": [
        "import tensorflow as tf\n",
        "tf.test.gpu_device_name()\n",
        "# gpu_options = tf.GPUOptions(allow_growth=True)\n",
        "# session = tf.InteractiveSession(config=tf.ConfigProto(gpu_options=gpu_options))"
      ],
      "execution_count": 0,
      "outputs": [
        {
          "output_type": "execute_result",
          "data": {
            "text/plain": [
              "'/device:GPU:0'"
            ]
          },
          "metadata": {
            "tags": []
          },
          "execution_count": 8
        }
      ]
    },
    {
      "cell_type": "code",
      "metadata": {
        "id": "RpKkugu759UR",
        "colab_type": "code",
        "outputId": "4690bc3d-29d8-4d17-997b-864a79a629ae",
        "colab": {
          "base_uri": "https://localhost:8080/",
          "height": 1000
        }
      },
      "source": [
        "model50 = build_model()\n",
        "sess = tf.Session()\n",
        "# Instantiate variables\n",
        "initialize_vars(sess)\n",
        "\n",
        "history50 = model50.fit(\n",
        "    [train_input_ids, train_input_masks, train_segment_ids], \n",
        "    train_labels,\n",
        "    validation_data=([test_input_ids, test_input_masks, test_segment_ids], test_labels),\n",
        "    epochs=50,\n",
        "    batch_size=20\n",
        ")"
      ],
      "execution_count": 0,
      "outputs": [
        {
          "output_type": "stream",
          "text": [
            "INFO:absl:Using /tmp/tfhub_modules to cache modules.\n"
          ],
          "name": "stderr"
        },
        {
          "output_type": "stream",
          "text": [
            "INFO:tensorflow:Saver not created because there are no variables in the graph to restore\n"
          ],
          "name": "stdout"
        },
        {
          "output_type": "stream",
          "text": [
            "INFO:tensorflow:Saver not created because there are no variables in the graph to restore\n"
          ],
          "name": "stderr"
        },
        {
          "output_type": "stream",
          "text": [
            "WARNING:tensorflow:From /usr/local/lib/python3.6/dist-packages/tensorflow_core/python/ops/resource_variable_ops.py:1630: calling BaseResourceVariable.__init__ (from tensorflow.python.ops.resource_variable_ops) with constraint is deprecated and will be removed in a future version.\n",
            "Instructions for updating:\n",
            "If using Keras pass *_constraint arguments to layers.\n"
          ],
          "name": "stdout"
        },
        {
          "output_type": "stream",
          "text": [
            "WARNING:tensorflow:From /usr/local/lib/python3.6/dist-packages/tensorflow_core/python/ops/resource_variable_ops.py:1630: calling BaseResourceVariable.__init__ (from tensorflow.python.ops.resource_variable_ops) with constraint is deprecated and will be removed in a future version.\n",
            "Instructions for updating:\n",
            "If using Keras pass *_constraint arguments to layers.\n"
          ],
          "name": "stderr"
        },
        {
          "output_type": "stream",
          "text": [
            "WARNING:tensorflow:From /usr/local/lib/python3.6/dist-packages/tensorflow_core/python/ops/nn_impl.py:183: where (from tensorflow.python.ops.array_ops) is deprecated and will be removed in a future version.\n",
            "Instructions for updating:\n",
            "Use tf.where in 2.0, which has the same broadcast rule as np.where\n"
          ],
          "name": "stdout"
        },
        {
          "output_type": "stream",
          "text": [
            "WARNING:tensorflow:From /usr/local/lib/python3.6/dist-packages/tensorflow_core/python/ops/nn_impl.py:183: where (from tensorflow.python.ops.array_ops) is deprecated and will be removed in a future version.\n",
            "Instructions for updating:\n",
            "Use tf.where in 2.0, which has the same broadcast rule as np.where\n"
          ],
          "name": "stderr"
        },
        {
          "output_type": "stream",
          "text": [
            "Model: \"model\"\n",
            "__________________________________________________________________________________________________\n",
            "Layer (type)                    Output Shape         Param #     Connected to                     \n",
            "==================================================================================================\n",
            "input_ids (InputLayer)          [(None, 128)]        0                                            \n",
            "__________________________________________________________________________________________________\n",
            "input_masks (InputLayer)        [(None, 128)]        0                                            \n",
            "__________________________________________________________________________________________________\n",
            "segment_ids (InputLayer)        [(None, 128)]        0                                            \n",
            "__________________________________________________________________________________________________\n",
            "bert_layer (BertLayer)          (None, 768)          108931396   input_ids[0][0]                  \n",
            "                                                                 input_masks[0][0]                \n",
            "                                                                 segment_ids[0][0]                \n",
            "__________________________________________________________________________________________________\n",
            "dense (Dense)                   (None, 768)          590592      bert_layer[0][0]                 \n",
            "__________________________________________________________________________________________________\n",
            "dense_1 (Dense)                 (None, 1)            769         dense[0][0]                      \n",
            "==================================================================================================\n",
            "Total params: 109,522,757\n",
            "Trainable params: 3,542,785\n",
            "Non-trainable params: 105,979,972\n",
            "__________________________________________________________________________________________________\n",
            "Train on 4456 samples, validate on 1116 samples\n",
            "Epoch 1/50\n",
            "4456/4456 [==============================] - 110s 25ms/sample - loss: 0.1636 - acc: 0.9392 - val_loss: 0.0801 - val_acc: 0.9749\n",
            "Epoch 2/50\n",
            "4456/4456 [==============================] - 108s 24ms/sample - loss: 0.0940 - acc: 0.9672 - val_loss: 0.0917 - val_acc: 0.9704\n",
            "Epoch 3/50\n",
            "4456/4456 [==============================] - 109s 24ms/sample - loss: 0.0518 - acc: 0.9832 - val_loss: 0.0488 - val_acc: 0.9839\n",
            "Epoch 4/50\n",
            "4456/4456 [==============================] - 108s 24ms/sample - loss: 0.0322 - acc: 0.9897 - val_loss: 0.0647 - val_acc: 0.9776\n",
            "Epoch 5/50\n",
            "4456/4456 [==============================] - 108s 24ms/sample - loss: 0.0229 - acc: 0.9924 - val_loss: 0.0662 - val_acc: 0.9731\n",
            "Epoch 6/50\n",
            "4456/4456 [==============================] - 108s 24ms/sample - loss: 0.0069 - acc: 0.9984 - val_loss: 0.0830 - val_acc: 0.9839\n",
            "Epoch 7/50\n",
            "4456/4456 [==============================] - 108s 24ms/sample - loss: 0.0111 - acc: 0.9966 - val_loss: 0.0917 - val_acc: 0.9821\n",
            "Epoch 8/50\n",
            "4456/4456 [==============================] - 108s 24ms/sample - loss: 0.0022 - acc: 0.9996 - val_loss: 0.1085 - val_acc: 0.9821\n",
            "Epoch 9/50\n",
            "4456/4456 [==============================] - 108s 24ms/sample - loss: 0.0018 - acc: 0.9998 - val_loss: 0.1161 - val_acc: 0.9821\n",
            "Epoch 10/50\n",
            "4456/4456 [==============================] - 108s 24ms/sample - loss: 0.0144 - acc: 0.9962 - val_loss: 0.1144 - val_acc: 0.9785\n",
            "Epoch 11/50\n",
            "4456/4456 [==============================] - 108s 24ms/sample - loss: 0.0225 - acc: 0.9917 - val_loss: 0.0965 - val_acc: 0.9767\n",
            "Epoch 12/50\n",
            "4456/4456 [==============================] - 108s 24ms/sample - loss: 0.0020 - acc: 0.9996 - val_loss: 0.0979 - val_acc: 0.9821\n",
            "Epoch 13/50\n",
            "4456/4456 [==============================] - 109s 24ms/sample - loss: 9.9240e-04 - acc: 0.9998 - val_loss: 0.1039 - val_acc: 0.9821\n",
            "Epoch 14/50\n",
            "4456/4456 [==============================] - 109s 24ms/sample - loss: 0.0013 - acc: 0.9998 - val_loss: 0.1042 - val_acc: 0.9821\n",
            "Epoch 15/50\n",
            "4456/4456 [==============================] - 109s 25ms/sample - loss: 8.9770e-04 - acc: 0.9998 - val_loss: 0.1067 - val_acc: 0.9821\n",
            "Epoch 16/50\n",
            "4456/4456 [==============================] - 109s 24ms/sample - loss: 8.8167e-04 - acc: 0.9996 - val_loss: 0.1157 - val_acc: 0.9839\n",
            "Epoch 17/50\n",
            "4456/4456 [==============================] - 108s 24ms/sample - loss: 0.0011 - acc: 0.9998 - val_loss: 0.1175 - val_acc: 0.9839\n",
            "Epoch 18/50\n",
            "4456/4456 [==============================] - 108s 24ms/sample - loss: 0.0010 - acc: 0.9998 - val_loss: 0.1212 - val_acc: 0.9839\n",
            "Epoch 19/50\n",
            "4456/4456 [==============================] - 108s 24ms/sample - loss: 9.8487e-04 - acc: 0.9998 - val_loss: 0.1245 - val_acc: 0.9839\n",
            "Epoch 20/50\n",
            "4456/4456 [==============================] - 108s 24ms/sample - loss: 9.2717e-04 - acc: 0.9998 - val_loss: 0.1282 - val_acc: 0.9839\n",
            "Epoch 21/50\n",
            "4456/4456 [==============================] - 108s 24ms/sample - loss: 9.7127e-04 - acc: 0.9998 - val_loss: 0.1291 - val_acc: 0.9839\n",
            "Epoch 22/50\n",
            "4456/4456 [==============================] - 108s 24ms/sample - loss: 9.7312e-04 - acc: 0.9998 - val_loss: 0.1318 - val_acc: 0.9839\n",
            "Epoch 23/50\n",
            "4456/4456 [==============================] - 108s 24ms/sample - loss: 0.0161 - acc: 0.9930 - val_loss: 0.0944 - val_acc: 0.9794\n",
            "Epoch 24/50\n",
            "4456/4456 [==============================] - 108s 24ms/sample - loss: 0.0177 - acc: 0.9937 - val_loss: 0.0937 - val_acc: 0.9812\n",
            "Epoch 25/50\n",
            "4456/4456 [==============================] - 108s 24ms/sample - loss: 0.0088 - acc: 0.9971 - val_loss: 0.0747 - val_acc: 0.9830\n",
            "Epoch 26/50\n",
            "4456/4456 [==============================] - 108s 24ms/sample - loss: 0.0065 - acc: 0.9978 - val_loss: 0.1017 - val_acc: 0.9794\n",
            "Epoch 27/50\n",
            "4456/4456 [==============================] - 108s 24ms/sample - loss: 0.0011 - acc: 0.9998 - val_loss: 0.1294 - val_acc: 0.9839\n",
            "Epoch 28/50\n",
            "4456/4456 [==============================] - 108s 24ms/sample - loss: 8.6914e-04 - acc: 0.9998 - val_loss: 0.1245 - val_acc: 0.9848\n",
            "Epoch 29/50\n",
            "4456/4456 [==============================] - 108s 24ms/sample - loss: 8.6917e-04 - acc: 0.9998 - val_loss: 0.1229 - val_acc: 0.9839\n",
            "Epoch 30/50\n",
            "4456/4456 [==============================] - 108s 24ms/sample - loss: 8.3279e-04 - acc: 0.9998 - val_loss: 0.1272 - val_acc: 0.9848\n",
            "Epoch 31/50\n",
            "4456/4456 [==============================] - 108s 24ms/sample - loss: 9.6113e-04 - acc: 0.9998 - val_loss: 0.1329 - val_acc: 0.9857\n",
            "Epoch 32/50\n",
            "4456/4456 [==============================] - 108s 24ms/sample - loss: 0.0011 - acc: 0.9998 - val_loss: 0.1337 - val_acc: 0.9857\n",
            "Epoch 33/50\n",
            "4456/4456 [==============================] - 108s 24ms/sample - loss: 9.0502e-04 - acc: 0.9998 - val_loss: 0.1354 - val_acc: 0.9857\n",
            "Epoch 34/50\n",
            "4456/4456 [==============================] - 108s 24ms/sample - loss: 0.0010 - acc: 0.9998 - val_loss: 0.1344 - val_acc: 0.9857\n",
            "Epoch 35/50\n",
            "4456/4456 [==============================] - 108s 24ms/sample - loss: 8.9267e-04 - acc: 0.9998 - val_loss: 0.1331 - val_acc: 0.9839\n",
            "Epoch 36/50\n",
            "4456/4456 [==============================] - 108s 24ms/sample - loss: 9.0317e-04 - acc: 0.9998 - val_loss: 0.1341 - val_acc: 0.9839\n",
            "Epoch 37/50\n",
            "4456/4456 [==============================] - 108s 24ms/sample - loss: 8.9122e-04 - acc: 0.9998 - val_loss: 0.1374 - val_acc: 0.9857\n",
            "Epoch 38/50\n",
            "4456/4456 [==============================] - 108s 24ms/sample - loss: 9.2656e-04 - acc: 0.9998 - val_loss: 0.1371 - val_acc: 0.9857\n",
            "Epoch 39/50\n",
            "4456/4456 [==============================] - 109s 24ms/sample - loss: 9.2541e-04 - acc: 0.9998 - val_loss: 0.1382 - val_acc: 0.9857\n",
            "Epoch 40/50\n",
            "4456/4456 [==============================] - 109s 24ms/sample - loss: 7.5805e-04 - acc: 0.9998 - val_loss: 0.1394 - val_acc: 0.9857\n",
            "Epoch 41/50\n",
            "4456/4456 [==============================] - 109s 24ms/sample - loss: 9.5167e-04 - acc: 0.9998 - val_loss: 0.1419 - val_acc: 0.9857\n",
            "Epoch 42/50\n",
            "4456/4456 [==============================] - 108s 24ms/sample - loss: 9.5433e-04 - acc: 0.9998 - val_loss: 0.1414 - val_acc: 0.9857\n",
            "Epoch 43/50\n",
            "4456/4456 [==============================] - 108s 24ms/sample - loss: 8.6639e-04 - acc: 0.9998 - val_loss: 0.1442 - val_acc: 0.9857\n",
            "Epoch 44/50\n",
            "4456/4456 [==============================] - 108s 24ms/sample - loss: 8.3508e-04 - acc: 0.9998 - val_loss: 0.1496 - val_acc: 0.9857\n",
            "Epoch 45/50\n",
            "4456/4456 [==============================] - 108s 24ms/sample - loss: 0.0078 - acc: 0.9973 - val_loss: 0.1028 - val_acc: 0.9767\n",
            "Epoch 46/50\n",
            "4456/4456 [==============================] - 108s 24ms/sample - loss: 0.0248 - acc: 0.9915 - val_loss: 0.0968 - val_acc: 0.9785\n",
            "Epoch 47/50\n",
            "4456/4456 [==============================] - 108s 24ms/sample - loss: 0.0149 - acc: 0.9955 - val_loss: 0.1159 - val_acc: 0.9803\n",
            "Epoch 48/50\n",
            "4456/4456 [==============================] - 108s 24ms/sample - loss: 0.0114 - acc: 0.9966 - val_loss: 0.2124 - val_acc: 0.9668\n",
            "Epoch 49/50\n",
            "4456/4456 [==============================] - 108s 24ms/sample - loss: 0.0069 - acc: 0.9982 - val_loss: 0.1348 - val_acc: 0.9812\n",
            "Epoch 50/50\n",
            "4456/4456 [==============================] - 108s 24ms/sample - loss: 0.0011 - acc: 0.9998 - val_loss: 0.1432 - val_acc: 0.9812\n"
          ],
          "name": "stdout"
        }
      ]
    },
    {
      "cell_type": "code",
      "metadata": {
        "id": "ZwqkYQn_iJpE",
        "colab_type": "code",
        "colab": {}
      },
      "source": [
        "predict50 = model50.predict([test_input_ids, test_input_masks, test_segment_ids])"
      ],
      "execution_count": 0,
      "outputs": []
    },
    {
      "cell_type": "code",
      "metadata": {
        "id": "q5Yz4_YQiJXL",
        "colab_type": "code",
        "colab": {}
      },
      "source": [
        "pred = []\n",
        "for t in predict50:\n",
        "  if(t<0.5):\n",
        "    pred.append(0)\n",
        "  else :\n",
        "    pred.append(1)\n",
        "yr = test_labels"
      ],
      "execution_count": 0,
      "outputs": []
    },
    {
      "cell_type": "code",
      "metadata": {
        "id": "8eUYqRyni7xy",
        "colab_type": "code",
        "outputId": "d43dd56f-f164-4f79-cb64-1b9e2ece1aa5",
        "colab": {
          "base_uri": "https://localhost:8080/",
          "height": 381
        }
      },
      "source": [
        "from sklearn import metrics\n",
        "fpr, tpr, thresholds = metrics.roc_curve(yr, pred, pos_label=1)\n",
        "print(\"AUC : \",metrics.auc(fpr, tpr))\n",
        "\n",
        "from sklearn.metrics import accuracy_score\n",
        "print(\"accuracy : \",accuracy_score(yr,pred))\n",
        "\n",
        "from sklearn.metrics import precision_score\n",
        "print(\"precision : \",precision_score(yr, pred))\n",
        "\n",
        "from sklearn.metrics import recall_score\n",
        "print(\"recall : \" ,recall_score(yr, pred) )\n",
        "\n",
        "from sklearn.metrics import f1_score\n",
        "print(\"F1 : \", f1_score(yr, pred))\n",
        "\n",
        "import matplotlib.pyplot as plt\n",
        "import numpy as np\n",
        "import math\n",
        "hist2=history50.history\n",
        "loss=hist2['loss']\n",
        "val_loss=hist2['val_loss']\n",
        "plt.xlabel('Epochs')\n",
        "plt.ylabel('train loss')\n",
        "plt.plot(loss)\n",
        "\n",
        "plt.xlabel('Epochs')\n",
        "plt.ylabel('test perplexity')\n",
        "plt.plot(val_loss)\n",
        "plt.legend(['train loss','test loss'])"
      ],
      "execution_count": 0,
      "outputs": [
        {
          "output_type": "stream",
          "text": [
            "AUC :  0.9525258799171842\n",
            "accuracy :  0.9811827956989247\n",
            "precision :  0.9448275862068966\n",
            "recall :  0.9133333333333333\n",
            "F1 :  0.9288135593220338\n"
          ],
          "name": "stdout"
        },
        {
          "output_type": "execute_result",
          "data": {
            "text/plain": [
              "<matplotlib.legend.Legend at 0x7f39857f32b0>"
            ]
          },
          "metadata": {
            "tags": []
          },
          "execution_count": 12
        },
        {
          "output_type": "display_data",
          "data": {
            "image/png": "[encoded data removed]",
            "text/plain": [
              "<Figure size 432x288 with 1 Axes>"
            ]
          },
          "metadata": {
            "tags": [],
            "needs_background": "light"
          }
        }
      ]
    },
    {
      "cell_type": "markdown",
      "metadata": {
        "id": "5KwOyT82fvD_",
        "colab_type": "text"
      },
      "source": [
        "## **without preprocessing**"
      ]
    },
    {
      "cell_type": "code",
      "metadata": {
        "id": "Hz6LbLF8JaEo",
        "colab_type": "code",
        "outputId": "bc434dc5-bd2d-44e3-f4ea-faf12b3d27b1",
        "colab": {
          "base_uri": "https://localhost:8080/",
          "height": 782
        }
      },
      "source": [
        "model_pre = build_model()\n",
        "sess = tf.Session()\n",
        "# Instantiate variables\n",
        "initialize_vars(sess)\n",
        "history_pre = model_pre.fit(\n",
        "    [train_input_ids, train_input_masks, train_segment_ids], \n",
        "    train_labels,\n",
        "    validation_data=([test_input_ids, test_input_masks, test_segment_ids], test_labels),\n",
        "    epochs=10,\n",
        "    batch_size=200\n",
        ")"
      ],
      "execution_count": 0,
      "outputs": [
        {
          "output_type": "stream",
          "text": [
            "INFO:tensorflow:Saver not created because there are no variables in the graph to restore\n"
          ],
          "name": "stdout"
        },
        {
          "output_type": "stream",
          "text": [
            "INFO:tensorflow:Saver not created because there are no variables in the graph to restore\n"
          ],
          "name": "stderr"
        },
        {
          "output_type": "stream",
          "text": [
            "Model: \"model_10\"\n",
            "__________________________________________________________________________________________________\n",
            "Layer (type)                    Output Shape         Param #     Connected to                     \n",
            "==================================================================================================\n",
            "input_ids (InputLayer)          [(None, 128)]        0                                            \n",
            "__________________________________________________________________________________________________\n",
            "input_masks (InputLayer)        [(None, 128)]        0                                            \n",
            "__________________________________________________________________________________________________\n",
            "segment_ids (InputLayer)        [(None, 128)]        0                                            \n",
            "__________________________________________________________________________________________________\n",
            "bert_layer_10 (BertLayer)       (None, 768)          108931396   input_ids[0][0]                  \n",
            "                                                                 input_masks[0][0]                \n",
            "                                                                 segment_ids[0][0]                \n",
            "__________________________________________________________________________________________________\n",
            "dense_27 (Dense)                (None, 768)          590592      bert_layer_10[0][0]              \n",
            "__________________________________________________________________________________________________\n",
            "dense_28 (Dense)                (None, 1)            769         dense_27[0][0]                   \n",
            "==================================================================================================\n",
            "Total params: 109,522,757\n",
            "Trainable params: 3,542,785\n",
            "Non-trainable params: 105,979,972\n",
            "__________________________________________________________________________________________________\n",
            "Train on 4406 samples, validate on 1166 samples\n",
            "Epoch 1/10\n",
            "4406/4406 [==============================] - 36s 8ms/sample - loss: 0.2533 - acc: 0.9181 - val_loss: 0.0862 - val_acc: 0.9751\n",
            "Epoch 2/10\n",
            "4406/4406 [==============================] - 28s 6ms/sample - loss: 0.0601 - acc: 0.9832 - val_loss: 0.0506 - val_acc: 0.9871\n",
            "Epoch 3/10\n",
            "4406/4406 [==============================] - 28s 6ms/sample - loss: 0.0324 - acc: 0.9891 - val_loss: 0.0432 - val_acc: 0.9889\n",
            "Epoch 4/10\n",
            "4406/4406 [==============================] - 28s 6ms/sample - loss: 0.0202 - acc: 0.9941 - val_loss: 0.0406 - val_acc: 0.9889\n",
            "Epoch 5/10\n",
            "4406/4406 [==============================] - 28s 6ms/sample - loss: 0.0111 - acc: 0.9970 - val_loss: 0.0434 - val_acc: 0.9880\n",
            "Epoch 6/10\n",
            "4406/4406 [==============================] - 28s 6ms/sample - loss: 0.0064 - acc: 0.9989 - val_loss: 0.0409 - val_acc: 0.9889\n",
            "Epoch 7/10\n",
            "4406/4406 [==============================] - 28s 6ms/sample - loss: 0.0039 - acc: 0.9995 - val_loss: 0.0435 - val_acc: 0.9880\n",
            "Epoch 8/10\n",
            "4406/4406 [==============================] - 28s 6ms/sample - loss: 0.0021 - acc: 0.9998 - val_loss: 0.0437 - val_acc: 0.9880\n",
            "Epoch 9/10\n",
            "4406/4406 [==============================] - 28s 6ms/sample - loss: 0.0013 - acc: 0.9998 - val_loss: 0.0457 - val_acc: 0.9897\n",
            "Epoch 10/10\n",
            "4406/4406 [==============================] - 28s 6ms/sample - loss: 7.0840e-04 - acc: 0.9998 - val_loss: 0.0499 - val_acc: 0.9880\n"
          ],
          "name": "stdout"
        }
      ]
    },
    {
      "cell_type": "code",
      "metadata": {
        "id": "A4fyGjdbTWZD",
        "colab_type": "code",
        "colab": {}
      },
      "source": [
        "predict_pre = model_pre.predict([test_input_ids, test_input_masks, test_segment_ids])"
      ],
      "execution_count": 0,
      "outputs": []
    },
    {
      "cell_type": "code",
      "metadata": {
        "id": "K1WxkcZFTS-k",
        "colab_type": "code",
        "colab": {}
      },
      "source": [
        "pred = []\n",
        "for t in predict_pre:\n",
        "  if(t<0.5):\n",
        "    pred.append(0)\n",
        "  else :\n",
        "    pred.append(1)\n",
        "yr = test_labels"
      ],
      "execution_count": 0,
      "outputs": []
    },
    {
      "cell_type": "code",
      "metadata": {
        "id": "LxiZfPoHTj4J",
        "colab_type": "code",
        "outputId": "f4e892e7-bb36-4460-df15-6de4c5140a1a",
        "colab": {
          "base_uri": "https://localhost:8080/",
          "height": 381
        }
      },
      "source": [
        "from sklearn import metrics\n",
        "fpr, tpr, thresholds = metrics.roc_curve(yr, pred, pos_label=1)\n",
        "print(\"AUC : \",metrics.auc(fpr, tpr))\n",
        "\n",
        "from sklearn.metrics import accuracy_score\n",
        "print(\"accuracy : \",accuracy_score(yr,pred))\n",
        "\n",
        "from sklearn.metrics import precision_score\n",
        "print(\"precision : \",precision_score(yr, pred))\n",
        "\n",
        "from sklearn.metrics import recall_score\n",
        "print(\"recall : \" ,recall_score(yr, pred) )\n",
        "\n",
        "from sklearn.metrics import f1_score\n",
        "print(\"F1 : \", f1_score(yr, pred))\n",
        "\n",
        "import matplotlib.pyplot as plt\n",
        "import numpy as np\n",
        "import math\n",
        "hist2=history_pre.history\n",
        "loss=hist2['loss']\n",
        "val_loss=hist2['val_loss']\n",
        "plt.xlabel('Epochs')\n",
        "plt.ylabel('train loss')\n",
        "plt.plot(loss)\n",
        "\n",
        "plt.xlabel('Epochs')\n",
        "plt.ylabel('test perplexity')\n",
        "plt.plot(val_loss)\n",
        "plt.legend(['train loss','test loss'])"
      ],
      "execution_count": 0,
      "outputs": [
        {
          "output_type": "stream",
          "text": [
            "AUC :  0.9659511077611532\n",
            "accuracy :  0.9879931389365352\n",
            "precision :  0.9813664596273292\n",
            "recall :  0.9349112426035503\n",
            "F1 :  0.9575757575757575\n"
          ],
          "name": "stdout"
        },
        {
          "output_type": "execute_result",
          "data": {
            "text/plain": [
              "<matplotlib.legend.Legend at 0x7f2410f75d68>"
            ]
          },
          "metadata": {
            "tags": []
          },
          "execution_count": 47
        },
        {
          "output_type": "display_data",
          "data": {
            "image/png": "[encoded data removed]",
            "text/plain": [
              "<Figure size 432x288 with 1 Axes>"
            ]
          },
          "metadata": {
            "tags": [],
            "needs_background": "light"
          }
        }
      ]
    },
    {
      "cell_type": "markdown",
      "metadata": {
        "id": "L7DJNYJiFAOK",
        "colab_type": "text"
      },
      "source": [
        "## **بخش امتیازی**"
      ]
    },
    {
      "cell_type": "code",
      "metadata": {
        "id": "95Z0luGBFDmZ",
        "colab_type": "code",
        "colab": {}
      },
      "source": [
        "def build_model2(): \n",
        "    in_id = tf.keras.layers.Input(shape=(128,), name=\"input_ids\")\n",
        "    in_mask = tf.keras.layers.Input(shape=(128,), name=\"input_masks\")\n",
        "    in_segment = tf.keras.layers.Input(shape=(128,), name=\"segment_ids\")\n",
        "    bert_inputs = [in_id, in_mask, in_segment]\n",
        "    \n",
        "    bert_output = BertLayer(n_fine_tune_layers=5)(bert_inputs)\n",
        "    dense = tf.keras.layers.Dense(256, activation='relu')(bert_output)\n",
        "    dense2 = tf.keras.layers.Dense(768, activation='relu')(dense)\n",
        "    pred = tf.keras.layers.Dense(1, activation='sigmoid')(dense2)\n",
        "    \n",
        "    model = tf.keras.models.Model(inputs=bert_inputs, outputs=pred)\n",
        "    ada = keras.optimizers.Adam(learning_rate=0.0002, beta_1=0.9, beta_2=0.999, amsgrad=False)\n",
        "    model.compile(loss='binary_crossentropy', optimizer=ada, metrics=['accuracy'])\n",
        "    model.summary()\n",
        "    \n",
        "    return model"
      ],
      "execution_count": 0,
      "outputs": []
    },
    {
      "cell_type": "code",
      "metadata": {
        "id": "MBsmx_7uPWgh",
        "colab_type": "code",
        "outputId": "b32914f1-4c45-4d1e-ff9d-bb6a7984068a",
        "colab": {
          "base_uri": "https://localhost:8080/",
          "height": 34
        }
      },
      "source": [
        "tf.test.gpu_device_name()"
      ],
      "execution_count": 0,
      "outputs": [
        {
          "output_type": "execute_result",
          "data": {
            "text/plain": [
              "'/device:GPU:0'"
            ]
          },
          "metadata": {
            "tags": []
          },
          "execution_count": 21
        }
      ]
    },
    {
      "cell_type": "code",
      "metadata": {
        "id": "ZV8xkjHvHJyJ",
        "colab_type": "code",
        "outputId": "8016be08-9866-4a23-9765-e9d480628f44",
        "colab": {
          "base_uri": "https://localhost:8080/",
          "height": 782
        }
      },
      "source": [
        "model3 = build_model()\n",
        "sess = tf.Session()\n",
        "# Instantiate variables\n",
        "initialize_vars(sess)\n",
        "history3 = model3.fit([train_input_ids, train_input_masks, train_segment_ids], \n",
        "    train_labels,\n",
        "    validation_data=([test_input_ids, test_input_masks, test_segment_ids], test_labels),\n",
        "    epochs=10,\n",
        "    batch_size=20)"
      ],
      "execution_count": 0,
      "outputs": [
        {
          "output_type": "stream",
          "text": [
            "INFO:tensorflow:Saver not created because there are no variables in the graph to restore\n"
          ],
          "name": "stdout"
        },
        {
          "output_type": "stream",
          "text": [
            "INFO:tensorflow:Saver not created because there are no variables in the graph to restore\n"
          ],
          "name": "stderr"
        },
        {
          "output_type": "stream",
          "text": [
            "Model: \"model_11\"\n",
            "__________________________________________________________________________________________________\n",
            "Layer (type)                    Output Shape         Param #     Connected to                     \n",
            "==================================================================================================\n",
            "input_ids (InputLayer)          [(None, 128)]        0                                            \n",
            "__________________________________________________________________________________________________\n",
            "input_masks (InputLayer)        [(None, 128)]        0                                            \n",
            "__________________________________________________________________________________________________\n",
            "segment_ids (InputLayer)        [(None, 128)]        0                                            \n",
            "__________________________________________________________________________________________________\n",
            "bert_layer_11 (BertLayer)       (None, 768)          108931396   input_ids[0][0]                  \n",
            "                                                                 input_masks[0][0]                \n",
            "                                                                 segment_ids[0][0]                \n",
            "__________________________________________________________________________________________________\n",
            "dense_29 (Dense)                (None, 768)          590592      bert_layer_11[0][0]              \n",
            "__________________________________________________________________________________________________\n",
            "dense_30 (Dense)                (None, 1)            769         dense_29[0][0]                   \n",
            "==================================================================================================\n",
            "Total params: 109,522,757\n",
            "Trainable params: 3,542,785\n",
            "Non-trainable params: 105,979,972\n",
            "__________________________________________________________________________________________________\n",
            "Train on 4406 samples, validate on 1166 samples\n",
            "Epoch 1/10\n",
            "4406/4406 [==============================] - 42s 10ms/sample - loss: 0.0781 - acc: 0.9714 - val_loss: 0.0826 - val_acc: 0.9811\n",
            "Epoch 2/10\n",
            "4406/4406 [==============================] - 34s 8ms/sample - loss: 0.0298 - acc: 0.9911 - val_loss: 0.0342 - val_acc: 0.9923\n",
            "Epoch 3/10\n",
            "4406/4406 [==============================] - 34s 8ms/sample - loss: 0.0170 - acc: 0.9946 - val_loss: 0.0816 - val_acc: 0.9803\n",
            "Epoch 4/10\n",
            "4406/4406 [==============================] - 34s 8ms/sample - loss: 0.0142 - acc: 0.9950 - val_loss: 0.0446 - val_acc: 0.9914\n",
            "Epoch 5/10\n",
            "4406/4406 [==============================] - 34s 8ms/sample - loss: 0.0044 - acc: 0.9989 - val_loss: 0.1044 - val_acc: 0.9854\n",
            "Epoch 6/10\n",
            "4406/4406 [==============================] - 34s 8ms/sample - loss: 0.0065 - acc: 0.9982 - val_loss: 0.0485 - val_acc: 0.9914\n",
            "Epoch 7/10\n",
            "4406/4406 [==============================] - 34s 8ms/sample - loss: 0.0041 - acc: 0.9986 - val_loss: 0.0854 - val_acc: 0.9863\n",
            "Epoch 8/10\n",
            "4406/4406 [==============================] - 34s 8ms/sample - loss: 1.3618e-04 - acc: 1.0000 - val_loss: 0.0580 - val_acc: 0.9914\n",
            "Epoch 9/10\n",
            "4406/4406 [==============================] - 34s 8ms/sample - loss: 2.4488e-05 - acc: 1.0000 - val_loss: 0.0521 - val_acc: 0.9923\n",
            "Epoch 10/10\n",
            "4406/4406 [==============================] - 34s 8ms/sample - loss: 1.3606e-05 - acc: 1.0000 - val_loss: 0.0567 - val_acc: 0.9923\n"
          ],
          "name": "stdout"
        }
      ]
    },
    {
      "cell_type": "code",
      "metadata": {
        "id": "3M6kJMSQHaTb",
        "colab_type": "code",
        "colab": {}
      },
      "source": [
        "predict3 = model3.predict([test_input_ids, test_input_masks, test_segment_ids])"
      ],
      "execution_count": 0,
      "outputs": []
    },
    {
      "cell_type": "code",
      "metadata": {
        "id": "WBszh9hva_9x",
        "colab_type": "code",
        "colab": {}
      },
      "source": [
        "pred = []\n",
        "for t in predict3:\n",
        "  if(t<0.5):\n",
        "    pred.append(0)\n",
        "  else :\n",
        "    pred.append(1)\n",
        "yr = test_labels"
      ],
      "execution_count": 0,
      "outputs": []
    },
    {
      "cell_type": "code",
      "metadata": {
        "id": "wjTJ8XrfbEsI",
        "colab_type": "code",
        "outputId": "db9dee61-bea6-48bb-d765-ae5280a99c50",
        "colab": {
          "base_uri": "https://localhost:8080/",
          "height": 381
        }
      },
      "source": [
        "from sklearn import metrics\n",
        "fpr, tpr, thresholds = metrics.roc_curve(yr, pred, pos_label=1)\n",
        "print(\"AUC : \",metrics.auc(fpr, tpr))\n",
        "\n",
        "from sklearn.metrics import accuracy_score\n",
        "print(\"accuracy : \",accuracy_score(yr,pred))\n",
        "\n",
        "from sklearn.metrics import precision_score\n",
        "print(\"precision : \",precision_score(yr, pred))\n",
        "\n",
        "from sklearn.metrics import recall_score\n",
        "print(\"recall : \" ,recall_score(yr, pred) )\n",
        "\n",
        "from sklearn.metrics import f1_score\n",
        "print(\"F1 : \", f1_score(yr, pred))\n",
        "\n",
        "import matplotlib.pyplot as plt\n",
        "import numpy as np\n",
        "import math\n",
        "hist2=history3.history\n",
        "loss=hist2['loss']\n",
        "val_loss=hist2['val_loss']\n",
        "plt.xlabel('Epochs')\n",
        "plt.ylabel('train loss')\n",
        "plt.plot(loss)\n",
        "\n",
        "plt.xlabel('Epochs')\n",
        "plt.ylabel('test perplexity')\n",
        "plt.plot(val_loss)\n",
        "plt.legend(['train loss','test loss'])"
      ],
      "execution_count": 0,
      "outputs": [
        {
          "output_type": "stream",
          "text": [
            "AUC :  0.9758298564332049\n",
            "accuracy :  0.9922813036020584\n",
            "precision :  0.9938271604938271\n",
            "recall :  0.9526627218934911\n",
            "F1 :  0.972809667673716\n"
          ],
          "name": "stdout"
        },
        {
          "output_type": "execute_result",
          "data": {
            "text/plain": [
              "<matplotlib.legend.Legend at 0x7f2030588b70>"
            ]
          },
          "metadata": {
            "tags": []
          },
          "execution_count": 52
        },
        {
          "output_type": "display_data",
          "data": {
            "image/png": "[encoded data removed]",
            "text/plain": [
              "<Figure size 432x288 with 1 Axes>"
            ]
          },
          "metadata": {
            "tags": [],
            "needs_background": "light"
          }
        }
      ]
    },
    {
      "cell_type": "code",
      "metadata": {
        "id": "iV4XR5J9bLK-",
        "colab_type": "code",
        "colab": {}
      },
      "source": [
        "def build_model4(): \n",
        "    in_id = tf.keras.layers.Input(shape=(128,), name=\"input_ids\")\n",
        "    in_mask = tf.keras.layers.Input(shape=(128,), name=\"input_masks\")\n",
        "    in_segment = tf.keras.layers.Input(shape=(128,), name=\"segment_ids\")\n",
        "    bert_inputs = [in_id, in_mask, in_segment]\n",
        "    \n",
        "    bert_output = BertLayer(n_fine_tune_layers=5)(bert_inputs)\n",
        "    dense = tf.keras.layers.Dense(16, activation='relu')(bert_output)\n",
        "    dense2 = tf.keras.layers.Dense(32, activation='relu')(dense)\n",
        "    dense3 = tf.keras.layers.Dense(64, activation='relu')(dense2)\n",
        "    dense4 = tf.keras.layers.Dense(128, activation='relu')(dense3)\n",
        "    dense5 = tf.keras.layers.Dense(256, activation='relu')(dense4)\n",
        "    pred = tf.keras.layers.Dense(1, activation='sigmoid')(dense5)\n",
        "    \n",
        "    model = tf.keras.models.Model(inputs=bert_inputs, outputs=pred)\n",
        "    ada = keras.optimizers.Adam(learning_rate=0.0002, beta_1=0.9, beta_2=0.999, amsgrad=False)\n",
        "    model.compile(loss='binary_crossentropy', optimizer=ada, metrics=['accuracy'])\n",
        "    model.summary()\n",
        "    \n",
        "    return model"
      ],
      "execution_count": 0,
      "outputs": []
    },
    {
      "cell_type": "code",
      "metadata": {
        "id": "KSZDFeYYfp7i",
        "colab_type": "code",
        "outputId": "853c699e-6fe8-44fe-f1ee-e550f8865319",
        "colab": {
          "base_uri": "https://localhost:8080/",
          "height": 1000
        }
      },
      "source": [
        "model5 = build_model4()\n",
        "sess = tf.Session()\n",
        "# Instantiate variables\n",
        "initialize_vars(sess)\n",
        "history5 = model5.fit([train_input_ids, train_input_masks, train_segment_ids], \n",
        "    train_labels,\n",
        "    validation_data=([test_input_ids, test_input_masks, test_segment_ids], test_labels),\n",
        "    epochs=10,\n",
        "    batch_size=5)"
      ],
      "execution_count": 0,
      "outputs": [
        {
          "output_type": "stream",
          "text": [
            "INFO:tensorflow:Saver not created because there are no variables in the graph to restore\n"
          ],
          "name": "stdout"
        },
        {
          "output_type": "stream",
          "text": [
            "INFO:tensorflow:Saver not created because there are no variables in the graph to restore\n"
          ],
          "name": "stderr"
        },
        {
          "output_type": "stream",
          "text": [
            "Model: \"model_16\"\n",
            "__________________________________________________________________________________________________\n",
            "Layer (type)                    Output Shape         Param #     Connected to                     \n",
            "==================================================================================================\n",
            "input_ids (InputLayer)          [(None, 128)]        0                                            \n",
            "__________________________________________________________________________________________________\n",
            "input_masks (InputLayer)        [(None, 128)]        0                                            \n",
            "__________________________________________________________________________________________________\n",
            "segment_ids (InputLayer)        [(None, 128)]        0                                            \n",
            "__________________________________________________________________________________________________\n",
            "bert_layer_18 (BertLayer)       (None, 768)          108931396   input_ids[0][0]                  \n",
            "                                                                 input_masks[0][0]                \n",
            "                                                                 segment_ids[0][0]                \n",
            "__________________________________________________________________________________________________\n",
            "dense_74 (Dense)                (None, 16)           12304       bert_layer_18[0][0]              \n",
            "__________________________________________________________________________________________________\n",
            "dense_75 (Dense)                (None, 32)           544         dense_74[0][0]                   \n",
            "__________________________________________________________________________________________________\n",
            "dense_76 (Dense)                (None, 64)           2112        dense_75[0][0]                   \n",
            "__________________________________________________________________________________________________\n",
            "dense_77 (Dense)                (None, 128)          8320        dense_76[0][0]                   \n",
            "__________________________________________________________________________________________________\n",
            "dense_78 (Dense)                (None, 256)          33024       dense_77[0][0]                   \n",
            "__________________________________________________________________________________________________\n",
            "dense_79 (Dense)                (None, 1)            257         dense_78[0][0]                   \n",
            "==================================================================================================\n",
            "Total params: 108,987,957\n",
            "Trainable params: 3,007,985\n",
            "Non-trainable params: 105,979,972\n",
            "__________________________________________________________________________________________________\n"
          ],
          "name": "stdout"
        },
        {
          "output_type": "error",
          "ename": "FailedPreconditionError",
          "evalue": "ignored",
          "traceback": [
            "\u001b[0;31m---------------------------------------------------------------------------\u001b[0m",
            "\u001b[0;31mFailedPreconditionError\u001b[0m                   Traceback (most recent call last)",
            "\u001b[0;32m/usr/local/lib/python3.6/dist-packages/tensorflow_core/python/client/session.py\u001b[0m in \u001b[0;36m_do_call\u001b[0;34m(self, fn, *args)\u001b[0m\n\u001b[1;32m   1364\u001b[0m     \u001b[0;32mtry\u001b[0m\u001b[0;34m:\u001b[0m\u001b[0;34m\u001b[0m\u001b[0;34m\u001b[0m\u001b[0m\n\u001b[0;32m-> 1365\u001b[0;31m       \u001b[0;32mreturn\u001b[0m \u001b[0mfn\u001b[0m\u001b[0;34m(\u001b[0m\u001b[0;34m*\u001b[0m\u001b[0margs\u001b[0m\u001b[0;34m)\u001b[0m\u001b[0;34m\u001b[0m\u001b[0;34m\u001b[0m\u001b[0m\n\u001b[0m\u001b[1;32m   1366\u001b[0m     \u001b[0;32mexcept\u001b[0m \u001b[0merrors\u001b[0m\u001b[0;34m.\u001b[0m\u001b[0mOpError\u001b[0m \u001b[0;32mas\u001b[0m \u001b[0me\u001b[0m\u001b[0;34m:\u001b[0m\u001b[0;34m\u001b[0m\u001b[0;34m\u001b[0m\u001b[0m\n",
            "\u001b[0;32m/usr/local/lib/python3.6/dist-packages/tensorflow_core/python/client/session.py\u001b[0m in \u001b[0;36m_run_fn\u001b[0;34m(feed_dict, fetch_list, target_list, options, run_metadata)\u001b[0m\n\u001b[1;32m   1349\u001b[0m       return self._call_tf_sessionrun(options, feed_dict, fetch_list,\n\u001b[0;32m-> 1350\u001b[0;31m                                       target_list, run_metadata)\n\u001b[0m\u001b[1;32m   1351\u001b[0m \u001b[0;34m\u001b[0m\u001b[0m\n",
            "\u001b[0;32m/usr/local/lib/python3.6/dist-packages/tensorflow_core/python/client/session.py\u001b[0m in \u001b[0;36m_call_tf_sessionrun\u001b[0;34m(self, options, feed_dict, fetch_list, target_list, run_metadata)\u001b[0m\n\u001b[1;32m   1442\u001b[0m                                             \u001b[0mfetch_list\u001b[0m\u001b[0;34m,\u001b[0m \u001b[0mtarget_list\u001b[0m\u001b[0;34m,\u001b[0m\u001b[0;34m\u001b[0m\u001b[0;34m\u001b[0m\u001b[0m\n\u001b[0;32m-> 1443\u001b[0;31m                                             run_metadata)\n\u001b[0m\u001b[1;32m   1444\u001b[0m \u001b[0;34m\u001b[0m\u001b[0m\n",
            "\u001b[0;31mFailedPreconditionError\u001b[0m: Failed to allocate scratch buffer for device 0\n\t [[{{node _SOURCE}}]]",
            "\nDuring handling of the above exception, another exception occurred:\n",
            "\u001b[0;31mFailedPreconditionError\u001b[0m                   Traceback (most recent call last)",
            "\u001b[0;32m<ipython-input-67-eaa7e049739e>\u001b[0m in \u001b[0;36m<module>\u001b[0;34m()\u001b[0m\n\u001b[1;32m      2\u001b[0m \u001b[0msess\u001b[0m \u001b[0;34m=\u001b[0m \u001b[0mtf\u001b[0m\u001b[0;34m.\u001b[0m\u001b[0mSession\u001b[0m\u001b[0;34m(\u001b[0m\u001b[0;34m)\u001b[0m\u001b[0;34m\u001b[0m\u001b[0;34m\u001b[0m\u001b[0m\n\u001b[1;32m      3\u001b[0m \u001b[0;31m# Instantiate variables\u001b[0m\u001b[0;34m\u001b[0m\u001b[0;34m\u001b[0m\u001b[0;34m\u001b[0m\u001b[0m\n\u001b[0;32m----> 4\u001b[0;31m \u001b[0minitialize_vars\u001b[0m\u001b[0;34m(\u001b[0m\u001b[0msess\u001b[0m\u001b[0;34m)\u001b[0m\u001b[0;34m\u001b[0m\u001b[0;34m\u001b[0m\u001b[0m\n\u001b[0m\u001b[1;32m      5\u001b[0m history5 = model5.fit([train_input_ids, train_input_masks, train_segment_ids], \n\u001b[1;32m      6\u001b[0m     \u001b[0mtrain_labels\u001b[0m\u001b[0;34m,\u001b[0m\u001b[0;34m\u001b[0m\u001b[0;34m\u001b[0m\u001b[0m\n",
            "\u001b[0;32m<ipython-input-32-8b0bf74c5e0e>\u001b[0m in \u001b[0;36minitialize_vars\u001b[0;34m(sess)\u001b[0m\n\u001b[1;32m     17\u001b[0m \u001b[0;34m\u001b[0m\u001b[0m\n\u001b[1;32m     18\u001b[0m \u001b[0;32mdef\u001b[0m \u001b[0minitialize_vars\u001b[0m\u001b[0;34m(\u001b[0m\u001b[0msess\u001b[0m\u001b[0;34m)\u001b[0m\u001b[0;34m:\u001b[0m\u001b[0;34m\u001b[0m\u001b[0;34m\u001b[0m\u001b[0m\n\u001b[0;32m---> 19\u001b[0;31m     \u001b[0msess\u001b[0m\u001b[0;34m.\u001b[0m\u001b[0mrun\u001b[0m\u001b[0;34m(\u001b[0m\u001b[0mtf\u001b[0m\u001b[0;34m.\u001b[0m\u001b[0mlocal_variables_initializer\u001b[0m\u001b[0;34m(\u001b[0m\u001b[0;34m)\u001b[0m\u001b[0;34m)\u001b[0m\u001b[0;34m\u001b[0m\u001b[0;34m\u001b[0m\u001b[0m\n\u001b[0m\u001b[1;32m     20\u001b[0m     \u001b[0msess\u001b[0m\u001b[0;34m.\u001b[0m\u001b[0mrun\u001b[0m\u001b[0;34m(\u001b[0m\u001b[0mtf\u001b[0m\u001b[0;34m.\u001b[0m\u001b[0mglobal_variables_initializer\u001b[0m\u001b[0;34m(\u001b[0m\u001b[0;34m)\u001b[0m\u001b[0;34m)\u001b[0m\u001b[0;34m\u001b[0m\u001b[0;34m\u001b[0m\u001b[0m\n\u001b[1;32m     21\u001b[0m     \u001b[0msess\u001b[0m\u001b[0;34m.\u001b[0m\u001b[0mrun\u001b[0m\u001b[0;34m(\u001b[0m\u001b[0mtf\u001b[0m\u001b[0;34m.\u001b[0m\u001b[0mtables_initializer\u001b[0m\u001b[0;34m(\u001b[0m\u001b[0;34m)\u001b[0m\u001b[0;34m)\u001b[0m\u001b[0;34m\u001b[0m\u001b[0;34m\u001b[0m\u001b[0m\n",
            "\u001b[0;32m/usr/local/lib/python3.6/dist-packages/tensorflow_core/python/client/session.py\u001b[0m in \u001b[0;36mrun\u001b[0;34m(self, fetches, feed_dict, options, run_metadata)\u001b[0m\n\u001b[1;32m    954\u001b[0m     \u001b[0;32mtry\u001b[0m\u001b[0;34m:\u001b[0m\u001b[0;34m\u001b[0m\u001b[0;34m\u001b[0m\u001b[0m\n\u001b[1;32m    955\u001b[0m       result = self._run(None, fetches, feed_dict, options_ptr,\n\u001b[0;32m--> 956\u001b[0;31m                          run_metadata_ptr)\n\u001b[0m\u001b[1;32m    957\u001b[0m       \u001b[0;32mif\u001b[0m \u001b[0mrun_metadata\u001b[0m\u001b[0;34m:\u001b[0m\u001b[0;34m\u001b[0m\u001b[0;34m\u001b[0m\u001b[0m\n\u001b[1;32m    958\u001b[0m         \u001b[0mproto_data\u001b[0m \u001b[0;34m=\u001b[0m \u001b[0mtf_session\u001b[0m\u001b[0;34m.\u001b[0m\u001b[0mTF_GetBuffer\u001b[0m\u001b[0;34m(\u001b[0m\u001b[0mrun_metadata_ptr\u001b[0m\u001b[0;34m)\u001b[0m\u001b[0;34m\u001b[0m\u001b[0;34m\u001b[0m\u001b[0m\n",
            "\u001b[0;32m/usr/local/lib/python3.6/dist-packages/tensorflow_core/python/client/session.py\u001b[0m in \u001b[0;36m_run\u001b[0;34m(self, handle, fetches, feed_dict, options, run_metadata)\u001b[0m\n\u001b[1;32m   1178\u001b[0m     \u001b[0;32mif\u001b[0m \u001b[0mfinal_fetches\u001b[0m \u001b[0;32mor\u001b[0m \u001b[0mfinal_targets\u001b[0m \u001b[0;32mor\u001b[0m \u001b[0;34m(\u001b[0m\u001b[0mhandle\u001b[0m \u001b[0;32mand\u001b[0m \u001b[0mfeed_dict_tensor\u001b[0m\u001b[0;34m)\u001b[0m\u001b[0;34m:\u001b[0m\u001b[0;34m\u001b[0m\u001b[0;34m\u001b[0m\u001b[0m\n\u001b[1;32m   1179\u001b[0m       results = self._do_run(handle, final_targets, final_fetches,\n\u001b[0;32m-> 1180\u001b[0;31m                              feed_dict_tensor, options, run_metadata)\n\u001b[0m\u001b[1;32m   1181\u001b[0m     \u001b[0;32melse\u001b[0m\u001b[0;34m:\u001b[0m\u001b[0;34m\u001b[0m\u001b[0;34m\u001b[0m\u001b[0m\n\u001b[1;32m   1182\u001b[0m       \u001b[0mresults\u001b[0m \u001b[0;34m=\u001b[0m \u001b[0;34m[\u001b[0m\u001b[0;34m]\u001b[0m\u001b[0;34m\u001b[0m\u001b[0;34m\u001b[0m\u001b[0m\n",
            "\u001b[0;32m/usr/local/lib/python3.6/dist-packages/tensorflow_core/python/client/session.py\u001b[0m in \u001b[0;36m_do_run\u001b[0;34m(self, handle, target_list, fetch_list, feed_dict, options, run_metadata)\u001b[0m\n\u001b[1;32m   1357\u001b[0m     \u001b[0;32mif\u001b[0m \u001b[0mhandle\u001b[0m \u001b[0;32mis\u001b[0m \u001b[0;32mNone\u001b[0m\u001b[0;34m:\u001b[0m\u001b[0;34m\u001b[0m\u001b[0;34m\u001b[0m\u001b[0m\n\u001b[1;32m   1358\u001b[0m       return self._do_call(_run_fn, feeds, fetches, targets, options,\n\u001b[0;32m-> 1359\u001b[0;31m                            run_metadata)\n\u001b[0m\u001b[1;32m   1360\u001b[0m     \u001b[0;32melse\u001b[0m\u001b[0;34m:\u001b[0m\u001b[0;34m\u001b[0m\u001b[0;34m\u001b[0m\u001b[0m\n\u001b[1;32m   1361\u001b[0m       \u001b[0;32mreturn\u001b[0m \u001b[0mself\u001b[0m\u001b[0;34m.\u001b[0m\u001b[0m_do_call\u001b[0m\u001b[0;34m(\u001b[0m\u001b[0m_prun_fn\u001b[0m\u001b[0;34m,\u001b[0m \u001b[0mhandle\u001b[0m\u001b[0;34m,\u001b[0m \u001b[0mfeeds\u001b[0m\u001b[0;34m,\u001b[0m \u001b[0mfetches\u001b[0m\u001b[0;34m)\u001b[0m\u001b[0;34m\u001b[0m\u001b[0;34m\u001b[0m\u001b[0m\n",
            "\u001b[0;32m/usr/local/lib/python3.6/dist-packages/tensorflow_core/python/client/session.py\u001b[0m in \u001b[0;36m_do_call\u001b[0;34m(self, fn, *args)\u001b[0m\n\u001b[1;32m   1382\u001b[0m                     \u001b[0;34m'\\nsession_config.graph_options.rewrite_options.'\u001b[0m\u001b[0;34m\u001b[0m\u001b[0;34m\u001b[0m\u001b[0m\n\u001b[1;32m   1383\u001b[0m                     'disable_meta_optimizer = True')\n\u001b[0;32m-> 1384\u001b[0;31m       \u001b[0;32mraise\u001b[0m \u001b[0mtype\u001b[0m\u001b[0;34m(\u001b[0m\u001b[0me\u001b[0m\u001b[0;34m)\u001b[0m\u001b[0;34m(\u001b[0m\u001b[0mnode_def\u001b[0m\u001b[0;34m,\u001b[0m \u001b[0mop\u001b[0m\u001b[0;34m,\u001b[0m \u001b[0mmessage\u001b[0m\u001b[0;34m)\u001b[0m\u001b[0;34m\u001b[0m\u001b[0;34m\u001b[0m\u001b[0m\n\u001b[0m\u001b[1;32m   1385\u001b[0m \u001b[0;34m\u001b[0m\u001b[0m\n\u001b[1;32m   1386\u001b[0m   \u001b[0;32mdef\u001b[0m \u001b[0m_extend_graph\u001b[0m\u001b[0;34m(\u001b[0m\u001b[0mself\u001b[0m\u001b[0;34m)\u001b[0m\u001b[0;34m:\u001b[0m\u001b[0;34m\u001b[0m\u001b[0;34m\u001b[0m\u001b[0m\n",
            "\u001b[0;31mFailedPreconditionError\u001b[0m: Failed to allocate scratch buffer for device 0\n\t [[{{node _SOURCE}}]]"
          ]
        }
      ]
    },
    {
      "cell_type": "code",
      "metadata": {
        "id": "29aiuhtVffGM",
        "colab_type": "code",
        "colab": {}
      },
      "source": [
        "predict3 = model3.predict([test_input_ids, test_input_masks, test_segment_ids])"
      ],
      "execution_count": 0,
      "outputs": []
    }
  ]
}