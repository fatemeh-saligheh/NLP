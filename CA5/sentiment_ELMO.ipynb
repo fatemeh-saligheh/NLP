{
  "nbformat": 4,
  "nbformat_minor": 0,
  "metadata": {
    "colab": {
      "name": "sentiment_ELMO.ipynb",
      "provenance": [],
      "collapsed_sections": [],
      "machine_shape": "hm"
    },
    "kernelspec": {
      "name": "python3",
      "display_name": "Python 3"
    },
    "accelerator": "GPU"
  },
  "cells": [
    {
      "cell_type": "code",
      "metadata": {
        "id": "ZfwowywOZDS3",
        "colab_type": "code",
        "outputId": "7c5e13c4-8b53-40b2-9b62-f0348c234f1e",
        "colab": {
          "base_uri": "https://localhost:8080/",
          "height": 1000
        }
      },
      "source": [
        "import glob\n",
        "import os\n",
        "import re\n",
        "from nltk.tokenize import word_tokenize\n",
        "import nltk\n",
        "import tarfile\n",
        "nltk.download('punkt')\n",
        "!pip install tensorflow==1.15\n",
        "!pip install \"tensorflow_hub>=0.6.0\"\n",
        "!pip3 install tensorflow_text==1.15\n",
        "\n",
        "import tensorflow as tf\n",
        "import tensorflow_hub as hub\n",
        "import pandas as pd\n",
        "from sklearn import preprocessing\n",
        "import keras\n",
        "import numpy as np\n",
        "\n",
        "from keras.layers import Input, Lambda, Dense\n",
        "from keras.models import Model\n",
        "import keras.backend as K\n",
        "!pip install keras_metrics\n",
        "import keras_metrics\n",
        "!pip install transformers\n",
        "from transformers import BertTokenizer"
      ],
      "execution_count": 1,
      "outputs": [
        {
          "output_type": "stream",
          "text": [
            "[nltk_data] Downloading package punkt to /root/nltk_data...\n",
            "[nltk_data]   Unzipping tokenizers/punkt.zip.\n",
            "Collecting tensorflow==1.15\n",
            "\u001b[?25l  Downloading https://files.pythonhosted.org/packages/3f/98/5a99af92fb911d7a88a0005ad55005f35b4c1ba8d75fba02df726cd936e6/tensorflow-1.15.0-cp36-cp36m-manylinux2010_x86_64.whl (412.3MB)\n",
            "\u001b[K     |████████████████████████████████| 412.3MB 37kB/s \n",
            "\u001b[?25hRequirement already satisfied: six>=1.10.0 in /usr/local/lib/python3.6/dist-packages (from tensorflow==1.15) (1.12.0)\n",
            "Collecting tensorflow-estimator==1.15.1\n",
            "\u001b[?25l  Downloading https://files.pythonhosted.org/packages/de/62/2ee9cd74c9fa2fa450877847ba560b260f5d0fb70ee0595203082dafcc9d/tensorflow_estimator-1.15.1-py2.py3-none-any.whl (503kB)\n",
            "\u001b[K     |████████████████████████████████| 512kB 37.6MB/s \n",
            "\u001b[?25hRequirement already satisfied: wrapt>=1.11.1 in /usr/local/lib/python3.6/dist-packages (from tensorflow==1.15) (1.12.1)\n",
            "Requirement already satisfied: grpcio>=1.8.6 in /usr/local/lib/python3.6/dist-packages (from tensorflow==1.15) (1.28.1)\n",
            "Requirement already satisfied: absl-py>=0.7.0 in /usr/local/lib/python3.6/dist-packages (from tensorflow==1.15) (0.9.0)\n",
            "Requirement already satisfied: google-pasta>=0.1.6 in /usr/local/lib/python3.6/dist-packages (from tensorflow==1.15) (0.2.0)\n",
            "Requirement already satisfied: wheel>=0.26 in /usr/local/lib/python3.6/dist-packages (from tensorflow==1.15) (0.34.2)\n",
            "Requirement already satisfied: protobuf>=3.6.1 in /usr/local/lib/python3.6/dist-packages (from tensorflow==1.15) (3.10.0)\n",
            "Requirement already satisfied: keras-applications>=1.0.8 in /usr/local/lib/python3.6/dist-packages (from tensorflow==1.15) (1.0.8)\n",
            "Requirement already satisfied: opt-einsum>=2.3.2 in /usr/local/lib/python3.6/dist-packages (from tensorflow==1.15) (3.2.1)\n",
            "Requirement already satisfied: astor>=0.6.0 in /usr/local/lib/python3.6/dist-packages (from tensorflow==1.15) (0.8.1)\n",
            "Requirement already satisfied: termcolor>=1.1.0 in /usr/local/lib/python3.6/dist-packages (from tensorflow==1.15) (1.1.0)\n",
            "Collecting gast==0.2.2\n",
            "  Downloading https://files.pythonhosted.org/packages/4e/35/11749bf99b2d4e3cceb4d55ca22590b0d7c2c62b9de38ac4a4a7f4687421/gast-0.2.2.tar.gz\n",
            "Requirement already satisfied: keras-preprocessing>=1.0.5 in /usr/local/lib/python3.6/dist-packages (from tensorflow==1.15) (1.1.0)\n",
            "Requirement already satisfied: numpy<2.0,>=1.16.0 in /usr/local/lib/python3.6/dist-packages (from tensorflow==1.15) (1.18.3)\n",
            "Collecting tensorboard<1.16.0,>=1.15.0\n",
            "\u001b[?25l  Downloading https://files.pythonhosted.org/packages/1e/e9/d3d747a97f7188f48aa5eda486907f3b345cd409f0a0850468ba867db246/tensorboard-1.15.0-py3-none-any.whl (3.8MB)\n",
            "\u001b[K     |████████████████████████████████| 3.8MB 46.7MB/s \n",
            "\u001b[?25hRequirement already satisfied: setuptools in /usr/local/lib/python3.6/dist-packages (from protobuf>=3.6.1->tensorflow==1.15) (46.1.3)\n",
            "Requirement already satisfied: h5py in /usr/local/lib/python3.6/dist-packages (from keras-applications>=1.0.8->tensorflow==1.15) (2.10.0)\n",
            "Requirement already satisfied: werkzeug>=0.11.15 in /usr/local/lib/python3.6/dist-packages (from tensorboard<1.16.0,>=1.15.0->tensorflow==1.15) (1.0.1)\n",
            "Requirement already satisfied: markdown>=2.6.8 in /usr/local/lib/python3.6/dist-packages (from tensorboard<1.16.0,>=1.15.0->tensorflow==1.15) (3.2.1)\n",
            "Building wheels for collected packages: gast\n",
            "  Building wheel for gast (setup.py) ... \u001b[?25l\u001b[?25hdone\n",
            "  Created wheel for gast: filename=gast-0.2.2-cp36-none-any.whl size=7540 sha256=094bcfc1e2b95d04ee4f203694398c9ae0ad179e95602124d391d7464b387dfb\n",
            "  Stored in directory: /root/.cache/pip/wheels/5c/2e/7e/a1d4d4fcebe6c381f378ce7743a3ced3699feb89bcfbdadadd\n",
            "Successfully built gast\n",
            "\u001b[31mERROR: tensorflow-probability 0.10.0rc0 has requirement gast>=0.3.2, but you'll have gast 0.2.2 which is incompatible.\u001b[0m\n",
            "Installing collected packages: tensorflow-estimator, gast, tensorboard, tensorflow\n",
            "  Found existing installation: tensorflow-estimator 2.2.0\n",
            "    Uninstalling tensorflow-estimator-2.2.0:\n",
            "      Successfully uninstalled tensorflow-estimator-2.2.0\n",
            "  Found existing installation: gast 0.3.3\n",
            "    Uninstalling gast-0.3.3:\n",
            "      Successfully uninstalled gast-0.3.3\n",
            "  Found existing installation: tensorboard 2.2.1\n",
            "    Uninstalling tensorboard-2.2.1:\n",
            "      Successfully uninstalled tensorboard-2.2.1\n",
            "  Found existing installation: tensorflow 2.2.0rc4\n",
            "    Uninstalling tensorflow-2.2.0rc4:\n",
            "      Successfully uninstalled tensorflow-2.2.0rc4\n",
            "Successfully installed gast-0.2.2 tensorboard-1.15.0 tensorflow-1.15.0 tensorflow-estimator-1.15.1\n",
            "Requirement already satisfied: tensorflow_hub>=0.6.0 in /usr/local/lib/python3.6/dist-packages (0.8.0)\n",
            "Requirement already satisfied: protobuf>=3.8.0 in /usr/local/lib/python3.6/dist-packages (from tensorflow_hub>=0.6.0) (3.10.0)\n",
            "Requirement already satisfied: six>=1.12.0 in /usr/local/lib/python3.6/dist-packages (from tensorflow_hub>=0.6.0) (1.12.0)\n",
            "Requirement already satisfied: numpy>=1.12.0 in /usr/local/lib/python3.6/dist-packages (from tensorflow_hub>=0.6.0) (1.18.3)\n",
            "Requirement already satisfied: setuptools in /usr/local/lib/python3.6/dist-packages (from protobuf>=3.8.0->tensorflow_hub>=0.6.0) (46.1.3)\n",
            "Collecting tensorflow_text==1.15\n",
            "\u001b[?25l  Downloading https://files.pythonhosted.org/packages/44/61/9569353ce3efb8ee818d0d2e2f67afbb19e1e3a56eba3a93986e92949003/tensorflow_text-1.15.0-cp36-cp36m-manylinux1_x86_64.whl (9.1MB)\n",
            "\u001b[K     |████████████████████████████████| 9.1MB 3.0MB/s \n",
            "\u001b[?25hRequirement already satisfied: tensorflow<1.16,>=1.15.0 in /usr/local/lib/python3.6/dist-packages (from tensorflow_text==1.15) (1.15.0)\n",
            "Requirement already satisfied: wheel>=0.26 in /usr/local/lib/python3.6/dist-packages (from tensorflow<1.16,>=1.15.0->tensorflow_text==1.15) (0.34.2)\n",
            "Requirement already satisfied: grpcio>=1.8.6 in /usr/local/lib/python3.6/dist-packages (from tensorflow<1.16,>=1.15.0->tensorflow_text==1.15) (1.28.1)\n",
            "Requirement already satisfied: opt-einsum>=2.3.2 in /usr/local/lib/python3.6/dist-packages (from tensorflow<1.16,>=1.15.0->tensorflow_text==1.15) (3.2.1)\n",
            "Requirement already satisfied: google-pasta>=0.1.6 in /usr/local/lib/python3.6/dist-packages (from tensorflow<1.16,>=1.15.0->tensorflow_text==1.15) (0.2.0)\n",
            "Requirement already satisfied: absl-py>=0.7.0 in /usr/local/lib/python3.6/dist-packages (from tensorflow<1.16,>=1.15.0->tensorflow_text==1.15) (0.9.0)\n",
            "Requirement already satisfied: termcolor>=1.1.0 in /usr/local/lib/python3.6/dist-packages (from tensorflow<1.16,>=1.15.0->tensorflow_text==1.15) (1.1.0)\n",
            "Requirement already satisfied: six>=1.10.0 in /usr/local/lib/python3.6/dist-packages (from tensorflow<1.16,>=1.15.0->tensorflow_text==1.15) (1.12.0)\n",
            "Requirement already satisfied: gast==0.2.2 in /usr/local/lib/python3.6/dist-packages (from tensorflow<1.16,>=1.15.0->tensorflow_text==1.15) (0.2.2)\n",
            "Requirement already satisfied: keras-preprocessing>=1.0.5 in /usr/local/lib/python3.6/dist-packages (from tensorflow<1.16,>=1.15.0->tensorflow_text==1.15) (1.1.0)\n",
            "Requirement already satisfied: tensorboard<1.16.0,>=1.15.0 in /usr/local/lib/python3.6/dist-packages (from tensorflow<1.16,>=1.15.0->tensorflow_text==1.15) (1.15.0)\n",
            "Requirement already satisfied: tensorflow-estimator==1.15.1 in /usr/local/lib/python3.6/dist-packages (from tensorflow<1.16,>=1.15.0->tensorflow_text==1.15) (1.15.1)\n",
            "Requirement already satisfied: wrapt>=1.11.1 in /usr/local/lib/python3.6/dist-packages (from tensorflow<1.16,>=1.15.0->tensorflow_text==1.15) (1.12.1)\n",
            "Requirement already satisfied: protobuf>=3.6.1 in /usr/local/lib/python3.6/dist-packages (from tensorflow<1.16,>=1.15.0->tensorflow_text==1.15) (3.10.0)\n",
            "Requirement already satisfied: numpy<2.0,>=1.16.0 in /usr/local/lib/python3.6/dist-packages (from tensorflow<1.16,>=1.15.0->tensorflow_text==1.15) (1.18.3)\n",
            "Requirement already satisfied: keras-applications>=1.0.8 in /usr/local/lib/python3.6/dist-packages (from tensorflow<1.16,>=1.15.0->tensorflow_text==1.15) (1.0.8)\n",
            "Requirement already satisfied: astor>=0.6.0 in /usr/local/lib/python3.6/dist-packages (from tensorflow<1.16,>=1.15.0->tensorflow_text==1.15) (0.8.1)\n",
            "Requirement already satisfied: setuptools>=41.0.0 in /usr/local/lib/python3.6/dist-packages (from tensorboard<1.16.0,>=1.15.0->tensorflow<1.16,>=1.15.0->tensorflow_text==1.15) (46.1.3)\n",
            "Requirement already satisfied: markdown>=2.6.8 in /usr/local/lib/python3.6/dist-packages (from tensorboard<1.16.0,>=1.15.0->tensorflow<1.16,>=1.15.0->tensorflow_text==1.15) (3.2.1)\n",
            "Requirement already satisfied: werkzeug>=0.11.15 in /usr/local/lib/python3.6/dist-packages (from tensorboard<1.16.0,>=1.15.0->tensorflow<1.16,>=1.15.0->tensorflow_text==1.15) (1.0.1)\n",
            "Requirement already satisfied: h5py in /usr/local/lib/python3.6/dist-packages (from keras-applications>=1.0.8->tensorflow<1.16,>=1.15.0->tensorflow_text==1.15) (2.10.0)\n",
            "Installing collected packages: tensorflow-text\n",
            "Successfully installed tensorflow-text-1.15.0\n"
          ],
          "name": "stdout"
        },
        {
          "output_type": "stream",
          "text": [
            "Using TensorFlow backend.\n"
          ],
          "name": "stderr"
        },
        {
          "output_type": "stream",
          "text": [
            "Collecting keras_metrics\n",
            "  Downloading https://files.pythonhosted.org/packages/32/c9/a87420da8e73de944e63a8e9cdcfb1f03ca31a7c4cdcdbd45d2cdf13275a/keras_metrics-1.1.0-py2.py3-none-any.whl\n",
            "Requirement already satisfied: Keras>=2.1.5 in /usr/local/lib/python3.6/dist-packages (from keras_metrics) (2.3.1)\n",
            "Requirement already satisfied: keras-applications>=1.0.6 in /usr/local/lib/python3.6/dist-packages (from Keras>=2.1.5->keras_metrics) (1.0.8)\n",
            "Requirement already satisfied: scipy>=0.14 in /usr/local/lib/python3.6/dist-packages (from Keras>=2.1.5->keras_metrics) (1.4.1)\n",
            "Requirement already satisfied: h5py in /usr/local/lib/python3.6/dist-packages (from Keras>=2.1.5->keras_metrics) (2.10.0)\n",
            "Requirement already satisfied: pyyaml in /usr/local/lib/python3.6/dist-packages (from Keras>=2.1.5->keras_metrics) (3.13)\n",
            "Requirement already satisfied: numpy>=1.9.1 in /usr/local/lib/python3.6/dist-packages (from Keras>=2.1.5->keras_metrics) (1.18.3)\n",
            "Requirement already satisfied: six>=1.9.0 in /usr/local/lib/python3.6/dist-packages (from Keras>=2.1.5->keras_metrics) (1.12.0)\n",
            "Requirement already satisfied: keras-preprocessing>=1.0.5 in /usr/local/lib/python3.6/dist-packages (from Keras>=2.1.5->keras_metrics) (1.1.0)\n",
            "Installing collected packages: keras-metrics\n",
            "Successfully installed keras-metrics-1.1.0\n",
            "Collecting transformers\n",
            "\u001b[?25l  Downloading https://files.pythonhosted.org/packages/cd/38/c9527aa055241c66c4d785381eaf6f80a28c224cae97daa1f8b183b5fabb/transformers-2.9.0-py3-none-any.whl (635kB)\n",
            "\u001b[K     |████████████████████████████████| 645kB 3.4MB/s \n",
            "\u001b[?25hRequirement already satisfied: regex!=2019.12.17 in /usr/local/lib/python3.6/dist-packages (from transformers) (2019.12.20)\n",
            "Requirement already satisfied: dataclasses; python_version < \"3.7\" in /usr/local/lib/python3.6/dist-packages (from transformers) (0.7)\n",
            "Collecting sentencepiece\n",
            "\u001b[?25l  Downloading https://files.pythonhosted.org/packages/98/2c/8df20f3ac6c22ac224fff307ebc102818206c53fc454ecd37d8ac2060df5/sentencepiece-0.1.86-cp36-cp36m-manylinux1_x86_64.whl (1.0MB)\n",
            "\u001b[K     |████████████████████████████████| 1.0MB 15.7MB/s \n",
            "\u001b[?25hRequirement already satisfied: tqdm>=4.27 in /usr/local/lib/python3.6/dist-packages (from transformers) (4.38.0)\n",
            "Requirement already satisfied: numpy in /usr/local/lib/python3.6/dist-packages (from transformers) (1.18.3)\n",
            "Requirement already satisfied: requests in /usr/local/lib/python3.6/dist-packages (from transformers) (2.23.0)\n",
            "Requirement already satisfied: filelock in /usr/local/lib/python3.6/dist-packages (from transformers) (3.0.12)\n",
            "Collecting tokenizers==0.7.0\n",
            "\u001b[?25l  Downloading https://files.pythonhosted.org/packages/14/e5/a26eb4716523808bb0a799fcfdceb6ebf77a18169d9591b2f46a9adb87d9/tokenizers-0.7.0-cp36-cp36m-manylinux1_x86_64.whl (3.8MB)\n",
            "\u001b[K     |████████████████████████████████| 3.8MB 19.5MB/s \n",
            "\u001b[?25hCollecting sacremoses\n",
            "\u001b[?25l  Downloading https://files.pythonhosted.org/packages/7d/34/09d19aff26edcc8eb2a01bed8e98f13a1537005d31e95233fd48216eed10/sacremoses-0.0.43.tar.gz (883kB)\n",
            "\u001b[K     |████████████████████████████████| 890kB 27.9MB/s \n",
            "\u001b[?25hRequirement already satisfied: chardet<4,>=3.0.2 in /usr/local/lib/python3.6/dist-packages (from requests->transformers) (3.0.4)\n",
            "Requirement already satisfied: urllib3!=1.25.0,!=1.25.1,<1.26,>=1.21.1 in /usr/local/lib/python3.6/dist-packages (from requests->transformers) (1.24.3)\n",
            "Requirement already satisfied: idna<3,>=2.5 in /usr/local/lib/python3.6/dist-packages (from requests->transformers) (2.9)\n",
            "Requirement already satisfied: certifi>=2017.4.17 in /usr/local/lib/python3.6/dist-packages (from requests->transformers) (2020.4.5.1)\n",
            "Requirement already satisfied: six in /usr/local/lib/python3.6/dist-packages (from sacremoses->transformers) (1.12.0)\n",
            "Requirement already satisfied: click in /usr/local/lib/python3.6/dist-packages (from sacremoses->transformers) (7.1.2)\n",
            "Requirement already satisfied: joblib in /usr/local/lib/python3.6/dist-packages (from sacremoses->transformers) (0.14.1)\n",
            "Building wheels for collected packages: sacremoses\n",
            "  Building wheel for sacremoses (setup.py) ... \u001b[?25l\u001b[?25hdone\n",
            "  Created wheel for sacremoses: filename=sacremoses-0.0.43-cp36-none-any.whl size=893260 sha256=db8ef9f63cc9d52c0fd3b6f464afa644f45465ca1c2e4b004c7f67eebb7b7a41\n",
            "  Stored in directory: /root/.cache/pip/wheels/29/3c/fd/7ce5c3f0666dab31a50123635e6fb5e19ceb42ce38d4e58f45\n",
            "Successfully built sacremoses\n",
            "Installing collected packages: sentencepiece, tokenizers, sacremoses, transformers\n",
            "Successfully installed sacremoses-0.0.43 sentencepiece-0.1.86 tokenizers-0.7.0 transformers-2.9.0\n"
          ],
          "name": "stdout"
        }
      ]
    },
    {
      "cell_type": "code",
      "metadata": {
        "id": "q_O0Vr4l7VKt",
        "colab_type": "code",
        "colab": {}
      },
      "source": [
        "!pip install -U -q PyDrive\n",
        "from pydrive.auth import GoogleAuth\n",
        "from pydrive.drive import GoogleDrive\n",
        "from google.colab import auth\n",
        "from oauth2client.client import GoogleCredentials\n",
        "# Authenticate and create the PyDrive client.\n",
        "auth.authenticate_user()\n",
        "gauth = GoogleAuth()\n",
        "gauth.credentials = GoogleCredentials.get_application_default()\n",
        "drive = GoogleDrive(gauth)"
      ],
      "execution_count": 0,
      "outputs": []
    },
    {
      "cell_type": "code",
      "metadata": {
        "id": "CNUjYibU7kyv",
        "colab_type": "code",
        "outputId": "37d2033e-03f2-49ad-e41e-fca4de75eb0a",
        "colab": {
          "base_uri": "https://localhost:8080/",
          "height": 85
        }
      },
      "source": [
        "link = 'https://drive.google.com/open?id=1g6zN3aoYZKhc9IcqsBg8SWfJwHwayr3j'\n",
        "fluff, id = link.split('=')\n",
        "print (id)\n",
        "downloaded = drive.CreateFile({'id':id}) \n",
        "downloaded.GetContentFile('aclImdb_v1.tar.gz')  \n",
        "if os.path.isdir('aclImdb'):\n",
        "    print(\"Dataset directory exists, taking no action\")\n",
        "else:    \n",
        "    if not os.path.isfile('aclImdb_v1.tar.gz'):\n",
        "        print(\"Downloading dataset\")\n",
        "        # !wget http://ai.stanford.edu/~amaas/data/sentiment/aclImdb_v1.tar.gz\n",
        "        # # wget.download('http://ai.stanford.edu/~amaas/data/sentiment/aclImdb_v1.tar.gz')\n",
        "    else:\n",
        "        print(\"Dataset already downloaded\")\n",
        "    \n",
        "    print(\"Unpacking dataset\")\n",
        "    # !tar -xf aclImdb_v1.tar.gz \n",
        "    tar = tarfile.open(\"aclImdb_v1.tar.gz\")\n",
        "    tar.extractall()\n",
        "    tar.close()\n",
        "    print(\"Dataset unpacked in aclImdb\")\n"
      ],
      "execution_count": 3,
      "outputs": [
        {
          "output_type": "stream",
          "text": [
            "1g6zN3aoYZKhc9IcqsBg8SWfJwHwayr3j\n",
            "Dataset already downloaded\n",
            "Unpacking dataset\n",
            "Dataset unpacked in aclImdb\n"
          ],
          "name": "stdout"
        }
      ]
    },
    {
      "cell_type": "code",
      "metadata": {
        "id": "3KMwvqjUflYK",
        "colab_type": "code",
        "colab": {}
      },
      "source": [
        "positive_sample_file_list = glob.glob(os.path.join('aclImdb/train/pos', \"*.txt\"))\n",
        "# positive_sample_file_list = positive_file_list[:SAMPLE_SIZE]\n",
        "\n",
        "negative_sample_file_list = glob.glob(os.path.join('aclImdb/train/neg', \"*.txt\"))\n",
        "# negative_sample_file_list = negative_file_list[:SAMPLE_SIZE]\n",
        "\n",
        "# load doc into memory\n",
        "# regex to clean markup elements \n",
        "def load_doc(filename):\n",
        "    # open the file as read only\n",
        "    file = open(filename, 'r', encoding='utf8')\n",
        "    # read all text\n",
        "    text = re.sub('<[^>]*>', ' ', file.read())\n",
        "    #text = file.read()\n",
        "    # close the file\n",
        "    file.close()\n",
        "    return text\n",
        "\n",
        "\n",
        "positive_strings = [load_doc(x) for x in positive_sample_file_list]\n",
        "negative_strings = [load_doc(x) for x in negative_sample_file_list]\n",
        "\n",
        "positive_labels = [1 for x in positive_sample_file_list]\n",
        "negative_labels = [0 for x in negative_sample_file_list]\n",
        "\n",
        "# positive_tokenized = [word_tokenize(s) for s in positive_strings]\n",
        "# negative_tokenized = [word_tokenize(s) for s in negative_strings]"
      ],
      "execution_count": 0,
      "outputs": []
    },
    {
      "cell_type": "code",
      "metadata": {
        "id": "a9TLOdx8jQl4",
        "colab_type": "code",
        "colab": {}
      },
      "source": [
        "sentences = positive_strings + negative_strings\n",
        "labels = positive_labels + negative_labels"
      ],
      "execution_count": 0,
      "outputs": []
    },
    {
      "cell_type": "code",
      "metadata": {
        "id": "NBQRX9JwkvvW",
        "colab_type": "code",
        "colab": {}
      },
      "source": [
        "import pandas as pd\n",
        "df = pd.DataFrame(\n",
        "    {'sentences': sentences,\n",
        "     'sentiment': labels\n",
        "    })\n",
        "# df = df.sample(5000)"
      ],
      "execution_count": 0,
      "outputs": []
    },
    {
      "cell_type": "code",
      "metadata": {
        "id": "zpiSQAH8liFk",
        "colab_type": "code",
        "outputId": "5ed4a24c-87cf-4eb9-9c7c-2d6c60919668",
        "colab": {
          "base_uri": "https://localhost:8080/",
          "height": 204
        }
      },
      "source": [
        "df.head()"
      ],
      "execution_count": 0,
      "outputs": [
        {
          "output_type": "execute_result",
          "data": {
            "text/html": [
              "<div>\n",
              "<style scoped>\n",
              "    .dataframe tbody tr th:only-of-type {\n",
              "        vertical-align: middle;\n",
              "    }\n",
              "\n",
              "    .dataframe tbody tr th {\n",
              "        vertical-align: top;\n",
              "    }\n",
              "\n",
              "    .dataframe thead th {\n",
              "        text-align: right;\n",
              "    }\n",
              "</style>\n",
              "<table border=\"1\" class=\"dataframe\">\n",
              "  <thead>\n",
              "    <tr style=\"text-align: right;\">\n",
              "      <th></th>\n",
              "      <th>sentences</th>\n",
              "      <th>sentiment</th>\n",
              "    </tr>\n",
              "  </thead>\n",
              "  <tbody>\n",
              "    <tr>\n",
              "      <th>0</th>\n",
              "      <td>Page 3 is one of those films Madhur Bhandarkar...</td>\n",
              "      <td>1</td>\n",
              "    </tr>\n",
              "    <tr>\n",
              "      <th>1</th>\n",
              "      <td>Terrfic film with a slightyly slow start - giv...</td>\n",
              "      <td>1</td>\n",
              "    </tr>\n",
              "    <tr>\n",
              "      <th>2</th>\n",
              "      <td>I went to see Fever Pitch with my Mom, and I c...</td>\n",
              "      <td>1</td>\n",
              "    </tr>\n",
              "    <tr>\n",
              "      <th>3</th>\n",
              "      <td>Years ago I did follow a soap on TV. So I was ...</td>\n",
              "      <td>1</td>\n",
              "    </tr>\n",
              "    <tr>\n",
              "      <th>4</th>\n",
              "      <td>I loved this movie. I knew it would be chocked...</td>\n",
              "      <td>1</td>\n",
              "    </tr>\n",
              "  </tbody>\n",
              "</table>\n",
              "</div>"
            ],
            "text/plain": [
              "                                           sentences  sentiment\n",
              "0  Page 3 is one of those films Madhur Bhandarkar...          1\n",
              "1  Terrfic film with a slightyly slow start - giv...          1\n",
              "2  I went to see Fever Pitch with my Mom, and I c...          1\n",
              "3  Years ago I did follow a soap on TV. So I was ...          1\n",
              "4  I loved this movie. I knew it would be chocked...          1"
            ]
          },
          "metadata": {
            "tags": []
          },
          "execution_count": 12
        }
      ]
    },
    {
      "cell_type": "code",
      "metadata": {
        "id": "0UOOnuI-mcbQ",
        "colab_type": "code",
        "colab": {}
      },
      "source": [
        "df = df.sample(frac=1).reset_index(drop=True)"
      ],
      "execution_count": 0,
      "outputs": []
    },
    {
      "cell_type": "code",
      "metadata": {
        "id": "Teyr0VTtnBPp",
        "colab_type": "code",
        "outputId": "a108ec00-685c-4dce-8e6d-e77e6529a27b",
        "colab": {
          "base_uri": "https://localhost:8080/",
          "height": 204
        }
      },
      "source": [
        "df.head()"
      ],
      "execution_count": 0,
      "outputs": [
        {
          "output_type": "execute_result",
          "data": {
            "text/html": [
              "<div>\n",
              "<style scoped>\n",
              "    .dataframe tbody tr th:only-of-type {\n",
              "        vertical-align: middle;\n",
              "    }\n",
              "\n",
              "    .dataframe tbody tr th {\n",
              "        vertical-align: top;\n",
              "    }\n",
              "\n",
              "    .dataframe thead th {\n",
              "        text-align: right;\n",
              "    }\n",
              "</style>\n",
              "<table border=\"1\" class=\"dataframe\">\n",
              "  <thead>\n",
              "    <tr style=\"text-align: right;\">\n",
              "      <th></th>\n",
              "      <th>sentences</th>\n",
              "      <th>sentiment</th>\n",
              "    </tr>\n",
              "  </thead>\n",
              "  <tbody>\n",
              "    <tr>\n",
              "      <th>0</th>\n",
              "      <td>It's 1982, Two years after the Iranian Embassy...</td>\n",
              "      <td>0</td>\n",
              "    </tr>\n",
              "    <tr>\n",
              "      <th>1</th>\n",
              "      <td>As a convert into the Church of Jesus Christ o...</td>\n",
              "      <td>1</td>\n",
              "    </tr>\n",
              "    <tr>\n",
              "      <th>2</th>\n",
              "      <td>After a long period in the space, looking for ...</td>\n",
              "      <td>0</td>\n",
              "    </tr>\n",
              "    <tr>\n",
              "      <th>3</th>\n",
              "      <td>Don't get me wrong, Dan Jansen was a great spe...</td>\n",
              "      <td>0</td>\n",
              "    </tr>\n",
              "    <tr>\n",
              "      <th>4</th>\n",
              "      <td>This, and Immoral Tales, both left a bad taste...</td>\n",
              "      <td>0</td>\n",
              "    </tr>\n",
              "  </tbody>\n",
              "</table>\n",
              "</div>"
            ],
            "text/plain": [
              "                                           sentences  sentiment\n",
              "0  It's 1982, Two years after the Iranian Embassy...          0\n",
              "1  As a convert into the Church of Jesus Christ o...          1\n",
              "2  After a long period in the space, looking for ...          0\n",
              "3  Don't get me wrong, Dan Jansen was a great spe...          0\n",
              "4  This, and Immoral Tales, both left a bad taste...          0"
            ]
          },
          "metadata": {
            "tags": []
          },
          "execution_count": 14
        }
      ]
    },
    {
      "cell_type": "code",
      "metadata": {
        "id": "2wSUe897nCQ6",
        "colab_type": "code",
        "outputId": "70f7985f-a73c-4c00-c9ef-dfd184bcb934",
        "colab": {
          "base_uri": "https://localhost:8080/",
          "height": 51
        }
      },
      "source": [
        "nltk.download('stopwords')\n",
        "positive_sample_file_list = glob.glob(os.path.join('aclImdb/test/pos', \"*.txt\"))\n",
        "# positive_sample_file_list = positive_file_list[:SAMPLE_SIZE]\n",
        "\n",
        "negative_sample_file_list = glob.glob(os.path.join('aclImdb/test/neg', \"*.txt\"))\n",
        "# negative_sample_file_list = negative_file_list[:SAMPLE_SIZE]\n",
        "\n",
        "positive_strings = [load_doc(x) for x in positive_sample_file_list]\n",
        "negative_strings = [load_doc(x) for x in negative_sample_file_list]\n",
        "\n",
        "positive_labels = [1 for x in positive_sample_file_list]\n",
        "negative_labels = [0 for x in negative_sample_file_list]\n",
        "\n",
        "# positive_tokenized = [word_tokenize(s) for s in positive_strings]\n",
        "# negative_tokenized = [word_tokenize(s) for s in negative_strings]\n",
        "\n",
        "sentences = positive_strings + negative_strings\n",
        "labels = positive_labels + negative_labels\n",
        "\n",
        "import pandas as pd\n",
        "df_test = pd.DataFrame(\n",
        "    {'sentences': sentences,\n",
        "     'sentiment': labels\n",
        "    })\n",
        "df_test = df_test.sample(5000)\n",
        "df_test = df_test.sample(frac=1).reset_index(drop=True)\n",
        "\n",
        "test_sentences = df_test.sentences.values\n",
        "test_labels = df_test.sentiment.values\n",
        "\n",
        "from nltk.tokenize.treebank import TreebankWordDetokenizer\n",
        "test_sentences = [word_tokenize(s) for s in test_sentences]\n",
        "\n",
        "# pre_sen = []\n",
        "# for tokens in test_sentences:\n",
        "#   tokens = [w.lower() for w in tokens]\n",
        "#   import string\n",
        "#   table = str.maketrans('', '', string.punctuation)\n",
        "#   stripped = [w.translate(table) for w in tokens]\n",
        "#   # remove remaining tokens that are not alphabetic\n",
        "#   words = [word for word in stripped if word.isalpha()]\n",
        "#   # filter out stop words\n",
        "#   from nltk.corpus import stopwords\n",
        "#   stop_words = set(stopwords.words('english'))\n",
        "#   words = [w for w in words if not w in stop_words]\n",
        "#   pre_sen.append(words)\n",
        "# test_sentences = pre_sen\n",
        "\n",
        "t_sen = []\n",
        "for s in test_sentences:\n",
        "  if(len(s)<128):\n",
        "    t_sen.append(TreebankWordDetokenizer().detokenize(s))\n",
        "  else:\n",
        "    t_sen.append(TreebankWordDetokenizer().detokenize(s[0:127]))\n",
        "\n",
        "test_sentences = t_sen\n",
        "\n",
        "# df_test = pd.DataFrame(\n",
        "#     {'sentences': test_sentences,\n",
        "#      'sentiment': test_labels\n",
        "#     })"
      ],
      "execution_count": 8,
      "outputs": [
        {
          "output_type": "stream",
          "text": [
            "[nltk_data] Downloading package stopwords to /root/nltk_data...\n",
            "[nltk_data]   Unzipping corpora/stopwords.zip.\n"
          ],
          "name": "stdout"
        }
      ]
    },
    {
      "cell_type": "code",
      "metadata": {
        "id": "PA2XYPCWnDiy",
        "colab_type": "code",
        "colab": {}
      },
      "source": [
        "import numpy as np\n",
        "# msk = np.random.rand(len(df)) < 0.8\n",
        "# df_train = df[msk]\n",
        "# df_test = df[~msk]\n",
        "train_sentences = df.sentences.values\n",
        "train_labels = df.sentiment.values\n",
        "# test_sentences = df_test.sentences.values\n",
        "# test_labels = df_test.sentiment.values"
      ],
      "execution_count": 0,
      "outputs": []
    },
    {
      "cell_type": "code",
      "metadata": {
        "id": "yTASoX2LKGqd",
        "colab_type": "code",
        "colab": {}
      },
      "source": [
        "from nltk.tokenize.treebank import TreebankWordDetokenizer\n",
        "train_sentences = [word_tokenize(s) for s in train_sentences]\n",
        "\n",
        "# pre_sen = []\n",
        "# for tokens in train_sentences:\n",
        "#   tokens = [w.lower() for w in tokens]\n",
        "#   import string\n",
        "#   table = str.maketrans('', '', string.punctuation)\n",
        "#   stripped = [w.translate(table) for w in tokens]\n",
        "#   # remove remaining tokens that are not alphabetic\n",
        "#   words = [word for word in stripped if word.isalpha()]\n",
        "#   # filter out stop words\n",
        "#   from nltk.corpus import stopwords\n",
        "#   stop_words = set(stopwords.words('english'))\n",
        "#   words = [w for w in words if not w in stop_words]\n",
        "#   pre_sen.append(words)\n",
        "# train_sentences = pre_sen\n",
        "\n",
        "t_sen = []\n",
        "for s in train_sentences:\n",
        "  if(len(s)<128):\n",
        "    t_sen.append(TreebankWordDetokenizer().detokenize(s))\n",
        "  else:\n",
        "    t_sen.append(TreebankWordDetokenizer().detokenize(s[0:127]))"
      ],
      "execution_count": 0,
      "outputs": []
    },
    {
      "cell_type": "code",
      "metadata": {
        "id": "MW7u3YXDc71F",
        "colab_type": "code",
        "colab": {}
      },
      "source": [
        "train_sentences = t_sen"
      ],
      "execution_count": 0,
      "outputs": []
    },
    {
      "cell_type": "code",
      "metadata": {
        "id": "jfXr0P_2dlFr",
        "colab_type": "code",
        "outputId": "a27b1ef4-9d12-4952-87c7-09d0e4773918",
        "colab": {
          "base_uri": "https://localhost:8080/",
          "height": 54
        }
      },
      "source": [
        "train_sentences[0]"
      ],
      "execution_count": 14,
      "outputs": [
        {
          "output_type": "execute_result",
          "data": {
            "text/plain": [
              "'lot people nt think branagh hamlet film good must admit think splendid like virtually every production shakespeare problems make hard choices work thing secret doors everywhere instance simply nt work element never achieves ominous feeling metaphor analogy attempts results play gaudy losing trademark sense thousand mysteries looming biggest problem production biggie also inclined say problem almost everything else works absolutely beautifully right branagh mite old title role relationship ophelia seems little forced gets hysterical times complaints even faults think version seminal one powerful drama ought every bit literary work equally ought get complete text longest version play innovatively expensively brought screen mostly enunciated perfect modern highly understandable voices even sometimes speak quickly order get massive text staging shakespeare simply possible speak slowly enough audience really appreciate full'"
            ]
          },
          "metadata": {
            "tags": []
          },
          "execution_count": 14
        }
      ]
    },
    {
      "cell_type": "code",
      "metadata": {
        "id": "q6fEiPZmFkG_",
        "colab_type": "code",
        "colab": {}
      },
      "source": [
        "# train_sentences = tf.keras.preprocessing.sequence.pad_sequences(train_sentences, maxlen=128,dtype= object,padding='post', truncating='post', value=\"\")"
      ],
      "execution_count": 0,
      "outputs": []
    },
    {
      "cell_type": "code",
      "metadata": {
        "id": "UBu2fRRrnp7X",
        "colab_type": "code",
        "outputId": "03b3e544-e683-43d2-994a-ec782e5daa9d",
        "colab": {
          "base_uri": "https://localhost:8080/",
          "height": 85
        }
      },
      "source": [
        "url = \"https://tfhub.dev/google/elmo/2\"\n",
        "embed = hub.Module(url,trainable = True)"
      ],
      "execution_count": 12,
      "outputs": [
        {
          "output_type": "stream",
          "text": [
            "INFO:absl:Using /tmp/tfhub_modules to cache modules.\n",
            "INFO:absl:Downloading TF-Hub Module 'https://tfhub.dev/google/elmo/2'.\n",
            "INFO:absl:Downloaded https://tfhub.dev/google/elmo/2, Total size: 357.40MB\n",
            "INFO:absl:Downloaded TF-Hub Module 'https://tfhub.dev/google/elmo/2'.\n"
          ],
          "name": "stderr"
        }
      ]
    },
    {
      "cell_type": "code",
      "metadata": {
        "id": "MjJRTJ4Hqc89",
        "colab_type": "code",
        "colab": {}
      },
      "source": [
        "def prepare_onehot():\n",
        "  x_train = np.asarray(train_sentences)\n",
        "  y_train = np.asarray(keras.utils.to_categorical(train_labels))\n",
        "  x_test = np.asarray(test_sentences)\n",
        "  y_test = np.asarray(keras.utils.to_categorical(test_labels))\n",
        "  return x_train,y_train,x_test,y_test\n",
        "x_train,y_train,x_test,y_test = prepare_onehot()"
      ],
      "execution_count": 0,
      "outputs": []
    },
    {
      "cell_type": "code",
      "metadata": {
        "id": "Aimv-eBctAOG",
        "colab_type": "code",
        "outputId": "c371103e-f952-42bd-ca53-3dd2e126e8dd",
        "colab": {
          "base_uri": "https://localhost:8080/",
          "height": 34
        }
      },
      "source": [
        "x_train.shape"
      ],
      "execution_count": 18,
      "outputs": [
        {
          "output_type": "execute_result",
          "data": {
            "text/plain": [
              "(25000,)"
            ]
          },
          "metadata": {
            "tags": []
          },
          "execution_count": 18
        }
      ]
    },
    {
      "cell_type": "code",
      "metadata": {
        "id": "Qr-knEyDrzXT",
        "colab_type": "code",
        "colab": {}
      },
      "source": [
        "def ELMoEmbedding(x):\n",
        "    return embed(tf.squeeze(tf.cast(x, tf.string)),\n",
        "                signature=\"default\",\n",
        "                as_dict=True)[\"default\"]\n",
        "def create_model():\n",
        "  input_text = Input(shape=(1,), dtype=tf.string)\n",
        "  embedding = Lambda(ELMoEmbedding, output_shape=(1024, ))(input_text)\n",
        "  dense = Dense(1024, activation='relu')(embedding)\n",
        "  pred = Dense(2, activation='softmax')(dense)\n",
        "  model = Model(inputs=[input_text], outputs=pred)\n",
        "  ada = keras.optimizers.Adam(learning_rate=0.0002, beta_1=0.9, beta_2=0.999, amsgrad=False)\n",
        "  model.compile(loss='categorical_crossentropy', optimizer=ada, metrics=['accuracy'])\n",
        "  return model"
      ],
      "execution_count": 0,
      "outputs": []
    },
    {
      "cell_type": "markdown",
      "metadata": {
        "id": "PJP0iUnCstNW",
        "colab_type": "text"
      },
      "source": [
        "## **10 epochs**"
      ]
    },
    {
      "cell_type": "code",
      "metadata": {
        "id": "wvNWfSTKtmMi",
        "colab_type": "code",
        "outputId": "ca8cd24b-d318-4a17-faa2-57996c0e4f36",
        "colab": {
          "base_uri": "https://localhost:8080/",
          "height": 34
        }
      },
      "source": [
        "import tensorflow as tf\n",
        "tf.test.gpu_device_name()"
      ],
      "execution_count": 20,
      "outputs": [
        {
          "output_type": "execute_result",
          "data": {
            "text/plain": [
              "'/device:GPU:0'"
            ]
          },
          "metadata": {
            "tags": []
          },
          "execution_count": 20
        }
      ]
    },
    {
      "cell_type": "code",
      "metadata": {
        "id": "FEUViQpFr2hY",
        "colab_type": "code",
        "outputId": "485ac36d-8664-412a-cf00-24a3051db101",
        "colab": {
          "base_uri": "https://localhost:8080/",
          "height": 408
        }
      },
      "source": [
        "model = create_model()\n",
        "history = model.fit(x_train, y_train, epochs=10, batch_size=100,validation_data = (x_test,y_test) )"
      ],
      "execution_count": 22,
      "outputs": [
        {
          "output_type": "stream",
          "text": [
            "INFO:tensorflow:Saver not created because there are no variables in the graph to restore\n"
          ],
          "name": "stdout"
        },
        {
          "output_type": "stream",
          "text": [
            "INFO:tensorflow:Saver not created because there are no variables in the graph to restore\n"
          ],
          "name": "stderr"
        },
        {
          "output_type": "stream",
          "text": [
            "Train on 25000 samples, validate on 5000 samples\n",
            "Epoch 1/10\n",
            "25000/25000 [==============================] - 896s 36ms/step - loss: 0.4715 - accuracy: 0.7753 - val_loss: 0.4125 - val_accuracy: 0.8126\n",
            "Epoch 2/10\n",
            "25000/25000 [==============================] - 895s 36ms/step - loss: 0.4075 - accuracy: 0.8149 - val_loss: 0.3916 - val_accuracy: 0.8244\n",
            "Epoch 3/10\n",
            "25000/25000 [==============================] - 895s 36ms/step - loss: 0.3920 - accuracy: 0.8224 - val_loss: 0.4116 - val_accuracy: 0.8118\n",
            "Epoch 4/10\n",
            "25000/25000 [==============================] - 896s 36ms/step - loss: 0.3799 - accuracy: 0.8295 - val_loss: 0.3817 - val_accuracy: 0.8326\n",
            "Epoch 5/10\n",
            "25000/25000 [==============================] - 902s 36ms/step - loss: 0.3690 - accuracy: 0.8348 - val_loss: 0.3779 - val_accuracy: 0.8296\n",
            "Epoch 6/10\n",
            "25000/25000 [==============================] - 896s 36ms/step - loss: 0.3615 - accuracy: 0.8392 - val_loss: 0.3726 - val_accuracy: 0.8322\n",
            "Epoch 7/10\n",
            "25000/25000 [==============================] - 895s 36ms/step - loss: 0.3553 - accuracy: 0.8420 - val_loss: 0.3761 - val_accuracy: 0.8320\n",
            "Epoch 8/10\n",
            "25000/25000 [==============================] - 895s 36ms/step - loss: 0.3516 - accuracy: 0.8437 - val_loss: 0.3961 - val_accuracy: 0.8216\n",
            "Epoch 9/10\n",
            "25000/25000 [==============================] - 895s 36ms/step - loss: 0.3458 - accuracy: 0.8475 - val_loss: 0.3672 - val_accuracy: 0.8350\n",
            "Epoch 10/10\n",
            "25000/25000 [==============================] - 895s 36ms/step - loss: 0.3368 - accuracy: 0.8526 - val_loss: 0.3686 - val_accuracy: 0.8340\n"
          ],
          "name": "stdout"
        }
      ]
    },
    {
      "cell_type": "code",
      "metadata": {
        "id": "6wMQ4HwuuCHz",
        "colab_type": "code",
        "colab": {}
      },
      "source": [
        "model.save_weights('./elmo-model_sent1.h5')\n",
        "# model.load_weights('./elmo-model_sent1.h5')"
      ],
      "execution_count": 0,
      "outputs": []
    },
    {
      "cell_type": "code",
      "metadata": {
        "id": "XALiyBBKuB-p",
        "colab_type": "code",
        "colab": {}
      },
      "source": [
        "predict = model.predict(x_test)"
      ],
      "execution_count": 0,
      "outputs": []
    },
    {
      "cell_type": "code",
      "metadata": {
        "id": "8akaI1-euB7P",
        "colab_type": "code",
        "colab": {}
      },
      "source": [
        "pred = [np.where(t == np.max(t))[0][0] for t in predict]"
      ],
      "execution_count": 0,
      "outputs": []
    },
    {
      "cell_type": "code",
      "metadata": {
        "id": "UG9pfo8UuB5a",
        "colab_type": "code",
        "colab": {}
      },
      "source": [
        "yr = [np.where(t == np.max(t))[0][0] for t in y_test]"
      ],
      "execution_count": 0,
      "outputs": []
    },
    {
      "cell_type": "code",
      "metadata": {
        "id": "PjOdBIc-r6Lo",
        "colab_type": "code",
        "outputId": "0cf88234-e618-4f89-de4a-34befb10fc09",
        "colab": {
          "base_uri": "https://localhost:8080/",
          "height": 381
        }
      },
      "source": [
        "from sklearn import metrics\n",
        "fpr, tpr, thresholds = metrics.roc_curve(yr, pred, pos_label=1)\n",
        "print(\"AUC : \",metrics.auc(fpr, tpr))\n",
        "\n",
        "from sklearn.metrics import accuracy_score\n",
        "print(\"accuracy : \",accuracy_score(yr,pred))\n",
        "\n",
        "from sklearn.metrics import precision_score\n",
        "print(\"precision : \",precision_score(yr, pred))\n",
        "\n",
        "from sklearn.metrics import recall_score\n",
        "print(\"recall : \" ,recall_score(yr, pred) )\n",
        "\n",
        "from sklearn.metrics import f1_score\n",
        "print(\"F1 : \", f1_score(yr, pred))\n",
        "\n",
        "import matplotlib.pyplot as plt\n",
        "import numpy as np\n",
        "import math\n",
        "hist2=history.history\n",
        "loss=hist2['loss']\n",
        "val_loss=hist2['val_loss']\n",
        "plt.xlabel('Epochs')\n",
        "plt.ylabel('train loss')\n",
        "plt.plot(loss)\n",
        "\n",
        "plt.xlabel('Epochs')\n",
        "plt.ylabel('test perplexity')\n",
        "plt.plot(val_loss)\n",
        "plt.legend(['train loss','test loss'])"
      ],
      "execution_count": 26,
      "outputs": [
        {
          "output_type": "stream",
          "text": [
            "AUC :  0.8336172494695475\n",
            "accuracy :  0.834\n",
            "precision :  0.8192725909261342\n",
            "recall :  0.8626135017765495\n",
            "F1 :  0.8403846153846154\n"
          ],
          "name": "stdout"
        },
        {
          "output_type": "execute_result",
          "data": {
            "text/plain": [
              "<matplotlib.legend.Legend at 0x7f20746ee2e8>"
            ]
          },
          "metadata": {
            "tags": []
          },
          "execution_count": 26
        },
        {
          "output_type": "display_data",
          "data": {
            "image/png": "[encoded data removed]",
            "text/plain": [
              "<Figure size 432x288 with 1 Axes>"
            ]
          },
          "metadata": {
            "tags": [],
            "needs_background": "light"
          }
        }
      ]
    },
    {
      "cell_type": "markdown",
      "metadata": {
        "id": "IbMczLVbszNP",
        "colab_type": "text"
      },
      "source": [
        "## **20 epochs**"
      ]
    },
    {
      "cell_type": "code",
      "metadata": {
        "id": "X9cwjFbdIQZ4",
        "colab_type": "code",
        "outputId": "51c9378a-7e87-498d-b61b-1363380c7d95",
        "colab": {
          "base_uri": "https://localhost:8080/",
          "height": 748
        }
      },
      "source": [
        "import keras.backend as K\n",
        "def initialize_vars(sess):\n",
        "    sess.run(tf.local_variables_initializer())\n",
        "    sess.run(tf.global_variables_initializer())\n",
        "    sess.run(tf.tables_initializer())\n",
        "    K.set_session(sess)\n",
        "model2 = create_model()\n",
        "sess = tf.Session()\n",
        "# Instantiate variables\n",
        "initialize_vars(sess)\n",
        "history2 = model2.fit(x_train, y_train, epochs=20, batch_size=100,validation_data = (x_test,y_test) )"
      ],
      "execution_count": 28,
      "outputs": [
        {
          "output_type": "stream",
          "text": [
            "INFO:tensorflow:Saver not created because there are no variables in the graph to restore\n"
          ],
          "name": "stdout"
        },
        {
          "output_type": "stream",
          "text": [
            "INFO:tensorflow:Saver not created because there are no variables in the graph to restore\n"
          ],
          "name": "stderr"
        },
        {
          "output_type": "stream",
          "text": [
            "Train on 25000 samples, validate on 5000 samples\n",
            "Epoch 1/20\n",
            "25000/25000 [==============================] - 895s 36ms/step - loss: 0.4782 - accuracy: 0.7699 - val_loss: 0.4206 - val_accuracy: 0.8020\n",
            "Epoch 2/20\n",
            "25000/25000 [==============================] - 895s 36ms/step - loss: 0.4090 - accuracy: 0.8119 - val_loss: 0.3914 - val_accuracy: 0.8256\n",
            "Epoch 3/20\n",
            "25000/25000 [==============================] - 895s 36ms/step - loss: 0.3953 - accuracy: 0.8212 - val_loss: 0.3883 - val_accuracy: 0.8262\n",
            "Epoch 4/20\n",
            "25000/25000 [==============================] - 895s 36ms/step - loss: 0.3845 - accuracy: 0.8263 - val_loss: 0.3792 - val_accuracy: 0.8304\n",
            "Epoch 5/20\n",
            "25000/25000 [==============================] - 900s 36ms/step - loss: 0.3698 - accuracy: 0.8350 - val_loss: 0.3943 - val_accuracy: 0.8244\n",
            "Epoch 6/20\n",
            "25000/25000 [==============================] - 896s 36ms/step - loss: 0.3619 - accuracy: 0.8409 - val_loss: 0.3735 - val_accuracy: 0.8338\n",
            "Epoch 7/20\n",
            "25000/25000 [==============================] - 896s 36ms/step - loss: 0.3566 - accuracy: 0.8431 - val_loss: 0.3769 - val_accuracy: 0.8322\n",
            "Epoch 8/20\n",
            "25000/25000 [==============================] - 896s 36ms/step - loss: 0.3497 - accuracy: 0.8460 - val_loss: 0.3654 - val_accuracy: 0.8386\n",
            "Epoch 9/20\n",
            "25000/25000 [==============================] - 896s 36ms/step - loss: 0.3449 - accuracy: 0.8490 - val_loss: 0.3924 - val_accuracy: 0.8186\n",
            "Epoch 10/20\n",
            "25000/25000 [==============================] - 897s 36ms/step - loss: 0.3385 - accuracy: 0.8530 - val_loss: 0.3649 - val_accuracy: 0.8356\n",
            "Epoch 11/20\n",
            "25000/25000 [==============================] - 896s 36ms/step - loss: 0.3324 - accuracy: 0.8544 - val_loss: 0.3614 - val_accuracy: 0.8420\n",
            "Epoch 12/20\n",
            "25000/25000 [==============================] - 897s 36ms/step - loss: 0.3280 - accuracy: 0.8582 - val_loss: 0.3681 - val_accuracy: 0.8382\n",
            "Epoch 13/20\n",
            "25000/25000 [==============================] - 897s 36ms/step - loss: 0.3214 - accuracy: 0.8605 - val_loss: 0.4012 - val_accuracy: 0.8244\n",
            "Epoch 14/20\n",
            "25000/25000 [==============================] - 896s 36ms/step - loss: 0.3187 - accuracy: 0.8620 - val_loss: 0.3646 - val_accuracy: 0.8374\n",
            "Epoch 15/20\n",
            "25000/25000 [==============================] - 897s 36ms/step - loss: 0.3112 - accuracy: 0.8651 - val_loss: 0.3793 - val_accuracy: 0.8316\n",
            "Epoch 16/20\n",
            "25000/25000 [==============================] - 897s 36ms/step - loss: 0.3039 - accuracy: 0.8703 - val_loss: 0.3782 - val_accuracy: 0.8354\n",
            "Epoch 17/20\n",
            "25000/25000 [==============================] - 897s 36ms/step - loss: 0.2992 - accuracy: 0.8733 - val_loss: 0.3770 - val_accuracy: 0.8368\n",
            "Epoch 18/20\n",
            "25000/25000 [==============================] - 897s 36ms/step - loss: 0.2965 - accuracy: 0.8746 - val_loss: 0.3630 - val_accuracy: 0.8428\n",
            "Epoch 19/20\n",
            "25000/25000 [==============================] - 897s 36ms/step - loss: 0.2853 - accuracy: 0.8808 - val_loss: 0.4170 - val_accuracy: 0.8176\n",
            "Epoch 20/20\n",
            "25000/25000 [==============================] - 897s 36ms/step - loss: 0.2840 - accuracy: 0.8801 - val_loss: 0.3765 - val_accuracy: 0.8356\n"
          ],
          "name": "stdout"
        }
      ]
    },
    {
      "cell_type": "code",
      "metadata": {
        "id": "qggMCeH3OmiM",
        "colab_type": "code",
        "colab": {}
      },
      "source": [
        "model2.save_weights('./elmo-model_sent2.h5')\n",
        "# model2.load_weights('./elmo-model_sent2.h5')"
      ],
      "execution_count": 0,
      "outputs": []
    },
    {
      "cell_type": "code",
      "metadata": {
        "id": "ZWsLdVp9mRcz",
        "colab_type": "code",
        "colab": {}
      },
      "source": [
        "predict2 = model2.predict(x_test)"
      ],
      "execution_count": 0,
      "outputs": []
    },
    {
      "cell_type": "code",
      "metadata": {
        "id": "syb5Q68LmoRc",
        "colab_type": "code",
        "colab": {}
      },
      "source": [
        "pred = [np.where(t == np.max(t))[0][0] for t in predict2]\n",
        "yr = [np.where(t == np.max(t))[0][0] for t in y_test]"
      ],
      "execution_count": 0,
      "outputs": []
    },
    {
      "cell_type": "code",
      "metadata": {
        "id": "eYxxCPjumpDg",
        "colab_type": "code",
        "outputId": "127ff7cb-a31c-4bc2-fe1a-0f841122bb97",
        "colab": {
          "base_uri": "https://localhost:8080/",
          "height": 381
        }
      },
      "source": [
        "from sklearn import metrics\n",
        "fpr, tpr, thresholds = metrics.roc_curve(yr, pred, pos_label=1)\n",
        "print(\"AUC : \",metrics.auc(fpr, tpr))\n",
        "\n",
        "from sklearn.metrics import accuracy_score\n",
        "print(\"accuracy : \",accuracy_score(yr,pred))\n",
        "\n",
        "from sklearn.metrics import precision_score\n",
        "print(\"precision : \",precision_score(yr, pred))\n",
        "\n",
        "from sklearn.metrics import recall_score\n",
        "print(\"recall : \" ,recall_score(yr, pred) )\n",
        "\n",
        "from sklearn.metrics import f1_score\n",
        "print(\"F1 : \", f1_score(yr, pred))\n",
        "\n",
        "import matplotlib.pyplot as plt\n",
        "import numpy as np\n",
        "import math\n",
        "hist2=history2.history\n",
        "loss=hist2['loss']\n",
        "val_loss=hist2['val_loss']\n",
        "plt.xlabel('Epochs')\n",
        "plt.ylabel('train loss')\n",
        "plt.plot(loss)\n",
        "\n",
        "plt.xlabel('Epochs')\n",
        "plt.ylabel('test perplexity')\n",
        "plt.plot(val_loss)\n",
        "plt.legend(['train loss','test loss'])"
      ],
      "execution_count": 31,
      "outputs": [
        {
          "output_type": "stream",
          "text": [
            "AUC :  0.8363159596928168\n",
            "accuracy :  0.8356\n",
            "precision :  0.8800533096401599\n",
            "recall :  0.7820765890248716\n",
            "F1 :  0.8281772575250836\n"
          ],
          "name": "stdout"
        },
        {
          "output_type": "execute_result",
          "data": {
            "text/plain": [
              "<matplotlib.legend.Legend at 0x7f2071b573c8>"
            ]
          },
          "metadata": {
            "tags": []
          },
          "execution_count": 31
        },
        {
          "output_type": "display_data",
          "data": {
            "image/png": "[encoded data removed]",
            "text/plain": [
              "<Figure size 432x288 with 1 Axes>"
            ]
          },
          "metadata": {
            "tags": [],
            "needs_background": "light"
          }
        }
      ]
    },
    {
      "cell_type": "markdown",
      "metadata": {
        "id": "JfQZAxHcJ3ab",
        "colab_type": "text"
      },
      "source": [
        "## **without preprocessing**"
      ]
    },
    {
      "cell_type": "code",
      "metadata": {
        "id": "XM-G19rE0Lgv",
        "colab_type": "code",
        "colab": {
          "base_uri": "https://localhost:8080/",
          "height": 734
        },
        "outputId": "f87035c7-9cd3-46b3-fe94-ee49086bd618"
      },
      "source": [
        "model_pre = create_model()\n",
        "history_pre = model_pre.fit(x_train, y_train, epochs=10, batch_size=200,validation_data = (x_test,y_test) )"
      ],
      "execution_count": 15,
      "outputs": [
        {
          "output_type": "stream",
          "text": [
            "INFO:tensorflow:Saver not created because there are no variables in the graph to restore\n"
          ],
          "name": "stdout"
        },
        {
          "output_type": "stream",
          "text": [
            "INFO:tensorflow:Saver not created because there are no variables in the graph to restore\n"
          ],
          "name": "stderr"
        },
        {
          "output_type": "stream",
          "text": [
            "WARNING:tensorflow:From /usr/local/lib/python3.6/dist-packages/tensorflow_core/python/ops/resource_variable_ops.py:1630: calling BaseResourceVariable.__init__ (from tensorflow.python.ops.resource_variable_ops) with constraint is deprecated and will be removed in a future version.\n",
            "Instructions for updating:\n",
            "If using Keras pass *_constraint arguments to layers.\n"
          ],
          "name": "stdout"
        },
        {
          "output_type": "stream",
          "text": [
            "WARNING:tensorflow:From /usr/local/lib/python3.6/dist-packages/tensorflow_core/python/ops/resource_variable_ops.py:1630: calling BaseResourceVariable.__init__ (from tensorflow.python.ops.resource_variable_ops) with constraint is deprecated and will be removed in a future version.\n",
            "Instructions for updating:\n",
            "If using Keras pass *_constraint arguments to layers.\n"
          ],
          "name": "stderr"
        },
        {
          "output_type": "stream",
          "text": [
            "WARNING:tensorflow:From /usr/local/lib/python3.6/dist-packages/keras/backend/tensorflow_backend.py:422: The name tf.global_variables is deprecated. Please use tf.compat.v1.global_variables instead.\n",
            "\n"
          ],
          "name": "stdout"
        },
        {
          "output_type": "stream",
          "text": [
            "WARNING:tensorflow:From /usr/local/lib/python3.6/dist-packages/keras/backend/tensorflow_backend.py:422: The name tf.global_variables is deprecated. Please use tf.compat.v1.global_variables instead.\n",
            "\n"
          ],
          "name": "stderr"
        },
        {
          "output_type": "stream",
          "text": [
            "WARNING:tensorflow:From /usr/local/lib/python3.6/dist-packages/keras/backend/tensorflow_backend.py:431: The name tf.is_variable_initialized is deprecated. Please use tf.compat.v1.is_variable_initialized instead.\n",
            "\n"
          ],
          "name": "stdout"
        },
        {
          "output_type": "stream",
          "text": [
            "WARNING:tensorflow:From /usr/local/lib/python3.6/dist-packages/keras/backend/tensorflow_backend.py:431: The name tf.is_variable_initialized is deprecated. Please use tf.compat.v1.is_variable_initialized instead.\n",
            "\n"
          ],
          "name": "stderr"
        },
        {
          "output_type": "stream",
          "text": [
            "WARNING:tensorflow:From /usr/local/lib/python3.6/dist-packages/keras/backend/tensorflow_backend.py:438: The name tf.variables_initializer is deprecated. Please use tf.compat.v1.variables_initializer instead.\n",
            "\n"
          ],
          "name": "stdout"
        },
        {
          "output_type": "stream",
          "text": [
            "WARNING:tensorflow:From /usr/local/lib/python3.6/dist-packages/keras/backend/tensorflow_backend.py:438: The name tf.variables_initializer is deprecated. Please use tf.compat.v1.variables_initializer instead.\n",
            "\n"
          ],
          "name": "stderr"
        },
        {
          "output_type": "stream",
          "text": [
            "Train on 25000 samples, validate on 5000 samples\n",
            "Epoch 1/10\n",
            "25000/25000 [==============================] - 263s 11ms/step - loss: 0.4977 - accuracy: 0.7550 - val_loss: 0.4443 - val_accuracy: 0.7952\n",
            "Epoch 2/10\n",
            "25000/25000 [==============================] - 252s 10ms/step - loss: 0.4342 - accuracy: 0.7951 - val_loss: 0.4268 - val_accuracy: 0.8026\n",
            "Epoch 3/10\n",
            "25000/25000 [==============================] - 250s 10ms/step - loss: 0.4181 - accuracy: 0.8071 - val_loss: 0.4650 - val_accuracy: 0.7694\n",
            "Epoch 4/10\n",
            "25000/25000 [==============================] - 251s 10ms/step - loss: 0.4060 - accuracy: 0.8143 - val_loss: 0.4112 - val_accuracy: 0.8098\n",
            "Epoch 5/10\n",
            "25000/25000 [==============================] - 252s 10ms/step - loss: 0.3981 - accuracy: 0.8191 - val_loss: 0.4024 - val_accuracy: 0.8172\n",
            "Epoch 6/10\n",
            "25000/25000 [==============================] - 254s 10ms/step - loss: 0.3882 - accuracy: 0.8240 - val_loss: 0.4062 - val_accuracy: 0.8088\n",
            "Epoch 7/10\n",
            "25000/25000 [==============================] - 251s 10ms/step - loss: 0.3815 - accuracy: 0.8280 - val_loss: 0.3960 - val_accuracy: 0.8166\n",
            "Epoch 8/10\n",
            "25000/25000 [==============================] - 252s 10ms/step - loss: 0.3780 - accuracy: 0.8297 - val_loss: 0.3969 - val_accuracy: 0.8160\n",
            "Epoch 9/10\n",
            "25000/25000 [==============================] - 253s 10ms/step - loss: 0.3700 - accuracy: 0.8341 - val_loss: 0.3950 - val_accuracy: 0.8154\n",
            "Epoch 10/10\n",
            "25000/25000 [==============================] - 250s 10ms/step - loss: 0.3584 - accuracy: 0.8416 - val_loss: 0.3921 - val_accuracy: 0.8130\n"
          ],
          "name": "stdout"
        }
      ]
    },
    {
      "cell_type": "code",
      "metadata": {
        "id": "nK02ii_xKNiS",
        "colab_type": "code",
        "colab": {}
      },
      "source": [
        "predict = model_pre.predict(x_test)"
      ],
      "execution_count": 0,
      "outputs": []
    },
    {
      "cell_type": "code",
      "metadata": {
        "id": "WopQDstZ3bGM",
        "colab_type": "code",
        "colab": {}
      },
      "source": [
        "pred = [np.where(t == np.max(t))[0][0] for t in predict]\n",
        "yr = [np.where(t == np.max(t))[0][0] for t in y_test]"
      ],
      "execution_count": 0,
      "outputs": []
    },
    {
      "cell_type": "code",
      "metadata": {
        "id": "r5JMg_473lho",
        "colab_type": "code",
        "colab": {
          "base_uri": "https://localhost:8080/",
          "height": 381
        },
        "outputId": "a2b3413c-cc88-41ce-f4b8-dc3a1c54dac6"
      },
      "source": [
        "from sklearn import metrics\n",
        "fpr, tpr, thresholds = metrics.roc_curve(yr, pred, pos_label=1)\n",
        "print(\"AUC : \",metrics.auc(fpr, tpr))\n",
        "\n",
        "from sklearn.metrics import accuracy_score\n",
        "print(\"accuracy : \",accuracy_score(yr,pred))\n",
        "\n",
        "from sklearn.metrics import precision_score\n",
        "print(\"precision : \",precision_score(yr, pred))\n",
        "\n",
        "from sklearn.metrics import recall_score\n",
        "print(\"recall : \" ,recall_score(yr, pred) )\n",
        "\n",
        "from sklearn.metrics import f1_score\n",
        "print(\"F1 : \", f1_score(yr, pred))\n",
        "\n",
        "import matplotlib.pyplot as plt\n",
        "import numpy as np\n",
        "import math\n",
        "hist2=history_pre.history\n",
        "loss=hist2['loss']\n",
        "val_loss=hist2['val_loss']\n",
        "plt.xlabel('Epochs')\n",
        "plt.ylabel('train loss')\n",
        "plt.plot(loss)\n",
        "\n",
        "plt.xlabel('Epochs')\n",
        "plt.ylabel('test perplexity')\n",
        "plt.plot(val_loss)\n",
        "plt.legend(['train loss','test loss'])"
      ],
      "execution_count": 18,
      "outputs": [
        {
          "output_type": "stream",
          "text": [
            "AUC :  0.812758613406519\n",
            "accuracy :  0.8128\n",
            "precision :  0.8142276422764227\n",
            "recall :  0.8070104754230459\n",
            "F1 :  0.810602994738972\n"
          ],
          "name": "stdout"
        },
        {
          "output_type": "execute_result",
          "data": {
            "text/plain": [
              "<matplotlib.legend.Legend at 0x7f969efdc898>"
            ]
          },
          "metadata": {
            "tags": []
          },
          "execution_count": 18
        },
        {
          "output_type": "display_data",
          "data": {
            "image/png": "[encoded data removed]",
            "text/plain": [
              "<Figure size 432x288 with 1 Axes>"
            ]
          },
          "metadata": {
            "tags": [],
            "needs_background": "light"
          }
        }
      ]
    },
    {
      "cell_type": "code",
      "metadata": {
        "id": "mdtywxAe3sg3",
        "colab_type": "code",
        "colab": {}
      },
      "source": [
        ""
      ],
      "execution_count": 0,
      "outputs": []
    }
  ]
}