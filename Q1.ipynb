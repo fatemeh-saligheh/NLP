{
 "cells": [
  {
   "cell_type": "code",
   "execution_count": 25,
   "metadata": {},
   "outputs": [],
   "source": [
    "def neuron(X,W):\n",
    "    net = X[0]*W[0] + X[1]*W[1]\n",
    "    if(net < 2):\n",
    "        Y = 0\n",
    "    else:\n",
    "        Y = 1\n",
    "    return Y"
   ]
  },
  {
   "cell_type": "code",
   "execution_count": 48,
   "metadata": {},
   "outputs": [],
   "source": [
    "def fullAdder(X1,X2):\n",
    "    Z1 = neuron([X1[0],X2[0]],[2,-1])\n",
    "    Z2 = neuron([X1[0],X2[0]],[-1,2])\n",
    "    Q0 = neuron([Z1,Z2],[2,2])\n",
    "    \n",
    "    Z3 = neuron([X1[0],X2[0]],[1,1])\n",
    "    Z4 = neuron([X1[1],X2[1]],[2,-1])\n",
    "    Z5 = neuron([X1[1],X2[1]],[-1,2])\n",
    "    Z6 = neuron([Z4,Z5],[2,2])\n",
    "    Z7 = neuron([Z3,Z6],[2,-1])\n",
    "    Z8 = neuron([Z3,Z6],[-1,2])\n",
    "    Q1 = neuron([Z7,Z8],[2,2])\n",
    "    \n",
    "    Z9 = neuron([X1[0],X2[0]],[1,1])\n",
    "    Z10 = neuron([X1[1],X2[1]],[2,-1])\n",
    "    Z11 = neuron([X1[1],X2[1]],[-1,2])\n",
    "    Z12 = neuron([X1[1],X2[1]],[1,1])\n",
    "    Z13 = neuron([Z10,Z11],[2,2])\n",
    "    Z14 = neuron([Z9,Z13],[1,1])\n",
    "    CO = neuron([Z14,Z12],[2,2])\n",
    "    \n",
    "    return CO,Q1,Q0"
   ]
  },
  {
   "cell_type": "code",
   "execution_count": 49,
   "metadata": {},
   "outputs": [
    {
     "data": {
      "text/plain": [
       "(0, 0, 0)"
      ]
     },
     "execution_count": 49,
     "metadata": {},
     "output_type": "execute_result"
    }
   ],
   "source": [
    "# 00 + 00\n",
    "fullAdder([0,0],[0,0])"
   ]
  },
  {
   "cell_type": "code",
   "execution_count": 50,
   "metadata": {},
   "outputs": [
    {
     "data": {
      "text/plain": [
       "(0, 0, 1)"
      ]
     },
     "execution_count": 50,
     "metadata": {},
     "output_type": "execute_result"
    }
   ],
   "source": [
    "# 01 + 00\n",
    "fullAdder([1,0],[0,0])"
   ]
  },
  {
   "cell_type": "code",
   "execution_count": 51,
   "metadata": {},
   "outputs": [
    {
     "data": {
      "text/plain": [
       "(0, 1, 0)"
      ]
     },
     "execution_count": 51,
     "metadata": {},
     "output_type": "execute_result"
    }
   ],
   "source": [
    "# 10 + 00\n",
    "fullAdder([0,1],[0,0])"
   ]
  },
  {
   "cell_type": "code",
   "execution_count": 52,
   "metadata": {},
   "outputs": [
    {
     "data": {
      "text/plain": [
       "(0, 1, 1)"
      ]
     },
     "execution_count": 52,
     "metadata": {},
     "output_type": "execute_result"
    }
   ],
   "source": [
    "# 11 + 00\n",
    "fullAdder([1,1],[0,0])"
   ]
  },
  {
   "cell_type": "code",
   "execution_count": 53,
   "metadata": {},
   "outputs": [
    {
     "data": {
      "text/plain": [
       "(1, 1, 0)"
      ]
     },
     "execution_count": 53,
     "metadata": {},
     "output_type": "execute_result"
    }
   ],
   "source": [
    "# 11 + 11\n",
    "fullAdder([1,1],[1,1])"
   ]
  },
  {
   "cell_type": "code",
   "execution_count": 54,
   "metadata": {},
   "outputs": [
    {
     "data": {
      "text/plain": [
       "(1, 0, 0)"
      ]
     },
     "execution_count": 54,
     "metadata": {},
     "output_type": "execute_result"
    }
   ],
   "source": [
    "# 01 + 11\n",
    "fullAdder([1,0],[1,1])"
   ]
  },
  {
   "cell_type": "code",
   "execution_count": 55,
   "metadata": {},
   "outputs": [
    {
     "data": {
      "text/plain": [
       "(1, 0, 1)"
      ]
     },
     "execution_count": 55,
     "metadata": {},
     "output_type": "execute_result"
    }
   ],
   "source": [
    "# 10 + 11\n",
    "fullAdder([0,1],[1,1])"
   ]
  },
  {
   "cell_type": "code",
   "execution_count": 56,
   "metadata": {},
   "outputs": [
    {
     "data": {
      "text/plain": [
       "(1, 0, 1)"
      ]
     },
     "execution_count": 56,
     "metadata": {},
     "output_type": "execute_result"
    }
   ],
   "source": [
    "# 11 + 10\n",
    "fullAdder([1,1],[0,1])"
   ]
  }
 ],
 "metadata": {
  "kernelspec": {
   "display_name": "Python 3",
   "language": "python",
   "name": "python3"
  },
  "language_info": {
   "codemirror_mode": {
    "name": "ipython",
    "version": 3
   },
   "file_extension": ".py",
   "mimetype": "text/x-python",
   "name": "python",
   "nbconvert_exporter": "python",
   "pygments_lexer": "ipython3",
   "version": "3.7.1"
  }
 },
 "nbformat": 4,
 "nbformat_minor": 2
}
