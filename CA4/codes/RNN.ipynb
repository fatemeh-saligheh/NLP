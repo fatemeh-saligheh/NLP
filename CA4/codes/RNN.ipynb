{
 "cells": [
  {
   "cell_type": "code",
   "execution_count": 29,
   "metadata": {},
   "outputs": [],
   "source": [
    "import pandas as pd\n",
    "import pickle\n",
    "from keras.preprocessing.sequence import pad_sequences\n",
    "from keras.models import Sequential\n",
    "from keras.layers import Dense, LSTM, InputLayer, Bidirectional, TimeDistributed, Embedding, Activation,Dropout\n",
    "from keras.optimizers import Adam\n",
    "import numpy as np\n",
    "from keras.utils import to_categorical\n",
    "import matplotlib.pyplot as plt\n",
    "from keras.preprocessing.text import Tokenizer\n",
    "import math\n",
    "import keras_metrics"
   ]
  },
  {
   "cell_type": "code",
   "execution_count": 3,
   "metadata": {},
   "outputs": [],
   "source": [
    "def readFile(fileName,sheet):\n",
    "    xl_file = pd.read_excel(fileName,sheet)\n",
    "    df = pd.DataFrame(xl_file, columns= ['Sentence #','Word','POS','Tag'])\n",
    "    df = df.fillna(method='ffill')\n",
    "    return df"
   ]
  },
  {
   "cell_type": "code",
   "execution_count": 4,
   "metadata": {},
   "outputs": [],
   "source": [
    "def readTestFile(fileName,sheet):\n",
    "    xl_file = pd.read_excel(fileName,sheet, header=None)\n",
    "    df = pd.DataFrame(xl_file)\n",
    "    df = df.fillna(method='ffill')\n",
    "    df = df.drop(columns=[3,4,5])\n",
    "    return df"
   ]
  },
  {
   "cell_type": "code",
   "execution_count": 5,
   "metadata": {},
   "outputs": [],
   "source": [
    "df  = readFile('Rnn_train.xlsx','Sheet1')\n",
    "dftest = readTestFile('Rnn_test.xlsx','Sheet1')"
   ]
  },
  {
   "cell_type": "code",
   "execution_count": 6,
   "metadata": {},
   "outputs": [],
   "source": [
    "xl_file = pd.read_excel('pos_list.xlsx')"
   ]
  },
  {
   "cell_type": "code",
   "execution_count": 7,
   "metadata": {},
   "outputs": [],
   "source": [
    "tag = pd.DataFrame(xl_file, columns= ['POS_list'])"
   ]
  },
  {
   "cell_type": "code",
   "execution_count": 8,
   "metadata": {},
   "outputs": [],
   "source": [
    "#if create it call loadSentenceAndTags function \n",
    "def createSentenceAndTags(df):\n",
    "    sentences = []\n",
    "    sentence_tags = []\n",
    "    for i in range(1,20000):\n",
    "        sent = df[df['Sentence #']== ('Sentence: '+str(i))]\n",
    "        sentences.append(sent['Word'])\n",
    "        sentence_tags.append(sent['POS'])\n",
    "    with open('sentences.data', 'wb') as filehandle:\n",
    "        # store the data as binary data stream\n",
    "        pickle.dump(sentences, filehandle)\n",
    "    with open('sentence_tags.data', 'wb') as filehandle:\n",
    "        # store the data as binary data stream\n",
    "        pickle.dump(sentence_tags, filehandle)"
   ]
  },
  {
   "cell_type": "code",
   "execution_count": 9,
   "metadata": {},
   "outputs": [],
   "source": [
    "def loadSentenceAndTags():\n",
    "    with open('sentences.data', 'rb') as filehandle:\n",
    "        # read the data as binary data stream\n",
    "        sentences = pickle.load(filehandle)\n",
    "    with open('sentence_tags.data', 'rb') as filehandle:\n",
    "        # read the data as binary data stream\n",
    "        sentence_tags = pickle.load(filehandle)\n",
    "    return sentences,sentence_tags"
   ]
  },
  {
   "cell_type": "code",
   "execution_count": 10,
   "metadata": {},
   "outputs": [],
   "source": [
    "# createSentenceAndTags(df)\n",
    "sentences,sentence_tags = loadSentenceAndTags()"
   ]
  },
  {
   "cell_type": "code",
   "execution_count": 11,
   "metadata": {},
   "outputs": [],
   "source": [
    "#if create it call loadSentenceAndTags function \n",
    "def createTestSentenceAndTags(df):\n",
    "    sentences = []\n",
    "    sentence_tags = []\n",
    "    for i in range(20001,25001):\n",
    "        sent = df[df[0]== ('Sentence: '+str(i))]\n",
    "        sentences.append(sent[1])\n",
    "        sentence_tags.append(sent[2])\n",
    "    return sentences,sentence_tags"
   ]
  },
  {
   "cell_type": "code",
   "execution_count": 12,
   "metadata": {},
   "outputs": [],
   "source": [
    "testSentences,testSentence_tags = createTestSentenceAndTags(dftest)"
   ]
  },
  {
   "cell_type": "code",
   "execution_count": 49,
   "metadata": {},
   "outputs": [],
   "source": [
    "words = set([])\n",
    "tags = set(tag['POS_list'])\n",
    "def sentenceToPadSequence(sentences,sentence_tags):\n",
    "    \n",
    "    for s in sentences:\n",
    "        for w in s:\n",
    "            words.add(str(w).lower())\n",
    "\n",
    "    wordCoding = {w: i + 1 for i, w in enumerate(list(words))}\n",
    "    wordCoding['-unk-'] = 0       \n",
    "    tagCoding = {t: i for i, t in enumerate(list(tags))}\n",
    "    \n",
    "    train_X = []\n",
    "    labels = []\n",
    "    for sent in sentences:\n",
    "        x = []\n",
    "        for word in sent:\n",
    "            x.append(wordCoding[str(word).lower()])\n",
    "        train_X.append(x)\n",
    "\n",
    "    for sent in sentence_tags:\n",
    "        labels.append([tagCoding[tag] for tag in sent])\n",
    "\n",
    "    train_X = pad_sequences(train_X, maxlen=len(max(train_X, key=len)), padding='post')\n",
    "    labels = pad_sequences(labels, maxlen=len(max(train_X, key=len)), padding='post')\n",
    "    \n",
    "    return train_X,labels,tagCoding,wordCoding"
   ]
  },
  {
   "cell_type": "code",
   "execution_count": 50,
   "metadata": {},
   "outputs": [],
   "source": [
    "train_X,labels,tagCoding,wordCoding = sentenceToPadSequence(sentences,sentence_tags)\n",
    "maxLen = len(max(train_X, key=len))"
   ]
  },
  {
   "cell_type": "code",
   "execution_count": 15,
   "metadata": {},
   "outputs": [
    {
     "data": {
      "text/plain": [
       "(19999, 70)"
      ]
     },
     "execution_count": 15,
     "metadata": {},
     "output_type": "execute_result"
    }
   ],
   "source": [
    "train_X.shape"
   ]
  },
  {
   "cell_type": "code",
   "execution_count": 16,
   "metadata": {},
   "outputs": [
    {
     "data": {
      "text/plain": [
       "(19999, 70)"
      ]
     },
     "execution_count": 16,
     "metadata": {},
     "output_type": "execute_result"
    }
   ],
   "source": [
    "labels.shape"
   ]
  },
  {
   "cell_type": "code",
   "execution_count": 17,
   "metadata": {},
   "outputs": [],
   "source": [
    "def testsentenceToPadSequence(sentences,sentence_tags):\n",
    "    train_X = []\n",
    "    labels = []\n",
    "    for sent in sentences:\n",
    "        x = []\n",
    "        for word in sent:\n",
    "            try:\n",
    "                x.append(wordCoding[str(word).lower()])\n",
    "            except KeyError:\n",
    "                x.append(wordCoding['-unk-'])\n",
    "        train_X.append(x)\n",
    "\n",
    "    for sent in sentence_tags:\n",
    "        labels.append([tagCoding[tag] for tag in sent])\n",
    "\n",
    "    train_X = pad_sequences(train_X, maxlen=maxLen, padding='post')\n",
    "    labels = pad_sequences(labels, maxlen=maxLen, padding='post')\n",
    "    \n",
    "    return train_X,labels"
   ]
  },
  {
   "cell_type": "code",
   "execution_count": 18,
   "metadata": {},
   "outputs": [],
   "source": [
    "test_X,testlabels = testsentenceToPadSequence(testSentences,testSentence_tags)"
   ]
  },
  {
   "cell_type": "code",
   "execution_count": 19,
   "metadata": {},
   "outputs": [
    {
     "data": {
      "text/plain": [
       "(19999, 70)"
      ]
     },
     "execution_count": 19,
     "metadata": {},
     "output_type": "execute_result"
    }
   ],
   "source": [
    "labels.shape"
   ]
  },
  {
   "cell_type": "code",
   "execution_count": 20,
   "metadata": {},
   "outputs": [
    {
     "data": {
      "text/plain": [
       "(5000, 70)"
      ]
     },
     "execution_count": 20,
     "metadata": {},
     "output_type": "execute_result"
    }
   ],
   "source": [
    "test_X.shape"
   ]
  },
  {
   "cell_type": "code",
   "execution_count": 30,
   "metadata": {},
   "outputs": [],
   "source": [
    "def createModel():\n",
    "    model = Sequential()\n",
    "    model.add(InputLayer(input_shape=(maxLen, )))\n",
    "    model.add(Embedding(len(wordCoding), 128))\n",
    "    model.add(Bidirectional(LSTM(256, return_sequences=True,dropout=0.1, recurrent_dropout=0.1)))\n",
    "    model.add(Dense(128, activation='relu'))\n",
    "    model.add(Dropout(0.5))\n",
    "    model.add(Dense(42, activation='softmax'))\n",
    "    model.compile(loss='categorical_crossentropy',optimizer=Adam(0.002),metrics=[keras_metrics.precision(), keras_metrics.recall(),'accuracy'])\n",
    "    print(model.summary())\n",
    "    return model"
   ]
  },
  {
   "cell_type": "code",
   "execution_count": 22,
   "metadata": {},
   "outputs": [],
   "source": [
    "ctLabels = to_categorical(labels, num_classes=42)"
   ]
  },
  {
   "cell_type": "code",
   "execution_count": 31,
   "metadata": {},
   "outputs": [
    {
     "name": "stdout",
     "output_type": "stream",
     "text": [
      "_________________________________________________________________\n",
      "Layer (type)                 Output Shape              Param #   \n",
      "=================================================================\n",
      "embedding_4 (Embedding)      (None, 70, 128)           2703488   \n",
      "_________________________________________________________________\n",
      "bidirectional_4 (Bidirection (None, 70, 512)           788480    \n",
      "_________________________________________________________________\n",
      "dense_7 (Dense)              (None, 70, 128)           65664     \n",
      "_________________________________________________________________\n",
      "dropout_4 (Dropout)          (None, 70, 128)           0         \n",
      "_________________________________________________________________\n",
      "dense_8 (Dense)              (None, 70, 42)            5418      \n",
      "=================================================================\n",
      "Total params: 3,563,050\n",
      "Trainable params: 3,563,050\n",
      "Non-trainable params: 0\n",
      "_________________________________________________________________\n",
      "None\n",
      "WARNING:tensorflow:From C:\\Users\\Fatemeh Saligheh\\Anaconda3\\lib\\site-packages\\tensorflow\\python\\ops\\math_ops.py:3066: to_int32 (from tensorflow.python.ops.math_ops) is deprecated and will be removed in a future version.\n",
      "Instructions for updating:\n",
      "Use tf.cast instead.\n",
      "WARNING:tensorflow:From C:\\Users\\Fatemeh Saligheh\\Anaconda3\\lib\\site-packages\\tensorflow\\python\\ops\\math_grad.py:102: div (from tensorflow.python.ops.math_ops) is deprecated and will be removed in a future version.\n",
      "Instructions for updating:\n",
      "Deprecated in favor of operator or tf.math.divide.\n",
      "Train on 15999 samples, validate on 4000 samples\n",
      "Epoch 1/8\n",
      "15999/15999 [==============================] - 168s 11ms/step - loss: 1.4059 - precision: 0.9796 - recall: 0.8322 - acc: 0.6908 - val_loss: 0.8905 - val_precision: 0.9998 - val_recall: 0.9861 - val_acc: 0.7291\n",
      "Epoch 2/8\n",
      "15999/15999 [==============================] - 150s 9ms/step - loss: 0.8619 - precision: 0.9965 - recall: 0.9864 - acc: 0.7418 - val_loss: 0.7777 - val_precision: 0.9981 - val_recall: 0.9908 - val_acc: 0.7917\n",
      "Epoch 3/8\n",
      "15999/15999 [==============================] - 148s 9ms/step - loss: 0.6578 - precision: 0.9979 - recall: 0.9917 - acc: 0.8017 - val_loss: 0.4381 - val_precision: 0.9992 - val_recall: 0.9941 - val_acc: 0.8772\n",
      "Epoch 4/8\n",
      "15999/15999 [==============================] - 145s 9ms/step - loss: 0.3498 - precision: 0.9976 - recall: 0.9943 - acc: 0.8943 - val_loss: 0.2039 - val_precision: 0.9987 - val_recall: 0.9964 - val_acc: 0.9486\n",
      "Epoch 5/8\n",
      "15999/15999 [==============================] - 145s 9ms/step - loss: 0.1778 - precision: 0.9978 - recall: 0.9962 - acc: 0.9521 - val_loss: 0.1146 - val_precision: 0.9989 - val_recall: 0.9976 - val_acc: 0.9716\n",
      "Epoch 6/8\n",
      "15999/15999 [==============================] - 161s 10ms/step - loss: 0.1054 - precision: 0.9984 - recall: 0.9976 - acc: 0.9731 - val_loss: 0.0881 - val_precision: 0.9987 - val_recall: 0.9982 - val_acc: 0.9766\n",
      "Epoch 7/8\n",
      "15999/15999 [==============================] - 149s 9ms/step - loss: 0.0749 - precision: 0.9988 - recall: 0.9982 - acc: 0.9810 - val_loss: 0.0763 - val_precision: 0.9991 - val_recall: 0.9982 - val_acc: 0.9798\n",
      "Epoch 8/8\n",
      "15999/15999 [==============================] - 138s 9ms/step - loss: 0.0586 - precision: 0.9990 - recall: 0.9986 - acc: 0.9848 - val_loss: 0.0705 - val_precision: 0.9991 - val_recall: 0.9984 - val_acc: 0.9814\n"
     ]
    }
   ],
   "source": [
    "model  = createModel()\n",
    "trained_model = model.fit(train_X, ctLabels, batch_size=512, epochs=8, validation_split=0.2)"
   ]
  },
  {
   "cell_type": "code",
   "execution_count": 35,
   "metadata": {},
   "outputs": [
    {
     "name": "stdout",
     "output_type": "stream",
     "text": [
      "5000/5000 [==============================] - 16s 3ms/step\n",
      "loss =  0.16097455946207045 acc =  0.9786485710144043  precision =  0.9926917402027482 recall =  0.9989406259710251\n"
     ]
    }
   ],
   "source": [
    "cttestLabels = to_categorical(testlabels, num_classes=42)\n",
    "loss,precision , recall , acc = model.evaluate(test_X, cttestLabels)\n",
    "print('loss = ',loss,'acc = ',acc,' precision = ',precision , 'recall = ',recall)"
   ]
  },
  {
   "cell_type": "code",
   "execution_count": 36,
   "metadata": {},
   "outputs": [],
   "source": [
    "history=trained_model.history"
   ]
  },
  {
   "cell_type": "code",
   "execution_count": 39,
   "metadata": {},
   "outputs": [
    {
     "data": {
      "text/plain": [
       "<matplotlib.legend.Legend at 0x12d008f1080>"
      ]
     },
     "execution_count": 39,
     "metadata": {},
     "output_type": "execute_result"
    },
    {
     "data": {
      "image/png": "[encoded data removed]",
      "text/plain": [
       "<Figure size 432x288 with 1 Axes>"
      ]
     },
     "metadata": {
      "needs_background": "light"
     },
     "output_type": "display_data"
    }
   ],
   "source": [
    "\n",
    "precision=history['precision']\n",
    "val_precision=history['val_precision']\n",
    "acc = history['acc']\n",
    "val_acc = history['val_acc']\n",
    "recall=history['recall']\n",
    "val_recall=history['val_recall']\n",
    "\n",
    "plt.xlabel('Epochs')\n",
    "plt.ylabel('train acc')\n",
    "plt.plot(acc)\n",
    "\n",
    "plt.xlabel('Epochs')\n",
    "# plt.ylabel('test acc')\n",
    "plt.plot(val_acc)\n",
    "plt.legend(['train acc','val acc'])"
   ]
  },
  {
   "cell_type": "code",
   "execution_count": 40,
   "metadata": {},
   "outputs": [
    {
     "data": {
      "text/plain": [
       "<matplotlib.legend.Legend at 0x12d00901b70>"
      ]
     },
     "execution_count": 40,
     "metadata": {},
     "output_type": "execute_result"
    },
    {
     "data": {
      "image/png": "[encoded data removed]",
      "text/plain": [
       "<Figure size 432x288 with 1 Axes>"
      ]
     },
     "metadata": {
      "needs_background": "light"
     },
     "output_type": "display_data"
    }
   ],
   "source": [
    "plt.xlabel('Epochs')\n",
    "plt.ylabel('train precision')\n",
    "plt.plot(precision)\n",
    "\n",
    "plt.xlabel('Epochs')\n",
    "# plt.ylabel('test acc')\n",
    "plt.plot(val_precision)\n",
    "plt.legend(['train precision','val precision'])"
   ]
  },
  {
   "cell_type": "code",
   "execution_count": 41,
   "metadata": {},
   "outputs": [
    {
     "data": {
      "text/plain": [
       "<matplotlib.legend.Legend at 0x12d0134b2e8>"
      ]
     },
     "execution_count": 41,
     "metadata": {},
     "output_type": "execute_result"
    },
    {
     "data": {
      "image/png": "[encoded data removed]",
      "text/plain": [
       "<Figure size 432x288 with 1 Axes>"
      ]
     },
     "metadata": {
      "needs_background": "light"
     },
     "output_type": "display_data"
    }
   ],
   "source": [
    "plt.xlabel('Epochs')\n",
    "plt.ylabel('train recall')\n",
    "plt.plot(recall)\n",
    "\n",
    "plt.xlabel('Epochs')\n",
    "# plt.ylabel('test acc')\n",
    "plt.plot(val_recall)\n",
    "plt.legend(['train recall','val recall'])"
   ]
  },
  {
   "cell_type": "code",
   "execution_count": 44,
   "metadata": {},
   "outputs": [],
   "source": [
    "pred = model.predict_classes(test_X)"
   ]
  },
  {
   "cell_type": "code",
   "execution_count": 80,
   "metadata": {},
   "outputs": [],
   "source": [
    "predict = []\n",
    "w = list(words)\n",
    "for i in range(len(testSentences)):\n",
    "    for j in range(len(testSentences[i])):\n",
    "        if(j<70):\n",
    "            key_list = list(tagCoding.keys()) \n",
    "            predict.append(key_list[pred[i][j]])\n",
    "        else:\n",
    "            predict.append('-unk-')"
   ]
  },
  {
   "cell_type": "code",
   "execution_count": 82,
   "metadata": {},
   "outputs": [],
   "source": [
    "dftest['result'] = predict"
   ]
  },
  {
   "cell_type": "code",
   "execution_count": 83,
   "metadata": {},
   "outputs": [],
   "source": [
    "writer = pd.ExcelWriter('outputRNN.xlsx')\n",
    "# write dataframe to excel\n",
    "dftest.to_excel(writer)\n",
    "# save the excel\n",
    "writer.save()"
   ]
  },
  {
   "cell_type": "code",
   "execution_count": null,
   "metadata": {},
   "outputs": [],
   "source": []
  }
 ],
 "metadata": {
  "kernelspec": {
   "display_name": "Python 3",
   "language": "python",
   "name": "python3"
  },
  "language_info": {
   "codemirror_mode": {
    "name": "ipython",
    "version": 3
   },
   "file_extension": ".py",
   "mimetype": "text/x-python",
   "name": "python",
   "nbconvert_exporter": "python",
   "pygments_lexer": "ipython3",
   "version": "3.7.1"
  }
 },
 "nbformat": 4,
 "nbformat_minor": 2
}
