{
 "cells": [
  {
   "cell_type": "code",
   "execution_count": 1,
   "metadata": {
    "colab": {
     "base_uri": "https://localhost:8080/",
     "height": 68
    },
    "colab_type": "code",
    "id": "7rDb_sKsycce",
    "outputId": "54ce26ae-c087-4f94-fdfd-281a8a7aaa2c"
   },
   "outputs": [],
   "source": [
    "# !pip install pytorch-nlp\n",
    "import torch\n",
    "from torchnlp.encoders.text import WhitespaceEncoder\n",
    "from torchnlp.word_to_vector import GloVe"
   ]
  },
  {
   "cell_type": "code",
   "execution_count": 2,
   "metadata": {
    "colab": {},
    "colab_type": "code",
    "id": "1S7-gEtMycck"
   },
   "outputs": [
    {
     "name": "stderr",
     "output_type": "stream",
     "text": [
      "Using TensorFlow backend.\n"
     ]
    }
   ],
   "source": [
    "from numpy import array\n",
    "from pickle import dump\n",
    "from keras.preprocessing.text import Tokenizer\n",
    "from keras.utils import to_categorical\n",
    "from keras.models import Sequential\n",
    "from keras.layers import Dense\n",
    "from keras.layers import LSTM\n",
    "from keras.layers import Embedding\n",
    "from keras.layers import Flatten\n",
    "from keras import optimizers\n",
    "from keras.preprocessing.sequence import pad_sequences\n",
    "from keras.preprocessing.text import one_hot\n",
    "from numpy import zeros"
   ]
  },
  {
   "cell_type": "code",
   "execution_count": 139,
   "metadata": {
    "colab": {
     "base_uri": "https://localhost:8080/",
     "height": 34
    },
    "colab_type": "code",
    "id": "29_Xz8Ryyccr",
    "outputId": "c43ad93d-c0ce-4578-a4cb-e72984ac8605"
   },
   "outputs": [],
   "source": [
    "# link = 'https://drive.google.com/open?id=1zDA2HPNkEwGgI0Jhwx4NFGDXN2ORilb8'\n",
    "# fluff, id = link.split('=')\n",
    "# print (id)\n",
    "# downloaded = drive.CreateFile({'id':id}) \n",
    "# downloaded.GetContentFile('train.txt')  \n",
    "# open the file as read only\n",
    "file = open('train.txt', 'r', encoding=\"utf8\")\n",
    "# read all text\n",
    "doc = file.read()\n",
    "# close the file\n",
    "file.close()"
   ]
  },
  {
   "cell_type": "code",
   "execution_count": 140,
   "metadata": {
    "colab": {},
    "colab_type": "code",
    "id": "ie4gBtGzyccu"
   },
   "outputs": [],
   "source": [
    "import string\n",
    "# replace '--' with a space ' '\n",
    "doc = doc.replace('--', ' ')\n",
    "# split into tokens by white space\n",
    "tokens = doc.split()\n",
    "# remove punctuation from each token\n",
    "table = str.maketrans('', '', string.punctuation)\n",
    "tokens = [w.translate(table) for w in tokens]\n",
    "# remove remaining tokens that are not alphabetic\n",
    "tokens = [word for word in tokens if word.isalpha()]\n",
    "# make lower case\n",
    "tokens = [word.lower() for word in tokens]"
   ]
  },
  {
   "cell_type": "code",
   "execution_count": 141,
   "metadata": {
    "colab": {},
    "colab_type": "code",
    "id": "aDanAAUnF66v"
   },
   "outputs": [],
   "source": [
    "word_counter = {}\n",
    "tokens = tokens[:int(8*len(tokens)/10)]\n",
    "for word in tokens:\n",
    "    if word in word_counter:\n",
    "        word_counter[word] += 1\n",
    "    else:\n",
    "        word_counter[word] = 1\n",
    "\n",
    "popular_words = sorted(word_counter, key = word_counter.get, reverse = True)\n",
    "\n",
    "vocab = popular_words[:1500]\n",
    "vocab.append('unk')\n"
   ]
  },
  {
   "cell_type": "code",
   "execution_count": 142,
   "metadata": {
    "colab": {
     "base_uri": "https://localhost:8080/",
     "height": 34
    },
    "colab_type": "code",
    "id": "vmEMEudeyccy",
    "outputId": "4f038384-79bf-460c-e9a2-c2b1e194e385"
   },
   "outputs": [
    {
     "name": "stdout",
     "output_type": "stream",
     "text": [
      "Total Sequences: 655661\n"
     ]
    }
   ],
   "source": [
    "length = 2 + 1 # 4 word for input and 1 word for output\n",
    "sequences = list()\n",
    "labels = []\n",
    "for i in range(length, int(len(tokens))):\n",
    "    # select sequence of tokens\n",
    "    seq = [] \n",
    "#     if tokens[i-5] in vocab :\n",
    "#         seq.append(tokens[i-5])\n",
    "#     else :\n",
    "#         seq.append('unk')\n",
    "#     if tokens[i-4] in vocab :\n",
    "#         seq.append(tokens[i-4])\n",
    "#     else :\n",
    "#         seq.append('unk')\n",
    "    if tokens[i-3] in vocab :\n",
    "        seq.append(tokens[i-3])\n",
    "    else :\n",
    "        seq.append('unk')\n",
    "    if tokens[i-2] in vocab :\n",
    "        seq.append(tokens[i-2])\n",
    "    else :\n",
    "        seq.append('unk')\n",
    "#     seq=tokens[i-5:i-1]\n",
    "    # convert into a line\n",
    "    line = ' '.join(seq)\n",
    "    # store\n",
    "    sequences.append(line)\n",
    "    if tokens[i-1] in vocab :\n",
    "        labels.append(tokens[i-1])\n",
    "    else :\n",
    "        labels.append('unk')\n",
    "print('Total Sequences: %d' % len(sequences))"
   ]
  },
  {
   "cell_type": "code",
   "execution_count": 143,
   "metadata": {
    "colab": {},
    "colab_type": "code",
    "id": "xN_rLtSoycc2"
   },
   "outputs": [],
   "source": [
    "tokenizer = Tokenizer()\n",
    "tokenizer.fit_on_texts(sequences)\n",
    "ensequences = tokenizer.texts_to_sequences(sequences)\n",
    "tokenizer2 = Tokenizer()\n",
    "tokenizer2.fit_on_texts(labels)\n",
    "enlabels = tokenizer.texts_to_sequences(labels)"
   ]
  },
  {
   "cell_type": "code",
   "execution_count": 144,
   "metadata": {
    "colab": {},
    "colab_type": "code",
    "id": "Z7Oz0qy8ycc6"
   },
   "outputs": [],
   "source": [
    "padsequences = pad_sequences(ensequences, maxlen=2, padding='post')"
   ]
  },
  {
   "cell_type": "code",
   "execution_count": 145,
   "metadata": {
    "colab": {},
    "colab_type": "code",
    "id": "SCntbZVLycc-"
   },
   "outputs": [
    {
     "data": {
      "text/plain": [
       "1502"
      ]
     },
     "execution_count": 145,
     "metadata": {},
     "output_type": "execute_result"
    }
   ],
   "source": [
    "vocab_size = len(vocab) + 1\n",
    "vocab_size"
   ]
  },
  {
   "cell_type": "code",
   "execution_count": 146,
   "metadata": {
    "colab": {},
    "colab_type": "code",
    "id": "8Cx4gC89ycdD"
   },
   "outputs": [],
   "source": [
    "catlabel = to_categorical(enlabels, num_classes=vocab_size)\n",
    "padcatlabels = pad_sequences(catlabel, padding='post')"
   ]
  },
  {
   "cell_type": "code",
   "execution_count": 147,
   "metadata": {},
   "outputs": [
    {
     "data": {
      "text/plain": [
       "(655661, 2)"
      ]
     },
     "execution_count": 147,
     "metadata": {},
     "output_type": "execute_result"
    }
   ],
   "source": [
    "padsequences.shape"
   ]
  },
  {
   "cell_type": "code",
   "execution_count": 17,
   "metadata": {
    "colab": {},
    "colab_type": "code",
    "id": "MUqNVG5pycdZ"
   },
   "outputs": [],
   "source": [
    "pretrained_embedding = GloVe(name='6B', dim=50)"
   ]
  },
  {
   "cell_type": "code",
   "execution_count": 18,
   "metadata": {
    "colab": {},
    "colab_type": "code",
    "id": "cE62h925ycdc"
   },
   "outputs": [],
   "source": [
    "embedding_weights = zeros((vocab_size, 50))\n",
    "for word, i in tokenizer.word_index.items():\n",
    "    embedding_weights[i] = pretrained_embedding[word]"
   ]
  },
  {
   "cell_type": "code",
   "execution_count": 148,
   "metadata": {
    "colab": {
     "base_uri": "https://localhost:8080/",
     "height": 445
    },
    "colab_type": "code",
    "id": "1lVuXRsNycdi",
    "outputId": "94cea1ee-8ef6-48cc-c4ac-9e320f87c6e5"
   },
   "outputs": [
    {
     "name": "stdout",
     "output_type": "stream",
     "text": [
      "_________________________________________________________________\n",
      "Layer (type)                 Output Shape              Param #   \n",
      "=================================================================\n",
      "embedding_14 (Embedding)     (None, 2, 50)             75100     \n",
      "_________________________________________________________________\n",
      "dense_27 (Dense)             (None, 2, 35)             1785      \n",
      "_________________________________________________________________\n",
      "dropout_14 (Dropout)         (None, 2, 35)             0         \n",
      "_________________________________________________________________\n",
      "flatten_14 (Flatten)         (None, 70)                0         \n",
      "_________________________________________________________________\n",
      "dense_28 (Dense)             (None, 1502)              106642    \n",
      "=================================================================\n",
      "Total params: 183,527\n",
      "Trainable params: 183,527\n",
      "Non-trainable params: 0\n",
      "_________________________________________________________________\n",
      "None\n"
     ]
    }
   ],
   "source": [
    "from keras import layers\n",
    "model = Sequential()\n",
    "#using GloVe part 1\n",
    "model.add(Embedding(vocab_size, 50 , weights=[embedding_weights], input_length=2))\n",
    "#without GloVe part 2\n",
    "# model.add(Embedding(vocab_size, 50, input_length=3))\n",
    "model.add(Dense(35, activation='tanh'))\n",
    "model.add(layers.Dropout(0.5))\n",
    "model.add(Flatten())\n",
    "model.add(Dense(vocab_size, activation='softmax'))\n",
    "# compile the model\n",
    "sgd = optimizers.SGD(lr=0.02,nesterov=True)\n",
    "model.compile(optimizer=sgd, loss='binary_crossentropy', metrics=['accuracy'])\n",
    "# summarize the model\n",
    "print(model.summary())"
   ]
  },
  {
   "cell_type": "code",
   "execution_count": 149,
   "metadata": {
    "colab": {},
    "colab_type": "code",
    "id": "ItAhjHLvyceI"
   },
   "outputs": [],
   "source": [
    "file = open('test.txt', 'r', encoding=\"utf8\")\n",
    "# read all text\n",
    "doc = file.read()\n",
    "# close the file\n",
    "file.close()"
   ]
  },
  {
   "cell_type": "code",
   "execution_count": 150,
   "metadata": {},
   "outputs": [],
   "source": [
    "import string\n",
    "# replace '--' with a space ' '\n",
    "doc = doc.replace('--', ' ')\n",
    "# split into tokens by white space\n",
    "tokens = doc.split()\n",
    "# remove punctuation from each token\n",
    "table = str.maketrans('', '', string.punctuation)\n",
    "tokens = [w.translate(table) for w in tokens]\n",
    "# remove remaining tokens that are not alphabetic\n",
    "tokens = [word for word in tokens if word.isalpha()]\n",
    "# make lower case\n",
    "tokens = [word.lower() for word in tokens]"
   ]
  },
  {
   "cell_type": "code",
   "execution_count": 152,
   "metadata": {},
   "outputs": [
    {
     "name": "stdout",
     "output_type": "stream",
     "text": [
      "Total Sequences: 19591\n"
     ]
    }
   ],
   "source": [
    "length = 2 + 1 # 4 word for input and 1 word for output\n",
    "testsequences = list()\n",
    "testlabels = []\n",
    "for i in range(length, int(len(tokens))):\n",
    "    # select sequence of tokens\n",
    "    seq = [] \n",
    "#     if tokens[i-5] in vocab :\n",
    "#         seq.append(tokens[i-5])\n",
    "#     else :\n",
    "#         seq.append('unk')\n",
    "#     if tokens[i-4] in vocab :\n",
    "#         seq.append(tokens[i-4])\n",
    "#     else :\n",
    "#         seq.append('unk')\n",
    "    if tokens[i-3] in vocab :\n",
    "        seq.append(tokens[i-3])\n",
    "    else :\n",
    "        seq.append('unk')\n",
    "    if tokens[i-2] in vocab :\n",
    "        seq.append(tokens[i-2])\n",
    "    else :\n",
    "        seq.append('unk')\n",
    "    # convert into a line\n",
    "    line = ' '.join(seq)\n",
    "    # store\n",
    "    testsequences.append(line)\n",
    "    if tokens[i-1] in vocab :\n",
    "        testlabels.append(tokens[i-1])\n",
    "    else :\n",
    "        testlabels.append('unk')\n",
    "print('Total Sequences: %d' % len(testsequences))"
   ]
  },
  {
   "cell_type": "code",
   "execution_count": 153,
   "metadata": {},
   "outputs": [],
   "source": [
    "tokenizer = Tokenizer()\n",
    "tokenizer.fit_on_texts(testsequences)\n",
    "ensequences = tokenizer.texts_to_sequences(testsequences)\n",
    "tokenizer2 = Tokenizer()\n",
    "tokenizer2.fit_on_texts(testlabels)\n",
    "enlabels = tokenizer.texts_to_sequences(testlabels)"
   ]
  },
  {
   "cell_type": "code",
   "execution_count": 154,
   "metadata": {},
   "outputs": [],
   "source": [
    "padtestsequences = pad_sequences(ensequences, maxlen=2, padding='post')\n",
    "cattestlabel = to_categorical(enlabels, num_classes=vocab_size)\n",
    "padcattestlabels = pad_sequences(cattestlabel, padding='post')"
   ]
  },
  {
   "cell_type": "code",
   "execution_count": 155,
   "metadata": {},
   "outputs": [
    {
     "data": {
      "text/plain": [
       "(19591, 1502)"
      ]
     },
     "execution_count": 155,
     "metadata": {},
     "output_type": "execute_result"
    }
   ],
   "source": [
    "padcattestlabels.shape"
   ]
  },
  {
   "cell_type": "code",
   "execution_count": 156,
   "metadata": {},
   "outputs": [
    {
     "data": {
      "text/plain": [
       "(19591, 2)"
      ]
     },
     "execution_count": 156,
     "metadata": {},
     "output_type": "execute_result"
    }
   ],
   "source": [
    "padtestsequences.shape"
   ]
  },
  {
   "cell_type": "code",
   "execution_count": 157,
   "metadata": {
    "colab": {},
    "colab_type": "code",
    "id": "3ueL9_k1ycdn",
    "outputId": "fc72786d-73d0-4c97-b4fb-73b163f2cf16"
   },
   "outputs": [
    {
     "name": "stdout",
     "output_type": "stream",
     "text": [
      "Train on 655661 samples, validate on 19591 samples\n",
      "Epoch 1/10\n",
      "655661/655661 [==============================] - ETA: 1:03:11 - loss: 0.0055 - acc: 0.99 - ETA: 42:01 - loss: 0.0055 - acc: 0.9993 - ETA: 28:18 - loss: 0.0055 - acc: 0.99 - ETA: 22:52 - loss: 0.0055 - acc: 0.99 - ETA: 18:25 - loss: 0.0055 - acc: 0.99 - ETA: 15:27 - loss: 0.0055 - acc: 0.99 - ETA: 13:23 - loss: 0.0055 - acc: 0.99 - ETA: 11:49 - loss: 0.0055 - acc: 0.99 - ETA: 10:36 - loss: 0.0055 - acc: 0.99 - ETA: 9:35 - loss: 0.0055 - acc: 0.9993 - ETA: 8:45 - loss: 0.0055 - acc: 0.999 - ETA: 8:03 - loss: 0.0055 - acc: 0.999 - ETA: 7:28 - loss: 0.0055 - acc: 0.999 - ETA: 6:58 - loss: 0.0055 - acc: 0.999 - ETA: 6:31 - loss: 0.0055 - acc: 0.999 - ETA: 6:08 - loss: 0.0055 - acc: 0.999 - ETA: 5:47 - loss: 0.0055 - acc: 0.999 - ETA: 5:29 - loss: 0.0055 - acc: 0.999 - ETA: 5:13 - loss: 0.0055 - acc: 0.999 - ETA: 4:58 - loss: 0.0055 - acc: 0.999 - ETA: 4:44 - loss: 0.0055 - acc: 0.999 - ETA: 4:31 - loss: 0.0055 - acc: 0.999 - ETA: 4:20 - loss: 0.0055 - acc: 0.999 - ETA: 4:09 - loss: 0.0055 - acc: 0.999 - ETA: 3:59 - loss: 0.0055 - acc: 0.999 - ETA: 3:50 - loss: 0.0055 - acc: 0.999 - ETA: 3:41 - loss: 0.0055 - acc: 0.999 - ETA: 3:33 - loss: 0.0055 - acc: 0.999 - ETA: 3:26 - loss: 0.0055 - acc: 0.999 - ETA: 3:19 - loss: 0.0055 - acc: 0.999 - ETA: 3:12 - loss: 0.0055 - acc: 0.999 - ETA: 3:06 - loss: 0.0055 - acc: 0.999 - ETA: 3:00 - loss: 0.0055 - acc: 0.999 - ETA: 2:54 - loss: 0.0055 - acc: 0.999 - ETA: 2:49 - loss: 0.0055 - acc: 0.999 - ETA: 2:43 - loss: 0.0055 - acc: 0.999 - ETA: 2:38 - loss: 0.0055 - acc: 0.999 - ETA: 2:34 - loss: 0.0055 - acc: 0.999 - ETA: 2:29 - loss: 0.0055 - acc: 0.999 - ETA: 2:26 - loss: 0.0055 - acc: 0.999 - ETA: 2:22 - loss: 0.0055 - acc: 0.999 - ETA: 2:18 - loss: 0.0055 - acc: 0.999 - ETA: 2:14 - loss: 0.0055 - acc: 0.999 - ETA: 2:10 - loss: 0.0055 - acc: 0.999 - ETA: 2:06 - loss: 0.0055 - acc: 0.999 - ETA: 2:03 - loss: 0.0055 - acc: 0.999 - ETA: 1:59 - loss: 0.0055 - acc: 0.999 - ETA: 1:56 - loss: 0.0055 - acc: 0.999 - ETA: 1:53 - loss: 0.0055 - acc: 0.999 - ETA: 1:50 - loss: 0.0055 - acc: 0.999 - ETA: 1:47 - loss: 0.0055 - acc: 0.999 - ETA: 1:44 - loss: 0.0055 - acc: 0.999 - ETA: 1:41 - loss: 0.0055 - acc: 0.999 - ETA: 1:38 - loss: 0.0055 - acc: 0.999 - ETA: 1:36 - loss: 0.0055 - acc: 0.999 - ETA: 1:33 - loss: 0.0055 - acc: 0.999 - ETA: 1:31 - loss: 0.0055 - acc: 0.999 - ETA: 1:28 - loss: 0.0055 - acc: 0.999 - ETA: 1:26 - loss: 0.0055 - acc: 0.999 - ETA: 1:24 - loss: 0.0055 - acc: 0.999 - ETA: 1:21 - loss: 0.0055 - acc: 0.999 - ETA: 1:20 - loss: 0.0055 - acc: 0.999 - ETA: 1:17 - loss: 0.0055 - acc: 0.999 - ETA: 1:15 - loss: 0.0055 - acc: 0.999 - ETA: 1:13 - loss: 0.0055 - acc: 0.999 - ETA: 1:10 - loss: 0.0055 - acc: 0.999 - ETA: 1:08 - loss: 0.0055 - acc: 0.999 - ETA: 1:06 - loss: 0.0055 - acc: 0.999 - ETA: 1:04 - loss: 0.0055 - acc: 0.999 - ETA: 1:02 - loss: 0.0055 - acc: 0.999 - ETA: 1:00 - loss: 0.0055 - acc: 0.999 - ETA: 58s - loss: 0.0055 - acc: 0.999 - ETA: 56s - loss: 0.0055 - acc: 0.99 - ETA: 54s - loss: 0.0055 - acc: 0.99 - ETA: 52s - loss: 0.0055 - acc: 0.99 - ETA: 51s - loss: 0.0055 - acc: 0.99 - ETA: 49s - loss: 0.0055 - acc: 0.99 - ETA: 47s - loss: 0.0055 - acc: 0.99 - ETA: 45s - loss: 0.0055 - acc: 0.99 - ETA: 44s - loss: 0.0055 - acc: 0.99 - ETA: 42s - loss: 0.0055 - acc: 0.99 - ETA: 40s - loss: 0.0055 - acc: 0.99 - ETA: 39s - loss: 0.0055 - acc: 0.99 - ETA: 37s - loss: 0.0055 - acc: 0.99 - ETA: 35s - loss: 0.0055 - acc: 0.99 - ETA: 34s - loss: 0.0055 - acc: 0.99 - ETA: 32s - loss: 0.0055 - acc: 0.99 - ETA: 30s - loss: 0.0055 - acc: 0.99 - ETA: 29s - loss: 0.0055 - acc: 0.99 - ETA: 27s - loss: 0.0055 - acc: 0.99 - ETA: 26s - loss: 0.0055 - acc: 0.99 - ETA: 24s - loss: 0.0055 - acc: 0.99 - ETA: 23s - loss: 0.0055 - acc: 0.99 - ETA: 21s - loss: 0.0055 - acc: 0.99 - ETA: 20s - loss: 0.0055 - acc: 0.99 - ETA: 18s - loss: 0.0055 - acc: 0.99 - ETA: 17s - loss: 0.0055 - acc: 0.99 - ETA: 15s - loss: 0.0055 - acc: 0.99 - ETA: 14s - loss: 0.0055 - acc: 0.99 - ETA: 12s - loss: 0.0055 - acc: 0.99 - ETA: 11s - loss: 0.0055 - acc: 0.99 - ETA: 9s - loss: 0.0055 - acc: 0.9993 - ETA: 8s - loss: 0.0055 - acc: 0.999 - ETA: 7s - loss: 0.0055 - acc: 0.999 - ETA: 5s - loss: 0.0055 - acc: 0.999 - ETA: 4s - loss: 0.0055 - acc: 0.999 - ETA: 3s - loss: 0.0055 - acc: 0.999 - ETA: 1s - loss: 0.0055 - acc: 0.999 - ETA: 0s - loss: 0.0055 - acc: 0.999 - 156s 238us/step - loss: 0.0055 - acc: 0.9993 - val_loss: 0.0055 - val_acc: 0.9993\n",
      "Epoch 2/10\n"
     ]
    },
    {
     "name": "stdout",
     "output_type": "stream",
     "text": [
      "655661/655661 [==============================] - ETA: 1:44 - loss: 0.0055 - acc: 0.999 - ETA: 1:34 - loss: 0.0055 - acc: 0.999 - ETA: 1:29 - loss: 0.0055 - acc: 0.999 - ETA: 1:25 - loss: 0.0055 - acc: 0.999 - ETA: 1:23 - loss: 0.0055 - acc: 0.999 - ETA: 1:22 - loss: 0.0055 - acc: 0.999 - ETA: 1:20 - loss: 0.0055 - acc: 0.999 - ETA: 1:19 - loss: 0.0055 - acc: 0.999 - ETA: 1:18 - loss: 0.0055 - acc: 0.999 - ETA: 1:17 - loss: 0.0055 - acc: 0.999 - ETA: 1:17 - loss: 0.0055 - acc: 0.999 - ETA: 1:16 - loss: 0.0055 - acc: 0.999 - ETA: 1:15 - loss: 0.0055 - acc: 0.999 - ETA: 1:14 - loss: 0.0055 - acc: 0.999 - ETA: 1:13 - loss: 0.0055 - acc: 0.999 - ETA: 1:12 - loss: 0.0055 - acc: 0.999 - ETA: 1:12 - loss: 0.0055 - acc: 0.999 - ETA: 1:11 - loss: 0.0055 - acc: 0.999 - ETA: 1:10 - loss: 0.0055 - acc: 0.999 - ETA: 1:09 - loss: 0.0055 - acc: 0.999 - ETA: 1:08 - loss: 0.0055 - acc: 0.999 - ETA: 1:08 - loss: 0.0055 - acc: 0.999 - ETA: 1:07 - loss: 0.0055 - acc: 0.999 - ETA: 1:06 - loss: 0.0055 - acc: 0.999 - ETA: 1:05 - loss: 0.0055 - acc: 0.999 - ETA: 1:05 - loss: 0.0055 - acc: 0.999 - ETA: 1:04 - loss: 0.0055 - acc: 0.999 - ETA: 1:03 - loss: 0.0055 - acc: 0.999 - ETA: 1:02 - loss: 0.0055 - acc: 0.999 - ETA: 1:01 - loss: 0.0055 - acc: 0.999 - ETA: 1:00 - loss: 0.0055 - acc: 0.999 - ETA: 1:00 - loss: 0.0055 - acc: 0.999 - ETA: 59s - loss: 0.0055 - acc: 0.999 - ETA: 58s - loss: 0.0055 - acc: 0.99 - ETA: 57s - loss: 0.0055 - acc: 0.99 - ETA: 56s - loss: 0.0055 - acc: 0.99 - ETA: 56s - loss: 0.0055 - acc: 0.99 - ETA: 55s - loss: 0.0055 - acc: 0.99 - ETA: 54s - loss: 0.0055 - acc: 0.99 - ETA: 54s - loss: 0.0055 - acc: 0.99 - ETA: 53s - loss: 0.0055 - acc: 0.99 - ETA: 52s - loss: 0.0055 - acc: 0.99 - ETA: 51s - loss: 0.0055 - acc: 0.99 - ETA: 51s - loss: 0.0055 - acc: 0.99 - ETA: 50s - loss: 0.0055 - acc: 0.99 - ETA: 49s - loss: 0.0055 - acc: 0.99 - ETA: 48s - loss: 0.0055 - acc: 0.99 - ETA: 48s - loss: 0.0055 - acc: 0.99 - ETA: 47s - loss: 0.0055 - acc: 0.99 - ETA: 46s - loss: 0.0055 - acc: 0.99 - ETA: 45s - loss: 0.0055 - acc: 0.99 - ETA: 45s - loss: 0.0055 - acc: 0.99 - ETA: 44s - loss: 0.0055 - acc: 0.99 - ETA: 43s - loss: 0.0055 - acc: 0.99 - ETA: 42s - loss: 0.0055 - acc: 0.99 - ETA: 41s - loss: 0.0055 - acc: 0.99 - ETA: 41s - loss: 0.0055 - acc: 0.99 - ETA: 40s - loss: 0.0055 - acc: 0.99 - ETA: 39s - loss: 0.0055 - acc: 0.99 - ETA: 38s - loss: 0.0055 - acc: 0.99 - ETA: 38s - loss: 0.0055 - acc: 0.99 - ETA: 37s - loss: 0.0055 - acc: 0.99 - ETA: 36s - loss: 0.0055 - acc: 0.99 - ETA: 35s - loss: 0.0055 - acc: 0.99 - ETA: 35s - loss: 0.0055 - acc: 0.99 - ETA: 34s - loss: 0.0055 - acc: 0.99 - ETA: 33s - loss: 0.0055 - acc: 0.99 - ETA: 32s - loss: 0.0055 - acc: 0.99 - ETA: 32s - loss: 0.0055 - acc: 0.99 - ETA: 31s - loss: 0.0055 - acc: 0.99 - ETA: 30s - loss: 0.0055 - acc: 0.99 - ETA: 29s - loss: 0.0055 - acc: 0.99 - ETA: 28s - loss: 0.0055 - acc: 0.99 - ETA: 28s - loss: 0.0055 - acc: 0.99 - ETA: 27s - loss: 0.0055 - acc: 0.99 - ETA: 26s - loss: 0.0055 - acc: 0.99 - ETA: 25s - loss: 0.0055 - acc: 0.99 - ETA: 24s - loss: 0.0055 - acc: 0.99 - ETA: 24s - loss: 0.0055 - acc: 0.99 - ETA: 23s - loss: 0.0055 - acc: 0.99 - ETA: 22s - loss: 0.0055 - acc: 0.99 - ETA: 21s - loss: 0.0055 - acc: 0.99 - ETA: 20s - loss: 0.0055 - acc: 0.99 - ETA: 20s - loss: 0.0055 - acc: 0.99 - ETA: 19s - loss: 0.0055 - acc: 0.99 - ETA: 18s - loss: 0.0055 - acc: 0.99 - ETA: 17s - loss: 0.0055 - acc: 0.99 - ETA: 16s - loss: 0.0055 - acc: 0.99 - ETA: 16s - loss: 0.0055 - acc: 0.99 - ETA: 17s - loss: 0.0055 - acc: 0.99 - ETA: 16s - loss: 0.0055 - acc: 0.99 - ETA: 15s - loss: 0.0055 - acc: 0.99 - ETA: 15s - loss: 0.0055 - acc: 0.99 - ETA: 14s - loss: 0.0055 - acc: 0.99 - ETA: 13s - loss: 0.0055 - acc: 0.99 - ETA: 12s - loss: 0.0055 - acc: 0.99 - ETA: 11s - loss: 0.0055 - acc: 0.99 - ETA: 10s - loss: 0.0055 - acc: 0.99 - ETA: 9s - loss: 0.0055 - acc: 0.9993 - ETA: 9s - loss: 0.0055 - acc: 0.999 - ETA: 8s - loss: 0.0055 - acc: 0.999 - ETA: 7s - loss: 0.0055 - acc: 0.999 - ETA: 6s - loss: 0.0055 - acc: 0.999 - ETA: 5s - loss: 0.0055 - acc: 0.999 - ETA: 4s - loss: 0.0055 - acc: 0.999 - ETA: 3s - loss: 0.0055 - acc: 0.999 - ETA: 2s - loss: 0.0055 - acc: 0.999 - ETA: 1s - loss: 0.0055 - acc: 0.999 - ETA: 0s - loss: 0.0055 - acc: 0.999 - 117s 178us/step - loss: 0.0055 - acc: 0.9993 - val_loss: 0.0055 - val_acc: 0.9993\n",
      "Epoch 3/10\n"
     ]
    },
    {
     "name": "stdout",
     "output_type": "stream",
     "text": [
      "655661/655661 [==============================] - ETA: 2:20 - loss: 0.0055 - acc: 0.999 - ETA: 1:50 - loss: 0.0055 - acc: 0.999 - ETA: 1:39 - loss: 0.0055 - acc: 0.999 - ETA: 1:33 - loss: 0.0055 - acc: 0.999 - ETA: 1:29 - loss: 0.0055 - acc: 0.999 - ETA: 1:27 - loss: 0.0055 - acc: 0.999 - ETA: 1:26 - loss: 0.0055 - acc: 0.999 - ETA: 1:24 - loss: 0.0055 - acc: 0.999 - ETA: 1:23 - loss: 0.0055 - acc: 0.999 - ETA: 1:21 - loss: 0.0055 - acc: 0.999 - ETA: 1:20 - loss: 0.0055 - acc: 0.999 - ETA: 1:19 - loss: 0.0055 - acc: 0.999 - ETA: 1:17 - loss: 0.0055 - acc: 0.999 - ETA: 1:16 - loss: 0.0055 - acc: 0.999 - ETA: 1:15 - loss: 0.0055 - acc: 0.999 - ETA: 1:14 - loss: 0.0055 - acc: 0.999 - ETA: 1:13 - loss: 0.0055 - acc: 0.999 - ETA: 1:12 - loss: 0.0055 - acc: 0.999 - ETA: 1:11 - loss: 0.0055 - acc: 0.999 - ETA: 1:10 - loss: 0.0055 - acc: 0.999 - ETA: 1:09 - loss: 0.0055 - acc: 0.999 - ETA: 1:08 - loss: 0.0055 - acc: 0.999 - ETA: 1:08 - loss: 0.0055 - acc: 0.999 - ETA: 1:07 - loss: 0.0055 - acc: 0.999 - ETA: 1:06 - loss: 0.0055 - acc: 0.999 - ETA: 1:05 - loss: 0.0055 - acc: 0.999 - ETA: 1:04 - loss: 0.0055 - acc: 0.999 - ETA: 1:03 - loss: 0.0055 - acc: 0.999 - ETA: 1:02 - loss: 0.0055 - acc: 0.999 - ETA: 1:02 - loss: 0.0055 - acc: 0.999 - ETA: 1:01 - loss: 0.0055 - acc: 0.999 - ETA: 1:00 - loss: 0.0055 - acc: 0.999 - ETA: 59s - loss: 0.0055 - acc: 0.999 - ETA: 58s - loss: 0.0055 - acc: 0.99 - ETA: 57s - loss: 0.0055 - acc: 0.99 - ETA: 57s - loss: 0.0055 - acc: 0.99 - ETA: 56s - loss: 0.0055 - acc: 0.99 - ETA: 55s - loss: 0.0055 - acc: 0.99 - ETA: 54s - loss: 0.0055 - acc: 0.99 - ETA: 53s - loss: 0.0055 - acc: 0.99 - ETA: 53s - loss: 0.0055 - acc: 0.99 - ETA: 52s - loss: 0.0055 - acc: 0.99 - ETA: 51s - loss: 0.0055 - acc: 0.99 - ETA: 50s - loss: 0.0055 - acc: 0.99 - ETA: 49s - loss: 0.0055 - acc: 0.99 - ETA: 49s - loss: 0.0055 - acc: 0.99 - ETA: 48s - loss: 0.0055 - acc: 0.99 - ETA: 47s - loss: 0.0055 - acc: 0.99 - ETA: 46s - loss: 0.0055 - acc: 0.99 - ETA: 46s - loss: 0.0055 - acc: 0.99 - ETA: 45s - loss: 0.0055 - acc: 0.99 - ETA: 44s - loss: 0.0055 - acc: 0.99 - ETA: 43s - loss: 0.0055 - acc: 0.99 - ETA: 42s - loss: 0.0055 - acc: 0.99 - ETA: 42s - loss: 0.0055 - acc: 0.99 - ETA: 41s - loss: 0.0055 - acc: 0.99 - ETA: 40s - loss: 0.0055 - acc: 0.99 - ETA: 39s - loss: 0.0055 - acc: 0.99 - ETA: 39s - loss: 0.0055 - acc: 0.99 - ETA: 38s - loss: 0.0055 - acc: 0.99 - ETA: 38s - loss: 0.0055 - acc: 0.99 - ETA: 37s - loss: 0.0055 - acc: 0.99 - ETA: 36s - loss: 0.0055 - acc: 0.99 - ETA: 36s - loss: 0.0055 - acc: 0.99 - ETA: 35s - loss: 0.0055 - acc: 0.99 - ETA: 34s - loss: 0.0055 - acc: 0.99 - ETA: 33s - loss: 0.0055 - acc: 0.99 - ETA: 32s - loss: 0.0055 - acc: 0.99 - ETA: 32s - loss: 0.0055 - acc: 0.99 - ETA: 31s - loss: 0.0055 - acc: 0.99 - ETA: 30s - loss: 0.0055 - acc: 0.99 - ETA: 29s - loss: 0.0055 - acc: 0.99 - ETA: 28s - loss: 0.0055 - acc: 0.99 - ETA: 28s - loss: 0.0055 - acc: 0.99 - ETA: 27s - loss: 0.0055 - acc: 0.99 - ETA: 26s - loss: 0.0055 - acc: 0.99 - ETA: 25s - loss: 0.0055 - acc: 0.99 - ETA: 24s - loss: 0.0055 - acc: 0.99 - ETA: 24s - loss: 0.0055 - acc: 0.99 - ETA: 23s - loss: 0.0055 - acc: 0.99 - ETA: 22s - loss: 0.0055 - acc: 0.99 - ETA: 21s - loss: 0.0055 - acc: 0.99 - ETA: 20s - loss: 0.0055 - acc: 0.99 - ETA: 20s - loss: 0.0055 - acc: 0.99 - ETA: 19s - loss: 0.0055 - acc: 0.99 - ETA: 18s - loss: 0.0055 - acc: 0.99 - ETA: 17s - loss: 0.0055 - acc: 0.99 - ETA: 16s - loss: 0.0055 - acc: 0.99 - ETA: 16s - loss: 0.0055 - acc: 0.99 - ETA: 15s - loss: 0.0055 - acc: 0.99 - ETA: 14s - loss: 0.0055 - acc: 0.99 - ETA: 13s - loss: 0.0055 - acc: 0.99 - ETA: 12s - loss: 0.0055 - acc: 0.99 - ETA: 12s - loss: 0.0055 - acc: 0.99 - ETA: 11s - loss: 0.0055 - acc: 0.99 - ETA: 10s - loss: 0.0055 - acc: 0.99 - ETA: 9s - loss: 0.0055 - acc: 0.9993 - ETA: 8s - loss: 0.0055 - acc: 0.999 - ETA: 8s - loss: 0.0055 - acc: 0.999 - ETA: 7s - loss: 0.0055 - acc: 0.999 - ETA: 6s - loss: 0.0055 - acc: 0.999 - ETA: 5s - loss: 0.0055 - acc: 0.999 - ETA: 4s - loss: 0.0055 - acc: 0.999 - ETA: 4s - loss: 0.0055 - acc: 0.999 - ETA: 3s - loss: 0.0055 - acc: 0.999 - ETA: 2s - loss: 0.0055 - acc: 0.999 - ETA: 1s - loss: 0.0055 - acc: 0.999 - ETA: 1s - loss: 0.0055 - acc: 0.999 - ETA: 0s - loss: 0.0055 - acc: 0.999 - 88s 135us/step - loss: 0.0055 - acc: 0.9993 - val_loss: 0.0055 - val_acc: 0.9993\n",
      "Epoch 4/10\n"
     ]
    },
    {
     "name": "stdout",
     "output_type": "stream",
     "text": [
      "655661/655661 [==============================] - ETA: 1:27 - loss: 0.0055 - acc: 0.999 - ETA: 1:22 - loss: 0.0055 - acc: 0.999 - ETA: 1:21 - loss: 0.0055 - acc: 0.999 - ETA: 1:20 - loss: 0.0055 - acc: 0.999 - ETA: 1:19 - loss: 0.0055 - acc: 0.999 - ETA: 1:18 - loss: 0.0055 - acc: 0.999 - ETA: 1:17 - loss: 0.0055 - acc: 0.999 - ETA: 1:16 - loss: 0.0055 - acc: 0.999 - ETA: 1:16 - loss: 0.0055 - acc: 0.999 - ETA: 1:15 - loss: 0.0055 - acc: 0.999 - ETA: 1:14 - loss: 0.0055 - acc: 0.999 - ETA: 1:13 - loss: 0.0055 - acc: 0.999 - ETA: 1:12 - loss: 0.0055 - acc: 0.999 - ETA: 1:11 - loss: 0.0055 - acc: 0.999 - ETA: 1:11 - loss: 0.0055 - acc: 0.999 - ETA: 1:10 - loss: 0.0055 - acc: 0.999 - ETA: 1:09 - loss: 0.0055 - acc: 0.999 - ETA: 1:08 - loss: 0.0055 - acc: 0.999 - ETA: 1:08 - loss: 0.0055 - acc: 0.999 - ETA: 1:07 - loss: 0.0055 - acc: 0.999 - ETA: 1:06 - loss: 0.0055 - acc: 0.999 - ETA: 1:05 - loss: 0.0055 - acc: 0.999 - ETA: 1:04 - loss: 0.0055 - acc: 0.999 - ETA: 1:04 - loss: 0.0055 - acc: 0.999 - ETA: 1:03 - loss: 0.0055 - acc: 0.999 - ETA: 1:02 - loss: 0.0055 - acc: 0.999 - ETA: 1:02 - loss: 0.0055 - acc: 0.999 - ETA: 1:01 - loss: 0.0055 - acc: 0.999 - ETA: 1:00 - loss: 0.0055 - acc: 0.999 - ETA: 59s - loss: 0.0055 - acc: 0.999 - ETA: 59s - loss: 0.0055 - acc: 0.99 - ETA: 58s - loss: 0.0055 - acc: 0.99 - ETA: 57s - loss: 0.0055 - acc: 0.99 - ETA: 57s - loss: 0.0055 - acc: 0.99 - ETA: 56s - loss: 0.0055 - acc: 0.99 - ETA: 56s - loss: 0.0055 - acc: 0.99 - ETA: 55s - loss: 0.0055 - acc: 0.99 - ETA: 54s - loss: 0.0055 - acc: 0.99 - ETA: 54s - loss: 0.0055 - acc: 0.99 - ETA: 53s - loss: 0.0055 - acc: 0.99 - ETA: 52s - loss: 0.0055 - acc: 0.99 - ETA: 52s - loss: 0.0055 - acc: 0.99 - ETA: 51s - loss: 0.0055 - acc: 0.99 - ETA: 50s - loss: 0.0055 - acc: 0.99 - ETA: 50s - loss: 0.0055 - acc: 0.99 - ETA: 49s - loss: 0.0055 - acc: 0.99 - ETA: 48s - loss: 0.0055 - acc: 0.99 - ETA: 47s - loss: 0.0055 - acc: 0.99 - ETA: 47s - loss: 0.0055 - acc: 0.99 - ETA: 46s - loss: 0.0055 - acc: 0.99 - ETA: 45s - loss: 0.0055 - acc: 0.99 - ETA: 44s - loss: 0.0055 - acc: 0.99 - ETA: 43s - loss: 0.0055 - acc: 0.99 - ETA: 43s - loss: 0.0055 - acc: 0.99 - ETA: 42s - loss: 0.0055 - acc: 0.99 - ETA: 41s - loss: 0.0055 - acc: 0.99 - ETA: 40s - loss: 0.0055 - acc: 0.99 - ETA: 40s - loss: 0.0055 - acc: 0.99 - ETA: 39s - loss: 0.0055 - acc: 0.99 - ETA: 38s - loss: 0.0055 - acc: 0.99 - ETA: 37s - loss: 0.0055 - acc: 0.99 - ETA: 36s - loss: 0.0055 - acc: 0.99 - ETA: 36s - loss: 0.0055 - acc: 0.99 - ETA: 35s - loss: 0.0055 - acc: 0.99 - ETA: 34s - loss: 0.0055 - acc: 0.99 - ETA: 33s - loss: 0.0055 - acc: 0.99 - ETA: 32s - loss: 0.0055 - acc: 0.99 - ETA: 32s - loss: 0.0055 - acc: 0.99 - ETA: 31s - loss: 0.0055 - acc: 0.99 - ETA: 30s - loss: 0.0055 - acc: 0.99 - ETA: 29s - loss: 0.0055 - acc: 0.99 - ETA: 28s - loss: 0.0055 - acc: 0.99 - ETA: 28s - loss: 0.0055 - acc: 0.99 - ETA: 27s - loss: 0.0055 - acc: 0.99 - ETA: 26s - loss: 0.0055 - acc: 0.99 - ETA: 25s - loss: 0.0055 - acc: 0.99 - ETA: 25s - loss: 0.0055 - acc: 0.99 - ETA: 24s - loss: 0.0055 - acc: 0.99 - ETA: 23s - loss: 0.0055 - acc: 0.99 - ETA: 22s - loss: 0.0055 - acc: 0.99 - ETA: 21s - loss: 0.0055 - acc: 0.99 - ETA: 21s - loss: 0.0055 - acc: 0.99 - ETA: 20s - loss: 0.0055 - acc: 0.99 - ETA: 19s - loss: 0.0055 - acc: 0.99 - ETA: 18s - loss: 0.0055 - acc: 0.99 - ETA: 17s - loss: 0.0055 - acc: 0.99 - ETA: 17s - loss: 0.0055 - acc: 0.99 - ETA: 16s - loss: 0.0055 - acc: 0.99 - ETA: 15s - loss: 0.0055 - acc: 0.99 - ETA: 14s - loss: 0.0055 - acc: 0.99 - ETA: 14s - loss: 0.0055 - acc: 0.99 - ETA: 13s - loss: 0.0055 - acc: 0.99 - ETA: 12s - loss: 0.0055 - acc: 0.99 - ETA: 11s - loss: 0.0055 - acc: 0.99 - ETA: 10s - loss: 0.0055 - acc: 0.99 - ETA: 10s - loss: 0.0055 - acc: 0.99 - ETA: 9s - loss: 0.0055 - acc: 0.9993 - ETA: 8s - loss: 0.0055 - acc: 0.999 - ETA: 7s - loss: 0.0055 - acc: 0.999 - ETA: 7s - loss: 0.0055 - acc: 0.999 - ETA: 6s - loss: 0.0055 - acc: 0.999 - ETA: 5s - loss: 0.0055 - acc: 0.999 - ETA: 4s - loss: 0.0055 - acc: 0.999 - ETA: 4s - loss: 0.0055 - acc: 0.999 - ETA: 3s - loss: 0.0055 - acc: 0.999 - ETA: 2s - loss: 0.0055 - acc: 0.999 - ETA: 1s - loss: 0.0055 - acc: 0.999 - ETA: 0s - loss: 0.0055 - acc: 0.999 - ETA: 0s - loss: 0.0055 - acc: 0.999 - 85s 130us/step - loss: 0.0055 - acc: 0.9993 - val_loss: 0.0055 - val_acc: 0.9993\n",
      "Epoch 5/10\n"
     ]
    },
    {
     "name": "stdout",
     "output_type": "stream",
     "text": [
      "655661/655661 [==============================] - ETA: 1:34 - loss: 0.0055 - acc: 0.999 - ETA: 1:26 - loss: 0.0055 - acc: 0.999 - ETA: 1:23 - loss: 0.0055 - acc: 0.999 - ETA: 1:21 - loss: 0.0055 - acc: 0.999 - ETA: 1:19 - loss: 0.0055 - acc: 0.999 - ETA: 1:18 - loss: 0.0055 - acc: 0.999 - ETA: 1:17 - loss: 0.0055 - acc: 0.999 - ETA: 1:16 - loss: 0.0055 - acc: 0.999 - ETA: 1:15 - loss: 0.0055 - acc: 0.999 - ETA: 1:14 - loss: 0.0055 - acc: 0.999 - ETA: 1:13 - loss: 0.0055 - acc: 0.999 - ETA: 1:13 - loss: 0.0055 - acc: 0.999 - ETA: 1:12 - loss: 0.0055 - acc: 0.999 - ETA: 1:11 - loss: 0.0055 - acc: 0.999 - ETA: 1:10 - loss: 0.0055 - acc: 0.999 - ETA: 1:09 - loss: 0.0055 - acc: 0.999 - ETA: 1:09 - loss: 0.0055 - acc: 0.999 - ETA: 1:08 - loss: 0.0055 - acc: 0.999 - ETA: 1:07 - loss: 0.0055 - acc: 0.999 - ETA: 1:06 - loss: 0.0055 - acc: 0.999 - ETA: 1:05 - loss: 0.0055 - acc: 0.999 - ETA: 1:05 - loss: 0.0055 - acc: 0.999 - ETA: 1:04 - loss: 0.0055 - acc: 0.999 - ETA: 1:03 - loss: 0.0055 - acc: 0.999 - ETA: 1:02 - loss: 0.0055 - acc: 0.999 - ETA: 1:02 - loss: 0.0055 - acc: 0.999 - ETA: 1:01 - loss: 0.0055 - acc: 0.999 - ETA: 1:00 - loss: 0.0055 - acc: 0.999 - ETA: 59s - loss: 0.0055 - acc: 0.999 - ETA: 58s - loss: 0.0055 - acc: 0.99 - ETA: 58s - loss: 0.0055 - acc: 0.99 - ETA: 57s - loss: 0.0055 - acc: 0.99 - ETA: 56s - loss: 0.0055 - acc: 0.99 - ETA: 55s - loss: 0.0055 - acc: 0.99 - ETA: 55s - loss: 0.0055 - acc: 0.99 - ETA: 54s - loss: 0.0055 - acc: 0.99 - ETA: 53s - loss: 0.0055 - acc: 0.99 - ETA: 52s - loss: 0.0055 - acc: 0.99 - ETA: 52s - loss: 0.0055 - acc: 0.99 - ETA: 51s - loss: 0.0055 - acc: 0.99 - ETA: 50s - loss: 0.0055 - acc: 0.99 - ETA: 49s - loss: 0.0055 - acc: 0.99 - ETA: 49s - loss: 0.0055 - acc: 0.99 - ETA: 48s - loss: 0.0055 - acc: 0.99 - ETA: 47s - loss: 0.0055 - acc: 0.99 - ETA: 46s - loss: 0.0055 - acc: 0.99 - ETA: 46s - loss: 0.0055 - acc: 0.99 - ETA: 45s - loss: 0.0055 - acc: 0.99 - ETA: 44s - loss: 0.0055 - acc: 0.99 - ETA: 43s - loss: 0.0055 - acc: 0.99 - ETA: 43s - loss: 0.0055 - acc: 0.99 - ETA: 42s - loss: 0.0055 - acc: 0.99 - ETA: 41s - loss: 0.0055 - acc: 0.99 - ETA: 41s - loss: 0.0055 - acc: 0.99 - ETA: 40s - loss: 0.0055 - acc: 0.99 - ETA: 39s - loss: 0.0055 - acc: 0.99 - ETA: 38s - loss: 0.0055 - acc: 0.99 - ETA: 38s - loss: 0.0055 - acc: 0.99 - ETA: 37s - loss: 0.0055 - acc: 0.99 - ETA: 36s - loss: 0.0055 - acc: 0.99 - ETA: 35s - loss: 0.0055 - acc: 0.99 - ETA: 35s - loss: 0.0055 - acc: 0.99 - ETA: 34s - loss: 0.0055 - acc: 0.99 - ETA: 33s - loss: 0.0055 - acc: 0.99 - ETA: 32s - loss: 0.0055 - acc: 0.99 - ETA: 32s - loss: 0.0055 - acc: 0.99 - ETA: 31s - loss: 0.0055 - acc: 0.99 - ETA: 30s - loss: 0.0055 - acc: 0.99 - ETA: 29s - loss: 0.0055 - acc: 0.99 - ETA: 29s - loss: 0.0055 - acc: 0.99 - ETA: 28s - loss: 0.0055 - acc: 0.99 - ETA: 27s - loss: 0.0055 - acc: 0.99 - ETA: 26s - loss: 0.0055 - acc: 0.99 - ETA: 26s - loss: 0.0055 - acc: 0.99 - ETA: 25s - loss: 0.0055 - acc: 0.99 - ETA: 24s - loss: 0.0055 - acc: 0.99 - ETA: 23s - loss: 0.0055 - acc: 0.99 - ETA: 23s - loss: 0.0055 - acc: 0.99 - ETA: 22s - loss: 0.0055 - acc: 0.99 - ETA: 21s - loss: 0.0055 - acc: 0.99 - ETA: 21s - loss: 0.0055 - acc: 0.99 - ETA: 20s - loss: 0.0055 - acc: 0.99 - ETA: 19s - loss: 0.0055 - acc: 0.99 - ETA: 18s - loss: 0.0055 - acc: 0.99 - ETA: 18s - loss: 0.0055 - acc: 0.99 - ETA: 17s - loss: 0.0055 - acc: 0.99 - ETA: 16s - loss: 0.0055 - acc: 0.99 - ETA: 16s - loss: 0.0055 - acc: 0.99 - ETA: 15s - loss: 0.0055 - acc: 0.99 - ETA: 14s - loss: 0.0055 - acc: 0.99 - ETA: 13s - loss: 0.0055 - acc: 0.99 - ETA: 13s - loss: 0.0055 - acc: 0.99 - ETA: 12s - loss: 0.0055 - acc: 0.99 - ETA: 11s - loss: 0.0055 - acc: 0.99 - ETA: 10s - loss: 0.0055 - acc: 0.99 - ETA: 10s - loss: 0.0055 - acc: 0.99 - ETA: 9s - loss: 0.0055 - acc: 0.9993 - ETA: 8s - loss: 0.0055 - acc: 0.999 - ETA: 7s - loss: 0.0055 - acc: 0.999 - ETA: 7s - loss: 0.0055 - acc: 0.999 - ETA: 6s - loss: 0.0055 - acc: 0.999 - ETA: 5s - loss: 0.0055 - acc: 0.999 - ETA: 4s - loss: 0.0055 - acc: 0.999 - ETA: 3s - loss: 0.0055 - acc: 0.999 - ETA: 3s - loss: 0.0055 - acc: 0.999 - ETA: 2s - loss: 0.0055 - acc: 0.999 - ETA: 1s - loss: 0.0055 - acc: 0.999 - ETA: 0s - loss: 0.0055 - acc: 0.999 - ETA: 0s - loss: 0.0055 - acc: 0.999 - 84s 128us/step - loss: 0.0055 - acc: 0.9993 - val_loss: 0.0055 - val_acc: 0.9993\n",
      "Epoch 6/10\n"
     ]
    },
    {
     "name": "stdout",
     "output_type": "stream",
     "text": [
      "655661/655661 [==============================] - ETA: 1:19 - loss: 0.0055 - acc: 0.999 - ETA: 1:19 - loss: 0.0055 - acc: 0.999 - ETA: 1:18 - loss: 0.0055 - acc: 0.999 - ETA: 1:17 - loss: 0.0055 - acc: 0.999 - ETA: 1:16 - loss: 0.0055 - acc: 0.999 - ETA: 1:16 - loss: 0.0055 - acc: 0.999 - ETA: 1:15 - loss: 0.0055 - acc: 0.999 - ETA: 1:14 - loss: 0.0055 - acc: 0.999 - ETA: 1:14 - loss: 0.0055 - acc: 0.999 - ETA: 1:13 - loss: 0.0055 - acc: 0.999 - ETA: 1:12 - loss: 0.0055 - acc: 0.999 - ETA: 1:11 - loss: 0.0055 - acc: 0.999 - ETA: 1:11 - loss: 0.0055 - acc: 0.999 - ETA: 1:10 - loss: 0.0055 - acc: 0.999 - ETA: 1:09 - loss: 0.0055 - acc: 0.999 - ETA: 1:09 - loss: 0.0055 - acc: 0.999 - ETA: 1:08 - loss: 0.0055 - acc: 0.999 - ETA: 1:07 - loss: 0.0055 - acc: 0.999 - ETA: 1:06 - loss: 0.0055 - acc: 0.999 - ETA: 1:06 - loss: 0.0055 - acc: 0.999 - ETA: 1:05 - loss: 0.0055 - acc: 0.999 - ETA: 1:04 - loss: 0.0055 - acc: 0.999 - ETA: 1:03 - loss: 0.0055 - acc: 0.999 - ETA: 1:03 - loss: 0.0055 - acc: 0.999 - ETA: 1:02 - loss: 0.0055 - acc: 0.999 - ETA: 1:01 - loss: 0.0055 - acc: 0.999 - ETA: 1:01 - loss: 0.0055 - acc: 0.999 - ETA: 1:00 - loss: 0.0055 - acc: 0.999 - ETA: 59s - loss: 0.0055 - acc: 0.999 - ETA: 58s - loss: 0.0055 - acc: 0.99 - ETA: 58s - loss: 0.0055 - acc: 0.99 - ETA: 57s - loss: 0.0055 - acc: 0.99 - ETA: 56s - loss: 0.0055 - acc: 0.99 - ETA: 55s - loss: 0.0055 - acc: 0.99 - ETA: 55s - loss: 0.0055 - acc: 0.99 - ETA: 54s - loss: 0.0055 - acc: 0.99 - ETA: 53s - loss: 0.0055 - acc: 0.99 - ETA: 52s - loss: 0.0055 - acc: 0.99 - ETA: 52s - loss: 0.0055 - acc: 0.99 - ETA: 51s - loss: 0.0055 - acc: 0.99 - ETA: 50s - loss: 0.0055 - acc: 0.99 - ETA: 49s - loss: 0.0055 - acc: 0.99 - ETA: 49s - loss: 0.0055 - acc: 0.99 - ETA: 48s - loss: 0.0055 - acc: 0.99 - ETA: 47s - loss: 0.0055 - acc: 0.99 - ETA: 47s - loss: 0.0055 - acc: 0.99 - ETA: 46s - loss: 0.0055 - acc: 0.99 - ETA: 45s - loss: 0.0055 - acc: 0.99 - ETA: 44s - loss: 0.0055 - acc: 0.99 - ETA: 44s - loss: 0.0055 - acc: 0.99 - ETA: 43s - loss: 0.0055 - acc: 0.99 - ETA: 42s - loss: 0.0055 - acc: 0.99 - ETA: 41s - loss: 0.0055 - acc: 0.99 - ETA: 41s - loss: 0.0055 - acc: 0.99 - ETA: 40s - loss: 0.0055 - acc: 0.99 - ETA: 39s - loss: 0.0055 - acc: 0.99 - ETA: 39s - loss: 0.0055 - acc: 0.99 - ETA: 38s - loss: 0.0055 - acc: 0.99 - ETA: 37s - loss: 0.0055 - acc: 0.99 - ETA: 36s - loss: 0.0055 - acc: 0.99 - ETA: 36s - loss: 0.0055 - acc: 0.99 - ETA: 35s - loss: 0.0055 - acc: 0.99 - ETA: 34s - loss: 0.0055 - acc: 0.99 - ETA: 33s - loss: 0.0055 - acc: 0.99 - ETA: 33s - loss: 0.0055 - acc: 0.99 - ETA: 32s - loss: 0.0055 - acc: 0.99 - ETA: 31s - loss: 0.0055 - acc: 0.99 - ETA: 30s - loss: 0.0055 - acc: 0.99 - ETA: 30s - loss: 0.0055 - acc: 0.99 - ETA: 29s - loss: 0.0055 - acc: 0.99 - ETA: 28s - loss: 0.0055 - acc: 0.99 - ETA: 28s - loss: 0.0055 - acc: 0.99 - ETA: 27s - loss: 0.0055 - acc: 0.99 - ETA: 26s - loss: 0.0055 - acc: 0.99 - ETA: 25s - loss: 0.0055 - acc: 0.99 - ETA: 25s - loss: 0.0055 - acc: 0.99 - ETA: 24s - loss: 0.0055 - acc: 0.99 - ETA: 23s - loss: 0.0055 - acc: 0.99 - ETA: 22s - loss: 0.0055 - acc: 0.99 - ETA: 22s - loss: 0.0055 - acc: 0.99 - ETA: 21s - loss: 0.0055 - acc: 0.99 - ETA: 20s - loss: 0.0055 - acc: 0.99 - ETA: 19s - loss: 0.0055 - acc: 0.99 - ETA: 19s - loss: 0.0055 - acc: 0.99 - ETA: 18s - loss: 0.0055 - acc: 0.99 - ETA: 17s - loss: 0.0055 - acc: 0.99 - ETA: 16s - loss: 0.0055 - acc: 0.99 - ETA: 16s - loss: 0.0055 - acc: 0.99 - ETA: 15s - loss: 0.0055 - acc: 0.99 - ETA: 14s - loss: 0.0055 - acc: 0.99 - ETA: 13s - loss: 0.0055 - acc: 0.99 - ETA: 13s - loss: 0.0055 - acc: 0.99 - ETA: 12s - loss: 0.0055 - acc: 0.99 - ETA: 11s - loss: 0.0055 - acc: 0.99 - ETA: 10s - loss: 0.0055 - acc: 0.99 - ETA: 10s - loss: 0.0055 - acc: 0.99 - ETA: 9s - loss: 0.0055 - acc: 0.9993 - ETA: 8s - loss: 0.0055 - acc: 0.999 - ETA: 7s - loss: 0.0055 - acc: 0.999 - ETA: 7s - loss: 0.0055 - acc: 0.999 - ETA: 6s - loss: 0.0055 - acc: 0.999 - ETA: 5s - loss: 0.0055 - acc: 0.999 - ETA: 4s - loss: 0.0055 - acc: 0.999 - ETA: 4s - loss: 0.0055 - acc: 0.999 - ETA: 3s - loss: 0.0055 - acc: 0.999 - ETA: 2s - loss: 0.0055 - acc: 0.999 - ETA: 1s - loss: 0.0055 - acc: 0.999 - ETA: 0s - loss: 0.0055 - acc: 0.999 - ETA: 0s - loss: 0.0055 - acc: 0.999 - 84s 128us/step - loss: 0.0055 - acc: 0.9993 - val_loss: 0.0055 - val_acc: 0.9993\n",
      "Epoch 7/10\n"
     ]
    },
    {
     "name": "stdout",
     "output_type": "stream",
     "text": [
      "655661/655661 [==============================] - ETA: 1:27 - loss: 0.0055 - acc: 0.999 - ETA: 1:22 - loss: 0.0055 - acc: 0.999 - ETA: 1:20 - loss: 0.0055 - acc: 0.999 - ETA: 1:19 - loss: 0.0055 - acc: 0.999 - ETA: 1:17 - loss: 0.0055 - acc: 0.999 - ETA: 1:17 - loss: 0.0055 - acc: 0.999 - ETA: 1:16 - loss: 0.0055 - acc: 0.999 - ETA: 1:15 - loss: 0.0055 - acc: 0.999 - ETA: 1:14 - loss: 0.0055 - acc: 0.999 - ETA: 1:13 - loss: 0.0055 - acc: 0.999 - ETA: 1:13 - loss: 0.0055 - acc: 0.999 - ETA: 1:12 - loss: 0.0055 - acc: 0.999 - ETA: 1:11 - loss: 0.0055 - acc: 0.999 - ETA: 1:10 - loss: 0.0055 - acc: 0.999 - ETA: 1:09 - loss: 0.0055 - acc: 0.999 - ETA: 1:09 - loss: 0.0055 - acc: 0.999 - ETA: 1:08 - loss: 0.0055 - acc: 0.999 - ETA: 1:07 - loss: 0.0055 - acc: 0.999 - ETA: 1:07 - loss: 0.0055 - acc: 0.999 - ETA: 1:06 - loss: 0.0055 - acc: 0.999 - ETA: 1:05 - loss: 0.0055 - acc: 0.999 - ETA: 1:04 - loss: 0.0055 - acc: 0.999 - ETA: 1:03 - loss: 0.0055 - acc: 0.999 - ETA: 1:03 - loss: 0.0055 - acc: 0.999 - ETA: 1:02 - loss: 0.0055 - acc: 0.999 - ETA: 1:01 - loss: 0.0055 - acc: 0.999 - ETA: 1:00 - loss: 0.0055 - acc: 0.999 - ETA: 1:00 - loss: 0.0055 - acc: 0.999 - ETA: 59s - loss: 0.0055 - acc: 0.999 - ETA: 58s - loss: 0.0055 - acc: 0.99 - ETA: 57s - loss: 0.0055 - acc: 0.99 - ETA: 57s - loss: 0.0055 - acc: 0.99 - ETA: 56s - loss: 0.0055 - acc: 0.99 - ETA: 55s - loss: 0.0055 - acc: 0.99 - ETA: 55s - loss: 0.0055 - acc: 0.99 - ETA: 54s - loss: 0.0055 - acc: 0.99 - ETA: 53s - loss: 0.0055 - acc: 0.99 - ETA: 52s - loss: 0.0055 - acc: 0.99 - ETA: 52s - loss: 0.0055 - acc: 0.99 - ETA: 51s - loss: 0.0055 - acc: 0.99 - ETA: 50s - loss: 0.0055 - acc: 0.99 - ETA: 49s - loss: 0.0055 - acc: 0.99 - ETA: 49s - loss: 0.0055 - acc: 0.99 - ETA: 48s - loss: 0.0055 - acc: 0.99 - ETA: 47s - loss: 0.0055 - acc: 0.99 - ETA: 46s - loss: 0.0055 - acc: 0.99 - ETA: 46s - loss: 0.0055 - acc: 0.99 - ETA: 45s - loss: 0.0055 - acc: 0.99 - ETA: 44s - loss: 0.0055 - acc: 0.99 - ETA: 43s - loss: 0.0055 - acc: 0.99 - ETA: 43s - loss: 0.0055 - acc: 0.99 - ETA: 42s - loss: 0.0055 - acc: 0.99 - ETA: 41s - loss: 0.0055 - acc: 0.99 - ETA: 40s - loss: 0.0055 - acc: 0.99 - ETA: 40s - loss: 0.0055 - acc: 0.99 - ETA: 39s - loss: 0.0055 - acc: 0.99 - ETA: 38s - loss: 0.0055 - acc: 0.99 - ETA: 37s - loss: 0.0055 - acc: 0.99 - ETA: 37s - loss: 0.0055 - acc: 0.99 - ETA: 36s - loss: 0.0055 - acc: 0.99 - ETA: 35s - loss: 0.0055 - acc: 0.99 - ETA: 34s - loss: 0.0055 - acc: 0.99 - ETA: 34s - loss: 0.0055 - acc: 0.99 - ETA: 33s - loss: 0.0055 - acc: 0.99 - ETA: 32s - loss: 0.0055 - acc: 0.99 - ETA: 32s - loss: 0.0055 - acc: 0.99 - ETA: 31s - loss: 0.0055 - acc: 0.99 - ETA: 30s - loss: 0.0055 - acc: 0.99 - ETA: 29s - loss: 0.0055 - acc: 0.99 - ETA: 29s - loss: 0.0055 - acc: 0.99 - ETA: 28s - loss: 0.0055 - acc: 0.99 - ETA: 27s - loss: 0.0055 - acc: 0.99 - ETA: 26s - loss: 0.0055 - acc: 0.99 - ETA: 26s - loss: 0.0055 - acc: 0.99 - ETA: 25s - loss: 0.0055 - acc: 0.99 - ETA: 24s - loss: 0.0055 - acc: 0.99 - ETA: 23s - loss: 0.0055 - acc: 0.99 - ETA: 23s - loss: 0.0055 - acc: 0.99 - ETA: 22s - loss: 0.0055 - acc: 0.99 - ETA: 21s - loss: 0.0055 - acc: 0.99 - ETA: 20s - loss: 0.0055 - acc: 0.99 - ETA: 20s - loss: 0.0055 - acc: 0.99 - ETA: 19s - loss: 0.0055 - acc: 0.99 - ETA: 18s - loss: 0.0055 - acc: 0.99 - ETA: 17s - loss: 0.0055 - acc: 0.99 - ETA: 17s - loss: 0.0055 - acc: 0.99 - ETA: 16s - loss: 0.0055 - acc: 0.99 - ETA: 15s - loss: 0.0055 - acc: 0.99 - ETA: 15s - loss: 0.0055 - acc: 0.99 - ETA: 14s - loss: 0.0055 - acc: 0.99 - ETA: 13s - loss: 0.0055 - acc: 0.99 - ETA: 12s - loss: 0.0055 - acc: 0.99 - ETA: 12s - loss: 0.0055 - acc: 0.99 - ETA: 11s - loss: 0.0055 - acc: 0.99 - ETA: 10s - loss: 0.0055 - acc: 0.99 - ETA: 9s - loss: 0.0055 - acc: 0.9993 - ETA: 9s - loss: 0.0055 - acc: 0.999 - ETA: 8s - loss: 0.0055 - acc: 0.999 - ETA: 7s - loss: 0.0055 - acc: 0.999 - ETA: 6s - loss: 0.0055 - acc: 0.999 - ETA: 6s - loss: 0.0055 - acc: 0.999 - ETA: 5s - loss: 0.0055 - acc: 0.999 - ETA: 4s - loss: 0.0055 - acc: 0.999 - ETA: 3s - loss: 0.0055 - acc: 0.999 - ETA: 3s - loss: 0.0055 - acc: 0.999 - ETA: 2s - loss: 0.0055 - acc: 0.999 - ETA: 1s - loss: 0.0055 - acc: 0.999 - ETA: 0s - loss: 0.0055 - acc: 0.999 - ETA: 0s - loss: 0.0055 - acc: 0.999 - 82s 126us/step - loss: 0.0055 - acc: 0.9993 - val_loss: 0.0055 - val_acc: 0.9993\n",
      "Epoch 8/10\n"
     ]
    },
    {
     "name": "stdout",
     "output_type": "stream",
     "text": [
      "655661/655661 [==============================] - ETA: 1:21 - loss: 0.0055 - acc: 0.999 - ETA: 1:21 - loss: 0.0055 - acc: 0.999 - ETA: 1:20 - loss: 0.0055 - acc: 0.999 - ETA: 1:18 - loss: 0.0055 - acc: 0.999 - ETA: 1:17 - loss: 0.0055 - acc: 0.999 - ETA: 1:16 - loss: 0.0055 - acc: 0.999 - ETA: 1:16 - loss: 0.0055 - acc: 0.999 - ETA: 1:14 - loss: 0.0055 - acc: 0.999 - ETA: 1:14 - loss: 0.0055 - acc: 0.999 - ETA: 1:13 - loss: 0.0055 - acc: 0.999 - ETA: 1:12 - loss: 0.0055 - acc: 0.999 - ETA: 1:11 - loss: 0.0055 - acc: 0.999 - ETA: 1:10 - loss: 0.0055 - acc: 0.999 - ETA: 1:09 - loss: 0.0055 - acc: 0.999 - ETA: 1:09 - loss: 0.0055 - acc: 0.999 - ETA: 1:08 - loss: 0.0055 - acc: 0.999 - ETA: 1:07 - loss: 0.0055 - acc: 0.999 - ETA: 1:07 - loss: 0.0055 - acc: 0.999 - ETA: 1:06 - loss: 0.0055 - acc: 0.999 - ETA: 1:05 - loss: 0.0055 - acc: 0.999 - ETA: 1:04 - loss: 0.0055 - acc: 0.999 - ETA: 1:04 - loss: 0.0055 - acc: 0.999 - ETA: 1:03 - loss: 0.0055 - acc: 0.999 - ETA: 1:02 - loss: 0.0055 - acc: 0.999 - ETA: 1:01 - loss: 0.0055 - acc: 0.999 - ETA: 1:01 - loss: 0.0055 - acc: 0.999 - ETA: 1:00 - loss: 0.0055 - acc: 0.999 - ETA: 59s - loss: 0.0055 - acc: 0.999 - ETA: 58s - loss: 0.0055 - acc: 0.99 - ETA: 58s - loss: 0.0055 - acc: 0.99 - ETA: 57s - loss: 0.0055 - acc: 0.99 - ETA: 56s - loss: 0.0055 - acc: 0.99 - ETA: 55s - loss: 0.0055 - acc: 0.99 - ETA: 55s - loss: 0.0055 - acc: 0.99 - ETA: 54s - loss: 0.0055 - acc: 0.99 - ETA: 53s - loss: 0.0055 - acc: 0.99 - ETA: 53s - loss: 0.0055 - acc: 0.99 - ETA: 52s - loss: 0.0055 - acc: 0.99 - ETA: 51s - loss: 0.0055 - acc: 0.99 - ETA: 50s - loss: 0.0055 - acc: 0.99 - ETA: 50s - loss: 0.0055 - acc: 0.99 - ETA: 49s - loss: 0.0055 - acc: 0.99 - ETA: 48s - loss: 0.0055 - acc: 0.99 - ETA: 47s - loss: 0.0055 - acc: 0.99 - ETA: 47s - loss: 0.0055 - acc: 0.99 - ETA: 46s - loss: 0.0055 - acc: 0.99 - ETA: 45s - loss: 0.0055 - acc: 0.99 - ETA: 44s - loss: 0.0055 - acc: 0.99 - ETA: 44s - loss: 0.0055 - acc: 0.99 - ETA: 43s - loss: 0.0055 - acc: 0.99 - ETA: 42s - loss: 0.0055 - acc: 0.99 - ETA: 42s - loss: 0.0055 - acc: 0.99 - ETA: 41s - loss: 0.0055 - acc: 0.99 - ETA: 40s - loss: 0.0055 - acc: 0.99 - ETA: 39s - loss: 0.0055 - acc: 0.99 - ETA: 39s - loss: 0.0055 - acc: 0.99 - ETA: 38s - loss: 0.0055 - acc: 0.99 - ETA: 37s - loss: 0.0055 - acc: 0.99 - ETA: 36s - loss: 0.0055 - acc: 0.99 - ETA: 36s - loss: 0.0055 - acc: 0.99 - ETA: 35s - loss: 0.0055 - acc: 0.99 - ETA: 34s - loss: 0.0055 - acc: 0.99 - ETA: 33s - loss: 0.0055 - acc: 0.99 - ETA: 33s - loss: 0.0055 - acc: 0.99 - ETA: 32s - loss: 0.0055 - acc: 0.99 - ETA: 31s - loss: 0.0055 - acc: 0.99 - ETA: 31s - loss: 0.0055 - acc: 0.99 - ETA: 30s - loss: 0.0055 - acc: 0.99 - ETA: 29s - loss: 0.0055 - acc: 0.99 - ETA: 28s - loss: 0.0055 - acc: 0.99 - ETA: 28s - loss: 0.0055 - acc: 0.99 - ETA: 27s - loss: 0.0055 - acc: 0.99 - ETA: 26s - loss: 0.0055 - acc: 0.99 - ETA: 25s - loss: 0.0055 - acc: 0.99 - ETA: 25s - loss: 0.0055 - acc: 0.99 - ETA: 24s - loss: 0.0055 - acc: 0.99 - ETA: 23s - loss: 0.0055 - acc: 0.99 - ETA: 22s - loss: 0.0055 - acc: 0.99 - ETA: 22s - loss: 0.0055 - acc: 0.99 - ETA: 21s - loss: 0.0055 - acc: 0.99 - ETA: 20s - loss: 0.0055 - acc: 0.99 - ETA: 20s - loss: 0.0055 - acc: 0.99 - ETA: 19s - loss: 0.0055 - acc: 0.99 - ETA: 18s - loss: 0.0055 - acc: 0.99 - ETA: 17s - loss: 0.0055 - acc: 0.99 - ETA: 17s - loss: 0.0055 - acc: 0.99 - ETA: 16s - loss: 0.0055 - acc: 0.99 - ETA: 15s - loss: 0.0055 - acc: 0.99 - ETA: 14s - loss: 0.0055 - acc: 0.99 - ETA: 14s - loss: 0.0055 - acc: 0.99 - ETA: 13s - loss: 0.0055 - acc: 0.99 - ETA: 12s - loss: 0.0055 - acc: 0.99 - ETA: 11s - loss: 0.0055 - acc: 0.99 - ETA: 11s - loss: 0.0055 - acc: 0.99 - ETA: 11s - loss: 0.0055 - acc: 0.99 - ETA: 10s - loss: 0.0055 - acc: 0.99 - ETA: 9s - loss: 0.0055 - acc: 0.9993 - ETA: 8s - loss: 0.0055 - acc: 0.999 - ETA: 7s - loss: 0.0055 - acc: 0.999 - ETA: 7s - loss: 0.0055 - acc: 0.999 - ETA: 6s - loss: 0.0055 - acc: 0.999 - ETA: 5s - loss: 0.0055 - acc: 0.999 - ETA: 4s - loss: 0.0055 - acc: 0.999 - ETA: 4s - loss: 0.0055 - acc: 0.999 - ETA: 3s - loss: 0.0055 - acc: 0.999 - ETA: 2s - loss: 0.0055 - acc: 0.999 - ETA: 1s - loss: 0.0055 - acc: 0.999 - ETA: 0s - loss: 0.0055 - acc: 0.999 - ETA: 0s - loss: 0.0055 - acc: 0.999 - 85s 130us/step - loss: 0.0055 - acc: 0.9993 - val_loss: 0.0055 - val_acc: 0.9993\n",
      "Epoch 9/10\n"
     ]
    },
    {
     "name": "stdout",
     "output_type": "stream",
     "text": [
      "655661/655661 [==============================] - ETA: 1:21 - loss: 0.0055 - acc: 0.999 - ETA: 1:18 - loss: 0.0055 - acc: 0.999 - ETA: 1:18 - loss: 0.0055 - acc: 0.999 - ETA: 1:17 - loss: 0.0055 - acc: 0.999 - ETA: 1:16 - loss: 0.0055 - acc: 0.999 - ETA: 1:15 - loss: 0.0055 - acc: 0.999 - ETA: 1:14 - loss: 0.0055 - acc: 0.999 - ETA: 1:14 - loss: 0.0055 - acc: 0.999 - ETA: 1:13 - loss: 0.0055 - acc: 0.999 - ETA: 1:12 - loss: 0.0055 - acc: 0.999 - ETA: 1:12 - loss: 0.0055 - acc: 0.999 - ETA: 1:11 - loss: 0.0055 - acc: 0.999 - ETA: 1:10 - loss: 0.0055 - acc: 0.999 - ETA: 1:09 - loss: 0.0055 - acc: 0.999 - ETA: 1:09 - loss: 0.0055 - acc: 0.999 - ETA: 1:08 - loss: 0.0055 - acc: 0.999 - ETA: 1:07 - loss: 0.0055 - acc: 0.999 - ETA: 1:06 - loss: 0.0055 - acc: 0.999 - ETA: 1:06 - loss: 0.0055 - acc: 0.999 - ETA: 1:05 - loss: 0.0055 - acc: 0.999 - ETA: 1:04 - loss: 0.0055 - acc: 0.999 - ETA: 1:03 - loss: 0.0055 - acc: 0.999 - ETA: 1:03 - loss: 0.0055 - acc: 0.999 - ETA: 1:02 - loss: 0.0055 - acc: 0.999 - ETA: 1:01 - loss: 0.0055 - acc: 0.999 - ETA: 1:00 - loss: 0.0055 - acc: 0.999 - ETA: 1:00 - loss: 0.0055 - acc: 0.999 - ETA: 59s - loss: 0.0055 - acc: 0.999 - ETA: 58s - loss: 0.0055 - acc: 0.99 - ETA: 57s - loss: 0.0055 - acc: 0.99 - ETA: 57s - loss: 0.0055 - acc: 0.99 - ETA: 56s - loss: 0.0055 - acc: 0.99 - ETA: 55s - loss: 0.0055 - acc: 0.99 - ETA: 55s - loss: 0.0055 - acc: 0.99 - ETA: 54s - loss: 0.0055 - acc: 0.99 - ETA: 53s - loss: 0.0055 - acc: 0.99 - ETA: 52s - loss: 0.0055 - acc: 0.99 - ETA: 52s - loss: 0.0055 - acc: 0.99 - ETA: 51s - loss: 0.0055 - acc: 0.99 - ETA: 50s - loss: 0.0055 - acc: 0.99 - ETA: 49s - loss: 0.0055 - acc: 0.99 - ETA: 49s - loss: 0.0055 - acc: 0.99 - ETA: 48s - loss: 0.0055 - acc: 0.99 - ETA: 47s - loss: 0.0055 - acc: 0.99 - ETA: 46s - loss: 0.0055 - acc: 0.99 - ETA: 47s - loss: 0.0055 - acc: 0.99 - ETA: 46s - loss: 0.0055 - acc: 0.99 - ETA: 45s - loss: 0.0055 - acc: 0.99 - ETA: 44s - loss: 0.0055 - acc: 0.99 - ETA: 44s - loss: 0.0055 - acc: 0.99 - ETA: 43s - loss: 0.0055 - acc: 0.99 - ETA: 42s - loss: 0.0055 - acc: 0.99 - ETA: 41s - loss: 0.0055 - acc: 0.99 - ETA: 41s - loss: 0.0055 - acc: 0.99 - ETA: 40s - loss: 0.0055 - acc: 0.99 - ETA: 39s - loss: 0.0055 - acc: 0.99 - ETA: 38s - loss: 0.0055 - acc: 0.99 - ETA: 38s - loss: 0.0055 - acc: 0.99 - ETA: 37s - loss: 0.0055 - acc: 0.99 - ETA: 36s - loss: 0.0055 - acc: 0.99 - ETA: 35s - loss: 0.0055 - acc: 0.99 - ETA: 35s - loss: 0.0055 - acc: 0.99 - ETA: 34s - loss: 0.0055 - acc: 0.99 - ETA: 33s - loss: 0.0055 - acc: 0.99 - ETA: 32s - loss: 0.0055 - acc: 0.99 - ETA: 32s - loss: 0.0055 - acc: 0.99 - ETA: 31s - loss: 0.0055 - acc: 0.99 - ETA: 30s - loss: 0.0055 - acc: 0.99 - ETA: 29s - loss: 0.0055 - acc: 0.99 - ETA: 29s - loss: 0.0055 - acc: 0.99 - ETA: 28s - loss: 0.0055 - acc: 0.99 - ETA: 27s - loss: 0.0055 - acc: 0.99 - ETA: 26s - loss: 0.0055 - acc: 0.99 - ETA: 26s - loss: 0.0055 - acc: 0.99 - ETA: 25s - loss: 0.0055 - acc: 0.99 - ETA: 24s - loss: 0.0055 - acc: 0.99 - ETA: 23s - loss: 0.0055 - acc: 0.99 - ETA: 23s - loss: 0.0055 - acc: 0.99 - ETA: 22s - loss: 0.0055 - acc: 0.99 - ETA: 21s - loss: 0.0055 - acc: 0.99 - ETA: 20s - loss: 0.0055 - acc: 0.99 - ETA: 20s - loss: 0.0055 - acc: 0.99 - ETA: 19s - loss: 0.0055 - acc: 0.99 - ETA: 18s - loss: 0.0055 - acc: 0.99 - ETA: 17s - loss: 0.0055 - acc: 0.99 - ETA: 17s - loss: 0.0055 - acc: 0.99 - ETA: 16s - loss: 0.0055 - acc: 0.99 - ETA: 15s - loss: 0.0055 - acc: 0.99 - ETA: 15s - loss: 0.0055 - acc: 0.99 - ETA: 14s - loss: 0.0055 - acc: 0.99 - ETA: 13s - loss: 0.0055 - acc: 0.99 - ETA: 12s - loss: 0.0055 - acc: 0.99 - ETA: 12s - loss: 0.0055 - acc: 0.99 - ETA: 11s - loss: 0.0055 - acc: 0.99 - ETA: 10s - loss: 0.0055 - acc: 0.99 - ETA: 9s - loss: 0.0055 - acc: 0.9993 - ETA: 9s - loss: 0.0055 - acc: 0.999 - ETA: 8s - loss: 0.0055 - acc: 0.999 - ETA: 7s - loss: 0.0055 - acc: 0.999 - ETA: 6s - loss: 0.0055 - acc: 0.999 - ETA: 6s - loss: 0.0055 - acc: 0.999 - ETA: 5s - loss: 0.0055 - acc: 0.999 - ETA: 4s - loss: 0.0055 - acc: 0.999 - ETA: 3s - loss: 0.0055 - acc: 0.999 - ETA: 3s - loss: 0.0055 - acc: 0.999 - ETA: 2s - loss: 0.0055 - acc: 0.999 - ETA: 1s - loss: 0.0055 - acc: 0.999 - ETA: 0s - loss: 0.0055 - acc: 0.999 - ETA: 0s - loss: 0.0055 - acc: 0.999 - 83s 126us/step - loss: 0.0055 - acc: 0.9993 - val_loss: 0.0055 - val_acc: 0.9993\n",
      "Epoch 10/10\n"
     ]
    },
    {
     "name": "stdout",
     "output_type": "stream",
     "text": [
      "655661/655661 [==============================] - ETA: 1:22 - loss: 0.0055 - acc: 0.999 - ETA: 1:24 - loss: 0.0055 - acc: 0.999 - ETA: 1:24 - loss: 0.0055 - acc: 0.999 - ETA: 1:22 - loss: 0.0055 - acc: 0.999 - ETA: 1:20 - loss: 0.0055 - acc: 0.999 - ETA: 1:18 - loss: 0.0055 - acc: 0.999 - ETA: 1:17 - loss: 0.0055 - acc: 0.999 - ETA: 1:16 - loss: 0.0055 - acc: 0.999 - ETA: 1:15 - loss: 0.0055 - acc: 0.999 - ETA: 1:15 - loss: 0.0055 - acc: 0.999 - ETA: 1:14 - loss: 0.0055 - acc: 0.999 - ETA: 1:13 - loss: 0.0055 - acc: 0.999 - ETA: 1:12 - loss: 0.0055 - acc: 0.999 - ETA: 1:11 - loss: 0.0055 - acc: 0.999 - ETA: 1:10 - loss: 0.0055 - acc: 0.999 - ETA: 1:10 - loss: 0.0055 - acc: 0.999 - ETA: 1:09 - loss: 0.0055 - acc: 0.999 - ETA: 1:08 - loss: 0.0055 - acc: 0.999 - ETA: 1:07 - loss: 0.0055 - acc: 0.999 - ETA: 1:07 - loss: 0.0055 - acc: 0.999 - ETA: 1:06 - loss: 0.0055 - acc: 0.999 - ETA: 1:05 - loss: 0.0055 - acc: 0.999 - ETA: 1:04 - loss: 0.0055 - acc: 0.999 - ETA: 1:03 - loss: 0.0055 - acc: 0.999 - ETA: 1:03 - loss: 0.0055 - acc: 0.999 - ETA: 1:02 - loss: 0.0055 - acc: 0.999 - ETA: 1:01 - loss: 0.0055 - acc: 0.999 - ETA: 1:00 - loss: 0.0055 - acc: 0.999 - ETA: 1:00 - loss: 0.0055 - acc: 0.999 - ETA: 59s - loss: 0.0055 - acc: 0.999 - ETA: 58s - loss: 0.0055 - acc: 0.99 - ETA: 57s - loss: 0.0055 - acc: 0.99 - ETA: 57s - loss: 0.0055 - acc: 0.99 - ETA: 56s - loss: 0.0055 - acc: 0.99 - ETA: 55s - loss: 0.0055 - acc: 0.99 - ETA: 54s - loss: 0.0055 - acc: 0.99 - ETA: 54s - loss: 0.0055 - acc: 0.99 - ETA: 53s - loss: 0.0055 - acc: 0.99 - ETA: 52s - loss: 0.0055 - acc: 0.99 - ETA: 51s - loss: 0.0055 - acc: 0.99 - ETA: 51s - loss: 0.0055 - acc: 0.99 - ETA: 50s - loss: 0.0055 - acc: 0.99 - ETA: 49s - loss: 0.0055 - acc: 0.99 - ETA: 48s - loss: 0.0055 - acc: 0.99 - ETA: 48s - loss: 0.0055 - acc: 0.99 - ETA: 47s - loss: 0.0055 - acc: 0.99 - ETA: 46s - loss: 0.0055 - acc: 0.99 - ETA: 45s - loss: 0.0055 - acc: 0.99 - ETA: 45s - loss: 0.0055 - acc: 0.99 - ETA: 44s - loss: 0.0055 - acc: 0.99 - ETA: 43s - loss: 0.0055 - acc: 0.99 - ETA: 42s - loss: 0.0055 - acc: 0.99 - ETA: 42s - loss: 0.0055 - acc: 0.99 - ETA: 41s - loss: 0.0055 - acc: 0.99 - ETA: 41s - loss: 0.0055 - acc: 0.99 - ETA: 40s - loss: 0.0055 - acc: 0.99 - ETA: 39s - loss: 0.0055 - acc: 0.99 - ETA: 38s - loss: 0.0055 - acc: 0.99 - ETA: 38s - loss: 0.0055 - acc: 0.99 - ETA: 37s - loss: 0.0055 - acc: 0.99 - ETA: 36s - loss: 0.0055 - acc: 0.99 - ETA: 36s - loss: 0.0055 - acc: 0.99 - ETA: 35s - loss: 0.0055 - acc: 0.99 - ETA: 34s - loss: 0.0055 - acc: 0.99 - ETA: 33s - loss: 0.0055 - acc: 0.99 - ETA: 33s - loss: 0.0055 - acc: 0.99 - ETA: 32s - loss: 0.0055 - acc: 0.99 - ETA: 31s - loss: 0.0055 - acc: 0.99 - ETA: 31s - loss: 0.0055 - acc: 0.99 - ETA: 30s - loss: 0.0055 - acc: 0.99 - ETA: 29s - loss: 0.0055 - acc: 0.99 - ETA: 28s - loss: 0.0055 - acc: 0.99 - ETA: 27s - loss: 0.0055 - acc: 0.99 - ETA: 27s - loss: 0.0055 - acc: 0.99 - ETA: 26s - loss: 0.0055 - acc: 0.99 - ETA: 25s - loss: 0.0055 - acc: 0.99 - ETA: 24s - loss: 0.0055 - acc: 0.99 - ETA: 24s - loss: 0.0055 - acc: 0.99 - ETA: 23s - loss: 0.0055 - acc: 0.99 - ETA: 22s - loss: 0.0055 - acc: 0.99 - ETA: 21s - loss: 0.0055 - acc: 0.99 - ETA: 20s - loss: 0.0055 - acc: 0.99 - ETA: 20s - loss: 0.0055 - acc: 0.99 - ETA: 19s - loss: 0.0055 - acc: 0.99 - ETA: 18s - loss: 0.0055 - acc: 0.99 - ETA: 17s - loss: 0.0055 - acc: 0.99 - ETA: 17s - loss: 0.0055 - acc: 0.99 - ETA: 16s - loss: 0.0055 - acc: 0.99 - ETA: 15s - loss: 0.0055 - acc: 0.99 - ETA: 14s - loss: 0.0055 - acc: 0.99 - ETA: 13s - loss: 0.0055 - acc: 0.99 - ETA: 13s - loss: 0.0055 - acc: 0.99 - ETA: 12s - loss: 0.0055 - acc: 0.99 - ETA: 11s - loss: 0.0055 - acc: 0.99 - ETA: 10s - loss: 0.0055 - acc: 0.99 - ETA: 10s - loss: 0.0055 - acc: 0.99 - ETA: 9s - loss: 0.0055 - acc: 0.9993 - ETA: 8s - loss: 0.0055 - acc: 0.999 - ETA: 7s - loss: 0.0055 - acc: 0.999 - ETA: 7s - loss: 0.0055 - acc: 0.999 - ETA: 6s - loss: 0.0055 - acc: 0.999 - ETA: 5s - loss: 0.0055 - acc: 0.999 - ETA: 4s - loss: 0.0055 - acc: 0.999 - ETA: 4s - loss: 0.0055 - acc: 0.999 - ETA: 3s - loss: 0.0055 - acc: 0.999 - ETA: 2s - loss: 0.0055 - acc: 0.999 - ETA: 1s - loss: 0.0055 - acc: 0.999 - ETA: 0s - loss: 0.0055 - acc: 0.999 - ETA: 0s - loss: 0.0055 - acc: 0.999 - 85s 130us/step - loss: 0.0055 - acc: 0.9993 - val_loss: 0.0055 - val_acc: 0.9993\n"
     ]
    }
   ],
   "source": [
    "# fit the model\n",
    "trained_model = model.fit(padsequences, padcatlabels,batch_size=6000, epochs=10, verbose=1,validation_data=(padtestsequences,padcattestlabels))\n",
    "# model.save(\"model2.h5\")\n",
    "# print(\"Saved model to disk\")"
   ]
  },
  {
   "cell_type": "code",
   "execution_count": null,
   "metadata": {},
   "outputs": [],
   "source": [
    "model = load_model('model2.h5')\n",
    "# summarize model.\n",
    "model.summary()"
   ]
  },
  {
   "cell_type": "code",
   "execution_count": 158,
   "metadata": {
    "colab": {},
    "colab_type": "code",
    "id": "tDYs_SKFycds"
   },
   "outputs": [],
   "source": [
    "history=trained_model.history"
   ]
  },
  {
   "cell_type": "code",
   "execution_count": 159,
   "metadata": {
    "colab": {},
    "colab_type": "code",
    "id": "_6GvvYbYycdv",
    "outputId": "0c4cacbb-0d5f-4e04-eb4a-d4a7b2bcdcb2"
   },
   "outputs": [
    {
     "data": {
      "text/plain": [
       "<matplotlib.legend.Legend at 0x1a7a48820f0>"
      ]
     },
     "execution_count": 159,
     "metadata": {},
     "output_type": "execute_result"
    },
    {
     "data": {
      "image/png": "[encoded data removed]",
      "text/plain": [
       "<Figure size 432x288 with 1 Axes>"
      ]
     },
     "metadata": {
      "needs_background": "light"
     },
     "output_type": "display_data"
    }
   ],
   "source": [
    "import matplotlib.pyplot as plt\n",
    "import numpy as np\n",
    "import math\n",
    "# history=network.history\n",
    "loss=history['loss']\n",
    "val_loss=history['val_loss']\n",
    "ppl=[math.exp(d) for d in loss]\n",
    "ppl_test=[math.exp(d) for d in val_loss]\n",
    "plt.xlabel('Epochs')\n",
    "plt.ylabel('train perplexity')\n",
    "plt.plot(ppl)\n",
    "\n",
    "plt.xlabel('Epochs')\n",
    "plt.ylabel('test perplexity')\n",
    "plt.plot(ppl_test)\n",
    "plt.legend(['train ppl','test ppl'])"
   ]
  },
  {
   "cell_type": "code",
   "execution_count": 55,
   "metadata": {},
   "outputs": [
    {
     "data": {
      "text/plain": [
       "<matplotlib.legend.Legend at 0x1a7a5e7e080>"
      ]
     },
     "execution_count": 55,
     "metadata": {},
     "output_type": "execute_result"
    },
    {
     "data": {
      "image/png": "[encoded data removed]",
      "text/plain": [
       "<Figure size 432x288 with 1 Axes>"
      ]
     },
     "metadata": {
      "needs_background": "light"
     },
     "output_type": "display_data"
    }
   ],
   "source": [
    "loss=history['loss']\n",
    "val_loss=history['val_loss']\n",
    "plt.xlabel('Epochs')\n",
    "plt.ylabel('train perplexity')\n",
    "plt.plot(loss)\n",
    "\n",
    "plt.xlabel('Epochs')\n",
    "plt.ylabel('test perplexity')\n",
    "plt.plot(val_loss)\n",
    "plt.legend(['train loss','test loss'])"
   ]
  },
  {
   "cell_type": "code",
   "execution_count": 57,
   "metadata": {},
   "outputs": [
    {
     "data": {
      "text/plain": [
       "<matplotlib.legend.Legend at 0x1a7a5edd898>"
      ]
     },
     "execution_count": 57,
     "metadata": {},
     "output_type": "execute_result"
    },
    {
     "data": {
      "image/png": "[encoded data removed]",
      "text/plain": [
       "<Figure size 432x288 with 1 Axes>"
      ]
     },
     "metadata": {
      "needs_background": "light"
     },
     "output_type": "display_data"
    }
   ],
   "source": [
    "loss=history['acc']\n",
    "val_loss=history['val_acc']\n",
    "plt.xlabel('Epochs')\n",
    "plt.ylabel('train perplexity')\n",
    "plt.plot(loss)\n",
    "\n",
    "plt.xlabel('Epochs')\n",
    "plt.ylabel('test perplexity')\n",
    "plt.plot(val_loss)\n",
    "plt.legend(['train loss','test loss'])"
   ]
  },
  {
   "cell_type": "code",
   "execution_count": 160,
   "metadata": {},
   "outputs": [
    {
     "name": "stdout",
     "output_type": "stream",
     "text": [
      "19591/19591 [==============================] - ETA: 3: - ETA: 25s - ETA: 16 - ETA: 10 - ETA: 7 - ETA:  - ETA:  - ETA:  - ETA:  - ETA:  - ETA:  - ETA:  - ETA:  - ETA:  - ETA:  - ETA:  - ETA:  - ETA:  - ETA:  - ETA:  - ETA:  - ETA:  - ETA:  - ETA:  - ETA:  - ETA:  - ETA:  - ETA:  - ETA:  - ETA:  - ETA:  - ETA:  - ETA:  - ETA:  - ETA:  - ETA:  - ETA:  - ETA:  - ETA:  - ETA:  - ETA:  - ETA:  - ETA:  - ETA:  - 3s 158us/step\n"
     ]
    }
   ],
   "source": [
    "loss,acc = model.evaluate(padtestsequences,padcattestlabels)"
   ]
  },
  {
   "cell_type": "code",
   "execution_count": 161,
   "metadata": {},
   "outputs": [
    {
     "name": "stdout",
     "output_type": "stream",
     "text": [
      "loss =  0.00552396107219541 acc =  0.9993342757012065\n"
     ]
    }
   ],
   "source": [
    "print('loss = ',loss,'acc = ',acc)"
   ]
  },
  {
   "cell_type": "code",
   "execution_count": null,
   "metadata": {},
   "outputs": [],
   "source": []
  }
 ],
 "metadata": {
  "colab": {
   "collapsed_sections": [],
   "machine_shape": "hm",
   "name": "Q1 (1).ipynb",
   "provenance": []
  },
  "kernelspec": {
   "display_name": "Python 3",
   "language": "python",
   "name": "python3"
  },
  "language_info": {
   "codemirror_mode": {
    "name": "ipython",
    "version": 3
   },
   "file_extension": ".py",
   "mimetype": "text/x-python",
   "name": "python",
   "nbconvert_exporter": "python",
   "pygments_lexer": "ipython3",
   "version": "3.7.1"
  }
 },
 "nbformat": 4,
 "nbformat_minor": 1
}
